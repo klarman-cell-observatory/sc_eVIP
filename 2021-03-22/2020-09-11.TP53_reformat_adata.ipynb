{
 "cells": [
  {
   "cell_type": "code",
   "execution_count": 1,
   "metadata": {},
   "outputs": [],
   "source": [
    "import numpy as np\n",
    "import pandas as pd\n",
    "import seaborn as sns\n",
    "import re\n",
    "import matplotlib\n",
    "%matplotlib inline\n",
    "import matplotlib.pyplot as plt\n",
    "import scanpy as sc\n",
    "\n",
    "import perturbseq as perturb"
   ]
  },
  {
   "cell_type": "code",
   "execution_count": 2,
   "metadata": {},
   "outputs": [
    {
     "name": "stdout",
     "output_type": "stream",
     "text": [
      "/ahg/regevdata/projects/bn10_cancer_variants/bn10_oana_2018-06-22/results/2018-06-22/results/2020-02-14/Figures_regressed_out_vbc/\n"
     ]
    }
   ],
   "source": [
    "PROTEIN='TP53'\n",
    "DATA='/ahg/regevdata/projects/bn10_cancer_variants/bn10_oana_2018-06-22/results/2018-06-22/results/2020-02-14'\n",
    "SUBSAMPLED=DATA+'/'+PROTEIN+'/subsampled/A549.'+PROTEIN\n",
    "SUBSAMPLED=DATA+'/'+PROTEIN+'/subsampled/A549.'+PROTEIN\n",
    "\n",
    "counts=20000\n",
    "pref=SUBSAMPLED+'.channel_1to32.counts_per_cell'+str(counts)+'.1000cells.analysis'\n",
    "\n",
    "FIGS=DATA+'/Figures_regressed_out_vbc/'\n",
    "print(FIGS)"
   ]
  },
  {
   "cell_type": "code",
   "execution_count": 3,
   "metadata": {},
   "outputs": [
    {
     "name": "stdout",
     "output_type": "stream",
     "text": [
      "WARNING: Your filename has more than two extensions: ['.TP53', '.channel_1to32', '.counts_per_cell20000', '.regress_out_vbc', '.analysis', '.1000cells', '.h5ad'].\n",
      "Only considering the two last: ['.1000cells', '.h5ad'].\n",
      "WARNING: Your filename has more than two extensions: ['.TP53', '.channel_1to32', '.counts_per_cell20000', '.regress_out_vbc', '.analysis', '.1000cells', '.h5ad'].\n",
      "Only considering the two last: ['.1000cells', '.h5ad'].\n"
     ]
    },
    {
     "data": {
      "text/plain": [
       "AnnData object with n_obs × n_vars = 85778 × 1224 \n",
       "    obs: 'TP53_A159P', 'TP53_A159V', 'TP53_C135F', 'TP53_C135Y', 'TP53_C141Y', 'TP53_C176F', 'TP53_C176Y', 'TP53_C238F', 'TP53_C238Y', 'TP53_C242F', 'TP53_C275F', 'TP53_C275Y', 'TP53_C277F', 'TP53_E271K', 'TP53_E285K', 'TP53_E286K', 'TP53_G105C', 'TP53_G154V', 'TP53_G244C', 'TP53_G245C', 'TP53_G245D', 'TP53_G245S', 'TP53_G245V', 'TP53_G266E', 'TP53_G266R', 'TP53_G266V', 'TP53_H179R', 'TP53_H179Y', 'TP53_H193L', 'TP53_H193R', 'TP53_H193Y', 'TP53_H214R', 'TP53_I195T', 'TP53_K132N', 'TP53_K132R', 'TP53_L194R', 'TP53_M237I', 'TP53_M246V', 'TP53_P151S', 'TP53_P152L', 'TP53_P250L', 'TP53_P278L', 'TP53_P278S', 'TP53_R110L', 'TP53_R158H', 'TP53_R158L', 'TP53_R175H', 'TP53_R213Q', 'TP53_R248L', 'TP53_R248W', 'TP53_R249M', 'TP53_R249S', 'TP53_R273C', 'TP53_R273H', 'TP53_R273L', 'TP53_R280K', 'TP53_R280T', 'TP53_R282W', 'TP53_R337C', 'TP53_R337L', 'TP53_S127F', 'TP53_S241C', 'TP53_S241F', 'TP53_V157F', 'TP53_V173L', 'TP53_V173M', 'TP53_V216M', 'TP53_V272L', 'TP53_V272M', 'TP53_WT', 'TP53_Y163C', 'TP53_Y205C', 'TP53_Y220C', 'TP53_Y234C', 'TP53_Y236C', 'TP53_p.Al83Vl', 'TP53_p.Ar158Ar', 'TP53_p.Asp21Asp', 'TP53_p.Gln5Ar', 'TP53_p.Glu2Glu', 'TP53_p.Glu339Lys', 'TP53_p.Gly360Vl', 'TP53_p.Leu344Leu', 'TP53_p.Pro153Pro', 'TP53_p.Pro222Pro', 'TP53_p.Pro295Pro', 'TP53_p.Pro301Pro', 'TP53_p.Pro359Pro', 'TP53_p.Pro36Pro', 'TP53_p.Pro47Pro', 'TP53_p.Pro47Ser', 'TP53_p.Pro58Ar', 'TP53_p.Ser366Al', 'TP53_p.Thr118Thr', 'TP53_p.Thr170Thr', 'TP53_p.Thr312Ser', 'TP53_p.Tyr107His', 'TP53_p.Vl216Vl', 'TP53_p.Vl31Ile', 'batch', 'known', 'mut.std', 'mutant', 'n_counts', 'n_genes', 'percent_mito', 'n_counts_downsampled', 'n_counts_original', 'uninfected', 'vbc.counts', 'batch_num18', 'batch_num8', 'batch_num25', 'batch_num22', 'batch_num24', 'batch_num28', 'batch_num27', 'batch_num23', 'batch_num17', 'batch_num19', 'batch_num12', 'batch_num31', 'batch_num5', 'batch_num15', 'batch_num7', 'batch_num9', 'batch_num4', 'batch_num2', 'batch_num13', 'batch_num6', 'batch_num26', 'batch_num16', 'batch_num10', 'batch_num1', 'batch_num29', 'batch_num0', 'batch_num11', 'batch_num30', 'batch_num3', 'batch_num14', 'batch_num21', 'batch_num20', 'louvain', 'G1.S', 'G2.M', 'M', 'M.G1', 'S', 'phase.multi'\n",
       "    var: 'n_cells', 'highly_variable', 'means', 'dispersions', 'dispersions_norm', 'mean', 'std'\n",
       "    uns: 'louvain', 'neighbors', 'pca', 'phase.multi_colors', 'umap'\n",
       "    obsm: 'X_pca', 'X_umap'\n",
       "    varm: 'PCs'"
      ]
     },
     "execution_count": 3,
     "metadata": {},
     "output_type": "execute_result"
    }
   ],
   "source": [
    "adata=sc.read(SUBSAMPLED+'.channel_1to32.counts_per_cell'+str(counts)+'.regress_out_vbc.analysis.1000cells.h5ad',cache=False)\n",
    "adata"
   ]
  },
  {
   "cell_type": "code",
   "execution_count": 4,
   "metadata": {},
   "outputs": [],
   "source": [
    "adata.write(SUBSAMPLED+'.channel_1to32.counts_per_cell'+str(counts)+'.regress_out_vbc.analysis.1000cells.new_format.h5ad')\n",
    "\n"
   ]
  },
  {
   "cell_type": "code",
   "execution_count": 5,
   "metadata": {},
   "outputs": [
    {
     "name": "stdout",
     "output_type": "stream",
     "text": [
      "WARNING: Your filename has more than two extensions: ['.TP53', '.channel_1to32', '.counts_per_cell20000', '.regress_out_vbc', '.analysis', '.1000cells', '.new_format', '.h5ad'].\n",
      "Only considering the two last: ['.new_format', '.h5ad'].\n",
      "WARNING: Your filename has more than two extensions: ['.TP53', '.channel_1to32', '.counts_per_cell20000', '.regress_out_vbc', '.analysis', '.1000cells', '.new_format', '.h5ad'].\n",
      "Only considering the two last: ['.new_format', '.h5ad'].\n"
     ]
    },
    {
     "data": {
      "text/plain": [
       "AnnData object with n_obs × n_vars = 85778 × 1224 \n",
       "    obs: 'TP53_A159P', 'TP53_A159V', 'TP53_C135F', 'TP53_C135Y', 'TP53_C141Y', 'TP53_C176F', 'TP53_C176Y', 'TP53_C238F', 'TP53_C238Y', 'TP53_C242F', 'TP53_C275F', 'TP53_C275Y', 'TP53_C277F', 'TP53_E271K', 'TP53_E285K', 'TP53_E286K', 'TP53_G105C', 'TP53_G154V', 'TP53_G244C', 'TP53_G245C', 'TP53_G245D', 'TP53_G245S', 'TP53_G245V', 'TP53_G266E', 'TP53_G266R', 'TP53_G266V', 'TP53_H179R', 'TP53_H179Y', 'TP53_H193L', 'TP53_H193R', 'TP53_H193Y', 'TP53_H214R', 'TP53_I195T', 'TP53_K132N', 'TP53_K132R', 'TP53_L194R', 'TP53_M237I', 'TP53_M246V', 'TP53_P151S', 'TP53_P152L', 'TP53_P250L', 'TP53_P278L', 'TP53_P278S', 'TP53_R110L', 'TP53_R158H', 'TP53_R158L', 'TP53_R175H', 'TP53_R213Q', 'TP53_R248L', 'TP53_R248W', 'TP53_R249M', 'TP53_R249S', 'TP53_R273C', 'TP53_R273H', 'TP53_R273L', 'TP53_R280K', 'TP53_R280T', 'TP53_R282W', 'TP53_R337C', 'TP53_R337L', 'TP53_S127F', 'TP53_S241C', 'TP53_S241F', 'TP53_V157F', 'TP53_V173L', 'TP53_V173M', 'TP53_V216M', 'TP53_V272L', 'TP53_V272M', 'TP53_WT', 'TP53_Y163C', 'TP53_Y205C', 'TP53_Y220C', 'TP53_Y234C', 'TP53_Y236C', 'TP53_p.Al83Vl', 'TP53_p.Ar158Ar', 'TP53_p.Asp21Asp', 'TP53_p.Gln5Ar', 'TP53_p.Glu2Glu', 'TP53_p.Glu339Lys', 'TP53_p.Gly360Vl', 'TP53_p.Leu344Leu', 'TP53_p.Pro153Pro', 'TP53_p.Pro222Pro', 'TP53_p.Pro295Pro', 'TP53_p.Pro301Pro', 'TP53_p.Pro359Pro', 'TP53_p.Pro36Pro', 'TP53_p.Pro47Pro', 'TP53_p.Pro47Ser', 'TP53_p.Pro58Ar', 'TP53_p.Ser366Al', 'TP53_p.Thr118Thr', 'TP53_p.Thr170Thr', 'TP53_p.Thr312Ser', 'TP53_p.Tyr107His', 'TP53_p.Vl216Vl', 'TP53_p.Vl31Ile', 'batch', 'known', 'mut.std', 'mutant', 'n_counts', 'n_genes', 'percent_mito', 'n_counts_downsampled', 'n_counts_original', 'uninfected', 'vbc.counts', 'batch_num18', 'batch_num8', 'batch_num25', 'batch_num22', 'batch_num24', 'batch_num28', 'batch_num27', 'batch_num23', 'batch_num17', 'batch_num19', 'batch_num12', 'batch_num31', 'batch_num5', 'batch_num15', 'batch_num7', 'batch_num9', 'batch_num4', 'batch_num2', 'batch_num13', 'batch_num6', 'batch_num26', 'batch_num16', 'batch_num10', 'batch_num1', 'batch_num29', 'batch_num0', 'batch_num11', 'batch_num30', 'batch_num3', 'batch_num14', 'batch_num21', 'batch_num20', 'louvain', 'G1.S', 'G2.M', 'M', 'M.G1', 'S', 'phase.multi'\n",
       "    var: 'n_cells', 'highly_variable', 'means', 'dispersions', 'dispersions_norm', 'mean', 'std'\n",
       "    uns: 'louvain', 'neighbors', 'pca', 'phase.multi_colors', 'umap'\n",
       "    obsm: 'X_pca', 'X_umap'\n",
       "    varm: 'PCs'"
      ]
     },
     "execution_count": 5,
     "metadata": {},
     "output_type": "execute_result"
    }
   ],
   "source": [
    "adata=sc.read(SUBSAMPLED+'.channel_1to32.counts_per_cell'+str(counts)+'.regress_out_vbc.analysis.1000cells.new_format.h5ad',cache=False)\n",
    "adata"
   ]
  },
  {
   "cell_type": "code",
   "execution_count": 6,
   "metadata": {},
   "outputs": [],
   "source": [
    "for k in ['TP53_A159P', 'TP53_A159V', 'TP53_C135F', 'TP53_C135Y', 'TP53_C141Y', 'TP53_C176F', 'TP53_C176Y', 'TP53_C238F', 'TP53_C238Y', 'TP53_C242F', 'TP53_C275F', 'TP53_C275Y', 'TP53_C277F', 'TP53_E271K', 'TP53_E285K', 'TP53_E286K', 'TP53_G105C', 'TP53_G154V', 'TP53_G244C', 'TP53_G245C', 'TP53_G245D', 'TP53_G245S', 'TP53_G245V', 'TP53_G266E', 'TP53_G266R', 'TP53_G266V', 'TP53_H179R', 'TP53_H179Y', 'TP53_H193L', 'TP53_H193R', 'TP53_H193Y', 'TP53_H214R', 'TP53_I195T', 'TP53_K132N', 'TP53_K132R', 'TP53_L194R', 'TP53_M237I', 'TP53_M246V', 'TP53_P151S', 'TP53_P152L', 'TP53_P250L', 'TP53_P278L', 'TP53_P278S', 'TP53_R110L', 'TP53_R158H', 'TP53_R158L', 'TP53_R175H', 'TP53_R213Q', 'TP53_R248L', 'TP53_R248W', 'TP53_R249M', 'TP53_R249S', 'TP53_R273C', 'TP53_R273H', 'TP53_R273L', 'TP53_R280K', 'TP53_R280T', 'TP53_R282W', 'TP53_R337C', 'TP53_R337L', 'TP53_S127F', 'TP53_S241C', 'TP53_S241F', 'TP53_V157F', 'TP53_V173L', 'TP53_V173M', 'TP53_V216M', 'TP53_V272L', 'TP53_V272M', 'TP53_WT', 'TP53_Y163C', 'TP53_Y205C', 'TP53_Y220C', 'TP53_Y234C', 'TP53_Y236C', 'TP53_p.Al83Vl', 'TP53_p.Ar158Ar', 'TP53_p.Asp21Asp', 'TP53_p.Gln5Ar', 'TP53_p.Glu2Glu', 'TP53_p.Glu339Lys', 'TP53_p.Gly360Vl', 'TP53_p.Leu344Leu', 'TP53_p.Pro153Pro', 'TP53_p.Pro222Pro', 'TP53_p.Pro295Pro', 'TP53_p.Pro301Pro', 'TP53_p.Pro359Pro', 'TP53_p.Pro36Pro', 'TP53_p.Pro47Pro', 'TP53_p.Pro47Ser', 'TP53_p.Pro58Ar', 'TP53_p.Ser366Al', 'TP53_p.Thr118Thr', 'TP53_p.Thr170Thr', 'TP53_p.Thr312Ser', 'TP53_p.Tyr107His', 'TP53_p.Vl216Vl', 'TP53_p.Vl31Ile']:\n",
    "    del adata.obs[k]\n"
   ]
  },
  {
   "cell_type": "code",
   "execution_count": 7,
   "metadata": {},
   "outputs": [],
   "source": [
    "del adata.obs['mutant']\n",
    "del adata.obs['mut.std']"
   ]
  },
  {
   "cell_type": "code",
   "execution_count": 8,
   "metadata": {},
   "outputs": [
    {
     "data": {
      "text/plain": [
       "AnnData object with n_obs × n_vars = 85778 × 1224 \n",
       "    obs: 'batch', 'known', 'n_counts', 'n_genes', 'percent_mito', 'n_counts_downsampled', 'n_counts_original', 'uninfected', 'vbc.counts', 'batch_num18', 'batch_num8', 'batch_num25', 'batch_num22', 'batch_num24', 'batch_num28', 'batch_num27', 'batch_num23', 'batch_num17', 'batch_num19', 'batch_num12', 'batch_num31', 'batch_num5', 'batch_num15', 'batch_num7', 'batch_num9', 'batch_num4', 'batch_num2', 'batch_num13', 'batch_num6', 'batch_num26', 'batch_num16', 'batch_num10', 'batch_num1', 'batch_num29', 'batch_num0', 'batch_num11', 'batch_num30', 'batch_num3', 'batch_num14', 'batch_num21', 'batch_num20', 'louvain', 'G1.S', 'G2.M', 'M', 'M.G1', 'S', 'phase.multi'\n",
       "    var: 'n_cells', 'highly_variable', 'means', 'dispersions', 'dispersions_norm', 'mean', 'std'\n",
       "    uns: 'louvain', 'neighbors', 'pca', 'phase.multi_colors', 'umap'\n",
       "    obsm: 'X_pca', 'X_umap'\n",
       "    varm: 'PCs'"
      ]
     },
     "execution_count": 8,
     "metadata": {},
     "output_type": "execute_result"
    }
   ],
   "source": [
    "adata"
   ]
  },
  {
   "cell_type": "code",
   "execution_count": 9,
   "metadata": {},
   "outputs": [
    {
     "name": "stdout",
     "output_type": "stream",
     "text": [
      "['ACGCCGATCAGGATCTch0', 'ACGGAGATCCAGAAGGch0', 'AGACGTTGTGTGCGTCch0', 'CAGCATAGTATCAGTCch0', 'CGCCAAGTCATATCGGch0'] Index(['ACGCCGATCAGGATCT-1-0-0', 'ACGGAGATCCAGAAGG-1-0-0',\n",
      "       'AGACGTTGTGTGCGTC-1-0-0', 'CAGCATAGTATCAGTC-1-0-0',\n",
      "       'CGCCAAGTCATATCGG-1-0-0'],\n",
      "      dtype='object')\n"
     ]
    }
   ],
   "source": [
    "new_cellnames=[]\n",
    "for i in range(adata.n_obs):\n",
    "    old_cellname=adata.obs_names[i]\n",
    "    cbc,ch=old_cellname.split('-')[0],old_cellname.split('-')[2]\n",
    "    new_cellnames.append(cbc+'ch'+ch)\n",
    "print(new_cellnames[:5],adata.obs_names[:5])\n",
    "adata.obs_names=new_cellnames"
   ]
  },
  {
   "cell_type": "code",
   "execution_count": 10,
   "metadata": {},
   "outputs": [],
   "source": [
    "adata.write(SUBSAMPLED+'.channel_1to32.counts_per_cell'+str(counts)+'.regress_out_vbc.analysis.1000cells.new_format.h5ad')\n"
   ]
  },
  {
   "cell_type": "markdown",
   "metadata": {},
   "source": []
  },
  {
   "cell_type": "code",
   "execution_count": 11,
   "metadata": {},
   "outputs": [
    {
     "name": "stdout",
     "output_type": "stream",
     "text": [
      "WARNING: Your filename has more than two extensions: ['.TP53', '.channel_1to32', '.counts_per_cell20000', '.regress_out_vbc', '.analysis', '.1000cells', '.new_format', '.h5ad'].\n",
      "Only considering the two last: ['.new_format', '.h5ad'].\n",
      "WARNING: Your filename has more than two extensions: ['.TP53', '.channel_1to32', '.counts_per_cell20000', '.regress_out_vbc', '.analysis', '.1000cells', '.new_format', '.h5ad'].\n",
      "Only considering the two last: ['.new_format', '.h5ad'].\n"
     ]
    },
    {
     "data": {
      "text/plain": [
       "AnnData object with n_obs × n_vars = 85778 × 1224 \n",
       "    obs: 'batch', 'known', 'n_counts', 'n_genes', 'percent_mito', 'n_counts_downsampled', 'n_counts_original', 'uninfected', 'vbc.counts', 'batch_num18', 'batch_num8', 'batch_num25', 'batch_num22', 'batch_num24', 'batch_num28', 'batch_num27', 'batch_num23', 'batch_num17', 'batch_num19', 'batch_num12', 'batch_num31', 'batch_num5', 'batch_num15', 'batch_num7', 'batch_num9', 'batch_num4', 'batch_num2', 'batch_num13', 'batch_num6', 'batch_num26', 'batch_num16', 'batch_num10', 'batch_num1', 'batch_num29', 'batch_num0', 'batch_num11', 'batch_num30', 'batch_num3', 'batch_num14', 'batch_num21', 'batch_num20', 'louvain', 'G1.S', 'G2.M', 'M', 'M.G1', 'S', 'phase.multi'\n",
       "    var: 'n_cells', 'highly_variable', 'means', 'dispersions', 'dispersions_norm', 'mean', 'std'\n",
       "    uns: 'louvain', 'neighbors', 'pca', 'phase.multi_colors', 'umap'\n",
       "    obsm: 'X_pca', 'X_umap'\n",
       "    varm: 'PCs'"
      ]
     },
     "execution_count": 11,
     "metadata": {},
     "output_type": "execute_result"
    }
   ],
   "source": [
    "adata=sc.read(SUBSAMPLED+'.channel_1to32.counts_per_cell'+str(counts)+'.regress_out_vbc.analysis.1000cells.new_format.h5ad',cache=False)\n",
    "adata"
   ]
  },
  {
   "cell_type": "code",
   "execution_count": 12,
   "metadata": {},
   "outputs": [
    {
     "name": "stdout",
     "output_type": "stream",
     "text": [
      "annotated cells: 252759\n",
      "adata cells: 85778 | 99.0 percent annotated\n"
     ]
    }
   ],
   "source": [
    "cells2guide_file='/ahg/regevdata/projects/bn10_cancer_variants/bn10_oana_2018-06-22/results/2018-06-22/results/2020-07-09/'+PROTEIN+'/processed_data/A549.'+PROTEIN+'.anno.vbc_TPTfiltered1.0_umi_counts.mut_std.gz'\n",
    "perturb.io.read_perturbations_csv(adata,\n",
    "                       cell2guide_csv=cells2guide_file,\n",
    "                      guide2gene_csv=None,\n",
    "                      sep=',')"
   ]
  },
  {
   "cell_type": "code",
   "execution_count": 13,
   "metadata": {},
   "outputs": [
    {
     "name": "stderr",
     "output_type": "stream",
     "text": [
      "... storing 'guide' as categorical\n",
      "... storing 'guide.compact' as categorical\n"
     ]
    }
   ],
   "source": [
    "adata.write(SUBSAMPLED+'.channel_1to32.counts_per_cell'+str(counts)+'.regress_out_vbc.analysis.1000cells.new_format.h5ad')\n"
   ]
  }
 ],
 "metadata": {
  "kernelspec": {
   "display_name": "Python 3",
   "language": "python",
   "name": "python3"
  },
  "language_info": {
   "codemirror_mode": {
    "name": "ipython",
    "version": 3
   },
   "file_extension": ".py",
   "mimetype": "text/x-python",
   "name": "python",
   "nbconvert_exporter": "python",
   "pygments_lexer": "ipython3",
   "version": "3.6.8"
  }
 },
 "nbformat": 4,
 "nbformat_minor": 2
}
