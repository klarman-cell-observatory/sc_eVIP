{
 "cells": [
  {
   "cell_type": "code",
   "execution_count": 1,
   "metadata": {},
   "outputs": [],
   "source": [
    "import numpy as np\n",
    "import pandas as pd\n",
    "import seaborn as sns\n",
    "import re\n",
    "import matplotlib\n",
    "%matplotlib inline\n",
    "import matplotlib.pyplot as plt\n",
    "import scanpy as sc\n",
    "\n",
    "import perturbseq as perturb"
   ]
  },
  {
   "cell_type": "code",
   "execution_count": 2,
   "metadata": {},
   "outputs": [
    {
     "name": "stdout",
     "output_type": "stream",
     "text": [
      "/ahg/regevdata/projects/bn10_cancer_variants/bn10_oana_2018-06-22/results/2018-06-22/results/2020-02-14/Figures_regressed_out_vbc/\n"
     ]
    }
   ],
   "source": [
    "PROTEIN='KRAS'\n",
    "DATA='/ahg/regevdata/projects/bn10_cancer_variants/bn10_oana_2018-06-22/results/2018-06-22/results/2020-02-14'\n",
    "SUBSAMPLED=DATA+'/'+PROTEIN+'/subsampled/A549.'+PROTEIN\n",
    "SUBSAMPLED=DATA+'/'+PROTEIN+'/subsampled/A549.'+PROTEIN\n",
    "\n",
    "counts=20000\n",
    "pref=SUBSAMPLED+'.channel_1to32.counts_per_cell'+str(counts)+'.1000cells.analysis'\n",
    "\n",
    "FIGS=DATA+'/Figures_regressed_out_vbc/'\n",
    "print(FIGS)"
   ]
  },
  {
   "cell_type": "code",
   "execution_count": 3,
   "metadata": {},
   "outputs": [
    {
     "name": "stdout",
     "output_type": "stream",
     "text": [
      "WARNING: Your filename has more than two extensions: ['.KRAS', '.channel_1to32', '.counts_per_cell20000', '.regress_out_vbc', '.analysis', '.1000cells', '.h5ad'].\n",
      "Only considering the two last: ['.1000cells', '.h5ad'].\n",
      "WARNING: Your filename has more than two extensions: ['.KRAS', '.channel_1to32', '.counts_per_cell20000', '.regress_out_vbc', '.analysis', '.1000cells', '.h5ad'].\n",
      "Only considering the two last: ['.1000cells', '.h5ad'].\n"
     ]
    },
    {
     "data": {
      "text/plain": [
       "AnnData object with n_obs × n_vars = 90262 × 1145 \n",
       "    obs: 'KRAS_A146P', 'KRAS_A146T', 'KRAS_A146V', 'KRAS_A59E', 'KRAS_A59G', 'KRAS_A59T', 'KRAS_AG11TD', 'KRAS_AG59GV', 'KRAS_C118S', 'KRAS_D119G', 'KRAS_D33E', 'KRAS_D57N', 'KRAS_E31K', 'KRAS_E63K-', 'KRAS_G12A', 'KRAS_G12C', 'KRAS_G12D', 'KRAS_G12F', 'KRAS_G12I', 'KRAS_G12R', 'KRAS_G12S', 'KRAS_G12V', 'KRAS_G12Y', 'KRAS_G13C', 'KRAS_G13E', 'KRAS_G13R', 'KRAS_G13V', 'KRAS_G60D', 'KRAS_G60S', 'KRAS_G60V', 'KRAS_H166Y', 'KRAS_I163S', 'KRAS_I36M', 'KRAS_K117N', 'KRAS_K117R', 'KRAS_K147N', 'KRAS_K147T', 'KRAS_K176Q', 'KRAS_K5E', 'KRAS_L159S', 'KRAS_L19F', 'KRAS_L52F', 'KRAS_L79I', 'KRAS_M111L', 'KRAS_N26Y', 'KRAS_P110S', 'KRAS_P34L', 'KRAS_P34R', 'KRAS_Q22H', 'KRAS_Q22K', 'KRAS_Q25H', 'KRAS_Q61A', 'KRAS_Q61H', 'KRAS_Q61K', 'KRAS_Q61L', 'KRAS_Q61P', 'KRAS_Q61R', 'KRAS_Q99E', 'KRAS_R135T', 'KRAS_R149K', 'KRAS_R164Q', 'KRAS_R41K', 'KRAS_R68S', 'KRAS_T144P', 'KRAS_T158A', 'KRAS_T20M', 'KRAS_T20R', 'KRAS_T50I', 'KRAS_T50P', 'KRAS_T58I', 'KRAS_T74A', 'KRAS_V14I', 'KRAS_V14L', 'KRAS_WT', 'KRAS_p.Al130VlCT', 'KRAS_p.Al155Gly.464CG', 'KRAS_p.Al66Al.198AG', 'KRAS_p.Asp173Asp.519TC', 'KRAS_p.Asp30Asp.90CT', 'KRAS_p.Cys185Tyr.554GA', 'KRAS_p.Gly75Al.224GC', 'KRAS_p.Gly77Al.230GC', 'KRAS_p.Lys169Lys.507GA', 'KRAS_p.Lys178Lys.534AG', 'KRAS_p.Lys179Ar.536AG', 'KRAS_p.Lys88Lys.264AG', 'KRAS_p.Me170Leu.508AT', 'KRAS_p.Phe141Leu', 'KRAS_p.Ser136AsnGA', 'KRAS_p.Ser17Ser.51TC', 'KRAS_p.Thr127Thr.381AG', 'KRAS_p.Thr144Thr.432AG', 'KRAS_p.Thr158Thr.474AG', 'KRAS_p.Thr20Thr.60GA', 'KRAS_p.Thr50Thr.150CG', 'KRAS_p.Thr74Thr.222TC', 'KRAS_p.Vl112Ile.334GA', 'KRAS_p.Vl8Vl.24AG', 'batch', 'known', 'mut.std', 'mutant', 'n_counts', 'n_genes', 'percent_mito', 'n_counts_downsampled', 'n_counts_original', 'vbc.counts', 'batch_num4', 'batch_num7', 'batch_num11', 'batch_num8', 'batch_num13', 'batch_num23', 'batch_num9', 'batch_num2', 'batch_num24', 'batch_num10', 'batch_num12', 'batch_num16', 'batch_num20', 'batch_num18', 'batch_num25', 'batch_num31', 'batch_num28', 'batch_num5', 'batch_num14', 'batch_num15', 'batch_num29', 'batch_num3', 'batch_num6', 'batch_num22', 'batch_num26', 'batch_num17', 'batch_num27', 'batch_num1', 'batch_num19', 'batch_num21', 'batch_num0', 'batch_num30', 'louvain', 'G1.S', 'G2.M', 'M', 'M.G1', 'S', 'phase.multi'\n",
       "    var: 'n_cells', 'highly_variable', 'means', 'dispersions', 'dispersions_norm', 'mean', 'std'\n",
       "    uns: 'known_colors', 'louvain', 'louvain_colors', 'neighbors', 'pca', 'phase.multi_colors', 'umap'\n",
       "    obsm: 'X_pca', 'X_umap'\n",
       "    varm: 'PCs'"
      ]
     },
     "execution_count": 3,
     "metadata": {},
     "output_type": "execute_result"
    }
   ],
   "source": [
    "adata=sc.read(SUBSAMPLED+'.channel_1to32.counts_per_cell'+str(counts)+'.regress_out_vbc.analysis.1000cells.h5ad',cache=False)\n",
    "adata"
   ]
  },
  {
   "cell_type": "code",
   "execution_count": null,
   "metadata": {},
   "outputs": [],
   "source": [
    "adata.write(SUBSAMPLED+'.channel_1to32.counts_per_cell'+str(counts)+'.regress_out_vbc.analysis.1000cells.new_format.h5ad')\n",
    "\n"
   ]
  },
  {
   "cell_type": "code",
   "execution_count": 3,
   "metadata": {},
   "outputs": [
    {
     "name": "stdout",
     "output_type": "stream",
     "text": [
      "WARNING: Your filename has more than two extensions: ['.KRAS', '.channel_1to32', '.counts_per_cell20000', '.regress_out_vbc', '.analysis', '.1000cells', '.new_format', '.h5ad'].\n",
      "Only considering the two last: ['.new_format', '.h5ad'].\n",
      "WARNING: Your filename has more than two extensions: ['.KRAS', '.channel_1to32', '.counts_per_cell20000', '.regress_out_vbc', '.analysis', '.1000cells', '.new_format', '.h5ad'].\n",
      "Only considering the two last: ['.new_format', '.h5ad'].\n"
     ]
    },
    {
     "data": {
      "text/plain": [
       "AnnData object with n_obs × n_vars = 90262 × 1145 \n",
       "    obs: 'KRAS_A146P', 'KRAS_A146T', 'KRAS_A146V', 'KRAS_A59E', 'KRAS_A59G', 'KRAS_A59T', 'KRAS_AG11TD', 'KRAS_AG59GV', 'KRAS_C118S', 'KRAS_D119G', 'KRAS_D33E', 'KRAS_D57N', 'KRAS_E31K', 'KRAS_E63K-', 'KRAS_G12A', 'KRAS_G12C', 'KRAS_G12D', 'KRAS_G12F', 'KRAS_G12I', 'KRAS_G12R', 'KRAS_G12S', 'KRAS_G12V', 'KRAS_G12Y', 'KRAS_G13C', 'KRAS_G13E', 'KRAS_G13R', 'KRAS_G13V', 'KRAS_G60D', 'KRAS_G60S', 'KRAS_G60V', 'KRAS_H166Y', 'KRAS_I163S', 'KRAS_I36M', 'KRAS_K117N', 'KRAS_K117R', 'KRAS_K147N', 'KRAS_K147T', 'KRAS_K176Q', 'KRAS_K5E', 'KRAS_L159S', 'KRAS_L19F', 'KRAS_L52F', 'KRAS_L79I', 'KRAS_M111L', 'KRAS_N26Y', 'KRAS_P110S', 'KRAS_P34L', 'KRAS_P34R', 'KRAS_Q22H', 'KRAS_Q22K', 'KRAS_Q25H', 'KRAS_Q61A', 'KRAS_Q61H', 'KRAS_Q61K', 'KRAS_Q61L', 'KRAS_Q61P', 'KRAS_Q61R', 'KRAS_Q99E', 'KRAS_R135T', 'KRAS_R149K', 'KRAS_R164Q', 'KRAS_R41K', 'KRAS_R68S', 'KRAS_T144P', 'KRAS_T158A', 'KRAS_T20M', 'KRAS_T20R', 'KRAS_T50I', 'KRAS_T50P', 'KRAS_T58I', 'KRAS_T74A', 'KRAS_V14I', 'KRAS_V14L', 'KRAS_WT', 'KRAS_p.Al130VlCT', 'KRAS_p.Al155Gly.464CG', 'KRAS_p.Al66Al.198AG', 'KRAS_p.Asp173Asp.519TC', 'KRAS_p.Asp30Asp.90CT', 'KRAS_p.Cys185Tyr.554GA', 'KRAS_p.Gly75Al.224GC', 'KRAS_p.Gly77Al.230GC', 'KRAS_p.Lys169Lys.507GA', 'KRAS_p.Lys178Lys.534AG', 'KRAS_p.Lys179Ar.536AG', 'KRAS_p.Lys88Lys.264AG', 'KRAS_p.Me170Leu.508AT', 'KRAS_p.Phe141Leu', 'KRAS_p.Ser136AsnGA', 'KRAS_p.Ser17Ser.51TC', 'KRAS_p.Thr127Thr.381AG', 'KRAS_p.Thr144Thr.432AG', 'KRAS_p.Thr158Thr.474AG', 'KRAS_p.Thr20Thr.60GA', 'KRAS_p.Thr50Thr.150CG', 'KRAS_p.Thr74Thr.222TC', 'KRAS_p.Vl112Ile.334GA', 'KRAS_p.Vl8Vl.24AG', 'batch', 'known', 'mut.std', 'mutant', 'n_counts', 'n_genes', 'percent_mito', 'n_counts_downsampled', 'n_counts_original', 'vbc.counts', 'batch_num4', 'batch_num7', 'batch_num11', 'batch_num8', 'batch_num13', 'batch_num23', 'batch_num9', 'batch_num2', 'batch_num24', 'batch_num10', 'batch_num12', 'batch_num16', 'batch_num20', 'batch_num18', 'batch_num25', 'batch_num31', 'batch_num28', 'batch_num5', 'batch_num14', 'batch_num15', 'batch_num29', 'batch_num3', 'batch_num6', 'batch_num22', 'batch_num26', 'batch_num17', 'batch_num27', 'batch_num1', 'batch_num19', 'batch_num21', 'batch_num0', 'batch_num30', 'louvain', 'G1.S', 'G2.M', 'M', 'M.G1', 'S', 'phase.multi'\n",
       "    var: 'n_cells', 'highly_variable', 'means', 'dispersions', 'dispersions_norm', 'mean', 'std'\n",
       "    uns: 'known_colors', 'louvain', 'louvain_colors', 'neighbors', 'pca', 'phase.multi_colors', 'umap'\n",
       "    obsm: 'X_pca', 'X_umap'\n",
       "    varm: 'PCs'"
      ]
     },
     "execution_count": 3,
     "metadata": {},
     "output_type": "execute_result"
    }
   ],
   "source": [
    "adata=sc.read(SUBSAMPLED+'.channel_1to32.counts_per_cell'+str(counts)+'.regress_out_vbc.analysis.1000cells.new_format.h5ad',cache=False)\n",
    "adata"
   ]
  },
  {
   "cell_type": "code",
   "execution_count": 4,
   "metadata": {},
   "outputs": [],
   "source": [
    "for k in ['KRAS_A146P', 'KRAS_A146T', 'KRAS_A146V', 'KRAS_A59E', 'KRAS_A59G', 'KRAS_A59T', 'KRAS_AG11TD', 'KRAS_AG59GV', 'KRAS_C118S', 'KRAS_D119G', 'KRAS_D33E', 'KRAS_D57N', 'KRAS_E31K', 'KRAS_E63K-', 'KRAS_G12A', 'KRAS_G12C', 'KRAS_G12D', 'KRAS_G12F', 'KRAS_G12I', 'KRAS_G12R', 'KRAS_G12S', 'KRAS_G12V', 'KRAS_G12Y', 'KRAS_G13C', 'KRAS_G13E', 'KRAS_G13R', 'KRAS_G13V', 'KRAS_G60D', 'KRAS_G60S', 'KRAS_G60V', 'KRAS_H166Y', 'KRAS_I163S', 'KRAS_I36M', 'KRAS_K117N', 'KRAS_K117R', 'KRAS_K147N', 'KRAS_K147T', 'KRAS_K176Q', 'KRAS_K5E', 'KRAS_L159S', 'KRAS_L19F', 'KRAS_L52F', 'KRAS_L79I', 'KRAS_M111L', 'KRAS_N26Y', 'KRAS_P110S', 'KRAS_P34L', 'KRAS_P34R', 'KRAS_Q22H', 'KRAS_Q22K', 'KRAS_Q25H', 'KRAS_Q61A', 'KRAS_Q61H', 'KRAS_Q61K', 'KRAS_Q61L', 'KRAS_Q61P', 'KRAS_Q61R', 'KRAS_Q99E', 'KRAS_R135T', 'KRAS_R149K', 'KRAS_R164Q', 'KRAS_R41K', 'KRAS_R68S', 'KRAS_T144P', 'KRAS_T158A', 'KRAS_T20M', 'KRAS_T20R', 'KRAS_T50I', 'KRAS_T50P', 'KRAS_T58I', 'KRAS_T74A', 'KRAS_V14I', 'KRAS_V14L', 'KRAS_WT', 'KRAS_p.Al130VlCT', 'KRAS_p.Al155Gly.464CG', 'KRAS_p.Al66Al.198AG', 'KRAS_p.Asp173Asp.519TC', 'KRAS_p.Asp30Asp.90CT', 'KRAS_p.Cys185Tyr.554GA', 'KRAS_p.Gly75Al.224GC', 'KRAS_p.Gly77Al.230GC', 'KRAS_p.Lys169Lys.507GA', 'KRAS_p.Lys178Lys.534AG', 'KRAS_p.Lys179Ar.536AG', 'KRAS_p.Lys88Lys.264AG', 'KRAS_p.Me170Leu.508AT', 'KRAS_p.Phe141Leu', 'KRAS_p.Ser136AsnGA', 'KRAS_p.Ser17Ser.51TC', 'KRAS_p.Thr127Thr.381AG', 'KRAS_p.Thr144Thr.432AG', 'KRAS_p.Thr158Thr.474AG', 'KRAS_p.Thr20Thr.60GA', 'KRAS_p.Thr50Thr.150CG', 'KRAS_p.Thr74Thr.222TC', 'KRAS_p.Vl112Ile.334GA', 'KRAS_p.Vl8Vl.24AG']:\n",
    "    del adata.obs[k]\n"
   ]
  },
  {
   "cell_type": "code",
   "execution_count": 5,
   "metadata": {},
   "outputs": [],
   "source": [
    "del adata.obs['mutant']\n",
    "del adata.obs['mut.std']"
   ]
  },
  {
   "cell_type": "code",
   "execution_count": 6,
   "metadata": {},
   "outputs": [
    {
     "data": {
      "text/plain": [
       "AnnData object with n_obs × n_vars = 90262 × 1145 \n",
       "    obs: 'batch', 'known', 'n_counts', 'n_genes', 'percent_mito', 'n_counts_downsampled', 'n_counts_original', 'vbc.counts', 'batch_num4', 'batch_num7', 'batch_num11', 'batch_num8', 'batch_num13', 'batch_num23', 'batch_num9', 'batch_num2', 'batch_num24', 'batch_num10', 'batch_num12', 'batch_num16', 'batch_num20', 'batch_num18', 'batch_num25', 'batch_num31', 'batch_num28', 'batch_num5', 'batch_num14', 'batch_num15', 'batch_num29', 'batch_num3', 'batch_num6', 'batch_num22', 'batch_num26', 'batch_num17', 'batch_num27', 'batch_num1', 'batch_num19', 'batch_num21', 'batch_num0', 'batch_num30', 'louvain', 'G1.S', 'G2.M', 'M', 'M.G1', 'S', 'phase.multi'\n",
       "    var: 'n_cells', 'highly_variable', 'means', 'dispersions', 'dispersions_norm', 'mean', 'std'\n",
       "    uns: 'known_colors', 'louvain', 'louvain_colors', 'neighbors', 'pca', 'phase.multi_colors', 'umap'\n",
       "    obsm: 'X_pca', 'X_umap'\n",
       "    varm: 'PCs'"
      ]
     },
     "execution_count": 6,
     "metadata": {},
     "output_type": "execute_result"
    }
   ],
   "source": [
    "adata"
   ]
  },
  {
   "cell_type": "code",
   "execution_count": 4,
   "metadata": {},
   "outputs": [
    {
     "name": "stdout",
     "output_type": "stream",
     "text": [
      "['AGAATAGCAAAGGTGCch0', 'AGGGTGAAGCTCTCGGch0', 'CAAGAAAAGACAAGCCch0', 'CTACGTCAGTGGAGAAch0', 'CTGAAGTGTAAAGGAGch0'] Index(['AGAATAGCAAAGGTGC-1-0-0', 'AGGGTGAAGCTCTCGG-1-0-0',\n",
      "       'CAAGAAAAGACAAGCC-1-0-0', 'CTACGTCAGTGGAGAA-1-0-0',\n",
      "       'CTGAAGTGTAAAGGAG-1-0-0'],\n",
      "      dtype='object')\n"
     ]
    }
   ],
   "source": [
    "new_cellnames=[]\n",
    "for i in range(adata.n_obs):\n",
    "    old_cellname=adata.obs_names[i]\n",
    "    cbc,ch=old_cellname.split('-')[0],old_cellname.split('-')[2]\n",
    "    new_cellnames.append(cbc+'ch'+ch)\n",
    "print(new_cellnames[:5],adata.obs_names[:5])\n",
    "adata.obs_names=new_cellnames"
   ]
  },
  {
   "cell_type": "code",
   "execution_count": 8,
   "metadata": {},
   "outputs": [],
   "source": [
    "adata.write(SUBSAMPLED+'.channel_1to32.counts_per_cell'+str(counts)+'.regress_out_vbc.analysis.1000cells.new_format.h5ad')\n"
   ]
  },
  {
   "cell_type": "code",
   "execution_count": 72,
   "metadata": {},
   "outputs": [
    {
     "name": "stdout",
     "output_type": "stream",
     "text": [
      "WARNING: Your filename has more than two extensions: ['.KRAS', '.channel_1to32', '.counts_per_cell20000', '.regress_out_vbc', '.analysis', '.1000cells', '.new_format', '.h5ad'].\n",
      "Only considering the two last: ['.new_format', '.h5ad'].\n",
      "WARNING: Your filename has more than two extensions: ['.KRAS', '.channel_1to32', '.counts_per_cell20000', '.regress_out_vbc', '.analysis', '.1000cells', '.new_format', '.h5ad'].\n",
      "Only considering the two last: ['.new_format', '.h5ad'].\n"
     ]
    },
    {
     "data": {
      "text/plain": [
       "AnnData object with n_obs × n_vars = 90262 × 1145 \n",
       "    obs: 'batch', 'known', 'n_counts', 'n_genes', 'percent_mito', 'n_counts_downsampled', 'n_counts_original', 'vbc.counts', 'batch_num4', 'batch_num7', 'batch_num11', 'batch_num8', 'batch_num13', 'batch_num23', 'batch_num9', 'batch_num2', 'batch_num24', 'batch_num10', 'batch_num12', 'batch_num16', 'batch_num20', 'batch_num18', 'batch_num25', 'batch_num31', 'batch_num28', 'batch_num5', 'batch_num14', 'batch_num15', 'batch_num29', 'batch_num3', 'batch_num6', 'batch_num22', 'batch_num26', 'batch_num17', 'batch_num27', 'batch_num1', 'batch_num19', 'batch_num21', 'batch_num0', 'batch_num30', 'louvain', 'G1.S', 'G2.M', 'M', 'M.G1', 'S', 'phase.multi'\n",
       "    var: 'n_cells', 'highly_variable', 'means', 'dispersions', 'dispersions_norm', 'mean', 'std'\n",
       "    uns: 'known_colors', 'louvain', 'louvain_colors', 'neighbors', 'pca', 'phase.multi_colors', 'umap'\n",
       "    obsm: 'X_pca', 'X_umap'\n",
       "    varm: 'PCs'"
      ]
     },
     "execution_count": 72,
     "metadata": {},
     "output_type": "execute_result"
    }
   ],
   "source": [
    "adata=sc.read(SUBSAMPLED+'.channel_1to32.counts_per_cell'+str(counts)+'.regress_out_vbc.analysis.1000cells.new_format.h5ad',cache=False)\n",
    "adata"
   ]
  },
  {
   "cell_type": "code",
   "execution_count": 6,
   "metadata": {},
   "outputs": [
    {
     "data": {
      "text/plain": [
       "Index(['AGAATAGCAAAGGTGCch0', 'AGGGTGAAGCTCTCGGch0', 'CAAGAAAAGACAAGCCch0'], dtype='object')"
      ]
     },
     "execution_count": 6,
     "metadata": {},
     "output_type": "execute_result"
    }
   ],
   "source": [
    "adata.obs_names[:3]"
   ]
  },
  {
   "cell_type": "code",
   "execution_count": 8,
   "metadata": {},
   "outputs": [
    {
     "data": {
      "text/html": [
       "<div>\n",
       "<style scoped>\n",
       "    .dataframe tbody tr th:only-of-type {\n",
       "        vertical-align: middle;\n",
       "    }\n",
       "\n",
       "    .dataframe tbody tr th {\n",
       "        vertical-align: top;\n",
       "    }\n",
       "\n",
       "    .dataframe thead th {\n",
       "        text-align: right;\n",
       "    }\n",
       "</style>\n",
       "<table border=\"1\" class=\"dataframe\">\n",
       "  <thead>\n",
       "    <tr style=\"text-align: right;\">\n",
       "      <th></th>\n",
       "      <th>G60S</th>\n",
       "      <th>G60D</th>\n",
       "      <th>G13C</th>\n",
       "      <th>P34R</th>\n",
       "      <th>G13E</th>\n",
       "      <th>N26Y</th>\n",
       "      <th>Q61P</th>\n",
       "      <th>K147T</th>\n",
       "      <th>AG11TD</th>\n",
       "      <th>A146T</th>\n",
       "      <th>...</th>\n",
       "      <th>G12D</th>\n",
       "      <th>T158A</th>\n",
       "      <th>T20M</th>\n",
       "      <th>G77A</th>\n",
       "      <th>Q61K</th>\n",
       "      <th>S136N</th>\n",
       "      <th>V14L</th>\n",
       "      <th>R149K</th>\n",
       "      <th>Y166H</th>\n",
       "      <th>cell</th>\n",
       "    </tr>\n",
       "  </thead>\n",
       "  <tbody>\n",
       "    <tr>\n",
       "      <th>0</th>\n",
       "      <td>0.0</td>\n",
       "      <td>0.0</td>\n",
       "      <td>0.0</td>\n",
       "      <td>0.0</td>\n",
       "      <td>0.0</td>\n",
       "      <td>0.0</td>\n",
       "      <td>0.0</td>\n",
       "      <td>0.0</td>\n",
       "      <td>0.0</td>\n",
       "      <td>0.0</td>\n",
       "      <td>...</td>\n",
       "      <td>0.0</td>\n",
       "      <td>0.0</td>\n",
       "      <td>0.0</td>\n",
       "      <td>0.0</td>\n",
       "      <td>0.0</td>\n",
       "      <td>0.0</td>\n",
       "      <td>0.0</td>\n",
       "      <td>0.0</td>\n",
       "      <td>0.0</td>\n",
       "      <td>GCAATCAGTCAGAAGCch31</td>\n",
       "    </tr>\n",
       "    <tr>\n",
       "      <th>1</th>\n",
       "      <td>0.0</td>\n",
       "      <td>0.0</td>\n",
       "      <td>0.0</td>\n",
       "      <td>1.0</td>\n",
       "      <td>0.0</td>\n",
       "      <td>0.0</td>\n",
       "      <td>0.0</td>\n",
       "      <td>0.0</td>\n",
       "      <td>0.0</td>\n",
       "      <td>0.0</td>\n",
       "      <td>...</td>\n",
       "      <td>0.0</td>\n",
       "      <td>0.0</td>\n",
       "      <td>0.0</td>\n",
       "      <td>0.0</td>\n",
       "      <td>0.0</td>\n",
       "      <td>0.0</td>\n",
       "      <td>0.0</td>\n",
       "      <td>0.0</td>\n",
       "      <td>0.0</td>\n",
       "      <td>AAGTCTGAGACCCACCch26</td>\n",
       "    </tr>\n",
       "    <tr>\n",
       "      <th>2</th>\n",
       "      <td>0.0</td>\n",
       "      <td>0.0</td>\n",
       "      <td>0.0</td>\n",
       "      <td>0.0</td>\n",
       "      <td>0.0</td>\n",
       "      <td>0.0</td>\n",
       "      <td>0.0</td>\n",
       "      <td>0.0</td>\n",
       "      <td>0.0</td>\n",
       "      <td>0.0</td>\n",
       "      <td>...</td>\n",
       "      <td>0.0</td>\n",
       "      <td>0.0</td>\n",
       "      <td>0.0</td>\n",
       "      <td>0.0</td>\n",
       "      <td>0.0</td>\n",
       "      <td>0.0</td>\n",
       "      <td>0.0</td>\n",
       "      <td>0.0</td>\n",
       "      <td>0.0</td>\n",
       "      <td>GTTCATTGTCCTCGTCch19</td>\n",
       "    </tr>\n",
       "    <tr>\n",
       "      <th>3</th>\n",
       "      <td>0.0</td>\n",
       "      <td>0.0</td>\n",
       "      <td>0.0</td>\n",
       "      <td>0.0</td>\n",
       "      <td>0.0</td>\n",
       "      <td>0.0</td>\n",
       "      <td>0.0</td>\n",
       "      <td>0.0</td>\n",
       "      <td>0.0</td>\n",
       "      <td>0.0</td>\n",
       "      <td>...</td>\n",
       "      <td>0.0</td>\n",
       "      <td>0.0</td>\n",
       "      <td>0.0</td>\n",
       "      <td>0.0</td>\n",
       "      <td>0.0</td>\n",
       "      <td>0.0</td>\n",
       "      <td>0.0</td>\n",
       "      <td>15.0</td>\n",
       "      <td>0.0</td>\n",
       "      <td>TTGCCGTGTGGTGTAGch31</td>\n",
       "    </tr>\n",
       "    <tr>\n",
       "      <th>4</th>\n",
       "      <td>0.0</td>\n",
       "      <td>0.0</td>\n",
       "      <td>0.0</td>\n",
       "      <td>0.0</td>\n",
       "      <td>0.0</td>\n",
       "      <td>0.0</td>\n",
       "      <td>0.0</td>\n",
       "      <td>0.0</td>\n",
       "      <td>1.0</td>\n",
       "      <td>0.0</td>\n",
       "      <td>...</td>\n",
       "      <td>0.0</td>\n",
       "      <td>0.0</td>\n",
       "      <td>0.0</td>\n",
       "      <td>0.0</td>\n",
       "      <td>0.0</td>\n",
       "      <td>0.0</td>\n",
       "      <td>0.0</td>\n",
       "      <td>0.0</td>\n",
       "      <td>0.0</td>\n",
       "      <td>CCACCTAAGAAGGACAch22</td>\n",
       "    </tr>\n",
       "  </tbody>\n",
       "</table>\n",
       "<p>5 rows × 99 columns</p>\n",
       "</div>"
      ],
      "text/plain": [
       "   G60S  G60D  G13C  P34R  G13E  N26Y  Q61P  K147T  AG11TD  A146T  ...  G12D  \\\n",
       "0   0.0   0.0   0.0   0.0   0.0   0.0   0.0    0.0     0.0    0.0  ...   0.0   \n",
       "1   0.0   0.0   0.0   1.0   0.0   0.0   0.0    0.0     0.0    0.0  ...   0.0   \n",
       "2   0.0   0.0   0.0   0.0   0.0   0.0   0.0    0.0     0.0    0.0  ...   0.0   \n",
       "3   0.0   0.0   0.0   0.0   0.0   0.0   0.0    0.0     0.0    0.0  ...   0.0   \n",
       "4   0.0   0.0   0.0   0.0   0.0   0.0   0.0    0.0     1.0    0.0  ...   0.0   \n",
       "\n",
       "   T158A  T20M  G77A  Q61K  S136N  V14L  R149K  Y166H                  cell  \n",
       "0    0.0   0.0   0.0   0.0    0.0   0.0    0.0    0.0  GCAATCAGTCAGAAGCch31  \n",
       "1    0.0   0.0   0.0   0.0    0.0   0.0    0.0    0.0  AAGTCTGAGACCCACCch26  \n",
       "2    0.0   0.0   0.0   0.0    0.0   0.0    0.0    0.0  GTTCATTGTCCTCGTCch19  \n",
       "3    0.0   0.0   0.0   0.0    0.0   0.0   15.0    0.0  TTGCCGTGTGGTGTAGch31  \n",
       "4    0.0   0.0   0.0   0.0    0.0   0.0    0.0    0.0  CCACCTAAGAAGGACAch22  \n",
       "\n",
       "[5 rows x 99 columns]"
      ]
     },
     "execution_count": 8,
     "metadata": {},
     "output_type": "execute_result"
    }
   ],
   "source": [
    "df=pd.read_csv(cells2guide_file)\n",
    "df.head()"
   ]
  },
  {
   "cell_type": "code",
   "execution_count": 12,
   "metadata": {},
   "outputs": [
    {
     "name": "stdout",
     "output_type": "stream",
     "text": [
      "89262\n"
     ]
    }
   ],
   "source": [
    "assigned=adata[adata.obs['mut.std']!='uninfected',:].obs_names\n",
    "print(len(assigned))"
   ]
  },
  {
   "cell_type": "code",
   "execution_count": 13,
   "metadata": {},
   "outputs": [
    {
     "name": "stdout",
     "output_type": "stream",
     "text": [
      "1000\n"
     ]
    }
   ],
   "source": [
    "unassigned=adata[adata.obs['mut.std']=='uninfected',:].obs_names\n",
    "print(len(unassigned))"
   ]
  },
  {
   "cell_type": "code",
   "execution_count": 15,
   "metadata": {},
   "outputs": [
    {
     "data": {
      "text/plain": [
       "['CATGGCGTCACGGTTAch12',\n",
       " 'CACTCCATCAGCATGTch16',\n",
       " 'AGCGTATTCCAAAGTCch6',\n",
       " 'AAACCTGCAGCTCGACch4',\n",
       " 'GTGCTTCAGGATTCGGch3',\n",
       " 'CGTCTACAGACTAAGTch15',\n",
       " 'GAACATCGTGGTCCGTch25',\n",
       " 'GCTCCTACACAGGTTTch27',\n",
       " 'CCCATACTCGGTCTAAch5']"
      ]
     },
     "execution_count": 15,
     "metadata": {},
     "output_type": "execute_result"
    }
   ],
   "source": [
    "list(set(df['cell']).intersection(unassigned))"
   ]
  },
  {
   "cell_type": "code",
   "execution_count": 21,
   "metadata": {},
   "outputs": [
    {
     "name": "stdout",
     "output_type": "stream",
     "text": [
      "0.0\n"
     ]
    }
   ],
   "source": [
    "print(df.loc[df['cell']=='CATGGCGTCACGGTTAch12',:].T.sum().sum())"
   ]
  },
  {
   "cell_type": "code",
   "execution_count": 24,
   "metadata": {},
   "outputs": [],
   "source": [
    "def read_perturbations_csv(adata_here,cell2guide_csv,guide2gene_csv=None,pref='',\n",
    "                           sep='\\t',copy=False):\n",
    "\n",
    "\n",
    "    if copy: adata_here = adata_here.copy()\n",
    "\n",
    "    #read cell2guide                                                                                                                                                                                                                                                                                                                                                                                                                                                     \n",
    "    cell2guide=pd.read_csv(cell2guide_csv,sep=sep)\n",
    "    cell2guide.index=cell2guide['cell']\n",
    "\n",
    "    #check that the annotated cells have a good overlap with the adata                                                                                                                                                                                                                                                                                                                                                                                                   \n",
    "    cells_annotated=list(set(cell2guide['cell']))\n",
    "    cells_annotated_in_adata=list(set(cells_annotated).intersection(set(adata_here.obs_names)))\n",
    "    percent_cells_annotated_in_adata=100*round(len(cells_annotated_in_adata)/adata_here.n_obs,2)\n",
    "\n",
    "    print('annotated cells:',len(cells_annotated))\n",
    "    print('adata cells:',adata_here.n_obs,'|',percent_cells_annotated_in_adata,'percent annotated')\n",
    "    if len(cells_annotated_in_adata)==0:\n",
    "        print('======\\nERROR: no cells in your adata were annotated. Check that the cell names match between adata and your cell2guide file')\n",
    "        return(None)\n",
    "\n",
    "    #assign the guides to the cells in adata                                                                                                                                                                                                                                                                                                                                                                                                                             \n",
    "    guides=list(set(cell2guide.columns).difference(set(['cell'])))\n",
    "    cell2guide_for_adata=pd.DataFrame(0.0,\n",
    "                      index=adata_here.obs_names,\n",
    "                      columns=guides)\n",
    "    cell2guide_for_adata.loc[cells_annotated_in_adata,guides]=cell2guide.loc[cells_annotated_in_adata,guides]\n",
    "\n",
    "    #if provided a guide->gene file, save that in the adata object, as another obsm                                                                                                                                                                                                                                                                                                                                                                                      \n",
    "    if guide2gene_csv!=None:\n",
    "        guide2gene=pd.read_csv(guide2gene_csv,sep=sep)\n",
    "        genes=list(set(guide2gene['gene']))\n",
    "        cell2gene_for_adata=pd.DataFrame(0.0,\n",
    "                      index=adata_here.obs_names,\n",
    "                      columns=genes)\n",
    "        #for each gene, check if at least one of the guides is present                                                                                                                                                                                                                                                                                                                                                                                                   \n",
    "        for gene in genes:\n",
    "            guides_per_gene_init=list(guide2gene.loc[guide2gene['gene']==gene,'guide'])\n",
    "            guides_per_gene=list(set(guides_per_gene_init).intersection(set(guides)))\n",
    "            if len(guides_per_gene)>0:\n",
    "                cell2gene_for_adata.loc[cells_annotated_in_adata,gene]=cell2guide_for_adata.loc[cells_annotated_in_adata,guides_per_gene].sum(axis=1)\n",
    "\n",
    "\n",
    "    #and one obs for guide, one for gene. one compact (says \"multiple\"), and one with the full name                                                                                                                                                                                                                                                                                                                                                                      \n",
    "    guide_sum=cell2guide_for_adata.sum(axis=1)\n",
    "    guide_anno_long=[]\n",
    "    guide_anno_compact=[]\n",
    "    unassigned_vector=[]\n",
    "    for i in range(adata_here.n_obs):\n",
    "        x=cell2guide_for_adata.iloc[i,]\n",
    "        guides_cell=list(x.loc[x>0].index)\n",
    "        guides_cell.sort()\n",
    "        guides_cell_str=','.join(guides_cell)\n",
    "        #print(guides_cell_str)                                                                                                                                                                                                                                                                                                                                                                                                                                          \n",
    "        if len(guides_cell)==0:\n",
    "            guide_anno_compact_here='unassigned'\n",
    "            guide_anno_long_here='unassigned'\n",
    "        if len(guides_cell)==1:\n",
    "            guide_anno_compact_here=guides_cell_str\n",
    "            guide_anno_long_here=guides_cell_str\n",
    "        if len(guides_cell)>1:\n",
    "            guide_anno_compact_here='multiple'\n",
    "            guide_anno_long_here=guides_cell_str\n",
    "        guide_anno_long.append(guide_anno_long_here)\n",
    "        guide_anno_compact.append(guide_anno_compact_here)\n",
    "        if guide_anno_compact_here=='unassigned':\n",
    "            unassigned_vector.append(1.0)\n",
    "        else:\n",
    "            unassigned_vector.append(0.0)\n",
    "\n",
    "    adata_here.obs[pref+'guide']=guide_anno_long\n",
    "    adata_here.obs[pref+'guide.compact']=guide_anno_compact\n",
    "\n",
    "\n",
    "    if guide2gene_csv!=None:\n",
    "        gene_sum=cell2gene_for_adata.sum(axis=1)\n",
    "        gene_anno_long=[]\n",
    "        gene_anno_compact=[]\n",
    "        for i in range(adata_here.n_obs):\n",
    "            x=cell2gene_for_adata.iloc[i,]\n",
    "            genes_cell=list(x.loc[x>0].index)\n",
    "            genes_cell.sort()\n",
    "            genes_cell_str=','.join(genes_cell)\n",
    "            #print(guides_cell_str)                                                                                                                                                                                                                                                                                                                                                                                                                                      \n",
    "            if len(genes_cell)==0:\n",
    "                gene_anno_compact_here='unassigned'\n",
    "                gene_anno_long_here='unassigned'\n",
    "            if len(genes_cell)==1:\n",
    "                gene_anno_compact_here=genes_cell_str\n",
    "                gene_anno_long_here=genes_cell_str\n",
    "            if len(genes_cell)>1:\n",
    "                gene_anno_compact_here='multiple'\n",
    "                gene_anno_long_here=genes_cell_str\n",
    "            gene_anno_long.append(gene_anno_long_here)\n",
    "            gene_anno_compact.append(gene_anno_compact_here)\n",
    "\n",
    "        adata_here.obs[pref+'gene']=gene_anno_long\n",
    "        adata_here.obs[pref+'gene.compact']=gene_anno_compact\n",
    "\n",
    "    #make obs for each perturbation count                                                                                                                                                                                                                                                                                                                                                                                                                                \n",
    "    for guide in guides:\n",
    "        adata_here.obs[pref+guide]=1.0*(cell2guide_for_adata.loc[:,guide]>0)\n",
    "    #also make one for unassigned                                                                                                                                                                                                                                                                                                                                                                                                                                        \n",
    "    adata_here.obs['unassigned']=unassigned_vector\n",
    "    if guide2gene_csv!=None:\n",
    "        for gene in genes:\n",
    "            adata_here.obs[pref+'gene.'+gene]=1.0*(cell2gene_for_adata.loc[:,gene]>0)\n",
    "\n",
    "    '''\n",
    "    adata_here.obsm[pref+'cell2guide']=cell2guide_for_adata\n",
    "    if guide2gene_csv!=None:\n",
    "        adata_here.obsm[pref+'cell2gene']=cell2gene_for_adata\n",
    "    '''\n",
    "    if copy:\n",
    "        return(adata_here)\n",
    "\n"
   ]
  },
  {
   "cell_type": "code",
   "execution_count": 25,
   "metadata": {},
   "outputs": [
    {
     "name": "stdout",
     "output_type": "stream",
     "text": [
      "annotated cells: 153365\n",
      "adata cells: 90262 | 99.0 percent annotated\n"
     ]
    }
   ],
   "source": [
    "PROTEIN='KRAS'\n",
    "cells2guide_file='/ahg/regevdata/projects/bn10_cancer_variants/bn10_oana_2018-06-22/results/2018-06-22/results/2020-07-09/'+PROTEIN+'/processed_data/A549.'+PROTEIN+'.anno.vbc_TPTfiltered1.0_umi_counts.mut_std.gz'\n",
    "read_perturbations_csv(adata,\n",
    "                       cell2guide_csv=cells2guide_file,\n",
    "                      guide2gene_csv=None,\n",
    "                      sep=',')"
   ]
  },
  {
   "cell_type": "code",
   "execution_count": 31,
   "metadata": {},
   "outputs": [],
   "source": [
    "mm=[]\n",
    "for i in range(adata.n_obs):\n",
    "    if adata.obs['guide.compact'][i]!=adata.obs['mut.std'][i]:\n",
    "        mm.append(i)"
   ]
  },
  {
   "cell_type": "code",
   "execution_count": 32,
   "metadata": {},
   "outputs": [],
   "source": [
    "adata2=adata[mm,:]"
   ]
  },
  {
   "cell_type": "code",
   "execution_count": 35,
   "metadata": {},
   "outputs": [
    {
     "data": {
      "text/plain": [
       "{'Y166H', 'unassigned'}"
      ]
     },
     "execution_count": 35,
     "metadata": {},
     "output_type": "execute_result"
    }
   ],
   "source": [
    "set(adata2.obs['guide.compact'])"
   ]
  },
  {
   "cell_type": "code",
   "execution_count": 74,
   "metadata": {},
   "outputs": [
    {
     "name": "stderr",
     "output_type": "stream",
     "text": [
      "... storing 'guide' as categorical\n",
      "... storing 'guide.compact' as categorical\n"
     ]
    }
   ],
   "source": [
    "adata.write(SUBSAMPLED+'.channel_1to32.counts_per_cell'+str(counts)+'.regress_out_vbc.analysis.1000cells.new_format.h5ad')\n"
   ]
  }
 ],
 "metadata": {
  "kernelspec": {
   "display_name": "Python 3",
   "language": "python",
   "name": "python3"
  },
  "language_info": {
   "codemirror_mode": {
    "name": "ipython",
    "version": 3
   },
   "file_extension": ".py",
   "mimetype": "text/x-python",
   "name": "python",
   "nbconvert_exporter": "python",
   "pygments_lexer": "ipython3",
   "version": "3.6.8"
  }
 },
 "nbformat": 4,
 "nbformat_minor": 2
}
