{
 "cells": [
  {
   "cell_type": "code",
   "execution_count": 1,
   "metadata": {},
   "outputs": [
    {
     "name": "stderr",
     "output_type": "stream",
     "text": [
      "/ahg/regevdata/users/oursu/software/anaconda3/lib/python3.6/site-packages/scanpy/api/__init__.py:6: FutureWarning: \n",
      "\n",
      "In a future version of Scanpy, `scanpy.api` will be removed.\n",
      "Simply use `import scanpy as sc` and `import scanpy.external as sce` instead.\n",
      "\n",
      "  FutureWarning,\n"
     ]
    },
    {
     "name": "stdout",
     "output_type": "stream",
     "text": [
      "scanpy==1.4.5.post1 anndata==0.7.1 umap==0.3.9 numpy==1.17.2 scipy==1.4.1 pandas==0.24.2 scikit-learn==0.22 statsmodels==0.11.0 python-igraph==0.7.1 louvain==0.6.1\n"
     ]
    }
   ],
   "source": [
    "import numpy as np\n",
    "import pandas as pd\n",
    "import scanpy.api as sc\n",
    "%matplotlib inline\n",
    "import matplotlib.pyplot as plt\n",
    "\n",
    "import sys \n",
    "import inspect\n",
    "import seaborn as sns\n",
    "import os\n",
    "\n",
    "import re\n",
    "import copy\n",
    "\n",
    "sc.settings.verbosity = 3  # verbosity: errors (0), warnings (1), info (2), hints (3)\n",
    "sc.settings.set_figure_params(dpi=80, color_map='viridis')\n",
    "sc.logging.print_versions()"
   ]
  },
  {
   "cell_type": "code",
   "execution_count": 2,
   "metadata": {},
   "outputs": [],
   "source": [
    "PROTEIN='TP53'\n",
    "DATA='/ahg/regevdata/projects/bn10_cancer_variants/bn10_oana_2018-06-22/results/2018-06-22/results/2020-02-14'\n",
    "results_prefix=DATA+'/'+PROTEIN+'/processed_data/A549.'+PROTEIN\n"
   ]
  },
  {
   "cell_type": "code",
   "execution_count": 3,
   "metadata": {},
   "outputs": [
    {
     "name": "stdout",
     "output_type": "stream",
     "text": [
      "0\n",
      "1\n",
      "2\n",
      "3\n",
      "4\n",
      "5\n",
      "6\n",
      "7\n",
      "8\n",
      "9\n",
      "10\n",
      "11\n",
      "12\n",
      "13\n",
      "14\n",
      "15\n",
      "16\n",
      "17\n",
      "18\n",
      "19\n",
      "20\n",
      "21\n",
      "22\n",
      "23\n",
      "24\n",
      "25\n",
      "26\n",
      "27\n",
      "28\n",
      "29\n",
      "30\n",
      "31\n"
     ]
    }
   ],
   "source": [
    "bcldirs=['180515_SL-HXR_0665_AFCHH2H3CCXY','180515_SL-HXS_0555_AFCHGYTGCCXY',\n",
    "        '180515_SL-HXR_0666_BFCHGY7FCCXY','180515_SL-HXS_0556_BFCHH2FNCCXY']\n",
    "\n",
    "for channel in range(32):\n",
    "    print(channel)\n",
    "    channelname=str(channel+1)\n",
    "    for bcldir in bcldirs:\n",
    "        gbc_cbc_file='/ahg/regevdata/projects/bn10_cancer_variants/bn10_oana_2018-06-22/results/2018-06-22/data/count_barcodes/mismatches2/'+bcldir+'/A549_'+re.sub(PROTEIN,'p53',PROTEIN)+'_'+channelname+'.'+bcldir+'.variantBarcodeCounts.gz.with_cellbc_and_UMI.gz'\n",
    "        cur_data=pd.read_csv(gbc_cbc_file,compression='gzip',sep='\\t',header=None)\n",
    "        cur_data.columns=['gbc','r2','pos','strand','cbc','umi','alignments','read_name']\n",
    "        cur_data['cbc']=cur_data['cbc']+'ch'+str(channel)\n",
    "        if channel==0:\n",
    "            gbc_data=cur_data\n",
    "        else:\n",
    "            gbc_data=pd.concat([gbc_data,cur_data])"
   ]
  },
  {
   "cell_type": "code",
   "execution_count": 4,
   "metadata": {},
   "outputs": [
    {
     "data": {
      "text/plain": [
       "(1492103, 8)"
      ]
     },
     "execution_count": 4,
     "metadata": {},
     "output_type": "execute_result"
    }
   ],
   "source": [
    "import copy\n",
    "gbc_data_original=copy.deepcopy(gbc_data)\n",
    "gbc_data_original=gbc_data_original.drop_duplicates()\n",
    "gbc_data_original.shape"
   ]
  },
  {
   "cell_type": "code",
   "execution_count": 5,
   "metadata": {},
   "outputs": [
    {
     "name": "stdout",
     "output_type": "stream",
     "text": [
      "keep 1131670 total 1492103\n"
     ]
    }
   ],
   "source": [
    "#keep only vbcs that map to - strand for vbcs, and to + strand for puro res\n",
    "keep=[]\n",
    "strand=list(gbc_data_original['strand'])\n",
    "gbc=list(gbc_data_original['gbc'])\n",
    "for i in range(gbc_data_original.shape[0]):\n",
    "    cur_strand=strand[i]\n",
    "    cur_gbc=gbc[i]\n",
    "    if cur_strand=='-' and gbc!='Puro_res':\n",
    "        keep.append(i)\n",
    "    else:\n",
    "        if cur_strand=='+' and gbc=='Puro_res':\n",
    "            keep.append(i)\n",
    "print('keep',len(keep),'total',gbc_data_original.shape[0])\n",
    "\n",
    "gbc_data_filtered=copy.deepcopy(gbc_data_original)\n",
    "gbc_data_filtered=gbc_data_filtered.iloc[keep,:]"
   ]
  },
  {
   "cell_type": "code",
   "execution_count": 6,
   "metadata": {},
   "outputs": [
    {
     "name": "stdout",
     "output_type": "stream",
     "text": [
      "======== annotating cbc-umi pairs, and cbc-umi-r2\n",
      "======== counting the numbers of reads supporting cbc-umi-r2 and for denominator cbc-umi\n",
      "======== computing TPT\n",
      "======== compiling the final result\n"
     ]
    }
   ],
   "source": [
    "def compute_TPT(gbcs_dataset):\n",
    "    \n",
    "    '''\n",
    "    input: pandas data frame with the columns \"cbc\", \"umi\", \"gbc\", \"r2\" where every row is a read \n",
    "    output: pandas data frame with the columns \"gbc\", \"cbc\", \"umi\", \"cbc-umi-r2-count\", \"cbc-umi-count\", \"TPT\"\n",
    "    NOTE: for the input, multiple reads corresponding to the same cbc-umi combination should be listed as separate lines!\n",
    "    '''\n",
    "\n",
    "    import copy\n",
    "    import re\n",
    "    import time\n",
    "\n",
    "    print(\"======== annotating cbc-umi pairs, and cbc-umi-r2\")\n",
    "    gbcs_dataset['cbcumi']=[x+'-'+y for x,y in zip(gbcs_dataset['cbc'],gbcs_dataset['umi'])]\n",
    "    cbcumir2=list([x+'+'+y for x,y in zip(gbcs_dataset['cbcumi'],gbcs_dataset['r2'])])\n",
    "    gbcs_dataset['cbcumir2']=list([x+'_gbc_'+y for x,y in zip(cbcumir2,gbcs_dataset['gbc'])])\n",
    "\n",
    "    print(\"======== counting the numbers of reads supporting cbc-umi-r2 and for denominator cbc-umi\")\n",
    "    cbcumi_group=gbcs_dataset.groupby('cbcumi').size()\n",
    "    cbcumi_r2_group=gbcs_dataset.groupby('cbcumir2').size()\n",
    "    cbcumi_from_grouped_reads=[x.split('+')[0] for x in cbcumi_r2_group.index]\n",
    "\n",
    "    print(\"======== computing TPT\")\n",
    "    #divide every cbc-umi-r2 value by the cbc-umi values \n",
    "    combo_counts=pd.DataFrame({'cbc-umi-r2':cbcumi_r2_group,\n",
    "                              'cbc-umi-r2-name':cbcumi_r2_group.index,\n",
    "                              'cbc-umi':cbcumi_from_grouped_reads})\n",
    "    combo_counts['cbc-umi-total']=copy.deepcopy(list(cbcumi_group.loc[combo_counts['cbc-umi']]))\n",
    "    combo_counts['TPT']=1.0*combo_counts['cbc-umi-r2']/combo_counts['cbc-umi-total']\n",
    "    \n",
    "    combo_counts['gbc']=list([x.split('_gbc_')[1] for x in list(combo_counts.loc[:,'cbc-umi-r2-name'])])\n",
    "    combo_counts['umi']=list([x.split('-')[1] for x in list(combo_counts['cbc-umi'])])\n",
    "    combo_counts['cbc']=list([x.split('-')[0] for x in list(combo_counts['cbc-umi'])])\n",
    "    \n",
    "    print(\"======== compiling the final result\")\n",
    "    to_return=pd.DataFrame({'gbc':combo_counts['gbc'],\n",
    "                           'cbc':combo_counts['cbc'],\n",
    "                           'umi':combo_counts['umi'],\n",
    "                           'cbc-umi-r2-count':combo_counts['cbc-umi-r2'],\n",
    "                           'cbc-umi-count':combo_counts['cbc-umi-total'],\n",
    "                           'TPT':combo_counts['TPT']})\n",
    "    to_return=to_return.reset_index(drop=True)\n",
    "    return(to_return)\n",
    "\n",
    "gbc_data=compute_TPT(gbc_data_filtered)"
   ]
  },
  {
   "cell_type": "code",
   "execution_count": 7,
   "metadata": {},
   "outputs": [
    {
     "data": {
      "image/png": "[encoded data removed]",
      "text/plain": [
       "<Figure size 432x288 with 1 Axes>"
      ]
     },
     "metadata": {
      "image/png": {
       "height": 279,
       "width": 429
      }
     },
     "output_type": "display_data"
    },
    {
     "data": {
      "image/png": "[encoded data removed]",
      "text/plain": [
       "<Figure size 432x288 with 1 Axes>"
      ]
     },
     "metadata": {
      "image/png": {
       "height": 284,
       "width": 429
      }
     },
     "output_type": "display_data"
    },
    {
     "data": {
      "image/png": "[encoded data removed]",
      "text/plain": [
       "<Figure size 432x288 with 1 Axes>"
      ]
     },
     "metadata": {
      "image/png": {
       "height": 284,
       "width": 421
      }
     },
     "output_type": "display_data"
    }
   ],
   "source": [
    "plt.hist(gbc_data['TPT'])\n",
    "plt.xlabel('TPT')\n",
    "plt.ylabel('Frequency')\n",
    "plt.show()\n",
    "\n",
    "plt.hist(gbc_data['TPT'])\n",
    "plt.xlabel('TPT')\n",
    "plt.ylabel('Frequency')\n",
    "plt.ylim(0,100000)\n",
    "plt.show()\n",
    "\n",
    "plt.hist(gbc_data['TPT'])\n",
    "plt.xlabel('TPT')\n",
    "plt.ylabel('Frequency')\n",
    "plt.ylim(0,10000)\n",
    "plt.show()"
   ]
  },
  {
   "cell_type": "code",
   "execution_count": 11,
   "metadata": {},
   "outputs": [
    {
     "name": "stdout",
     "output_type": "stream",
     "text": [
      "======== annotating cbc-umi pairs, and cbc-umi-r2\n",
      "======== counting the numbers of reads supporting cbc-umi-r2 and for denominator cbc-umi\n",
      "======== computing TPT\n",
      "======== compiling the final result\n"
     ]
    },
    {
     "data": {
      "image/png": "[encoded data removed]",
      "text/plain": [
       "<Figure size 432x288 with 1 Axes>"
      ]
     },
     "metadata": {
      "image/png": {
       "height": 279,
       "width": 441
      }
     },
     "output_type": "display_data"
    },
    {
     "data": {
      "image/png": "[encoded data removed]",
      "text/plain": [
       "<Figure size 432x288 with 1 Axes>"
      ]
     },
     "metadata": {
      "image/png": {
       "height": 284,
       "width": 418
      }
     },
     "output_type": "display_data"
    },
    {
     "name": "stdout",
     "output_type": "stream",
     "text": [
      "count    852458.000000\n",
      "mean          0.999978\n",
      "std           0.003451\n",
      "min           0.200000\n",
      "25%           1.000000\n",
      "50%           1.000000\n",
      "75%           1.000000\n",
      "max           1.000000\n",
      "Name: TPT, dtype: float64\n"
     ]
    }
   ],
   "source": [
    "#now, compute lenient TPT that only looks at whether reads mapped to the same gbc, \n",
    "#even if they have diff sequences\n",
    "\n",
    "gbc_data_filtered_lenient=copy.deepcopy(gbc_data_filtered)\n",
    "gbc_data_filtered_lenient['r2']=gbc_data_filtered_lenient['gbc']\n",
    "gbc_data=compute_TPT(gbc_data_filtered_lenient)\n",
    "\n",
    "plt.hist(gbc_data['TPT'],10)\n",
    "plt.xlabel('TPT')\n",
    "plt.ylabel('Frequency')\n",
    "plt.xlim(0,1)\n",
    "plt.show()\n",
    "\n",
    "plt.hist(gbc_data['TPT'],10)\n",
    "plt.xlabel('TPT')\n",
    "plt.ylabel('Frequency')\n",
    "plt.ylim(0,20)\n",
    "plt.xlim(0,1)\n",
    "plt.show()\n",
    "\n",
    "print(gbc_data['TPT'].describe())"
   ]
  },
  {
   "cell_type": "code",
   "execution_count": 12,
   "metadata": {},
   "outputs": [
    {
     "data": {
      "text/html": [
       "<div>\n",
       "<style scoped>\n",
       "    .dataframe tbody tr th:only-of-type {\n",
       "        vertical-align: middle;\n",
       "    }\n",
       "\n",
       "    .dataframe tbody tr th {\n",
       "        vertical-align: top;\n",
       "    }\n",
       "\n",
       "    .dataframe thead th {\n",
       "        text-align: right;\n",
       "    }\n",
       "</style>\n",
       "<table border=\"1\" class=\"dataframe\">\n",
       "  <thead>\n",
       "    <tr style=\"text-align: right;\">\n",
       "      <th></th>\n",
       "      <th>gbc</th>\n",
       "      <th>cbc</th>\n",
       "      <th>umi</th>\n",
       "      <th>cbc-umi-r2-count</th>\n",
       "      <th>cbc-umi-count</th>\n",
       "      <th>TPT</th>\n",
       "    </tr>\n",
       "  </thead>\n",
       "  <tbody>\n",
       "    <tr>\n",
       "      <th>29031</th>\n",
       "      <td>Puro_res</td>\n",
       "      <td>AAGCAGTGGTATCAACch12</td>\n",
       "      <td>GCAGAGTACA</td>\n",
       "      <td>2</td>\n",
       "      <td>3</td>\n",
       "      <td>0.666667</td>\n",
       "    </tr>\n",
       "    <tr>\n",
       "      <th>29032</th>\n",
       "      <td>TP53_p.Glu339Lys</td>\n",
       "      <td>AAGCAGTGGTATCAACch12</td>\n",
       "      <td>GCAGAGTACA</td>\n",
       "      <td>1</td>\n",
       "      <td>3</td>\n",
       "      <td>0.333333</td>\n",
       "    </tr>\n",
       "    <tr>\n",
       "      <th>188527</th>\n",
       "      <td>TP53_R273L</td>\n",
       "      <td>ATTTCTGGTTCCTCCAch28</td>\n",
       "      <td>TCCACCCTCA</td>\n",
       "      <td>1</td>\n",
       "      <td>2</td>\n",
       "      <td>0.500000</td>\n",
       "    </tr>\n",
       "    <tr>\n",
       "      <th>188528</th>\n",
       "      <td>TP53_V272L</td>\n",
       "      <td>ATTTCTGGTTCCTCCAch28</td>\n",
       "      <td>TCCACCCTCA</td>\n",
       "      <td>1</td>\n",
       "      <td>2</td>\n",
       "      <td>0.500000</td>\n",
       "    </tr>\n",
       "    <tr>\n",
       "      <th>205649</th>\n",
       "      <td>TP53_E286K</td>\n",
       "      <td>CACACCTAGCTGATAAch22</td>\n",
       "      <td>TAAGGTGAGT</td>\n",
       "      <td>1</td>\n",
       "      <td>2</td>\n",
       "      <td>0.500000</td>\n",
       "    </tr>\n",
       "  </tbody>\n",
       "</table>\n",
       "</div>"
      ],
      "text/plain": [
       "                     gbc                   cbc         umi  cbc-umi-r2-count  \\\n",
       "29031           Puro_res  AAGCAGTGGTATCAACch12  GCAGAGTACA                 2   \n",
       "29032   TP53_p.Glu339Lys  AAGCAGTGGTATCAACch12  GCAGAGTACA                 1   \n",
       "188527        TP53_R273L  ATTTCTGGTTCCTCCAch28  TCCACCCTCA                 1   \n",
       "188528        TP53_V272L  ATTTCTGGTTCCTCCAch28  TCCACCCTCA                 1   \n",
       "205649        TP53_E286K  CACACCTAGCTGATAAch22  TAAGGTGAGT                 1   \n",
       "\n",
       "        cbc-umi-count       TPT  \n",
       "29031               3  0.666667  \n",
       "29032               3  0.333333  \n",
       "188527              2  0.500000  \n",
       "188528              2  0.500000  \n",
       "205649              2  0.500000  "
      ]
     },
     "execution_count": 12,
     "metadata": {},
     "output_type": "execute_result"
    }
   ],
   "source": [
    "#quickly look at the reads with bad TPTs\n",
    "#there are v few of them (yay!)\n",
    "\n",
    "gbc_data.loc[gbc_data['TPT']<1,:].head()"
   ]
  },
  {
   "cell_type": "markdown",
   "metadata": {},
   "source": [
    "Filter to keep TPT==1\n",
    "=="
   ]
  },
  {
   "cell_type": "code",
   "execution_count": 13,
   "metadata": {},
   "outputs": [],
   "source": [
    "outpath=results_prefix+'.anno'\n",
    "gbc_data.to_csv(outpath+'.vbc_TPT.gz',compression='gzip',index=False)"
   ]
  },
  {
   "cell_type": "code",
   "execution_count": 14,
   "metadata": {},
   "outputs": [
    {
     "name": "stdout",
     "output_type": "stream",
     "text": [
      "          gbc                   cbc         umi  cbc-umi-r2-count  \\\n",
      "0  TP53_G266R  AAAAATGTCGCTAGCGch22  GATCGATCAT                 1   \n",
      "1  TP53_R282W  AAAACAAGTTGGTTTGch17  TAGGTGTAGC                 1   \n",
      "2  TP53_M246V  AAAACTGGTGGGTATGch17  TAGTCGGCGC                 1   \n",
      "3  TP53_C275Y  AAAAGATGGTCACCTAch14  AAATTTAGTA                 1   \n",
      "4  TP53_C275Y   AAAAGCAAAGCGGCTTch6  CTTGTCCACC                 1   \n",
      "\n",
      "   cbc-umi-count  TPT  \n",
      "0              1  1.0  \n",
      "1              1  1.0  \n",
      "2              1  1.0  \n",
      "3              1  1.0  \n",
      "4              1  1.0  \n",
      "(852420, 6)\n",
      "          gbc                   cbc         umi  cbc-umi-r2-count  \\\n",
      "0  TP53_G266R  AAAAATGTCGCTAGCGch22  GATCGATCAT                 1   \n",
      "1  TP53_R282W  AAAACAAGTTGGTTTGch17  TAGGTGTAGC                 1   \n",
      "2  TP53_M246V  AAAACTGGTGGGTATGch17  TAGTCGGCGC                 1   \n",
      "3  TP53_C275Y  AAAAGATGGTCACCTAch14  AAATTTAGTA                 1   \n",
      "4  TP53_C275Y   AAAAGCAAAGCGGCTTch6  CTTGTCCACC                 1   \n",
      "\n",
      "   cbc-umi-count  TPT  \n",
      "0              1  1.0  \n",
      "1              1  1.0  \n",
      "2              1  1.0  \n",
      "3              1  1.0  \n",
      "4              1  1.0  \n"
     ]
    }
   ],
   "source": [
    "TPT_threshold=1.0\n",
    "\n",
    "counts_with_tpt=pd.read_csv(outpath+'.vbc_TPT.gz',compression='gzip')\n",
    "print(counts_with_tpt.head())\n",
    "\n",
    "keep=list([x>=TPT_threshold for x in counts_with_tpt['TPT']])\n",
    "filtered=counts_with_tpt[keep]\n",
    "print(filtered.shape)\n",
    "print(filtered.head())"
   ]
  },
  {
   "cell_type": "code",
   "execution_count": 15,
   "metadata": {},
   "outputs": [
    {
     "name": "stdout",
     "output_type": "stream",
     "text": [
      "(852420, 3)\n",
      "(852420, 6)\n",
      "0\n",
      "100000\n",
      "200000\n",
      "300000\n",
      "400000\n",
      "500000\n",
      "600000\n",
      "700000\n",
      "800000\n",
      "0\n",
      "10000\n",
      "20000\n",
      "30000\n",
      "40000\n",
      "50000\n",
      "60000\n",
      "70000\n",
      "80000\n",
      "90000\n",
      "100000\n",
      "110000\n",
      "120000\n",
      "130000\n",
      "140000\n",
      "150000\n",
      "160000\n",
      "170000\n",
      "180000\n",
      "190000\n",
      "200000\n",
      "210000\n",
      "220000\n",
      "230000\n",
      "240000\n",
      "250000\n"
     ]
    }
   ],
   "source": [
    "filtered_counts=filtered.groupby(['cbc','gbc','umi']).sum()\n",
    "print(filtered_counts.shape)\n",
    "filtered_counts.head()\n",
    "\n",
    "filtered_counts.to_csv(outpath+'.vbc_TPTfiltered'+str(TPT_threshold)+'_counts.gz',compression='gzip')\n",
    "\n",
    "filtered_counts=pd.read_csv(outpath+'.vbc_TPTfiltered'+str(TPT_threshold)+'_counts.gz',compression='gzip')\n",
    "print(filtered_counts.shape)\n",
    "filtered_counts.head()\n",
    "\n",
    "#go through each line, make 2 matrices\n",
    "#one gives us the total reads per cbc-gbc, one gives us the umis.\n",
    "\n",
    "umi_counts={}\n",
    "read_counts={}\n",
    "for i in range(filtered_counts.shape[0]):\n",
    "    if i%100000==0:\n",
    "        print(i)\n",
    "    cbc=filtered_counts.loc[i,'cbc']\n",
    "    gbc=filtered_counts.loc[i,'gbc']\n",
    "    umi=filtered_counts.loc[i,'umi']\n",
    "    count=filtered_counts.loc[i,'cbc-umi-count']\n",
    "    if cbc not in umi_counts:\n",
    "        umi_counts[cbc]={}\n",
    "        read_counts[cbc]={}\n",
    "    if gbc not in umi_counts[cbc]:\n",
    "        umi_counts[cbc][gbc]=set()\n",
    "        read_counts[cbc][gbc]=0\n",
    "    umi_counts[cbc][gbc].add(umi)\n",
    "    read_counts[cbc][gbc]+=count\n",
    "    \n",
    "cbcs=list(set(filtered_counts['cbc']))\n",
    "gbcs=list(set(filtered_counts['gbc']))\n",
    "m_reads=np.zeros((len(cbcs),len(gbcs)))\n",
    "m_umis=np.zeros((len(cbcs),len(gbcs)))\n",
    "for cbc_idx in range(len(cbcs)):\n",
    "    if cbc_idx%10000==0:\n",
    "        print(cbc_idx)\n",
    "    cbc=cbcs[cbc_idx]\n",
    "    for gbc_idx in range(len(gbcs)):\n",
    "        gbc=gbcs[gbc_idx]\n",
    "        if cbc in umi_counts:\n",
    "            if gbc in umi_counts[cbc]:\n",
    "                count=len(list(umi_counts[cbc][gbc]))\n",
    "                m_umis[cbc_idx,gbc_idx]=count\n",
    "                m_reads[cbc_idx,gbc_idx]=read_counts[cbc][gbc]"
   ]
  },
  {
   "cell_type": "code",
   "execution_count": 16,
   "metadata": {},
   "outputs": [],
   "source": [
    "m_umis_df=pd.DataFrame(m_umis)\n",
    "m_umis_df.index=cbcs\n",
    "m_umis_df.columns=gbcs\n",
    "\n",
    "m_reads_df=pd.DataFrame(m_reads)\n",
    "m_reads_df.index=cbcs\n",
    "m_reads_df.columns=gbcs\n",
    "\n",
    "m_umis_df.to_csv(outpath+'.vbc_TPTfiltered'+str(TPT_threshold)+'_umi_counts.gz',compression='gzip')\n",
    "m_reads_df.to_csv(outpath+'.vbc_TPTfiltered'+str(TPT_threshold)+'_read_counts.gz',compression='gzip')"
   ]
  },
  {
   "cell_type": "code",
   "execution_count": 17,
   "metadata": {},
   "outputs": [
    {
     "name": "stdout",
     "output_type": "stream",
     "text": [
      "(252759, 101)\n"
     ]
    },
    {
     "data": {
      "text/html": [
       "<div>\n",
       "<style scoped>\n",
       "    .dataframe tbody tr th:only-of-type {\n",
       "        vertical-align: middle;\n",
       "    }\n",
       "\n",
       "    .dataframe tbody tr th {\n",
       "        vertical-align: top;\n",
       "    }\n",
       "\n",
       "    .dataframe thead th {\n",
       "        text-align: right;\n",
       "    }\n",
       "</style>\n",
       "<table border=\"1\" class=\"dataframe\">\n",
       "  <thead>\n",
       "    <tr style=\"text-align: right;\">\n",
       "      <th></th>\n",
       "      <th>KRAS_K5E</th>\n",
       "      <th>TP53_p.Al83Vl</th>\n",
       "      <th>TP53_R249M</th>\n",
       "      <th>TP53_p.Pro153Pro</th>\n",
       "      <th>TP53_H193Y</th>\n",
       "      <th>TP53_p.Asp21Asp</th>\n",
       "      <th>TP53_H179Y</th>\n",
       "      <th>TP53_Y234C</th>\n",
       "      <th>TP53_G245V</th>\n",
       "      <th>TP53_p.Thr118Thr</th>\n",
       "      <th>...</th>\n",
       "      <th>TP53_C238Y</th>\n",
       "      <th>TP53_I195T</th>\n",
       "      <th>TP53_H214R</th>\n",
       "      <th>TP53_G266R</th>\n",
       "      <th>TP53_M237I</th>\n",
       "      <th>TP53_C242F</th>\n",
       "      <th>TP53_R158H</th>\n",
       "      <th>TP53_p.Gly360Vl</th>\n",
       "      <th>TP53_C275F</th>\n",
       "      <th>TP53_R273C</th>\n",
       "    </tr>\n",
       "  </thead>\n",
       "  <tbody>\n",
       "    <tr>\n",
       "      <th>AGGTCCGAGATGTTAGch25</th>\n",
       "      <td>0.0</td>\n",
       "      <td>0.0</td>\n",
       "      <td>0.0</td>\n",
       "      <td>0.0</td>\n",
       "      <td>0.0</td>\n",
       "      <td>0.0</td>\n",
       "      <td>0.0</td>\n",
       "      <td>0.0</td>\n",
       "      <td>0.0</td>\n",
       "      <td>0.0</td>\n",
       "      <td>...</td>\n",
       "      <td>0.0</td>\n",
       "      <td>0.0</td>\n",
       "      <td>0.0</td>\n",
       "      <td>0.0</td>\n",
       "      <td>0.0</td>\n",
       "      <td>0.0</td>\n",
       "      <td>7.0</td>\n",
       "      <td>0.0</td>\n",
       "      <td>0.0</td>\n",
       "      <td>0.0</td>\n",
       "    </tr>\n",
       "    <tr>\n",
       "      <th>TACTCGCAGGAACTGCch8</th>\n",
       "      <td>0.0</td>\n",
       "      <td>0.0</td>\n",
       "      <td>0.0</td>\n",
       "      <td>0.0</td>\n",
       "      <td>0.0</td>\n",
       "      <td>0.0</td>\n",
       "      <td>0.0</td>\n",
       "      <td>0.0</td>\n",
       "      <td>0.0</td>\n",
       "      <td>0.0</td>\n",
       "      <td>...</td>\n",
       "      <td>0.0</td>\n",
       "      <td>0.0</td>\n",
       "      <td>0.0</td>\n",
       "      <td>0.0</td>\n",
       "      <td>0.0</td>\n",
       "      <td>4.0</td>\n",
       "      <td>0.0</td>\n",
       "      <td>0.0</td>\n",
       "      <td>0.0</td>\n",
       "      <td>0.0</td>\n",
       "    </tr>\n",
       "    <tr>\n",
       "      <th>GCTCCTAAGTATCTCGch9</th>\n",
       "      <td>0.0</td>\n",
       "      <td>0.0</td>\n",
       "      <td>0.0</td>\n",
       "      <td>0.0</td>\n",
       "      <td>0.0</td>\n",
       "      <td>0.0</td>\n",
       "      <td>0.0</td>\n",
       "      <td>0.0</td>\n",
       "      <td>0.0</td>\n",
       "      <td>0.0</td>\n",
       "      <td>...</td>\n",
       "      <td>0.0</td>\n",
       "      <td>0.0</td>\n",
       "      <td>0.0</td>\n",
       "      <td>0.0</td>\n",
       "      <td>0.0</td>\n",
       "      <td>0.0</td>\n",
       "      <td>0.0</td>\n",
       "      <td>0.0</td>\n",
       "      <td>0.0</td>\n",
       "      <td>0.0</td>\n",
       "    </tr>\n",
       "    <tr>\n",
       "      <th>AGAGTGGAGCACCGCTch30</th>\n",
       "      <td>0.0</td>\n",
       "      <td>0.0</td>\n",
       "      <td>0.0</td>\n",
       "      <td>0.0</td>\n",
       "      <td>0.0</td>\n",
       "      <td>0.0</td>\n",
       "      <td>1.0</td>\n",
       "      <td>0.0</td>\n",
       "      <td>0.0</td>\n",
       "      <td>0.0</td>\n",
       "      <td>...</td>\n",
       "      <td>0.0</td>\n",
       "      <td>0.0</td>\n",
       "      <td>0.0</td>\n",
       "      <td>0.0</td>\n",
       "      <td>0.0</td>\n",
       "      <td>0.0</td>\n",
       "      <td>0.0</td>\n",
       "      <td>0.0</td>\n",
       "      <td>0.0</td>\n",
       "      <td>0.0</td>\n",
       "    </tr>\n",
       "    <tr>\n",
       "      <th>CATGGCGGTACCGTATch28</th>\n",
       "      <td>0.0</td>\n",
       "      <td>0.0</td>\n",
       "      <td>0.0</td>\n",
       "      <td>0.0</td>\n",
       "      <td>0.0</td>\n",
       "      <td>0.0</td>\n",
       "      <td>0.0</td>\n",
       "      <td>0.0</td>\n",
       "      <td>0.0</td>\n",
       "      <td>0.0</td>\n",
       "      <td>...</td>\n",
       "      <td>0.0</td>\n",
       "      <td>0.0</td>\n",
       "      <td>0.0</td>\n",
       "      <td>0.0</td>\n",
       "      <td>0.0</td>\n",
       "      <td>0.0</td>\n",
       "      <td>0.0</td>\n",
       "      <td>0.0</td>\n",
       "      <td>0.0</td>\n",
       "      <td>0.0</td>\n",
       "    </tr>\n",
       "  </tbody>\n",
       "</table>\n",
       "<p>5 rows × 101 columns</p>\n",
       "</div>"
      ],
      "text/plain": [
       "                      KRAS_K5E  TP53_p.Al83Vl  TP53_R249M  TP53_p.Pro153Pro  \\\n",
       "AGGTCCGAGATGTTAGch25       0.0            0.0         0.0               0.0   \n",
       "TACTCGCAGGAACTGCch8        0.0            0.0         0.0               0.0   \n",
       "GCTCCTAAGTATCTCGch9        0.0            0.0         0.0               0.0   \n",
       "AGAGTGGAGCACCGCTch30       0.0            0.0         0.0               0.0   \n",
       "CATGGCGGTACCGTATch28       0.0            0.0         0.0               0.0   \n",
       "\n",
       "                      TP53_H193Y  TP53_p.Asp21Asp  TP53_H179Y  TP53_Y234C  \\\n",
       "AGGTCCGAGATGTTAGch25         0.0              0.0         0.0         0.0   \n",
       "TACTCGCAGGAACTGCch8          0.0              0.0         0.0         0.0   \n",
       "GCTCCTAAGTATCTCGch9          0.0              0.0         0.0         0.0   \n",
       "AGAGTGGAGCACCGCTch30         0.0              0.0         1.0         0.0   \n",
       "CATGGCGGTACCGTATch28         0.0              0.0         0.0         0.0   \n",
       "\n",
       "                      TP53_G245V  TP53_p.Thr118Thr  ...  TP53_C238Y  \\\n",
       "AGGTCCGAGATGTTAGch25         0.0               0.0  ...         0.0   \n",
       "TACTCGCAGGAACTGCch8          0.0               0.0  ...         0.0   \n",
       "GCTCCTAAGTATCTCGch9          0.0               0.0  ...         0.0   \n",
       "AGAGTGGAGCACCGCTch30         0.0               0.0  ...         0.0   \n",
       "CATGGCGGTACCGTATch28         0.0               0.0  ...         0.0   \n",
       "\n",
       "                      TP53_I195T  TP53_H214R  TP53_G266R  TP53_M237I  \\\n",
       "AGGTCCGAGATGTTAGch25         0.0         0.0         0.0         0.0   \n",
       "TACTCGCAGGAACTGCch8          0.0         0.0         0.0         0.0   \n",
       "GCTCCTAAGTATCTCGch9          0.0         0.0         0.0         0.0   \n",
       "AGAGTGGAGCACCGCTch30         0.0         0.0         0.0         0.0   \n",
       "CATGGCGGTACCGTATch28         0.0         0.0         0.0         0.0   \n",
       "\n",
       "                      TP53_C242F  TP53_R158H  TP53_p.Gly360Vl  TP53_C275F  \\\n",
       "AGGTCCGAGATGTTAGch25         0.0         7.0              0.0         0.0   \n",
       "TACTCGCAGGAACTGCch8          4.0         0.0              0.0         0.0   \n",
       "GCTCCTAAGTATCTCGch9          0.0         0.0              0.0         0.0   \n",
       "AGAGTGGAGCACCGCTch30         0.0         0.0              0.0         0.0   \n",
       "CATGGCGGTACCGTATch28         0.0         0.0              0.0         0.0   \n",
       "\n",
       "                      TP53_R273C  \n",
       "AGGTCCGAGATGTTAGch25         0.0  \n",
       "TACTCGCAGGAACTGCch8          0.0  \n",
       "GCTCCTAAGTATCTCGch9          0.0  \n",
       "AGAGTGGAGCACCGCTch30         0.0  \n",
       "CATGGCGGTACCGTATch28         0.0  \n",
       "\n",
       "[5 rows x 101 columns]"
      ]
     },
     "execution_count": 17,
     "metadata": {},
     "output_type": "execute_result"
    }
   ],
   "source": [
    "m_umis_df=pd.read_csv(outpath+'.vbc_TPTfiltered'+str(TPT_threshold)+'_umi_counts.gz',compression='gzip',index_col=0)\n",
    "m_reads_df=pd.read_csv(outpath+'.vbc_TPTfiltered'+str(TPT_threshold)+'_read_counts.gz',compression='gzip',index_col=0)\n",
    "print(m_umis_df.shape)\n",
    "m_umis_df.head()"
   ]
  },
  {
   "cell_type": "code",
   "execution_count": 18,
   "metadata": {},
   "outputs": [
    {
     "data": {
      "image/png": "[encoded data removed]",
      "text/plain": [
       "<Figure size 432x288 with 1 Axes>"
      ]
     },
     "metadata": {
      "image/png": {
       "height": 279,
       "width": 385
      }
     },
     "output_type": "display_data"
    }
   ],
   "source": [
    "plt.scatter(np.log2(m_reads.flatten()[m_reads.flatten()>0.0]),\n",
    "            np.log2(m_umis.flatten()[m_umis.flatten()>0.0]),alpha=0.02,\n",
    "            c=np.log2(m_reads.flatten()[m_reads.flatten()>0.0])-np.log2(m_umis.flatten()[m_umis.flatten()>0.0]))\n",
    "plt.xlabel('log2 reads per cbc-gbc')\n",
    "plt.ylabel('log2 umi per cbc-gbc')\n",
    "plt.plot(np.arange(0, 10), np.arange(0, 10),color='gray')\n",
    "plt.show()"
   ]
  },
  {
   "cell_type": "markdown",
   "metadata": {},
   "source": [
    "Annotate cells\n",
    "=="
   ]
  },
  {
   "cell_type": "code",
   "execution_count": 19,
   "metadata": {},
   "outputs": [
    {
     "name": "stdout",
     "output_type": "stream",
     "text": [
      "WARNING: Your filename has more than two extensions: ['.TP53', '.raw', '.h5ad'].\n",
      "Only considering the two last: ['.raw', '.h5ad'].\n",
      "WARNING: Your filename has more than two extensions: ['.TP53', '.raw', '.h5ad'].\n",
      "Only considering the two last: ['.raw', '.h5ad'].\n"
     ]
    },
    {
     "data": {
      "text/plain": [
       "AnnData object with n_obs × n_vars = 192000 × 33694 \n",
       "    obs: 'batch'"
      ]
     },
     "execution_count": 19,
     "metadata": {},
     "output_type": "execute_result"
    }
   ],
   "source": [
    "#read in data\n",
    "adata=sc.read(results_prefix+'.raw.h5ad')\n",
    "adata"
   ]
  },
  {
   "cell_type": "code",
   "execution_count": 20,
   "metadata": {},
   "outputs": [
    {
     "name": "stdout",
     "output_type": "stream",
     "text": [
      "0\n",
      "10000\n",
      "20000\n",
      "30000\n",
      "40000\n",
      "50000\n",
      "60000\n",
      "70000\n",
      "80000\n",
      "90000\n",
      "100000\n",
      "110000\n",
      "120000\n",
      "130000\n",
      "140000\n",
      "150000\n",
      "160000\n",
      "170000\n",
      "180000\n",
      "190000\n",
      "200000\n",
      "210000\n",
      "220000\n",
      "230000\n",
      "240000\n",
      "250000\n"
     ]
    }
   ],
   "source": [
    "anno_cells=[]\n",
    "cell_names=list(m_umis_df.index)\n",
    "for i in range(m_umis_df.shape[0]):\n",
    "    if i%10000==0:\n",
    "        print(i)\n",
    "    anno_cell=re.sub('ch','-1-',cell_names[i])\n",
    "    anno_cells.append(anno_cell)"
   ]
  },
  {
   "cell_type": "code",
   "execution_count": 21,
   "metadata": {},
   "outputs": [
    {
     "name": "stdout",
     "output_type": "stream",
     "text": [
      "annotated 146181 total 192000\n"
     ]
    }
   ],
   "source": [
    "anno_cells_adata=list(set(adata.obs_names).intersection(set(anno_cells)))\n",
    "print('annotated',len(anno_cells_adata),'total',len(adata.obs_names))"
   ]
  },
  {
   "cell_type": "code",
   "execution_count": 22,
   "metadata": {},
   "outputs": [
    {
     "data": {
      "text/plain": [
       "KRAS_K5E                0.0\n",
       "TP53_p.Al83Vl        5136.0\n",
       "TP53_R249M           6072.0\n",
       "TP53_p.Pro153Pro     6017.0\n",
       "TP53_H193Y          11356.0\n",
       "TP53_p.Asp21Asp      6647.0\n",
       "TP53_H179Y          11631.0\n",
       "TP53_Y234C           4651.0\n",
       "TP53_G245V          10787.0\n",
       "TP53_p.Thr118Thr     8215.0\n",
       "TP53_G245S          10234.0\n",
       "TP53_R110L           7505.0\n",
       "TP53_V173L           8487.0\n",
       "TP53_E285K           7336.0\n",
       "TP53_R280T           9685.0\n",
       "TP53_C277F          10947.0\n",
       "TP53_p.Tyr107His     8703.0\n",
       "TP53_P278S          15246.0\n",
       "TP53_R273L           4803.0\n",
       "TP53_V272M          11389.0\n",
       "TP53_P278L           9585.0\n",
       "TP53_p.Gln5Ar        4866.0\n",
       "TP53_G105C           9635.0\n",
       "TP53_R213Q           6636.0\n",
       "TP53_S241F          12021.0\n",
       "TP53_R248W           5751.0\n",
       "TP53_S241C           5375.0\n",
       "Puro_res             1543.0\n",
       "TP53_p.Pro295Pro     5496.0\n",
       "TP53_R158L           8600.0\n",
       "                     ...   \n",
       "TP53_p.Vl216Vl       6380.0\n",
       "TP53_p.Ar158Ar       7378.0\n",
       "TP53_p.Ser366Al      4548.0\n",
       "TP53_R337C           7497.0\n",
       "TP53_C275Y           7694.0\n",
       "TP53_p.Pro359Pro    10078.0\n",
       "TP53_p.Glu2Glu       5676.0\n",
       "TP53_E271K           9422.0\n",
       "TP53_G244C          11872.0\n",
       "TP53_WT              2614.0\n",
       "TP53_K132R           3509.0\n",
       "TP53_V272L           6270.0\n",
       "TP53_P151S           6237.0\n",
       "TP53_H179R           3495.0\n",
       "TP53_C135Y           6606.0\n",
       "TP53_G154V           3732.0\n",
       "TP53_C176Y           4838.0\n",
       "TP53_Y236C           8603.0\n",
       "TP53_p.Pro301Pro     6783.0\n",
       "TP53_p.Glu339Lys     4188.0\n",
       "TP53_C238Y           5655.0\n",
       "TP53_I195T           9339.0\n",
       "TP53_H214R           3391.0\n",
       "TP53_G266R          10457.0\n",
       "TP53_M237I           6890.0\n",
       "TP53_C242F           3883.0\n",
       "TP53_R158H           8243.0\n",
       "TP53_p.Gly360Vl      5903.0\n",
       "TP53_C275F          11612.0\n",
       "TP53_R273C           8900.0\n",
       "Length: 101, dtype: float64"
      ]
     },
     "execution_count": 22,
     "metadata": {},
     "output_type": "execute_result"
    }
   ],
   "source": [
    "#now, go ahead and annotate the cells\n",
    "m_umis_df.index=anno_cells\n",
    "cell_names=list(m_umis_df.index)\n",
    "\n",
    "anno_df=pd.DataFrame(np.zeros((len(adata.obs_names),len(m_umis_df.columns))))\n",
    "anno_df.index=list(adata.obs_names)\n",
    "anno_df.columns=list(m_umis_df.columns)\n",
    "\n",
    "anno_df.loc[anno_cells_adata,:]=m_umis_df.loc[anno_cells_adata,list(m_umis_df)]\n",
    "anno_df.sum()"
   ]
  },
  {
   "cell_type": "code",
   "execution_count": 23,
   "metadata": {},
   "outputs": [],
   "source": [
    "for gbc in list(m_umis_df.columns):\n",
    "    adata.obs[gbc]=anno_df[gbc]"
   ]
  },
  {
   "cell_type": "code",
   "execution_count": 25,
   "metadata": {},
   "outputs": [
    {
     "name": "stdout",
     "output_type": "stream",
     "text": [
      "0\n",
      "10000\n",
      "20000\n",
      "30000\n",
      "40000\n",
      "50000\n",
      "60000\n",
      "70000\n",
      "80000\n",
      "90000\n",
      "100000\n",
      "110000\n",
      "120000\n",
      "130000\n",
      "140000\n",
      "150000\n",
      "160000\n",
      "170000\n",
      "180000\n",
      "190000\n"
     ]
    }
   ],
   "source": [
    "#also, annotate each cell with the mutant it has\n",
    "gbcs=['TP53_p.Pro47Pro',\n",
    " 'TP53_G105C',\n",
    " 'TP53_H179R',\n",
    " 'TP53_C275F',\n",
    " 'TP53_R337L',\n",
    " 'TP53_R273L',\n",
    " 'TP53_G266V',\n",
    " 'TP53_R158L',\n",
    " 'TP53_C238Y',\n",
    " 'TP53_S241F',\n",
    " 'TP53_H193R',\n",
    " 'TP53_C176F',\n",
    " 'TP53_Y234C',\n",
    " 'TP53_C275Y',\n",
    " 'TP53_p.Vl216Vl',\n",
    " 'TP53_H193Y',\n",
    " 'TP53_p.Vl31Ile',\n",
    " 'TP53_V173M',\n",
    " 'TP53_C242F',\n",
    " 'TP53_p.Pro301Pro',\n",
    " 'KRAS_K5E',\n",
    " 'TP53_C176Y',\n",
    " 'TP53_R249S',\n",
    " 'TP53_E286K',\n",
    " 'TP53_R248W',\n",
    " 'TP53_K132R',\n",
    " 'TP53_R110L',\n",
    " 'TP53_R249M',\n",
    " 'TP53_R280T',\n",
    " 'TP53_p.Pro36Pro',\n",
    " 'TP53_C135F',\n",
    " 'TP53_G245C',\n",
    " 'TP53_C135Y',\n",
    " 'TP53_L194R',\n",
    " 'TP53_p.Glu2Glu',\n",
    " 'TP53_K132N',\n",
    " 'TP53_H193L',\n",
    " 'TP53_p.Thr170Thr',\n",
    " 'TP53_p.Pro222Pro',\n",
    " 'TP53_V173L',\n",
    " 'TP53_V157F',\n",
    " 'TP53_p.Tyr107His',\n",
    " 'TP53_R273H',\n",
    " 'TP53_R248L',\n",
    " 'TP53_E285K',\n",
    " 'TP53_p.Ser366Al',\n",
    " 'TP53_p.Glu339Lys',\n",
    " 'TP53_p.Al83Vl',\n",
    " 'TP53_p.Asp21Asp',\n",
    " 'TP53_G266E',\n",
    " 'TP53_Y236C',\n",
    " 'TP53_C238F',\n",
    " 'TP53_R280K',\n",
    " 'TP53_I195T',\n",
    " 'TP53_V272L',\n",
    " 'TP53_P250L',\n",
    " 'TP53_P151S',\n",
    " 'TP53_Y220C',\n",
    " 'TP53_G154V',\n",
    " 'TP53_p.Thr312Ser',\n",
    " 'TP53_p.Pro153Pro',\n",
    " 'TP53_p.Thr118Thr',\n",
    " 'TP53_p.Gly360Vl',\n",
    " 'TP53_M246V',\n",
    " 'TP53_G245V',\n",
    " 'TP53_R273C',\n",
    " 'TP53_p.Pro295Pro',\n",
    " 'TP53_C277F',\n",
    " 'TP53_A159V',\n",
    " 'TP53_G244C',\n",
    " 'TP53_G245S',\n",
    " 'TP53_G266R',\n",
    " 'TP53_Y205C',\n",
    " 'TP53_P278L',\n",
    " 'TP53_p.Gln5Ar',\n",
    " 'TP53_S241C',\n",
    " 'TP53_S127F',\n",
    " 'TP53_H214R',\n",
    " 'TP53_V216M',\n",
    " 'TP53_R175H',\n",
    " 'TP53_E271K',\n",
    " 'TP53_p.Leu344Leu',\n",
    " 'TP53_C141Y',\n",
    " 'TP53_R158H',\n",
    " 'TP53_P152L',\n",
    " 'TP53_R213Q',\n",
    " 'TP53_V272M',\n",
    " 'TP53_p.Pro47Ser',\n",
    " 'TP53_R282W',\n",
    " 'TP53_G245D',\n",
    " 'TP53_WT',\n",
    " 'TP53_Y163C',\n",
    " 'TP53_M237I',\n",
    " 'TP53_P278S',\n",
    " 'TP53_R337C',\n",
    " 'TP53_p.Pro359Pro',\n",
    " 'TP53_A159P',\n",
    " 'TP53_H179Y',\n",
    " 'TP53_p.Pro58Ar',\n",
    " 'TP53_p.Ar158Ar']\n",
    "mutant=[]\n",
    "for cell_idx in range(len(adata.obs_names)):\n",
    "    if cell_idx%10000==0:\n",
    "        print(cell_idx)\n",
    "    cur_mutants=[]\n",
    "    for gbc in gbcs:\n",
    "        if adata.obs[gbc][cell_idx]>0:\n",
    "            cur_mutants.append(gbc)\n",
    "    if len(cur_mutants)==0:\n",
    "        mutant.append('uninfected')\n",
    "    elif len(cur_mutants)==1:\n",
    "        mutant.append(cur_mutants[0])\n",
    "    elif len(cur_mutants)>1:\n",
    "        mutant.append('multiple')\n",
    "    else:\n",
    "        mutant.append('unannotated')\n",
    "        "
   ]
  },
  {
   "cell_type": "code",
   "execution_count": 26,
   "metadata": {},
   "outputs": [
    {
     "data": {
      "text/plain": [
       "AnnData object with n_obs × n_vars = 192000 × 33694 \n",
       "    obs: 'batch', 'KRAS_K5E', 'TP53_p.Al83Vl', 'TP53_R249M', 'TP53_p.Pro153Pro', 'TP53_H193Y', 'TP53_p.Asp21Asp', 'TP53_H179Y', 'TP53_Y234C', 'TP53_G245V', 'TP53_p.Thr118Thr', 'TP53_G245S', 'TP53_R110L', 'TP53_V173L', 'TP53_E285K', 'TP53_R280T', 'TP53_C277F', 'TP53_p.Tyr107His', 'TP53_P278S', 'TP53_R273L', 'TP53_V272M', 'TP53_P278L', 'TP53_p.Gln5Ar', 'TP53_G105C', 'TP53_R213Q', 'TP53_S241F', 'TP53_R248W', 'TP53_S241C', 'Puro_res', 'TP53_p.Pro295Pro', 'TP53_R158L', 'TP53_P250L', 'TP53_p.Thr312Ser', 'TP53_S127F', 'TP53_R248L', 'TP53_C141Y', 'TP53_V157F', 'TP53_p.Pro36Pro', 'TP53_C176F', 'TP53_R273H', 'TP53_Y220C', 'TP53_H193R', 'TP53_Y163C', 'TP53_R282W', 'TP53_K132N', 'TP53_R249S', 'TP53_E286K', 'TP53_H193L', 'TP53_A159P', 'TP53_G245C', 'TP53_L194R', 'TP53_p.Pro222Pro', 'TP53_V173M', 'TP53_M246V', 'TP53_G266V', 'TP53_Y205C', 'TP53_P152L', 'TP53_p.Leu344Leu', 'TP53_C238F', 'TP53_R175H', 'TP53_G266E', 'TP53_V216M', 'TP53_R337L', 'TP53_R280K', 'TP53_A159V', 'TP53_G245D', 'TP53_p.Pro58Ar', 'TP53_p.Vl31Ile', 'TP53_p.Pro47Ser', 'TP53_C135F', 'TP53_p.Pro47Pro', 'TP53_p.Thr170Thr', 'TP53_p.Vl216Vl', 'TP53_p.Ar158Ar', 'TP53_p.Ser366Al', 'TP53_R337C', 'TP53_C275Y', 'TP53_p.Pro359Pro', 'TP53_p.Glu2Glu', 'TP53_E271K', 'TP53_G244C', 'TP53_WT', 'TP53_K132R', 'TP53_V272L', 'TP53_P151S', 'TP53_H179R', 'TP53_C135Y', 'TP53_G154V', 'TP53_C176Y', 'TP53_Y236C', 'TP53_p.Pro301Pro', 'TP53_p.Glu339Lys', 'TP53_C238Y', 'TP53_I195T', 'TP53_H214R', 'TP53_G266R', 'TP53_M237I', 'TP53_C242F', 'TP53_R158H', 'TP53_p.Gly360Vl', 'TP53_C275F', 'TP53_R273C', 'mutant'"
      ]
     },
     "execution_count": 26,
     "metadata": {},
     "output_type": "execute_result"
    }
   ],
   "source": [
    "adata.obs['mutant']=mutant\n",
    "adata"
   ]
  },
  {
   "cell_type": "code",
   "execution_count": 27,
   "metadata": {},
   "outputs": [
    {
     "name": "stderr",
     "output_type": "stream",
     "text": [
      "... storing 'mutant' as categorical\n"
     ]
    }
   ],
   "source": [
    "adata.write(results_prefix+'.raw.anno.h5ad')"
   ]
  },
  {
   "cell_type": "code",
   "execution_count": 28,
   "metadata": {},
   "outputs": [
    {
     "name": "stdout",
     "output_type": "stream",
     "text": [
      "45985\n",
      "0\n",
      "37788\n"
     ]
    }
   ],
   "source": [
    "print(mutant.count('uninfected'))\n",
    "print(mutant.count('unannotated'))\n",
    "print(mutant.count('multiple'))\n"
   ]
  },
  {
   "cell_type": "code",
   "execution_count": null,
   "metadata": {},
   "outputs": [],
   "source": []
  }
 ],
 "metadata": {
  "kernelspec": {
   "display_name": "Python 3",
   "language": "python",
   "name": "python3"
  },
  "language_info": {
   "codemirror_mode": {
    "name": "ipython",
    "version": 3
   },
   "file_extension": ".py",
   "mimetype": "text/x-python",
   "name": "python",
   "nbconvert_exporter": "python",
   "pygments_lexer": "ipython3",
   "version": "3.6.8"
  }
 },
 "nbformat": 4,
 "nbformat_minor": 2
}
