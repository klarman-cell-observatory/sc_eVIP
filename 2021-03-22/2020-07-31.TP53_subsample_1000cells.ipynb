{
 "cells": [
  {
   "cell_type": "code",
   "execution_count": 53,
   "metadata": {},
   "outputs": [
    {
     "name": "stdout",
     "output_type": "stream",
     "text": [
      "scanpy==1.5.1 anndata==0.7.1 umap==0.4.4 numpy==1.17.2 scipy==1.4.1 pandas==0.24.2 scikit-learn==0.22 statsmodels==0.11.0 python-igraph==0.7.1 louvain==0.6.1 leidenalg==0.8.1\n"
     ]
    }
   ],
   "source": [
    "import numpy as np\n",
    "import pandas as pd\n",
    "import seaborn as sns\n",
    "import re\n",
    "import matplotlib\n",
    "%matplotlib inline\n",
    "import matplotlib.pyplot as plt\n",
    "import scanpy.api as sc\n",
    "\n",
    "import perturbseq as perturb\n",
    "sc.logging.print_versions()\n"
   ]
  },
  {
   "cell_type": "code",
   "execution_count": 55,
   "metadata": {},
   "outputs": [
    {
     "name": "stdout",
     "output_type": "stream",
     "text": [
      "/ahg/regevdata/projects/bn10_cancer_variants/bn10_oana_2018-06-22/results/2018-06-22/results/2020-02-14/Figures_regressed_out_vbc/\n"
     ]
    }
   ],
   "source": [
    "PROTEIN='TP53'\n",
    "DATA='/ahg/regevdata/projects/bn10_cancer_variants/bn10_oana_2018-06-22/results/2018-06-22/results/2020-02-14'\n",
    "SUBSAMPLED=DATA+'/'+PROTEIN+'/subsampled/A549.'+PROTEIN\n",
    "SUBSAMPLED=DATA+'/'+PROTEIN+'/subsampled/A549.'+PROTEIN\n",
    "\n",
    "counts=20000\n",
    "pref=SUBSAMPLED+'.channel_1to32.counts_per_cell'+str(counts)+'.1000cells.analysis'\n",
    "\n",
    "\n",
    "FIGS=DATA+'/Figures_regressed_out_vbc/'\n",
    "print(FIGS)"
   ]
  },
  {
   "cell_type": "code",
   "execution_count": 56,
   "metadata": {},
   "outputs": [],
   "source": [
    "!mkdir -p /ahg/regevdata/projects/bn10_cancer_variants/bn10_oana_2018-06-22/results/2018-06-22/results/2020-02-14/Figures_regressed_out_vbc/\n"
   ]
  },
  {
   "cell_type": "code",
   "execution_count": 57,
   "metadata": {},
   "outputs": [
    {
     "name": "stdout",
     "output_type": "stream",
     "text": [
      "WARNING: Your filename has more than two extensions: ['.TP53', '.channel_1to32', '.counts_per_cell20000', '.regress_out_vbc', '.analysis', '.h5ad'].\n",
      "Only considering the two last: ['.analysis', '.h5ad'].\n",
      "WARNING: Your filename has more than two extensions: ['.TP53', '.channel_1to32', '.counts_per_cell20000', '.regress_out_vbc', '.analysis', '.h5ad'].\n",
      "Only considering the two last: ['.analysis', '.h5ad'].\n"
     ]
    },
    {
     "data": {
      "text/plain": [
       "AnnData object with n_obs × n_vars = 162314 × 1224 \n",
       "    obs: 'TP53_A159P', 'TP53_A159V', 'TP53_C135F', 'TP53_C135Y', 'TP53_C141Y', 'TP53_C176F', 'TP53_C176Y', 'TP53_C238F', 'TP53_C238Y', 'TP53_C242F', 'TP53_C275F', 'TP53_C275Y', 'TP53_C277F', 'TP53_E271K', 'TP53_E285K', 'TP53_E286K', 'TP53_G105C', 'TP53_G154V', 'TP53_G244C', 'TP53_G245C', 'TP53_G245D', 'TP53_G245S', 'TP53_G245V', 'TP53_G266E', 'TP53_G266R', 'TP53_G266V', 'TP53_H179R', 'TP53_H179Y', 'TP53_H193L', 'TP53_H193R', 'TP53_H193Y', 'TP53_H214R', 'TP53_I195T', 'TP53_K132N', 'TP53_K132R', 'TP53_L194R', 'TP53_M237I', 'TP53_M246V', 'TP53_P151S', 'TP53_P152L', 'TP53_P250L', 'TP53_P278L', 'TP53_P278S', 'TP53_R110L', 'TP53_R158H', 'TP53_R158L', 'TP53_R175H', 'TP53_R213Q', 'TP53_R248L', 'TP53_R248W', 'TP53_R249M', 'TP53_R249S', 'TP53_R273C', 'TP53_R273H', 'TP53_R273L', 'TP53_R280K', 'TP53_R280T', 'TP53_R282W', 'TP53_R337C', 'TP53_R337L', 'TP53_S127F', 'TP53_S241C', 'TP53_S241F', 'TP53_V157F', 'TP53_V173L', 'TP53_V173M', 'TP53_V216M', 'TP53_V272L', 'TP53_V272M', 'TP53_WT', 'TP53_Y163C', 'TP53_Y205C', 'TP53_Y220C', 'TP53_Y234C', 'TP53_Y236C', 'TP53_p.Al83Vl', 'TP53_p.Ar158Ar', 'TP53_p.Asp21Asp', 'TP53_p.Gln5Ar', 'TP53_p.Glu2Glu', 'TP53_p.Glu339Lys', 'TP53_p.Gly360Vl', 'TP53_p.Leu344Leu', 'TP53_p.Pro153Pro', 'TP53_p.Pro222Pro', 'TP53_p.Pro295Pro', 'TP53_p.Pro301Pro', 'TP53_p.Pro359Pro', 'TP53_p.Pro36Pro', 'TP53_p.Pro47Pro', 'TP53_p.Pro47Ser', 'TP53_p.Pro58Ar', 'TP53_p.Ser366Al', 'TP53_p.Thr118Thr', 'TP53_p.Thr170Thr', 'TP53_p.Thr312Ser', 'TP53_p.Tyr107His', 'TP53_p.Vl216Vl', 'TP53_p.Vl31Ile', 'batch', 'known', 'mut.std', 'mutant', 'n_counts', 'n_genes', 'percent_mito', 'n_counts_downsampled', 'n_counts_original', 'uninfected', 'vbc.counts', 'batch_num18', 'batch_num8', 'batch_num25', 'batch_num22', 'batch_num24', 'batch_num28', 'batch_num27', 'batch_num23', 'batch_num17', 'batch_num19', 'batch_num12', 'batch_num31', 'batch_num5', 'batch_num15', 'batch_num7', 'batch_num9', 'batch_num4', 'batch_num2', 'batch_num13', 'batch_num6', 'batch_num26', 'batch_num16', 'batch_num10', 'batch_num1', 'batch_num29', 'batch_num0', 'batch_num11', 'batch_num30', 'batch_num3', 'batch_num14', 'batch_num21', 'batch_num20', 'louvain'\n",
       "    var: 'n_cells', 'highly_variable', 'means', 'dispersions', 'dispersions_norm', 'mean', 'std'\n",
       "    uns: 'louvain', 'neighbors', 'pca', 'umap'\n",
       "    obsm: 'X_pca', 'X_umap'\n",
       "    varm: 'PCs'\n",
       "    obsp: 'connectivities', 'distances'"
      ]
     },
     "execution_count": 57,
     "metadata": {},
     "output_type": "execute_result"
    }
   ],
   "source": [
    "adata=sc.read(SUBSAMPLED+'.channel_1to32.counts_per_cell'+str(counts)+'.regress_out_vbc.analysis.h5ad',cache=False)\n",
    "adata"
   ]
  },
  {
   "cell_type": "code",
   "execution_count": 14,
   "metadata": {},
   "outputs": [
    {
     "data": {
      "text/plain": [
       "<162314x162314 sparse matrix of type '<class 'numpy.float32'>'\n",
       "\twith 3916024 stored elements in Compressed Sparse Row format>"
      ]
     },
     "execution_count": 14,
     "metadata": {},
     "output_type": "execute_result"
    }
   ],
   "source": [
    "adata.obsp['connectivities']"
   ]
  },
  {
   "cell_type": "code",
   "execution_count": 6,
   "metadata": {},
   "outputs": [
    {
     "name": "stdout",
     "output_type": "stream",
     "text": [
      "warning: fewer cells than needed for P36P. skipping subsampling\n",
      "warning: fewer cells than needed for P151S. skipping subsampling\n",
      "warning: fewer cells than needed for C238F. skipping subsampling\n",
      "warning: fewer cells than needed for D21D. skipping subsampling\n",
      "warning: fewer cells than needed for C238Y. skipping subsampling\n",
      "warning: fewer cells than needed for R337L. skipping subsampling\n",
      "warning: fewer cells than needed for P58R. skipping subsampling\n",
      "warning: fewer cells than needed for R213Q. skipping subsampling\n",
      "warning: fewer cells than needed for G360V. skipping subsampling\n",
      "warning: fewer cells than needed for H179R. skipping subsampling\n",
      "warning: fewer cells than needed for P301P. skipping subsampling\n",
      "warning: fewer cells than needed for S241C. skipping subsampling\n",
      "warning: fewer cells than needed for E339K. skipping subsampling\n",
      "warning: fewer cells than needed for P47P. skipping subsampling\n",
      "warning: fewer cells than needed for Y234C. skipping subsampling\n",
      "warning: fewer cells than needed for Y205C. skipping subsampling\n",
      "warning: fewer cells than needed for C176Y. skipping subsampling\n",
      "warning: fewer cells than needed for R280K. skipping subsampling\n",
      "warning: fewer cells than needed for P152L. skipping subsampling\n",
      "warning: fewer cells than needed for H214R. skipping subsampling\n",
      "warning: fewer cells than needed for P250L. skipping subsampling\n",
      "warning: fewer cells than needed for H193R. skipping subsampling\n",
      "warning: fewer cells than needed for P153P. skipping subsampling\n",
      "warning: fewer cells than needed for Y163C. skipping subsampling\n",
      "warning: fewer cells than needed for R249M. skipping subsampling\n",
      "warning: fewer cells than needed for R248W. skipping subsampling\n",
      "warning: fewer cells than needed for R273H. skipping subsampling\n",
      "warning: fewer cells than needed for P295P. skipping subsampling\n",
      "warning: fewer cells than needed for C135Y. skipping subsampling\n",
      "warning: fewer cells than needed for T312S. skipping subsampling\n",
      "warning: fewer cells than needed for R337C. skipping subsampling\n",
      "warning: fewer cells than needed for R273L. skipping subsampling\n",
      "warning: fewer cells than needed for Q5R. skipping subsampling\n",
      "warning: fewer cells than needed for WT. skipping subsampling\n",
      "warning: fewer cells than needed for P47S. skipping subsampling\n",
      "warning: fewer cells than needed for V31I. skipping subsampling\n",
      "warning: fewer cells than needed for C242F. skipping subsampling\n",
      "warning: fewer cells than needed for S366A. skipping subsampling\n",
      "warning: fewer cells than needed for T170T. skipping subsampling\n",
      "warning: fewer cells than needed for V216V. skipping subsampling\n",
      "warning: fewer cells than needed for P222P. skipping subsampling\n",
      "warning: fewer cells than needed for Y220C. skipping subsampling\n",
      "warning: fewer cells than needed for C176F. skipping subsampling\n",
      "warning: fewer cells than needed for C141Y. skipping subsampling\n",
      "warning: fewer cells than needed for G245C. skipping subsampling\n",
      "warning: fewer cells than needed for V157F. skipping subsampling\n",
      "warning: fewer cells than needed for R158R. skipping subsampling\n",
      "warning: fewer cells than needed for A83V. skipping subsampling\n",
      "warning: fewer cells than needed for L344L. skipping subsampling\n",
      "warning: fewer cells than needed for G154V. skipping subsampling\n",
      "warning: fewer cells than needed for V173M. skipping subsampling\n",
      "warning: fewer cells than needed for E2E. skipping subsampling\n",
      "warning: fewer cells than needed for T118T. skipping subsampling\n",
      "warning: fewer cells than needed for K132R. skipping subsampling\n",
      "warning: fewer cells than needed for V272L. skipping subsampling\n"
     ]
    }
   ],
   "source": [
    "adata2=perturb.pp.subsample_cells(adata,1000,'mut.std')"
   ]
  },
  {
   "cell_type": "code",
   "execution_count": 7,
   "metadata": {},
   "outputs": [
    {
     "name": "stdout",
     "output_type": "stream",
     "text": [
      "Index(['ACGCCGATCAGGATCT-1-0-0', 'ACGGAGATCCAGAAGG-1-0-0',\n",
      "       'AGACGTTGTGTGCGTC-1-0-0', 'CAGCATAGTATCAGTC-1-0-0',\n",
      "       'CGCCAAGTCATATCGG-1-0-0'],\n",
      "      dtype='object')\n"
     ]
    }
   ],
   "source": [
    "cells=adata2.obs_names\n",
    "print(cells[:5])"
   ]
  },
  {
   "cell_type": "code",
   "execution_count": 10,
   "metadata": {},
   "outputs": [],
   "source": [
    "del adata.obsp[\"connectivities\"]"
   ]
  },
  {
   "cell_type": "code",
   "execution_count": 12,
   "metadata": {},
   "outputs": [],
   "source": [
    "del adata.obsp[\"distances\"]"
   ]
  },
  {
   "cell_type": "code",
   "execution_count": 14,
   "metadata": {},
   "outputs": [
    {
     "data": {
      "text/plain": [
       "AnnData object with n_obs × n_vars = 85778 × 1224 \n",
       "    obs: 'TP53_A159P', 'TP53_A159V', 'TP53_C135F', 'TP53_C135Y', 'TP53_C141Y', 'TP53_C176F', 'TP53_C176Y', 'TP53_C238F', 'TP53_C238Y', 'TP53_C242F', 'TP53_C275F', 'TP53_C275Y', 'TP53_C277F', 'TP53_E271K', 'TP53_E285K', 'TP53_E286K', 'TP53_G105C', 'TP53_G154V', 'TP53_G244C', 'TP53_G245C', 'TP53_G245D', 'TP53_G245S', 'TP53_G245V', 'TP53_G266E', 'TP53_G266R', 'TP53_G266V', 'TP53_H179R', 'TP53_H179Y', 'TP53_H193L', 'TP53_H193R', 'TP53_H193Y', 'TP53_H214R', 'TP53_I195T', 'TP53_K132N', 'TP53_K132R', 'TP53_L194R', 'TP53_M237I', 'TP53_M246V', 'TP53_P151S', 'TP53_P152L', 'TP53_P250L', 'TP53_P278L', 'TP53_P278S', 'TP53_R110L', 'TP53_R158H', 'TP53_R158L', 'TP53_R175H', 'TP53_R213Q', 'TP53_R248L', 'TP53_R248W', 'TP53_R249M', 'TP53_R249S', 'TP53_R273C', 'TP53_R273H', 'TP53_R273L', 'TP53_R280K', 'TP53_R280T', 'TP53_R282W', 'TP53_R337C', 'TP53_R337L', 'TP53_S127F', 'TP53_S241C', 'TP53_S241F', 'TP53_V157F', 'TP53_V173L', 'TP53_V173M', 'TP53_V216M', 'TP53_V272L', 'TP53_V272M', 'TP53_WT', 'TP53_Y163C', 'TP53_Y205C', 'TP53_Y220C', 'TP53_Y234C', 'TP53_Y236C', 'TP53_p.Al83Vl', 'TP53_p.Ar158Ar', 'TP53_p.Asp21Asp', 'TP53_p.Gln5Ar', 'TP53_p.Glu2Glu', 'TP53_p.Glu339Lys', 'TP53_p.Gly360Vl', 'TP53_p.Leu344Leu', 'TP53_p.Pro153Pro', 'TP53_p.Pro222Pro', 'TP53_p.Pro295Pro', 'TP53_p.Pro301Pro', 'TP53_p.Pro359Pro', 'TP53_p.Pro36Pro', 'TP53_p.Pro47Pro', 'TP53_p.Pro47Ser', 'TP53_p.Pro58Ar', 'TP53_p.Ser366Al', 'TP53_p.Thr118Thr', 'TP53_p.Thr170Thr', 'TP53_p.Thr312Ser', 'TP53_p.Tyr107His', 'TP53_p.Vl216Vl', 'TP53_p.Vl31Ile', 'batch', 'known', 'mut.std', 'mutant', 'n_counts', 'n_genes', 'percent_mito', 'n_counts_downsampled', 'n_counts_original', 'uninfected', 'vbc.counts', 'batch_num18', 'batch_num8', 'batch_num25', 'batch_num22', 'batch_num24', 'batch_num28', 'batch_num27', 'batch_num23', 'batch_num17', 'batch_num19', 'batch_num12', 'batch_num31', 'batch_num5', 'batch_num15', 'batch_num7', 'batch_num9', 'batch_num4', 'batch_num2', 'batch_num13', 'batch_num6', 'batch_num26', 'batch_num16', 'batch_num10', 'batch_num1', 'batch_num29', 'batch_num0', 'batch_num11', 'batch_num30', 'batch_num3', 'batch_num14', 'batch_num21', 'batch_num20', 'louvain'\n",
       "    var: 'n_cells', 'highly_variable', 'means', 'dispersions', 'dispersions_norm', 'mean', 'std'\n",
       "    uns: 'louvain', 'neighbors', 'pca', 'umap'\n",
       "    obsm: 'X_pca', 'X_umap'\n",
       "    varm: 'PCs'"
      ]
     },
     "execution_count": 14,
     "metadata": {},
     "output_type": "execute_result"
    }
   ],
   "source": [
    "adata3=adata[list(cells),:].copy()\n",
    "adata3"
   ]
  },
  {
   "cell_type": "code",
   "execution_count": 15,
   "metadata": {},
   "outputs": [
    {
     "name": "stdout",
     "output_type": "stream",
     "text": [
      "warning: fewer cells than needed for P36P. skipping subsampling\n",
      "warning: fewer cells than needed for P151S. skipping subsampling\n",
      "warning: fewer cells than needed for C238F. skipping subsampling\n",
      "warning: fewer cells than needed for D21D. skipping subsampling\n",
      "warning: fewer cells than needed for C238Y. skipping subsampling\n",
      "warning: fewer cells than needed for R337L. skipping subsampling\n",
      "warning: fewer cells than needed for P58R. skipping subsampling\n",
      "warning: fewer cells than needed for R213Q. skipping subsampling\n",
      "warning: fewer cells than needed for G360V. skipping subsampling\n",
      "warning: fewer cells than needed for H179R. skipping subsampling\n",
      "warning: fewer cells than needed for P301P. skipping subsampling\n",
      "warning: fewer cells than needed for S241C. skipping subsampling\n",
      "warning: fewer cells than needed for E339K. skipping subsampling\n",
      "warning: fewer cells than needed for P47P. skipping subsampling\n",
      "warning: fewer cells than needed for Y234C. skipping subsampling\n",
      "warning: fewer cells than needed for Y205C. skipping subsampling\n",
      "warning: fewer cells than needed for C176Y. skipping subsampling\n",
      "warning: fewer cells than needed for R280K. skipping subsampling\n",
      "warning: fewer cells than needed for P152L. skipping subsampling\n",
      "warning: fewer cells than needed for H214R. skipping subsampling\n",
      "warning: fewer cells than needed for P250L. skipping subsampling\n",
      "warning: fewer cells than needed for H193R. skipping subsampling\n",
      "warning: fewer cells than needed for P153P. skipping subsampling\n",
      "warning: fewer cells than needed for Y163C. skipping subsampling\n",
      "warning: fewer cells than needed for R249M. skipping subsampling\n",
      "warning: fewer cells than needed for R248W. skipping subsampling\n",
      "warning: fewer cells than needed for R273H. skipping subsampling\n",
      "warning: fewer cells than needed for P295P. skipping subsampling\n",
      "warning: fewer cells than needed for C135Y. skipping subsampling\n",
      "warning: fewer cells than needed for T312S. skipping subsampling\n",
      "warning: fewer cells than needed for R337C. skipping subsampling\n",
      "warning: fewer cells than needed for R273L. skipping subsampling\n",
      "warning: fewer cells than needed for Q5R. skipping subsampling\n",
      "warning: fewer cells than needed for WT. skipping subsampling\n",
      "warning: fewer cells than needed for P47S. skipping subsampling\n",
      "warning: fewer cells than needed for V31I. skipping subsampling\n",
      "warning: fewer cells than needed for C242F. skipping subsampling\n",
      "warning: fewer cells than needed for S366A. skipping subsampling\n",
      "warning: fewer cells than needed for T170T. skipping subsampling\n",
      "warning: fewer cells than needed for V216V. skipping subsampling\n",
      "warning: fewer cells than needed for P222P. skipping subsampling\n",
      "warning: fewer cells than needed for Y220C. skipping subsampling\n",
      "warning: fewer cells than needed for C176F. skipping subsampling\n",
      "warning: fewer cells than needed for C141Y. skipping subsampling\n",
      "warning: fewer cells than needed for G245C. skipping subsampling\n",
      "warning: fewer cells than needed for V157F. skipping subsampling\n",
      "warning: fewer cells than needed for R158R. skipping subsampling\n",
      "warning: fewer cells than needed for A83V. skipping subsampling\n",
      "warning: fewer cells than needed for L344L. skipping subsampling\n",
      "warning: fewer cells than needed for G154V. skipping subsampling\n",
      "warning: fewer cells than needed for V173M. skipping subsampling\n",
      "warning: fewer cells than needed for E2E. skipping subsampling\n",
      "warning: fewer cells than needed for T118T. skipping subsampling\n",
      "warning: fewer cells than needed for K132R. skipping subsampling\n",
      "warning: fewer cells than needed for V272L. skipping subsampling\n"
     ]
    },
    {
     "data": {
      "text/plain": [
       "View of AnnData object with n_obs × n_vars = 85778 × 1224 \n",
       "    obs: 'TP53_A159P', 'TP53_A159V', 'TP53_C135F', 'TP53_C135Y', 'TP53_C141Y', 'TP53_C176F', 'TP53_C176Y', 'TP53_C238F', 'TP53_C238Y', 'TP53_C242F', 'TP53_C275F', 'TP53_C275Y', 'TP53_C277F', 'TP53_E271K', 'TP53_E285K', 'TP53_E286K', 'TP53_G105C', 'TP53_G154V', 'TP53_G244C', 'TP53_G245C', 'TP53_G245D', 'TP53_G245S', 'TP53_G245V', 'TP53_G266E', 'TP53_G266R', 'TP53_G266V', 'TP53_H179R', 'TP53_H179Y', 'TP53_H193L', 'TP53_H193R', 'TP53_H193Y', 'TP53_H214R', 'TP53_I195T', 'TP53_K132N', 'TP53_K132R', 'TP53_L194R', 'TP53_M237I', 'TP53_M246V', 'TP53_P151S', 'TP53_P152L', 'TP53_P250L', 'TP53_P278L', 'TP53_P278S', 'TP53_R110L', 'TP53_R158H', 'TP53_R158L', 'TP53_R175H', 'TP53_R213Q', 'TP53_R248L', 'TP53_R248W', 'TP53_R249M', 'TP53_R249S', 'TP53_R273C', 'TP53_R273H', 'TP53_R273L', 'TP53_R280K', 'TP53_R280T', 'TP53_R282W', 'TP53_R337C', 'TP53_R337L', 'TP53_S127F', 'TP53_S241C', 'TP53_S241F', 'TP53_V157F', 'TP53_V173L', 'TP53_V173M', 'TP53_V216M', 'TP53_V272L', 'TP53_V272M', 'TP53_WT', 'TP53_Y163C', 'TP53_Y205C', 'TP53_Y220C', 'TP53_Y234C', 'TP53_Y236C', 'TP53_p.Al83Vl', 'TP53_p.Ar158Ar', 'TP53_p.Asp21Asp', 'TP53_p.Gln5Ar', 'TP53_p.Glu2Glu', 'TP53_p.Glu339Lys', 'TP53_p.Gly360Vl', 'TP53_p.Leu344Leu', 'TP53_p.Pro153Pro', 'TP53_p.Pro222Pro', 'TP53_p.Pro295Pro', 'TP53_p.Pro301Pro', 'TP53_p.Pro359Pro', 'TP53_p.Pro36Pro', 'TP53_p.Pro47Pro', 'TP53_p.Pro47Ser', 'TP53_p.Pro58Ar', 'TP53_p.Ser366Al', 'TP53_p.Thr118Thr', 'TP53_p.Thr170Thr', 'TP53_p.Thr312Ser', 'TP53_p.Tyr107His', 'TP53_p.Vl216Vl', 'TP53_p.Vl31Ile', 'batch', 'known', 'mut.std', 'mutant', 'n_counts', 'n_genes', 'percent_mito', 'n_counts_downsampled', 'n_counts_original', 'uninfected', 'vbc.counts', 'batch_num18', 'batch_num8', 'batch_num25', 'batch_num22', 'batch_num24', 'batch_num28', 'batch_num27', 'batch_num23', 'batch_num17', 'batch_num19', 'batch_num12', 'batch_num31', 'batch_num5', 'batch_num15', 'batch_num7', 'batch_num9', 'batch_num4', 'batch_num2', 'batch_num13', 'batch_num6', 'batch_num26', 'batch_num16', 'batch_num10', 'batch_num1', 'batch_num29', 'batch_num0', 'batch_num11', 'batch_num30', 'batch_num3', 'batch_num14', 'batch_num21', 'batch_num20', 'louvain'\n",
       "    var: 'n_cells', 'highly_variable', 'means', 'dispersions', 'dispersions_norm', 'mean', 'std'\n",
       "    uns: 'louvain', 'neighbors', 'pca', 'umap'\n",
       "    obsm: 'X_pca', 'X_umap'\n",
       "    varm: 'PCs'"
      ]
     },
     "execution_count": 15,
     "metadata": {},
     "output_type": "execute_result"
    }
   ],
   "source": [
    "adata=perturb.pp.subsample_cells(adata3,1000,'mut.std')\n",
    "adata"
   ]
  },
  {
   "cell_type": "code",
   "execution_count": 16,
   "metadata": {},
   "outputs": [],
   "source": [
    "adata._init_as_actual(adata.copy())"
   ]
  },
  {
   "cell_type": "code",
   "execution_count": 17,
   "metadata": {},
   "outputs": [
    {
     "data": {
      "text/plain": [
       "AnnData object with n_obs × n_vars = 85778 × 1224 \n",
       "    obs: 'TP53_A159P', 'TP53_A159V', 'TP53_C135F', 'TP53_C135Y', 'TP53_C141Y', 'TP53_C176F', 'TP53_C176Y', 'TP53_C238F', 'TP53_C238Y', 'TP53_C242F', 'TP53_C275F', 'TP53_C275Y', 'TP53_C277F', 'TP53_E271K', 'TP53_E285K', 'TP53_E286K', 'TP53_G105C', 'TP53_G154V', 'TP53_G244C', 'TP53_G245C', 'TP53_G245D', 'TP53_G245S', 'TP53_G245V', 'TP53_G266E', 'TP53_G266R', 'TP53_G266V', 'TP53_H179R', 'TP53_H179Y', 'TP53_H193L', 'TP53_H193R', 'TP53_H193Y', 'TP53_H214R', 'TP53_I195T', 'TP53_K132N', 'TP53_K132R', 'TP53_L194R', 'TP53_M237I', 'TP53_M246V', 'TP53_P151S', 'TP53_P152L', 'TP53_P250L', 'TP53_P278L', 'TP53_P278S', 'TP53_R110L', 'TP53_R158H', 'TP53_R158L', 'TP53_R175H', 'TP53_R213Q', 'TP53_R248L', 'TP53_R248W', 'TP53_R249M', 'TP53_R249S', 'TP53_R273C', 'TP53_R273H', 'TP53_R273L', 'TP53_R280K', 'TP53_R280T', 'TP53_R282W', 'TP53_R337C', 'TP53_R337L', 'TP53_S127F', 'TP53_S241C', 'TP53_S241F', 'TP53_V157F', 'TP53_V173L', 'TP53_V173M', 'TP53_V216M', 'TP53_V272L', 'TP53_V272M', 'TP53_WT', 'TP53_Y163C', 'TP53_Y205C', 'TP53_Y220C', 'TP53_Y234C', 'TP53_Y236C', 'TP53_p.Al83Vl', 'TP53_p.Ar158Ar', 'TP53_p.Asp21Asp', 'TP53_p.Gln5Ar', 'TP53_p.Glu2Glu', 'TP53_p.Glu339Lys', 'TP53_p.Gly360Vl', 'TP53_p.Leu344Leu', 'TP53_p.Pro153Pro', 'TP53_p.Pro222Pro', 'TP53_p.Pro295Pro', 'TP53_p.Pro301Pro', 'TP53_p.Pro359Pro', 'TP53_p.Pro36Pro', 'TP53_p.Pro47Pro', 'TP53_p.Pro47Ser', 'TP53_p.Pro58Ar', 'TP53_p.Ser366Al', 'TP53_p.Thr118Thr', 'TP53_p.Thr170Thr', 'TP53_p.Thr312Ser', 'TP53_p.Tyr107His', 'TP53_p.Vl216Vl', 'TP53_p.Vl31Ile', 'batch', 'known', 'mut.std', 'mutant', 'n_counts', 'n_genes', 'percent_mito', 'n_counts_downsampled', 'n_counts_original', 'uninfected', 'vbc.counts', 'batch_num18', 'batch_num8', 'batch_num25', 'batch_num22', 'batch_num24', 'batch_num28', 'batch_num27', 'batch_num23', 'batch_num17', 'batch_num19', 'batch_num12', 'batch_num31', 'batch_num5', 'batch_num15', 'batch_num7', 'batch_num9', 'batch_num4', 'batch_num2', 'batch_num13', 'batch_num6', 'batch_num26', 'batch_num16', 'batch_num10', 'batch_num1', 'batch_num29', 'batch_num0', 'batch_num11', 'batch_num30', 'batch_num3', 'batch_num14', 'batch_num21', 'batch_num20', 'louvain'\n",
       "    var: 'n_cells', 'highly_variable', 'means', 'dispersions', 'dispersions_norm', 'mean', 'std'\n",
       "    uns: 'louvain', 'neighbors', 'pca', 'umap'\n",
       "    obsm: 'X_pca', 'X_umap'\n",
       "    varm: 'PCs'"
      ]
     },
     "execution_count": 17,
     "metadata": {},
     "output_type": "execute_result"
    }
   ],
   "source": [
    "adata"
   ]
  },
  {
   "cell_type": "code",
   "execution_count": 19,
   "metadata": {},
   "outputs": [],
   "source": [
    "new_mutstd=[]\n",
    "for i in range(len(adata.obs_names)):\n",
    "    muthere=adata.obs['mut.std'][i]\n",
    "    if muthere=='uninfected':\n",
    "        muthere='unassigned'\n",
    "    new_mutstd.append(muthere)\n",
    "adata.obs['mut.std']=new_mutstd"
   ]
  },
  {
   "cell_type": "code",
   "execution_count": 20,
   "metadata": {},
   "outputs": [
    {
     "name": "stderr",
     "output_type": "stream",
     "text": [
      "... storing 'mut.std' as categorical\n"
     ]
    }
   ],
   "source": [
    "adata.write(SUBSAMPLED+'.channel_1to32.counts_per_cell'+str(counts)+'.regress_out_vbc.analysis.1000cells.h5ad')"
   ]
  },
  {
   "cell_type": "code",
   "execution_count": 58,
   "metadata": {},
   "outputs": [
    {
     "name": "stdout",
     "output_type": "stream",
     "text": [
      "WARNING: Your filename has more than two extensions: ['.TP53', '.channel_1to32', '.counts_per_cell20000', '.regress_out_vbc', '.analysis', '.1000cells', '.h5ad'].\n",
      "Only considering the two last: ['.1000cells', '.h5ad'].\n",
      "WARNING: Your filename has more than two extensions: ['.TP53', '.channel_1to32', '.counts_per_cell20000', '.regress_out_vbc', '.analysis', '.1000cells', '.h5ad'].\n",
      "Only considering the two last: ['.1000cells', '.h5ad'].\n"
     ]
    },
    {
     "data": {
      "text/plain": [
       "AnnData object with n_obs × n_vars = 85778 × 1224 \n",
       "    obs: 'TP53_A159P', 'TP53_A159V', 'TP53_C135F', 'TP53_C135Y', 'TP53_C141Y', 'TP53_C176F', 'TP53_C176Y', 'TP53_C238F', 'TP53_C238Y', 'TP53_C242F', 'TP53_C275F', 'TP53_C275Y', 'TP53_C277F', 'TP53_E271K', 'TP53_E285K', 'TP53_E286K', 'TP53_G105C', 'TP53_G154V', 'TP53_G244C', 'TP53_G245C', 'TP53_G245D', 'TP53_G245S', 'TP53_G245V', 'TP53_G266E', 'TP53_G266R', 'TP53_G266V', 'TP53_H179R', 'TP53_H179Y', 'TP53_H193L', 'TP53_H193R', 'TP53_H193Y', 'TP53_H214R', 'TP53_I195T', 'TP53_K132N', 'TP53_K132R', 'TP53_L194R', 'TP53_M237I', 'TP53_M246V', 'TP53_P151S', 'TP53_P152L', 'TP53_P250L', 'TP53_P278L', 'TP53_P278S', 'TP53_R110L', 'TP53_R158H', 'TP53_R158L', 'TP53_R175H', 'TP53_R213Q', 'TP53_R248L', 'TP53_R248W', 'TP53_R249M', 'TP53_R249S', 'TP53_R273C', 'TP53_R273H', 'TP53_R273L', 'TP53_R280K', 'TP53_R280T', 'TP53_R282W', 'TP53_R337C', 'TP53_R337L', 'TP53_S127F', 'TP53_S241C', 'TP53_S241F', 'TP53_V157F', 'TP53_V173L', 'TP53_V173M', 'TP53_V216M', 'TP53_V272L', 'TP53_V272M', 'TP53_WT', 'TP53_Y163C', 'TP53_Y205C', 'TP53_Y220C', 'TP53_Y234C', 'TP53_Y236C', 'TP53_p.Al83Vl', 'TP53_p.Ar158Ar', 'TP53_p.Asp21Asp', 'TP53_p.Gln5Ar', 'TP53_p.Glu2Glu', 'TP53_p.Glu339Lys', 'TP53_p.Gly360Vl', 'TP53_p.Leu344Leu', 'TP53_p.Pro153Pro', 'TP53_p.Pro222Pro', 'TP53_p.Pro295Pro', 'TP53_p.Pro301Pro', 'TP53_p.Pro359Pro', 'TP53_p.Pro36Pro', 'TP53_p.Pro47Pro', 'TP53_p.Pro47Ser', 'TP53_p.Pro58Ar', 'TP53_p.Ser366Al', 'TP53_p.Thr118Thr', 'TP53_p.Thr170Thr', 'TP53_p.Thr312Ser', 'TP53_p.Tyr107His', 'TP53_p.Vl216Vl', 'TP53_p.Vl31Ile', 'batch', 'known', 'mut.std', 'mutant', 'n_counts', 'n_genes', 'percent_mito', 'n_counts_downsampled', 'n_counts_original', 'uninfected', 'vbc.counts', 'batch_num18', 'batch_num8', 'batch_num25', 'batch_num22', 'batch_num24', 'batch_num28', 'batch_num27', 'batch_num23', 'batch_num17', 'batch_num19', 'batch_num12', 'batch_num31', 'batch_num5', 'batch_num15', 'batch_num7', 'batch_num9', 'batch_num4', 'batch_num2', 'batch_num13', 'batch_num6', 'batch_num26', 'batch_num16', 'batch_num10', 'batch_num1', 'batch_num29', 'batch_num0', 'batch_num11', 'batch_num30', 'batch_num3', 'batch_num14', 'batch_num21', 'batch_num20', 'louvain'\n",
       "    var: 'n_cells', 'highly_variable', 'means', 'dispersions', 'dispersions_norm', 'mean', 'std'\n",
       "    uns: 'louvain', 'neighbors', 'pca', 'umap'\n",
       "    obsm: 'X_pca', 'X_umap'\n",
       "    varm: 'PCs'"
      ]
     },
     "execution_count": 58,
     "metadata": {},
     "output_type": "execute_result"
    }
   ],
   "source": [
    "adata=sc.read(SUBSAMPLED+'.channel_1to32.counts_per_cell'+str(counts)+'.regress_out_vbc.analysis.1000cells.h5ad',cache=False)\n",
    "adata"
   ]
  },
  {
   "cell_type": "code",
   "execution_count": null,
   "metadata": {},
   "outputs": [],
   "source": []
  }
 ],
 "metadata": {
  "kernelspec": {
   "display_name": "Python 3",
   "language": "python",
   "name": "python3"
  },
  "language_info": {
   "codemirror_mode": {
    "name": "ipython",
    "version": 3
   },
   "file_extension": ".py",
   "mimetype": "text/x-python",
   "name": "python",
   "nbconvert_exporter": "python",
   "pygments_lexer": "ipython3",
   "version": "3.6.8"
  }
 },
 "nbformat": 4,
 "nbformat_minor": 2
}
