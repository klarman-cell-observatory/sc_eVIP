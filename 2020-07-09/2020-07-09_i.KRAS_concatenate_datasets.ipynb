{
 "cells": [
  {
   "cell_type": "code",
   "execution_count": 1,
   "metadata": {},
   "outputs": [
    {
     "name": "stderr",
     "output_type": "stream",
     "text": [
      "/ahg/regevdata/users/oursu/software/anaconda3/lib/python3.6/site-packages/scanpy/api/__init__.py:7: FutureWarning: \n",
      "\n",
      "In a future version of Scanpy, `scanpy.api` will be removed.\n",
      "Simply use `import scanpy as sc` and `import scanpy.external as sce` instead.\n",
      "\n",
      "  FutureWarning,\n"
     ]
    },
    {
     "name": "stdout",
     "output_type": "stream",
     "text": [
      "scanpy==1.5.1 anndata==0.7.1 umap==0.4.4 numpy==1.17.2 scipy==1.4.1 pandas==0.24.2 scikit-learn==0.22 statsmodels==0.11.0 python-igraph==0.7.1 louvain==0.6.1 leidenalg==0.8.1\n"
     ]
    }
   ],
   "source": [
    "import numpy as np\n",
    "import pandas as pd\n",
    "import scanpy.api as sc\n",
    "%matplotlib inline\n",
    "import matplotlib.pyplot as plt\n",
    "\n",
    "import sys \n",
    "import inspect\n",
    "import seaborn as sns\n",
    "import os\n",
    "\n",
    "sc.settings.verbosity = 3  # verbosity: errors (0), warnings (1), info (2), hints (3)\n",
    "sc.settings.set_figure_params(dpi=80, color_map='viridis')\n",
    "sc.logging.print_versions()"
   ]
  },
  {
   "cell_type": "code",
   "execution_count": 2,
   "metadata": {},
   "outputs": [],
   "source": [
    "PROTEIN='KRAS'\n",
    "DATA='/ahg/regevdata/projects/bn10_cancer_variants/bn10_oana_2018-06-22/results/2018-06-22/results/2020-07-09'\n",
    "results_prefix=DATA+'/'+PROTEIN+'/processed_data/A549.'+PROTEIN\n",
    "a=os.system('mkdir -p '+DATA+'/'+PROTEIN+'/processed_data')"
   ]
  },
  {
   "cell_type": "code",
   "execution_count": 3,
   "metadata": {},
   "outputs": [
    {
     "name": "stdout",
     "output_type": "stream",
     "text": [
      "['A549_KRAS_1', 'A549_KRAS_2', 'A549_KRAS_3', 'A549_KRAS_4', 'A549_KRAS_5', 'A549_KRAS_6', 'A549_KRAS_7', 'A549_KRAS_8', 'A549_KRAS_9', 'A549_KRAS_10', 'A549_KRAS_11', 'A549_KRAS_12', 'A549_KRAS_13', 'A549_KRAS_14', 'A549_KRAS_15', 'A549_KRAS_16', 'A549_KRAS_17', 'A549_KRAS_18', 'A549_KRAS_19', 'A549_KRAS_20', 'A549_KRAS_21', 'A549_KRAS_22', 'A549_KRAS_23', 'A549_KRAS_24', 'A549_KRAS_25', 'A549_KRAS_26', 'A549_KRAS_27', 'A549_KRAS_28', 'A549_KRAS_29', 'A549_KRAS_30', 'A549_KRAS_31', 'A549_KRAS_32']\n",
      "A549_KRAS_1\n",
      "... reading from cache file cache/ahg-regevdata-projects-bn10_cancer_variants-bn10_oana_2018-06-22-results-2018-06-22-data-cellranger-count_local-A549_KRAS_1-A549_KRAS_1-outs-filtered_gene_bc_matrices-GRCh38-matrix.h5ad\n",
      "AnnData object with n_obs × n_vars = 6000 × 33694 \n",
      "A549_KRAS_2\n",
      "... reading from cache file cache/ahg-regevdata-projects-bn10_cancer_variants-bn10_oana_2018-06-22-results-2018-06-22-data-cellranger-count_local-A549_KRAS_2-A549_KRAS_2-outs-filtered_gene_bc_matrices-GRCh38-matrix.h5ad\n",
      "AnnData object with n_obs × n_vars = 6000 × 33694 \n",
      "A549_KRAS_3\n",
      "... reading from cache file cache/ahg-regevdata-projects-bn10_cancer_variants-bn10_oana_2018-06-22-results-2018-06-22-data-cellranger-count_local-A549_KRAS_3-A549_KRAS_3-outs-filtered_gene_bc_matrices-GRCh38-matrix.h5ad\n",
      "AnnData object with n_obs × n_vars = 6000 × 33694 \n",
      "A549_KRAS_4\n",
      "... reading from cache file cache/ahg-regevdata-projects-bn10_cancer_variants-bn10_oana_2018-06-22-results-2018-06-22-data-cellranger-count_local-A549_KRAS_4-A549_KRAS_4-outs-filtered_gene_bc_matrices-GRCh38-matrix.h5ad\n",
      "AnnData object with n_obs × n_vars = 6000 × 33694 \n",
      "A549_KRAS_5\n",
      "... reading from cache file cache/ahg-regevdata-projects-bn10_cancer_variants-bn10_oana_2018-06-22-results-2018-06-22-data-cellranger-count_local-A549_KRAS_5-A549_KRAS_5-outs-filtered_gene_bc_matrices-GRCh38-matrix.h5ad\n",
      "AnnData object with n_obs × n_vars = 6000 × 33694 \n",
      "A549_KRAS_6\n",
      "... reading from cache file cache/ahg-regevdata-projects-bn10_cancer_variants-bn10_oana_2018-06-22-results-2018-06-22-data-cellranger-count_local-A549_KRAS_6-A549_KRAS_6-outs-filtered_gene_bc_matrices-GRCh38-matrix.h5ad\n",
      "AnnData object with n_obs × n_vars = 6000 × 33694 \n",
      "A549_KRAS_7\n",
      "... reading from cache file cache/ahg-regevdata-projects-bn10_cancer_variants-bn10_oana_2018-06-22-results-2018-06-22-data-cellranger-count_local-A549_KRAS_7-A549_KRAS_7-outs-filtered_gene_bc_matrices-GRCh38-matrix.h5ad\n",
      "AnnData object with n_obs × n_vars = 6000 × 33694 \n",
      "A549_KRAS_8\n",
      "... reading from cache file cache/ahg-regevdata-projects-bn10_cancer_variants-bn10_oana_2018-06-22-results-2018-06-22-data-cellranger-count_local-A549_KRAS_8-A549_KRAS_8-outs-filtered_gene_bc_matrices-GRCh38-matrix.h5ad\n",
      "AnnData object with n_obs × n_vars = 6000 × 33694 \n",
      "A549_KRAS_9\n",
      "... reading from cache file cache/ahg-regevdata-projects-bn10_cancer_variants-bn10_oana_2018-06-22-results-2018-06-22-data-cellranger-count_local-A549_KRAS_9-A549_KRAS_9-outs-filtered_gene_bc_matrices-GRCh38-matrix.h5ad\n",
      "AnnData object with n_obs × n_vars = 6000 × 33694 \n",
      "A549_KRAS_10\n",
      "... reading from cache file cache/ahg-regevdata-projects-bn10_cancer_variants-bn10_oana_2018-06-22-results-2018-06-22-data-cellranger-count_local-A549_KRAS_10-A549_KRAS_10-outs-filtered_gene_bc_matrices-GRCh38-matrix.h5ad\n",
      "AnnData object with n_obs × n_vars = 6000 × 33694 \n",
      "A549_KRAS_11\n",
      "... reading from cache file cache/ahg-regevdata-projects-bn10_cancer_variants-bn10_oana_2018-06-22-results-2018-06-22-data-cellranger-count_local-A549_KRAS_11-A549_KRAS_11-outs-filtered_gene_bc_matrices-GRCh38-matrix.h5ad\n",
      "AnnData object with n_obs × n_vars = 6000 × 33694 \n",
      "A549_KRAS_12\n",
      "... reading from cache file cache/ahg-regevdata-projects-bn10_cancer_variants-bn10_oana_2018-06-22-results-2018-06-22-data-cellranger-count_local-A549_KRAS_12-A549_KRAS_12-outs-filtered_gene_bc_matrices-GRCh38-matrix.h5ad\n",
      "AnnData object with n_obs × n_vars = 6000 × 33694 \n",
      "A549_KRAS_13\n",
      "... reading from cache file cache/ahg-regevdata-projects-bn10_cancer_variants-bn10_oana_2018-06-22-results-2018-06-22-data-cellranger-count_local-A549_KRAS_13-A549_KRAS_13-outs-filtered_gene_bc_matrices-GRCh38-matrix.h5ad\n",
      "AnnData object with n_obs × n_vars = 6000 × 33694 \n",
      "A549_KRAS_14\n",
      "... reading from cache file cache/ahg-regevdata-projects-bn10_cancer_variants-bn10_oana_2018-06-22-results-2018-06-22-data-cellranger-count_local-A549_KRAS_14-A549_KRAS_14-outs-filtered_gene_bc_matrices-GRCh38-matrix.h5ad\n",
      "AnnData object with n_obs × n_vars = 6000 × 33694 \n",
      "A549_KRAS_15\n",
      "... reading from cache file cache/ahg-regevdata-projects-bn10_cancer_variants-bn10_oana_2018-06-22-results-2018-06-22-data-cellranger-count_local-A549_KRAS_15-A549_KRAS_15-outs-filtered_gene_bc_matrices-GRCh38-matrix.h5ad\n",
      "AnnData object with n_obs × n_vars = 6000 × 33694 \n",
      "A549_KRAS_16\n",
      "... reading from cache file cache/ahg-regevdata-projects-bn10_cancer_variants-bn10_oana_2018-06-22-results-2018-06-22-data-cellranger-count_local-A549_KRAS_16-A549_KRAS_16-outs-filtered_gene_bc_matrices-GRCh38-matrix.h5ad\n",
      "AnnData object with n_obs × n_vars = 6000 × 33694 \n",
      "A549_KRAS_17\n",
      "... reading from cache file cache/ahg-regevdata-projects-bn10_cancer_variants-bn10_oana_2018-06-22-results-2018-06-22-data-cellranger-count_local-A549_KRAS_17-A549_KRAS_17-outs-filtered_gene_bc_matrices-GRCh38-matrix.h5ad\n",
      "AnnData object with n_obs × n_vars = 6000 × 33694 \n",
      "A549_KRAS_18\n",
      "... reading from cache file cache/ahg-regevdata-projects-bn10_cancer_variants-bn10_oana_2018-06-22-results-2018-06-22-data-cellranger-count_local-A549_KRAS_18-A549_KRAS_18-outs-filtered_gene_bc_matrices-GRCh38-matrix.h5ad\n",
      "AnnData object with n_obs × n_vars = 6000 × 33694 \n",
      "A549_KRAS_19\n",
      "... reading from cache file cache/ahg-regevdata-projects-bn10_cancer_variants-bn10_oana_2018-06-22-results-2018-06-22-data-cellranger-count_local-A549_KRAS_19-A549_KRAS_19-outs-filtered_gene_bc_matrices-GRCh38-matrix.h5ad\n",
      "AnnData object with n_obs × n_vars = 6000 × 33694 \n",
      "A549_KRAS_20\n",
      "... reading from cache file cache/ahg-regevdata-projects-bn10_cancer_variants-bn10_oana_2018-06-22-results-2018-06-22-data-cellranger-count_local-A549_KRAS_20-A549_KRAS_20-outs-filtered_gene_bc_matrices-GRCh38-matrix.h5ad\n",
      "AnnData object with n_obs × n_vars = 6000 × 33694 \n",
      "A549_KRAS_21\n",
      "... reading from cache file cache/ahg-regevdata-projects-bn10_cancer_variants-bn10_oana_2018-06-22-results-2018-06-22-data-cellranger-count_local-A549_KRAS_21-A549_KRAS_21-outs-filtered_gene_bc_matrices-GRCh38-matrix.h5ad\n",
      "AnnData object with n_obs × n_vars = 6000 × 33694 \n",
      "A549_KRAS_22\n",
      "... reading from cache file cache/ahg-regevdata-projects-bn10_cancer_variants-bn10_oana_2018-06-22-results-2018-06-22-data-cellranger-count_local-A549_KRAS_22-A549_KRAS_22-outs-filtered_gene_bc_matrices-GRCh38-matrix.h5ad\n",
      "AnnData object with n_obs × n_vars = 6000 × 33694 \n",
      "A549_KRAS_23\n",
      "... reading from cache file cache/ahg-regevdata-projects-bn10_cancer_variants-bn10_oana_2018-06-22-results-2018-06-22-data-cellranger-count_local-A549_KRAS_23-A549_KRAS_23-outs-filtered_gene_bc_matrices-GRCh38-matrix.h5ad\n",
      "AnnData object with n_obs × n_vars = 6000 × 33694 \n",
      "A549_KRAS_24\n",
      "... reading from cache file cache/ahg-regevdata-projects-bn10_cancer_variants-bn10_oana_2018-06-22-results-2018-06-22-data-cellranger-count_local-A549_KRAS_24-A549_KRAS_24-outs-filtered_gene_bc_matrices-GRCh38-matrix.h5ad\n",
      "AnnData object with n_obs × n_vars = 6000 × 33694 \n",
      "A549_KRAS_25\n",
      "... reading from cache file cache/ahg-regevdata-projects-bn10_cancer_variants-bn10_oana_2018-06-22-results-2018-06-22-data-cellranger-count_local-A549_KRAS_25-A549_KRAS_25-outs-filtered_gene_bc_matrices-GRCh38-matrix.h5ad\n",
      "AnnData object with n_obs × n_vars = 6000 × 33694 \n",
      "A549_KRAS_26\n",
      "... reading from cache file cache/ahg-regevdata-projects-bn10_cancer_variants-bn10_oana_2018-06-22-results-2018-06-22-data-cellranger-count_local-A549_KRAS_26-A549_KRAS_26-outs-filtered_gene_bc_matrices-GRCh38-matrix.h5ad\n",
      "AnnData object with n_obs × n_vars = 6000 × 33694 \n",
      "A549_KRAS_27\n",
      "... reading from cache file cache/ahg-regevdata-projects-bn10_cancer_variants-bn10_oana_2018-06-22-results-2018-06-22-data-cellranger-count_local-A549_KRAS_27-A549_KRAS_27-outs-filtered_gene_bc_matrices-GRCh38-matrix.h5ad\n",
      "AnnData object with n_obs × n_vars = 6000 × 33694 \n",
      "A549_KRAS_28\n"
     ]
    },
    {
     "name": "stdout",
     "output_type": "stream",
     "text": [
      "... reading from cache file cache/ahg-regevdata-projects-bn10_cancer_variants-bn10_oana_2018-06-22-results-2018-06-22-data-cellranger-count_local-A549_KRAS_28-A549_KRAS_28-outs-filtered_gene_bc_matrices-GRCh38-matrix.h5ad\n",
      "AnnData object with n_obs × n_vars = 6000 × 33694 \n",
      "A549_KRAS_29\n",
      "... reading from cache file cache/ahg-regevdata-projects-bn10_cancer_variants-bn10_oana_2018-06-22-results-2018-06-22-data-cellranger-count_local-A549_KRAS_29-A549_KRAS_29-outs-filtered_gene_bc_matrices-GRCh38-matrix.h5ad\n",
      "AnnData object with n_obs × n_vars = 6000 × 33694 \n",
      "A549_KRAS_30\n",
      "... reading from cache file cache/ahg-regevdata-projects-bn10_cancer_variants-bn10_oana_2018-06-22-results-2018-06-22-data-cellranger-count_local-A549_KRAS_30-A549_KRAS_30-outs-filtered_gene_bc_matrices-GRCh38-matrix.h5ad\n",
      "AnnData object with n_obs × n_vars = 6000 × 33694 \n",
      "A549_KRAS_31\n",
      "... reading from cache file cache/ahg-regevdata-projects-bn10_cancer_variants-bn10_oana_2018-06-22-results-2018-06-22-data-cellranger-count_local-A549_KRAS_31-A549_KRAS_31-outs-filtered_gene_bc_matrices-GRCh38-matrix.h5ad\n",
      "AnnData object with n_obs × n_vars = 6000 × 33694 \n",
      "A549_KRAS_32\n",
      "... reading from cache file cache/ahg-regevdata-projects-bn10_cancer_variants-bn10_oana_2018-06-22-results-2018-06-22-data-cellranger-count_local-A549_KRAS_32-A549_KRAS_32-outs-filtered_gene_bc_matrices-GRCh38-matrix.h5ad\n",
      "AnnData object with n_obs × n_vars = 6000 × 33694 \n"
     ]
    }
   ],
   "source": [
    "import re\n",
    "import copy\n",
    "\n",
    "#read in 32 channels of KRAS, merge\n",
    "channels=['A549_'+PROTEIN+'_'+str(x+1) for x in range(32)]\n",
    "print(channels)\n",
    "\n",
    "general_path='/ahg/regevdata/projects/bn10_cancer_variants/bn10_oana_2018-06-22/results/2018-06-22/data/cellranger/count_local/CHANNEL/CHANNEL/outs/filtered_gene_bc_matrices/GRCh38/'\n",
    "\n",
    "adatas={}\n",
    "for channel in channels:\n",
    "    print(channel)\n",
    "    path=re.sub('CHANNEL',channel,general_path)\n",
    "    adata = sc.read(path + 'matrix.mtx', cache=True).T  # transpose the data\n",
    "    adata.var_names = pd.read_csv(path + 'genes.tsv', header=None, sep='\\t')[1]\n",
    "    adata.obs_names = pd.read_csv(path + 'barcodes.tsv', header=None)[0]\n",
    "    adata.var_names_make_unique()\n",
    "    print(adata)\n",
    "    adatas[channel]=copy.deepcopy(adata)"
   ]
  },
  {
   "cell_type": "code",
   "execution_count": 4,
   "metadata": {},
   "outputs": [],
   "source": [
    "ch1=copy.deepcopy(adatas['A549_'+PROTEIN+'_1'])\n",
    "ch2=copy.deepcopy(adatas['A549_'+PROTEIN+'_2'])\n",
    "ch3=copy.deepcopy(adatas['A549_'+PROTEIN+'_3'])\n",
    "ch4=copy.deepcopy(adatas['A549_'+PROTEIN+'_4'])\n",
    "ch5=copy.deepcopy(adatas['A549_'+PROTEIN+'_5'])\n",
    "ch6=copy.deepcopy(adatas['A549_'+PROTEIN+'_6'])\n",
    "ch7=copy.deepcopy(adatas['A549_'+PROTEIN+'_7'])\n",
    "ch8=copy.deepcopy(adatas['A549_'+PROTEIN+'_8'])\n",
    "ch9=copy.deepcopy(adatas['A549_'+PROTEIN+'_9'])\n",
    "ch10=copy.deepcopy(adatas['A549_'+PROTEIN+'_10'])\n",
    "ch11=copy.deepcopy(adatas['A549_'+PROTEIN+'_11'])\n",
    "ch12=copy.deepcopy(adatas['A549_'+PROTEIN+'_12'])\n",
    "ch13=copy.deepcopy(adatas['A549_'+PROTEIN+'_13'])\n",
    "ch14=copy.deepcopy(adatas['A549_'+PROTEIN+'_14'])\n",
    "ch15=copy.deepcopy(adatas['A549_'+PROTEIN+'_15'])\n",
    "ch16=copy.deepcopy(adatas['A549_'+PROTEIN+'_16'])\n",
    "ch17=copy.deepcopy(adatas['A549_'+PROTEIN+'_17'])\n",
    "ch18=copy.deepcopy(adatas['A549_'+PROTEIN+'_18'])\n",
    "ch19=copy.deepcopy(adatas['A549_'+PROTEIN+'_19'])\n",
    "ch20=copy.deepcopy(adatas['A549_'+PROTEIN+'_20'])\n",
    "ch21=copy.deepcopy(adatas['A549_'+PROTEIN+'_21'])\n",
    "ch22=copy.deepcopy(adatas['A549_'+PROTEIN+'_22'])\n",
    "ch23=copy.deepcopy(adatas['A549_'+PROTEIN+'_23'])\n",
    "ch24=copy.deepcopy(adatas['A549_'+PROTEIN+'_24'])\n",
    "ch25=copy.deepcopy(adatas['A549_'+PROTEIN+'_25'])\n",
    "ch26=copy.deepcopy(adatas['A549_'+PROTEIN+'_26'])\n",
    "ch27=copy.deepcopy(adatas['A549_'+PROTEIN+'_27'])\n",
    "ch28=copy.deepcopy(adatas['A549_'+PROTEIN+'_28'])\n",
    "ch29=copy.deepcopy(adatas['A549_'+PROTEIN+'_29'])\n",
    "ch30=copy.deepcopy(adatas['A549_'+PROTEIN+'_30'])\n",
    "ch31=copy.deepcopy(adatas['A549_'+PROTEIN+'_31'])\n",
    "ch32=copy.deepcopy(adatas['A549_'+PROTEIN+'_32'])"
   ]
  },
  {
   "cell_type": "code",
   "execution_count": 5,
   "metadata": {},
   "outputs": [
    {
     "data": {
      "text/plain": [
       "AnnData object with n_obs × n_vars = 192000 × 33694 \n",
       "    obs: 'batch'"
      ]
     },
     "execution_count": 5,
     "metadata": {},
     "output_type": "execute_result"
    }
   ],
   "source": [
    "a_concat=ch1.concatenate(ch2,ch3,ch4,ch5,ch6,ch7,ch8,ch9,ch10,ch11,ch12,ch13,ch14,ch15,ch16,ch17,ch18,ch19,ch20,ch21,ch22,ch23,ch24,ch25,ch26,ch27,ch28,ch29,ch30,ch31,ch32)\n",
    "a_concat"
   ]
  },
  {
   "cell_type": "code",
   "execution_count": 6,
   "metadata": {},
   "outputs": [],
   "source": [
    "a_concat.write(results_prefix+'.raw.h5ad')"
   ]
  },
  {
   "cell_type": "code",
   "execution_count": null,
   "metadata": {},
   "outputs": [],
   "source": []
  }
 ],
 "metadata": {
  "kernelspec": {
   "display_name": "Python 3",
   "language": "python",
   "name": "python3"
  },
  "language_info": {
   "codemirror_mode": {
    "name": "ipython",
    "version": 3
   },
   "file_extension": ".py",
   "mimetype": "text/x-python",
   "name": "python",
   "nbconvert_exporter": "python",
   "pygments_lexer": "ipython3",
   "version": "3.6.8"
  }
 },
 "nbformat": 4,
 "nbformat_minor": 2
}
