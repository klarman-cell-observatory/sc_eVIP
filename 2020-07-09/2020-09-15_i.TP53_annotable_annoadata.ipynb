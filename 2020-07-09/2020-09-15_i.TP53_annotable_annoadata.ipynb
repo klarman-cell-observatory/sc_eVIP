{
 "cells": [
  {
   "cell_type": "code",
   "execution_count": 1,
   "metadata": {},
   "outputs": [
    {
     "name": "stdout",
     "output_type": "stream",
     "text": [
      "scanpy==1.5.1 anndata==0.7.1 umap==0.4.4 numpy==1.17.2 scipy==1.4.1 pandas==0.24.2 scikit-learn==0.22 statsmodels==0.11.0 python-igraph==0.7.1 louvain==0.6.1 leidenalg==0.8.1\n"
     ]
    }
   ],
   "source": [
    "import numpy as np\n",
    "import pandas as pd\n",
    "import scanpy as sc\n",
    "%matplotlib inline\n",
    "import matplotlib.pyplot as plt\n",
    "\n",
    "import sys \n",
    "import inspect\n",
    "import seaborn as sns\n",
    "import os\n",
    "\n",
    "import perturbseq as perturb\n",
    "\n",
    "sc.settings.verbosity = 3  # verbosity: errors (0), warnings (1), info (2), hints (3)\n",
    "sc.settings.set_figure_params(dpi=80, color_map='viridis')\n",
    "sc.logging.print_versions()"
   ]
  },
  {
   "cell_type": "code",
   "execution_count": 2,
   "metadata": {},
   "outputs": [
    {
     "name": "stdout",
     "output_type": "stream",
     "text": [
      "/ahg/regevdata/projects/bn10_cancer_variants/bn10_oana_2018-06-22/results/2018-06-22/results/2020-02-14/2020-09-15_Figures/\n"
     ]
    }
   ],
   "source": [
    "PROTEIN='TP53'\n",
    "DATA='/ahg/regevdata/projects/bn10_cancer_variants/bn10_oana_2018-06-22/results/2018-06-22/results/2020-02-14'\n",
    "SUBSAMPLED=DATA+'/'+PROTEIN+'/subsampled/A549.'+PROTEIN\n",
    "\n",
    "counts=20000\n",
    "\n",
    "FIGS=DATA+'/2020-09-15_Figures/'\n",
    "os.system('mkdir -p '+FIGS)\n",
    "print(FIGS)"
   ]
  },
  {
   "cell_type": "code",
   "execution_count": 3,
   "metadata": {},
   "outputs": [
    {
     "name": "stdout",
     "output_type": "stream",
     "text": [
      "WARNING: Your filename has more than two extensions: ['.TP53', '.channel_1to32', '.counts_per_cell20000', '.regress_out_vbc', '.analysis', '.1000cells', '.new_format', '.h5ad'].\n",
      "Only considering the two last: ['.new_format', '.h5ad'].\n",
      "WARNING: Your filename has more than two extensions: ['.TP53', '.channel_1to32', '.counts_per_cell20000', '.regress_out_vbc', '.analysis', '.1000cells', '.new_format', '.h5ad'].\n",
      "Only considering the two last: ['.new_format', '.h5ad'].\n"
     ]
    },
    {
     "data": {
      "text/plain": [
       "AnnData object with n_obs × n_vars = 85778 × 1224 \n",
       "    obs: 'batch', 'known', 'n_counts', 'n_genes', 'percent_mito', 'n_counts_downsampled', 'n_counts_original', 'uninfected', 'vbc.counts', 'batch_num18', 'batch_num8', 'batch_num25', 'batch_num22', 'batch_num24', 'batch_num28', 'batch_num27', 'batch_num23', 'batch_num17', 'batch_num19', 'batch_num12', 'batch_num31', 'batch_num5', 'batch_num15', 'batch_num7', 'batch_num9', 'batch_num4', 'batch_num2', 'batch_num13', 'batch_num6', 'batch_num26', 'batch_num16', 'batch_num10', 'batch_num1', 'batch_num29', 'batch_num0', 'batch_num11', 'batch_num30', 'batch_num3', 'batch_num14', 'batch_num21', 'batch_num20', 'louvain', 'G1.S', 'G2.M', 'M', 'M.G1', 'S', 'phase.multi', 'guide', 'guide.compact', 'G105C', 'G266E', 'G154V', 'Y220C', 'V216V', 'WT', 'M246V', 'E286K', 'C176Y', 'S366A', 'H193Y', 'L344L', 'E339K', 'P47P', 'V173M', 'V272L', 'R158H', 'C135F', 'A83V', 'L194R', 'T312S', 'S127F', 'R249S', 'R337L', 'R273H', 'V272M', 'R273L', 'Q5R', 'R249M', 'Y205C', 'P278S', 'T118T', 'R175H', 'R158R', 'S241F', 'P47S', 'C135Y', 'P295P', 'C238Y', 'A159V', 'G266R', 'M237I', 'R110L', 'P58R', 'H179R', 'H193R', 'T170T', 'I195T', 'R213Q', 'R248W', 'P250L', 'V173L', 'R282W', 'G245D', 'V157F', 'K132N', 'P278L', 'K132R', 'Y107H', 'C275F', 'R273C', 'Y163C', 'S241C', 'C141Y', 'Y236C', 'R158L', 'G245C', 'P301P', 'P36P', 'R337C', 'G245V', 'P151S', 'P153P', 'P359P', 'G244C', 'R248L', 'C277F', 'H179Y', 'G360V', 'G245S', 'Y234C', 'C242F', 'R280K', 'C238F', 'A159P', 'E2E', 'V216M', 'V31I', 'H214R', 'P222P', 'G266V', 'D21D', 'R280T', 'C275Y', 'C176F', 'E285K', 'H193L', 'P152L', 'E271K', 'unassigned', 'profile'\n",
       "    var: 'n_cells', 'highly_variable', 'means', 'dispersions', 'dispersions_norm', 'mean', 'std'\n",
       "    uns: 'bulk.guide.compact', 'louvain', 'neighbors', 'pca', 'phase.multi_colors', 'umap'\n",
       "    obsm: 'X_pca', 'X_umap', 'cell2guide'\n",
       "    varm: 'PCs'"
      ]
     },
     "execution_count": 3,
     "metadata": {},
     "output_type": "execute_result"
    }
   ],
   "source": [
    "adata=sc.read(SUBSAMPLED+'.channel_1to32.counts_per_cell'+str(counts)+'.regress_out_vbc.analysis.1000cells.new_format.h5ad',cache=False)\n",
    "adata"
   ]
  },
  {
   "cell_type": "code",
   "execution_count": 10,
   "metadata": {},
   "outputs": [
    {
     "name": "stdout",
     "output_type": "stream",
     "text": [
      "        Variant  Position From To mutation_type  Count_pancan  Count_ExAC  \\\n",
      "Variant                                                                     \n",
      "R175H     R175H     175.0    C  T        Single         993.0         NaN   \n",
      "R273C     R273C     273.0    G  A        Single         677.0         NaN   \n",
      "R248Q     R248Q     248.0    C  T        Single         656.0         NaN   \n",
      "R273H     R273H     273.0    C  T        Single         622.0         NaN   \n",
      "R248W     R248W     248.0    G  A        Single         550.0         NaN   \n",
      "\n",
      "        control_status control_color Library_synthesis   long_name  \n",
      "Variant                                                             \n",
      "R175H          unknown         white                in  TP53_R175H  \n",
      "R273C          unknown         white                in  TP53_R273C  \n",
      "R248Q          unknown         white    not in library         NaN  \n",
      "R273H          unknown         white                in  TP53_R273H  \n",
      "R248W          unknown         white                in  TP53_R248W  \n"
     ]
    }
   ],
   "source": [
    "#table\n",
    "PROTEIN='TP53'\n",
    "OUT='/ahg/regevdata/projects/bn10_cancer_variants/bn10_oana_2018-06-22/results/2018-06-22/results/2020-02-14/'+PROTEIN+'/anno'\n",
    "#original anno\n",
    "anno=pd.read_csv(OUT+'/'+PROTEIN+'.anno.complete.csv',sep='\\t')\n",
    "anno.index=anno['Variant']\n",
    "print(anno.head())"
   ]
  },
  {
   "cell_type": "code",
   "execution_count": 11,
   "metadata": {},
   "outputs": [
    {
     "name": "stderr",
     "output_type": "stream",
     "text": [
      "/ahg/regevdata/users/oursu/software/anaconda3/lib/python3.6/site-packages/ipykernel_launcher.py:12: SettingWithCopyWarning: \n",
      "A value is trying to be set on a copy of a slice from a DataFrame\n",
      "\n",
      "See the caveats in the documentation: http://pandas.pydata.org/pandas-docs/stable/indexing.html#indexing-view-versus-copy\n",
      "  if sys.path[0] == '':\n"
     ]
    }
   ],
   "source": [
    "anno['control_status2']=list(anno['control_status'])\n",
    "for i in range(anno.shape[0]):\n",
    "    var=anno.index[i]\n",
    "    \n",
    "    if var in ['unassigned','WT']:\n",
    "        continue\n",
    "        \n",
    "    pos=str(int(anno['Position'][i]))\n",
    "    \n",
    "    \n",
    "    if pos in ['175','248','273']:\n",
    "        anno['control_status2'][i]='hotspot'\n",
    "anno.loc['unassigned','control_status2']='unknown'"
   ]
  },
  {
   "cell_type": "code",
   "execution_count": 12,
   "metadata": {},
   "outputs": [],
   "source": [
    "anno.loc['unassigned','control_color']='slateblue'\n",
    "\n",
    "anno['text_color']='black'\n",
    "\n",
    "anno.loc[anno['control_status']=='ExAC','text_color']='gray'\n",
    "anno.loc[anno['control_status']=='synonymous','text_color']='gray'\n",
    "anno.loc[anno['control_status2']=='hotspot','text_color']='blue'\n",
    "\n",
    "anno.loc[anno['control_status']=='ExAC','control_color']='lightgray'\n",
    "anno.loc[anno['control_status']=='synonymous','control_color']='gray'\n",
    "\n"
   ]
  },
  {
   "cell_type": "code",
   "execution_count": 13,
   "metadata": {},
   "outputs": [
    {
     "data": {
      "text/html": [
       "<div>\n",
       "<style scoped>\n",
       "    .dataframe tbody tr th:only-of-type {\n",
       "        vertical-align: middle;\n",
       "    }\n",
       "\n",
       "    .dataframe tbody tr th {\n",
       "        vertical-align: top;\n",
       "    }\n",
       "\n",
       "    .dataframe thead th {\n",
       "        text-align: right;\n",
       "    }\n",
       "</style>\n",
       "<table border=\"1\" class=\"dataframe\">\n",
       "  <thead>\n",
       "    <tr style=\"text-align: right;\">\n",
       "      <th></th>\n",
       "      <th>Variant</th>\n",
       "      <th>Position</th>\n",
       "      <th>From</th>\n",
       "      <th>To</th>\n",
       "      <th>mutation_type</th>\n",
       "      <th>Count_pancan</th>\n",
       "      <th>Count_ExAC</th>\n",
       "      <th>control_status</th>\n",
       "      <th>control_color</th>\n",
       "      <th>Library_synthesis</th>\n",
       "      <th>long_name</th>\n",
       "      <th>control_status2</th>\n",
       "      <th>text_color</th>\n",
       "    </tr>\n",
       "    <tr>\n",
       "      <th>Variant</th>\n",
       "      <th></th>\n",
       "      <th></th>\n",
       "      <th></th>\n",
       "      <th></th>\n",
       "      <th></th>\n",
       "      <th></th>\n",
       "      <th></th>\n",
       "      <th></th>\n",
       "      <th></th>\n",
       "      <th></th>\n",
       "      <th></th>\n",
       "      <th></th>\n",
       "      <th></th>\n",
       "    </tr>\n",
       "  </thead>\n",
       "  <tbody>\n",
       "    <tr>\n",
       "      <th>R175H</th>\n",
       "      <td>R175H</td>\n",
       "      <td>175.0</td>\n",
       "      <td>C</td>\n",
       "      <td>T</td>\n",
       "      <td>Single</td>\n",
       "      <td>993.0</td>\n",
       "      <td>NaN</td>\n",
       "      <td>unknown</td>\n",
       "      <td>white</td>\n",
       "      <td>in</td>\n",
       "      <td>TP53_R175H</td>\n",
       "      <td>hotspot</td>\n",
       "      <td>blue</td>\n",
       "    </tr>\n",
       "    <tr>\n",
       "      <th>R273C</th>\n",
       "      <td>R273C</td>\n",
       "      <td>273.0</td>\n",
       "      <td>G</td>\n",
       "      <td>A</td>\n",
       "      <td>Single</td>\n",
       "      <td>677.0</td>\n",
       "      <td>NaN</td>\n",
       "      <td>unknown</td>\n",
       "      <td>white</td>\n",
       "      <td>in</td>\n",
       "      <td>TP53_R273C</td>\n",
       "      <td>hotspot</td>\n",
       "      <td>blue</td>\n",
       "    </tr>\n",
       "    <tr>\n",
       "      <th>R248Q</th>\n",
       "      <td>R248Q</td>\n",
       "      <td>248.0</td>\n",
       "      <td>C</td>\n",
       "      <td>T</td>\n",
       "      <td>Single</td>\n",
       "      <td>656.0</td>\n",
       "      <td>NaN</td>\n",
       "      <td>unknown</td>\n",
       "      <td>white</td>\n",
       "      <td>not in library</td>\n",
       "      <td>NaN</td>\n",
       "      <td>hotspot</td>\n",
       "      <td>blue</td>\n",
       "    </tr>\n",
       "    <tr>\n",
       "      <th>R273H</th>\n",
       "      <td>R273H</td>\n",
       "      <td>273.0</td>\n",
       "      <td>C</td>\n",
       "      <td>T</td>\n",
       "      <td>Single</td>\n",
       "      <td>622.0</td>\n",
       "      <td>NaN</td>\n",
       "      <td>unknown</td>\n",
       "      <td>white</td>\n",
       "      <td>in</td>\n",
       "      <td>TP53_R273H</td>\n",
       "      <td>hotspot</td>\n",
       "      <td>blue</td>\n",
       "    </tr>\n",
       "    <tr>\n",
       "      <th>R248W</th>\n",
       "      <td>R248W</td>\n",
       "      <td>248.0</td>\n",
       "      <td>G</td>\n",
       "      <td>A</td>\n",
       "      <td>Single</td>\n",
       "      <td>550.0</td>\n",
       "      <td>NaN</td>\n",
       "      <td>unknown</td>\n",
       "      <td>white</td>\n",
       "      <td>in</td>\n",
       "      <td>TP53_R248W</td>\n",
       "      <td>hotspot</td>\n",
       "      <td>blue</td>\n",
       "    </tr>\n",
       "  </tbody>\n",
       "</table>\n",
       "</div>"
      ],
      "text/plain": [
       "        Variant  Position From To mutation_type  Count_pancan  Count_ExAC  \\\n",
       "Variant                                                                     \n",
       "R175H     R175H     175.0    C  T        Single         993.0         NaN   \n",
       "R273C     R273C     273.0    G  A        Single         677.0         NaN   \n",
       "R248Q     R248Q     248.0    C  T        Single         656.0         NaN   \n",
       "R273H     R273H     273.0    C  T        Single         622.0         NaN   \n",
       "R248W     R248W     248.0    G  A        Single         550.0         NaN   \n",
       "\n",
       "        control_status control_color Library_synthesis   long_name  \\\n",
       "Variant                                                              \n",
       "R175H          unknown         white                in  TP53_R175H   \n",
       "R273C          unknown         white                in  TP53_R273C   \n",
       "R248Q          unknown         white    not in library         NaN   \n",
       "R273H          unknown         white                in  TP53_R273H   \n",
       "R248W          unknown         white                in  TP53_R248W   \n",
       "\n",
       "        control_status2 text_color  \n",
       "Variant                             \n",
       "R175H           hotspot       blue  \n",
       "R273C           hotspot       blue  \n",
       "R248Q           hotspot       blue  \n",
       "R273H           hotspot       blue  \n",
       "R248W           hotspot       blue  "
      ]
     },
     "execution_count": 13,
     "metadata": {},
     "output_type": "execute_result"
    }
   ],
   "source": [
    "anno.head()"
   ]
  },
  {
   "cell_type": "code",
   "execution_count": 14,
   "metadata": {},
   "outputs": [
    {
     "data": {
      "text/plain": [
       "unknown       69\n",
       "synonymous    16\n",
       "ExAC          10\n",
       "hotspot        7\n",
       "Name: control_status2, dtype: int64"
      ]
     },
     "execution_count": 14,
     "metadata": {},
     "output_type": "execute_result"
    }
   ],
   "source": [
    "anno['control_status2'].value_counts()"
   ]
  },
  {
   "cell_type": "code",
   "execution_count": 15,
   "metadata": {},
   "outputs": [
    {
     "data": {
      "text/plain": [
       "black    69\n",
       "gray     26\n",
       "blue      7\n",
       "Name: text_color, dtype: int64"
      ]
     },
     "execution_count": 15,
     "metadata": {},
     "output_type": "execute_result"
    }
   ],
   "source": [
    "anno['text_color'].value_counts()"
   ]
  },
  {
   "cell_type": "code",
   "execution_count": 16,
   "metadata": {},
   "outputs": [
    {
     "data": {
      "text/plain": [
       "white        75\n",
       "gray         16\n",
       "lightgray    10\n",
       "slateblue     1\n",
       "Name: control_color, dtype: int64"
      ]
     },
     "execution_count": 16,
     "metadata": {},
     "output_type": "execute_result"
    }
   ],
   "source": [
    "anno['control_color'].value_counts()"
   ]
  },
  {
   "cell_type": "code",
   "execution_count": null,
   "metadata": {},
   "outputs": [],
   "source": [
    "#control colors\n"
   ]
  },
  {
   "cell_type": "code",
   "execution_count": 17,
   "metadata": {},
   "outputs": [],
   "source": [
    "anno.to_csv(OUT+'/'+PROTEIN+'.anno.complete2.csv',sep='\\t')"
   ]
  },
  {
   "cell_type": "code",
   "execution_count": null,
   "metadata": {},
   "outputs": [],
   "source": []
  }
 ],
 "metadata": {
  "kernelspec": {
   "display_name": "Python 3",
   "language": "python",
   "name": "python3"
  },
  "language_info": {
   "codemirror_mode": {
    "name": "ipython",
    "version": 3
   },
   "file_extension": ".py",
   "mimetype": "text/x-python",
   "name": "python",
   "nbconvert_exporter": "python",
   "pygments_lexer": "ipython3",
   "version": "3.6.8"
  }
 },
 "nbformat": 4,
 "nbformat_minor": 2
}
