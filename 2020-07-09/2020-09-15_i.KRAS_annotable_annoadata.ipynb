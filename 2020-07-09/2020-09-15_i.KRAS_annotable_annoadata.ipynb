{
 "cells": [
  {
   "cell_type": "code",
   "execution_count": 1,
   "metadata": {},
   "outputs": [
    {
     "name": "stdout",
     "output_type": "stream",
     "text": [
      "scanpy==1.5.1 anndata==0.7.1 umap==0.4.4 numpy==1.17.2 scipy==1.4.1 pandas==0.24.2 scikit-learn==0.22 statsmodels==0.11.0 python-igraph==0.7.1 louvain==0.6.1 leidenalg==0.8.1\n"
     ]
    }
   ],
   "source": [
    "import numpy as np\n",
    "import pandas as pd\n",
    "import scanpy as sc\n",
    "%matplotlib inline\n",
    "import matplotlib.pyplot as plt\n",
    "\n",
    "import sys \n",
    "import inspect\n",
    "import seaborn as sns\n",
    "import os\n",
    "\n",
    "import perturbseq as perturb\n",
    "\n",
    "sc.settings.verbosity = 3  # verbosity: errors (0), warnings (1), info (2), hints (3)\n",
    "sc.settings.set_figure_params(dpi=80, color_map='viridis')\n",
    "sc.logging.print_versions()"
   ]
  },
  {
   "cell_type": "code",
   "execution_count": 2,
   "metadata": {},
   "outputs": [
    {
     "name": "stdout",
     "output_type": "stream",
     "text": [
      "/ahg/regevdata/projects/bn10_cancer_variants/bn10_oana_2018-06-22/results/2018-06-22/results/2020-02-14/2020-09-15_Figures/\n"
     ]
    }
   ],
   "source": [
    "PROTEIN='KRAS'\n",
    "DATA='/ahg/regevdata/projects/bn10_cancer_variants/bn10_oana_2018-06-22/results/2018-06-22/results/2020-02-14'\n",
    "SUBSAMPLED=DATA+'/'+PROTEIN+'/subsampled/A549.'+PROTEIN\n",
    "\n",
    "counts=20000\n",
    "pref=SUBSAMPLED+'.channel_1to32.counts_per_cell'+str(counts)+'.1000cells.analysis'\n",
    "\n",
    "FIGS=DATA+'/2020-09-15_Figures/'\n",
    "os.system('mkdir -p '+FIGS)\n",
    "print(FIGS)"
   ]
  },
  {
   "cell_type": "code",
   "execution_count": 3,
   "metadata": {},
   "outputs": [
    {
     "name": "stdout",
     "output_type": "stream",
     "text": [
      "WARNING: Your filename has more than two extensions: ['.KRAS', '.channel_1to32', '.counts_per_cell20000', '.regress_out_vbc', '.analysis', '.1000cells', '.new_format', '.h5ad'].\n",
      "Only considering the two last: ['.new_format', '.h5ad'].\n",
      "WARNING: Your filename has more than two extensions: ['.KRAS', '.channel_1to32', '.counts_per_cell20000', '.regress_out_vbc', '.analysis', '.1000cells', '.new_format', '.h5ad'].\n",
      "Only considering the two last: ['.new_format', '.h5ad'].\n"
     ]
    },
    {
     "data": {
      "text/plain": [
       "AnnData object with n_obs × n_vars = 90262 × 1145 \n",
       "    obs: 'batch', 'known', 'n_counts', 'n_genes', 'percent_mito', 'n_counts_downsampled', 'n_counts_original', 'vbc.counts', 'batch_num4', 'batch_num7', 'batch_num11', 'batch_num8', 'batch_num13', 'batch_num23', 'batch_num9', 'batch_num2', 'batch_num24', 'batch_num10', 'batch_num12', 'batch_num16', 'batch_num20', 'batch_num18', 'batch_num25', 'batch_num31', 'batch_num28', 'batch_num5', 'batch_num14', 'batch_num15', 'batch_num29', 'batch_num3', 'batch_num6', 'batch_num22', 'batch_num26', 'batch_num17', 'batch_num27', 'batch_num1', 'batch_num19', 'batch_num21', 'batch_num0', 'batch_num30', 'louvain', 'G1.S', 'G2.M', 'M', 'M.G1', 'S', 'phase.multi', 'guide', 'guide.compact', 'A146P', 'K117R', 'Y166H', 'K169K', 'K178K', 'T50P', 'A146V', 'L52F', 'K176Q', 'A155G', 'G60D', 'T158T', 'K88K', 'D119G', 'L159S', 'G13V', 'Q61P', 'D33E', 'S136N', 'K179R', 'T74T', 'G60S', 'Q99E', 'G13R', 'G12D', 'R164Q', 'I36M', 'C185Y', 'I163S', 'P34R', 'G60V', 'G12A', 'K117N', 'T158A', 'G12I', 'T74A', 'K5E', 'P34L', 'A59E', 'A146T', 'G13E', 'WT', 'G75A', 'E63K', 'Q25H', 'V14I', 'R68S', 'R149K', 'T20R', 'AG59GV', 'L19F', 'T58I', 'L79I', 'T50T', 'V8V', 'D173D', 'S17S', 'Q61H', 'R135T', 'V14L', 'R41K', 'K147T', 'Q61A', 'A130V', 'K147N', 'F141L', 'G77A', 'AG11TD', 'A59G', 'D30D', 'E31K', 'T20T', 'M170L', 'T144T', 'T50I', 'G12R', 'G12S', 'Q61L', 'V112I', 'P110S', 'A66A', 'T127T', 'G12V', 'Q22K', 'G13C', 'Q61R', 'D57N', 'N26Y', 'Q61K', 'G12Y', 'T20M', 'Q22H', 'A59T', 'T144P', 'M111L', 'G12F', 'G12C', 'C118S', 'unassigned'\n",
       "    var: 'n_cells', 'highly_variable', 'means', 'dispersions', 'dispersions_norm', 'mean', 'std'\n",
       "    uns: 'known_colors', 'louvain', 'louvain_colors', 'neighbors', 'pca', 'phase.multi_colors', 'umap'\n",
       "    obsm: 'X_pca', 'X_umap', 'cell2guide'\n",
       "    varm: 'PCs'"
      ]
     },
     "execution_count": 3,
     "metadata": {},
     "output_type": "execute_result"
    }
   ],
   "source": [
    "adata=sc.read(SUBSAMPLED+'.channel_1to32.counts_per_cell'+str(counts)+'.regress_out_vbc.analysis.1000cells.new_format.h5ad',cache=False)\n",
    "adata"
   ]
  },
  {
   "cell_type": "code",
   "execution_count": 4,
   "metadata": {},
   "outputs": [
    {
     "name": "stdout",
     "output_type": "stream",
     "text": [
      "        Variant  Position From To mutation_type  Count_pancan  Count_ExAC  \\\n",
      "Variant                                                                     \n",
      "G12D       G12D      12.0    C  T        Single        1782.0         NaN   \n",
      "G12V       G12V      12.0    C  A        Single        1539.0         NaN   \n",
      "G12C       G12C      12.0    C  A        Single        1110.0         NaN   \n",
      "G13D       G13D      13.0    C  T        Single         582.0         NaN   \n",
      "G12A       G12A      12.0    C  G        Single         353.0         NaN   \n",
      "\n",
      "        control_status control_color Library_synthesis  long_name  \n",
      "Variant                                                            \n",
      "G12D           unknown         white                in  KRAS_G12D  \n",
      "G12V           unknown         white                in  KRAS_G12V  \n",
      "G12C           unknown         white                in  KRAS_G12C  \n",
      "G13D           unknown         white    not in library        NaN  \n",
      "G12A           unknown         white                in  KRAS_G12A  \n"
     ]
    }
   ],
   "source": [
    "#table\n",
    "PROTEIN='KRAS'\n",
    "OUT='/ahg/regevdata/projects/bn10_cancer_variants/bn10_oana_2018-06-22/results/2018-06-22/results/2020-02-14/'+PROTEIN+'/anno'\n",
    "#original anno\n",
    "anno=pd.read_csv(OUT+'/'+PROTEIN+'.anno.complete.csv',sep='\\t')\n",
    "anno.index=anno['Variant']\n",
    "print(anno.head())"
   ]
  },
  {
   "cell_type": "code",
   "execution_count": 5,
   "metadata": {},
   "outputs": [
    {
     "name": "stderr",
     "output_type": "stream",
     "text": [
      "/ahg/regevdata/users/oursu/software/anaconda3/lib/python3.6/site-packages/ipykernel_launcher.py:12: SettingWithCopyWarning: \n",
      "A value is trying to be set on a copy of a slice from a DataFrame\n",
      "\n",
      "See the caveats in the documentation: http://pandas.pydata.org/pandas-docs/stable/indexing.html#indexing-view-versus-copy\n",
      "  if sys.path[0] == '':\n"
     ]
    }
   ],
   "source": [
    "anno['control_status2']=list(anno['control_status'])\n",
    "for i in range(anno.shape[0]):\n",
    "    var=anno.index[i]\n",
    "    \n",
    "    if var in ['unassigned','WT']:\n",
    "        continue\n",
    "        \n",
    "    pos=str(int(anno['Position'][i]))\n",
    "    \n",
    "    \n",
    "    if pos in ['12','13','61']:\n",
    "        anno['control_status2'][i]='hotspot'\n",
    "anno.loc['unassigned','control_status2']='unknown'"
   ]
  },
  {
   "cell_type": "code",
   "execution_count": 7,
   "metadata": {},
   "outputs": [],
   "source": [
    "anno.loc['unassigned','control_color']='slateblue'\n",
    "\n",
    "anno['text_color']='black'\n",
    "\n",
    "anno.loc[anno['control_status']=='ExAC','text_color']='gray'\n",
    "anno.loc[anno['control_status']=='synonymous','text_color']='gray'\n",
    "anno.loc[anno['control_status2']=='hotspot','text_color']='red'\n",
    "\n",
    "anno.loc[anno['control_status']=='ExAC','control_color']='lightgray'\n",
    "anno.loc[anno['control_status']=='synonymous','control_color']='gray'\n"
   ]
  },
  {
   "cell_type": "code",
   "execution_count": null,
   "metadata": {},
   "outputs": [],
   "source": []
  },
  {
   "cell_type": "code",
   "execution_count": null,
   "metadata": {},
   "outputs": [],
   "source": []
  },
  {
   "cell_type": "code",
   "execution_count": 7,
   "metadata": {},
   "outputs": [
    {
     "data": {
      "text/html": [
       "<div>\n",
       "<style scoped>\n",
       "    .dataframe tbody tr th:only-of-type {\n",
       "        vertical-align: middle;\n",
       "    }\n",
       "\n",
       "    .dataframe tbody tr th {\n",
       "        vertical-align: top;\n",
       "    }\n",
       "\n",
       "    .dataframe thead th {\n",
       "        text-align: right;\n",
       "    }\n",
       "</style>\n",
       "<table border=\"1\" class=\"dataframe\">\n",
       "  <thead>\n",
       "    <tr style=\"text-align: right;\">\n",
       "      <th></th>\n",
       "      <th>Variant</th>\n",
       "      <th>Position</th>\n",
       "      <th>From</th>\n",
       "      <th>To</th>\n",
       "      <th>mutation_type</th>\n",
       "      <th>Count_pancan</th>\n",
       "      <th>Count_ExAC</th>\n",
       "      <th>control_status</th>\n",
       "      <th>control_color</th>\n",
       "      <th>Library_synthesis</th>\n",
       "      <th>long_name</th>\n",
       "      <th>control_status2</th>\n",
       "    </tr>\n",
       "    <tr>\n",
       "      <th>Variant</th>\n",
       "      <th></th>\n",
       "      <th></th>\n",
       "      <th></th>\n",
       "      <th></th>\n",
       "      <th></th>\n",
       "      <th></th>\n",
       "      <th></th>\n",
       "      <th></th>\n",
       "      <th></th>\n",
       "      <th></th>\n",
       "      <th></th>\n",
       "      <th></th>\n",
       "    </tr>\n",
       "  </thead>\n",
       "  <tbody>\n",
       "    <tr>\n",
       "      <th>G12D</th>\n",
       "      <td>G12D</td>\n",
       "      <td>12.0</td>\n",
       "      <td>C</td>\n",
       "      <td>T</td>\n",
       "      <td>Single</td>\n",
       "      <td>1782.0</td>\n",
       "      <td>NaN</td>\n",
       "      <td>unknown</td>\n",
       "      <td>white</td>\n",
       "      <td>in</td>\n",
       "      <td>KRAS_G12D</td>\n",
       "      <td>hotspot</td>\n",
       "    </tr>\n",
       "    <tr>\n",
       "      <th>G12V</th>\n",
       "      <td>G12V</td>\n",
       "      <td>12.0</td>\n",
       "      <td>C</td>\n",
       "      <td>A</td>\n",
       "      <td>Single</td>\n",
       "      <td>1539.0</td>\n",
       "      <td>NaN</td>\n",
       "      <td>unknown</td>\n",
       "      <td>white</td>\n",
       "      <td>in</td>\n",
       "      <td>KRAS_G12V</td>\n",
       "      <td>hotspot</td>\n",
       "    </tr>\n",
       "    <tr>\n",
       "      <th>G12C</th>\n",
       "      <td>G12C</td>\n",
       "      <td>12.0</td>\n",
       "      <td>C</td>\n",
       "      <td>A</td>\n",
       "      <td>Single</td>\n",
       "      <td>1110.0</td>\n",
       "      <td>NaN</td>\n",
       "      <td>unknown</td>\n",
       "      <td>white</td>\n",
       "      <td>in</td>\n",
       "      <td>KRAS_G12C</td>\n",
       "      <td>hotspot</td>\n",
       "    </tr>\n",
       "    <tr>\n",
       "      <th>G13D</th>\n",
       "      <td>G13D</td>\n",
       "      <td>13.0</td>\n",
       "      <td>C</td>\n",
       "      <td>T</td>\n",
       "      <td>Single</td>\n",
       "      <td>582.0</td>\n",
       "      <td>NaN</td>\n",
       "      <td>unknown</td>\n",
       "      <td>white</td>\n",
       "      <td>not in library</td>\n",
       "      <td>NaN</td>\n",
       "      <td>hotspot</td>\n",
       "    </tr>\n",
       "    <tr>\n",
       "      <th>G12A</th>\n",
       "      <td>G12A</td>\n",
       "      <td>12.0</td>\n",
       "      <td>C</td>\n",
       "      <td>G</td>\n",
       "      <td>Single</td>\n",
       "      <td>353.0</td>\n",
       "      <td>NaN</td>\n",
       "      <td>unknown</td>\n",
       "      <td>white</td>\n",
       "      <td>in</td>\n",
       "      <td>KRAS_G12A</td>\n",
       "      <td>hotspot</td>\n",
       "    </tr>\n",
       "  </tbody>\n",
       "</table>\n",
       "</div>"
      ],
      "text/plain": [
       "        Variant  Position From To mutation_type  Count_pancan  Count_ExAC  \\\n",
       "Variant                                                                     \n",
       "G12D       G12D      12.0    C  T        Single        1782.0         NaN   \n",
       "G12V       G12V      12.0    C  A        Single        1539.0         NaN   \n",
       "G12C       G12C      12.0    C  A        Single        1110.0         NaN   \n",
       "G13D       G13D      13.0    C  T        Single         582.0         NaN   \n",
       "G12A       G12A      12.0    C  G        Single         353.0         NaN   \n",
       "\n",
       "        control_status control_color Library_synthesis  long_name  \\\n",
       "Variant                                                             \n",
       "G12D           unknown         white                in  KRAS_G12D   \n",
       "G12V           unknown         white                in  KRAS_G12V   \n",
       "G12C           unknown         white                in  KRAS_G12C   \n",
       "G13D           unknown         white    not in library        NaN   \n",
       "G12A           unknown         white                in  KRAS_G12A   \n",
       "\n",
       "        control_status2  \n",
       "Variant                  \n",
       "G12D            hotspot  \n",
       "G12V            hotspot  \n",
       "G12C            hotspot  \n",
       "G13D            hotspot  \n",
       "G12A            hotspot  "
      ]
     },
     "execution_count": 7,
     "metadata": {},
     "output_type": "execute_result"
    }
   ],
   "source": [
    "anno.head()"
   ]
  },
  {
   "cell_type": "code",
   "execution_count": 8,
   "metadata": {},
   "outputs": [
    {
     "data": {
      "text/plain": [
       "unknown       55\n",
       "hotspot       21\n",
       "synonymous    16\n",
       "ExAC          10\n",
       "Name: control_status2, dtype: int64"
      ]
     },
     "execution_count": 8,
     "metadata": {},
     "output_type": "execute_result"
    }
   ],
   "source": [
    "anno['control_status2'].value_counts()"
   ]
  },
  {
   "cell_type": "code",
   "execution_count": 8,
   "metadata": {},
   "outputs": [],
   "source": [
    "anno.to_csv(OUT+'/'+PROTEIN+'.anno.complete2.csv',sep='\\t')"
   ]
  },
  {
   "cell_type": "code",
   "execution_count": null,
   "metadata": {},
   "outputs": [],
   "source": []
  }
 ],
 "metadata": {
  "kernelspec": {
   "display_name": "Python 3",
   "language": "python",
   "name": "python3"
  },
  "language_info": {
   "codemirror_mode": {
    "name": "ipython",
    "version": 3
   },
   "file_extension": ".py",
   "mimetype": "text/x-python",
   "name": "python",
   "nbconvert_exporter": "python",
   "pygments_lexer": "ipython3",
   "version": "3.6.8"
  }
 },
 "nbformat": 4,
 "nbformat_minor": 2
}
