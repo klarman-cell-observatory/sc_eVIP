{
 "cells": [
  {
   "cell_type": "code",
   "execution_count": 18,
   "metadata": {},
   "outputs": [
    {
     "name": "stdout",
     "output_type": "stream",
     "text": [
      "scanpy==1.5.1 anndata==0.7.1 umap==0.4.4 numpy==1.17.2 scipy==1.4.1 pandas==0.24.2 scikit-learn==0.22 statsmodels==0.11.0 python-igraph==0.7.1 louvain==0.6.1 leidenalg==0.8.1\n"
     ]
    }
   ],
   "source": [
    "import numpy as np\n",
    "import pandas as pd\n",
    "import scanpy as sc\n",
    "%matplotlib inline\n",
    "import matplotlib.pyplot as plt\n",
    "\n",
    "import sys \n",
    "import inspect\n",
    "import seaborn as sns\n",
    "import os\n",
    "\n",
    "import perturbseq as perturb\n",
    "\n",
    "sc.settings.verbosity = 3  # verbosity: errors (0), warnings (1), info (2), hints (3)\n",
    "sc.settings.set_figure_params(dpi=80, color_map='viridis')\n",
    "sc.logging.print_versions()"
   ]
  },
  {
   "cell_type": "code",
   "execution_count": 19,
   "metadata": {},
   "outputs": [
    {
     "name": "stdout",
     "output_type": "stream",
     "text": [
      "/ahg/regevdata/projects/bn10_cancer_variants/bn10_oana_2018-06-22/results/2018-06-22/results/2020-02-14/2020-09-15_Figures/\n"
     ]
    }
   ],
   "source": [
    "PROTEIN='KRAS'\n",
    "DATA='/ahg/regevdata/projects/bn10_cancer_variants/bn10_oana_2018-06-22/results/2018-06-22/results/2020-02-14'\n",
    "SUBSAMPLED=DATA+'/'+PROTEIN+'/subsampled/A549.'+PROTEIN\n",
    "\n",
    "counts=20000\n",
    "\n",
    "FIGS=DATA+'/2020-09-15_Figures/'\n",
    "os.system('mkdir -p '+FIGS)\n",
    "print(FIGS)\n",
    "\n",
    "sc.settings.figdir=FIGS"
   ]
  },
  {
   "cell_type": "code",
   "execution_count": 20,
   "metadata": {},
   "outputs": [
    {
     "name": "stdout",
     "output_type": "stream",
     "text": [
      "WARNING: Your filename has more than two extensions: ['.KRAS', '.channel_1to32', '.counts_per_cell20000', '.regress_out_vbc', '.analysis', '.1000cells', '.new_format', '.h5ad'].\n",
      "Only considering the two last: ['.new_format', '.h5ad'].\n",
      "WARNING: Your filename has more than two extensions: ['.KRAS', '.channel_1to32', '.counts_per_cell20000', '.regress_out_vbc', '.analysis', '.1000cells', '.new_format', '.h5ad'].\n",
      "Only considering the two last: ['.new_format', '.h5ad'].\n"
     ]
    },
    {
     "data": {
      "text/plain": [
       "AnnData object with n_obs × n_vars = 90262 × 1145 \n",
       "    obs: 'batch', 'known', 'n_counts', 'n_genes', 'percent_mito', 'n_counts_downsampled', 'n_counts_original', 'vbc.counts', 'batch_num4', 'batch_num7', 'batch_num11', 'batch_num8', 'batch_num13', 'batch_num23', 'batch_num9', 'batch_num2', 'batch_num24', 'batch_num10', 'batch_num12', 'batch_num16', 'batch_num20', 'batch_num18', 'batch_num25', 'batch_num31', 'batch_num28', 'batch_num5', 'batch_num14', 'batch_num15', 'batch_num29', 'batch_num3', 'batch_num6', 'batch_num22', 'batch_num26', 'batch_num17', 'batch_num27', 'batch_num1', 'batch_num19', 'batch_num21', 'batch_num0', 'batch_num30', 'louvain', 'G1.S', 'G2.M', 'M', 'M.G1', 'S', 'phase.multi', 'guide', 'guide.compact', 'A146P', 'K117R', 'Y166H', 'K169K', 'K178K', 'T50P', 'A146V', 'L52F', 'K176Q', 'A155G', 'G60D', 'T158T', 'K88K', 'D119G', 'L159S', 'G13V', 'Q61P', 'D33E', 'S136N', 'K179R', 'T74T', 'G60S', 'Q99E', 'G13R', 'G12D', 'R164Q', 'I36M', 'C185Y', 'I163S', 'P34R', 'G60V', 'G12A', 'K117N', 'T158A', 'G12I', 'T74A', 'K5E', 'P34L', 'A59E', 'A146T', 'G13E', 'WT', 'G75A', 'E63K', 'Q25H', 'V14I', 'R68S', 'R149K', 'T20R', 'AG59GV', 'L19F', 'T58I', 'L79I', 'T50T', 'V8V', 'D173D', 'S17S', 'Q61H', 'R135T', 'V14L', 'R41K', 'K147T', 'Q61A', 'A130V', 'K147N', 'F141L', 'G77A', 'AG11TD', 'A59G', 'D30D', 'E31K', 'T20T', 'M170L', 'T144T', 'T50I', 'G12R', 'G12S', 'Q61L', 'V112I', 'P110S', 'A66A', 'T127T', 'G12V', 'Q22K', 'G13C', 'Q61R', 'D57N', 'N26Y', 'Q61K', 'G12Y', 'T20M', 'Q22H', 'A59T', 'T144P', 'M111L', 'G12F', 'G12C', 'C118S', 'unassigned'\n",
       "    var: 'n_cells', 'highly_variable', 'means', 'dispersions', 'dispersions_norm', 'mean', 'std'\n",
       "    uns: 'known_colors', 'louvain', 'louvain_colors', 'neighbors', 'pca', 'phase.multi_colors', 'umap'\n",
       "    obsm: 'X_pca', 'X_umap', 'cell2guide'\n",
       "    varm: 'PCs'"
      ]
     },
     "execution_count": 20,
     "metadata": {},
     "output_type": "execute_result"
    }
   ],
   "source": [
    "adata=sc.read(SUBSAMPLED+'.channel_1to32.counts_per_cell'+str(counts)+'.regress_out_vbc.analysis.1000cells.new_format.h5ad',cache=False)\n",
    "adata"
   ]
  },
  {
   "cell_type": "code",
   "execution_count": 21,
   "metadata": {},
   "outputs": [
    {
     "name": "stdout",
     "output_type": "stream",
     "text": [
      "['A130V', 'A146P', 'A146T', 'A146V', 'A155G', 'A59E', 'A59G', 'A59T', 'A66A', 'AG11TD', 'AG59GV', 'C118S', 'C185Y', 'D119G', 'D173D', 'D30D', 'D33E', 'D57N', 'E31K', 'E63K', 'F141L', 'G12A', 'G12C', 'G12D', 'G12F', 'G12I', 'G12R', 'G12S', 'G12V', 'G12Y', 'G13C', 'G13E', 'G13R', 'G13V', 'G60D', 'G60S', 'G60V', 'G75A', 'G77A', 'I163S', 'I36M', 'K117N', 'K117R', 'K147N', 'K147T', 'K169K', 'K176Q', 'K178K', 'K179R', 'K5E', 'K88K', 'L159S', 'L19F', 'L52F', 'L79I', 'M111L', 'M170L', 'N26Y', 'P110S', 'P34L', 'P34R', 'Q22H', 'Q22K', 'Q25H', 'Q61A', 'Q61H', 'Q61K', 'Q61L', 'Q61P', 'Q61R', 'Q99E', 'R135T', 'R149K', 'R164Q', 'R41K', 'R68S', 'S136N', 'S17S', 'T127T', 'T144P', 'T144T', 'T158A', 'T158T', 'T20M', 'T20R', 'T20T', 'T50I', 'T50P', 'T50T', 'T58I', 'T74A', 'T74T', 'V112I', 'V14I', 'V14L', 'V8V', 'WT', 'Y166H', 'unassigned']\n",
      "99\n"
     ]
    }
   ],
   "source": [
    "ref='K169K'\n",
    "methods=['bulk.L1','HotellingT2','bulk.spearman','bulk.pearson']\n",
    "\n",
    "#collect the variants into a list\n",
    "variants=perturb.util.get_perturbations(adata,compact=True)\n",
    "variants.append('unassigned')\n",
    "print(variants)\n",
    "print(len(variants))"
   ]
  },
  {
   "cell_type": "code",
   "execution_count": 22,
   "metadata": {},
   "outputs": [],
   "source": [
    "#============ COMPARING PERTURBATIONS\n",
    "def compare_2_groups_df(adata_df,\n",
    "                     group1_cells,group2_cells,\n",
    "                     method,\n",
    "                     ps=1e-300):\n",
    "    \n",
    "    v1_data=adata_df.loc[group1_cells,:]\n",
    "    v2_data=adata_df.loc[group2_cells,:]\n",
    "\n",
    "    #T2 Hotelling\n",
    "    #============\n",
    "    if method=='HotellingT2':\n",
    "        import spm1d\n",
    "        \n",
    "        T2=spm1d.stats.hotellings2(v1_data,v2_data)\n",
    "        ##T2i=T2.inference(0.0005)\n",
    "        ##pval=T2i.p+ps #p-value\n",
    "        value=T2.z #the T2 statistic\n",
    "\n",
    "    #bulk analysis\n",
    "    #==============\n",
    "    if 'bulk' in method:\n",
    "        #get the bulkified data\n",
    "        v1_bulk=np.mean(np.array(v1_data),axis=0)\n",
    "        v2_bulk=np.mean(np.array(v2_data),axis=0)\n",
    "\n",
    "    if method=='bulk.pearson':\n",
    "        from scipy.stats import pearsonr\n",
    "        value=1-pearsonr(v1_bulk,v2_bulk)[0]\n",
    "\n",
    "    if method=='bulk.spearman':\n",
    "        from scipy.stats import spearmanr\n",
    "        value=1-spearmanr(v1_bulk,v2_bulk)[0]\n",
    "        \n",
    "    if method=='bulk.L1':\n",
    "        value=np.sum(np.abs(v1_bulk-v2_bulk))*1.0/v1_data.shape[1]\n",
    "\n",
    "    return(value)\n",
    "\n",
    "def compare_two_groups(adata_here,\n",
    "                       v1,v2,\n",
    "                       methods=['HotellingT2','bulk.pearson','bulk.spearman','bulk.L1'],\n",
    "                       num_pcs_hotelling=20):\n",
    "    #convert the adata to a data frame here\n",
    "    data_here=pd.DataFrame(adata_here.X,\n",
    "                          columns=adata_here.var_names,\n",
    "                         index=adata_here.obs_names)\n",
    "    if 'HotellingT2' in methods:\n",
    "        data_here_pca=pd.DataFrame(adata_here.obsm['X_pca'][:,:num_pcs_hotelling],\n",
    "                             index=adata_here.obs_names)\n",
    "    \n",
    "    v1_cells=adata_here.obs_names[adata_here.obs[v1]>0]\n",
    "    v2_cells=adata_here.obs_names[adata_here.obs[v2]>0]\n",
    "    \n",
    "    comparison_name=v1+'.VS.'+v2\n",
    "    cols=['group1','group2']\n",
    "    for m in methods:\n",
    "        cols.append(m)\n",
    "    df_comparison=pd.DataFrame(0,columns=cols,index=[comparison_name])\n",
    "    \n",
    "    for method in methods:\n",
    "        if method=='HotellingT2':\n",
    "            v=compare_2_groups_df(data_here_pca,v1_cells,v2_cells,method)\n",
    "        else:\n",
    "            v=compare_2_groups_df(data_here,v1_cells,v2_cells,method)\n",
    "        df_comparison.loc[comparison_name,method]=v\n",
    "        df_comparison.loc[comparison_name,'group1']=v1\n",
    "        df_comparison.loc[comparison_name,'group2']=v2\n",
    "    df_comparison=df_comparison.reset_index(drop=True)\n",
    "        \n",
    "    return(df_comparison)\n",
    "\n",
    "\n",
    "\n",
    "def compare_groups_with_reference(adata_here,\n",
    "                                 groups,\n",
    "                                 reference,\n",
    "                                 methods=['HotellingT2','bulk.pearson','bulk.spearman','bulk.L1'],\n",
    "                                 num_pcs_hotelling=20,\n",
    "                                 permuted=False):\n",
    "    \n",
    "    if permuted:\n",
    "        permuted_df=adata_here.uns['permuted']\n",
    "        for label in permuted_df.columns:\n",
    "            adata_here.obs['permuted.'+label]=list(permuted_df[label])\n",
    "    \n",
    "    results_col=['group1','group2']\n",
    "    for c in methods:\n",
    "        results_col.append(c)\n",
    "    results=pd.DataFrame(columns=results_col)\n",
    "    \n",
    "    for group in groups:\n",
    "        group_final=group\n",
    "        ref_final=reference\n",
    "        if permuted:\n",
    "            group_final='permuted.'+group\n",
    "            ref_final='permuted.'+reference\n",
    "        x=compare_two_groups(adata_here,\n",
    "                     ref_final,group_final,\n",
    "                    methods,\n",
    "                    num_pcs_hotelling)\n",
    "        results=pd.concat([results,x],axis=0)\n",
    "        \n",
    "    if permuted:\n",
    "        permuted_df=adata_here.uns['permuted']\n",
    "        for label in permuted_df.columns:\n",
    "            del adata_here.obs['permuted.'+label]\n",
    "            \n",
    "    return(results)\n",
    "\n",
    "def permute_labels(adata_here,\n",
    "                  groups,\n",
    "                  copy_adata=False,\n",
    "                  seedname=0):\n",
    "    import copy\n",
    "    \n",
    "    if copy_adata:\n",
    "        adata_here=copy.deepcopy(adata_here)\n",
    "    \n",
    "    df_here=adata_here.obs.loc[:,groups]\n",
    "    \n",
    "    #permute the order of the rows\n",
    "    permuted_order=df_here.sample(frac=1,random_state=seedname).reset_index(drop=True)\n",
    "    \n",
    "    adata_here.uns['permuted']=permuted_order\n",
    "    \n",
    "    if copy_adata:\n",
    "        return(adata_here)\n",
    "    \n",
    "#run for permuted data. need to do this in a way that can be automated for the user\n",
    "def get_permuted_scores(adata_here,\n",
    "                        variants,\n",
    "                        reference,\n",
    "                       num_perm=10,\n",
    "                        methods=['HotellingT2','bulk.pearson','bulk.spearman','bulk.L1'],\n",
    "                        num_pcs_hotelling=20):\n",
    "    \n",
    "    started=False\n",
    "    for perm in range(num_perm):\n",
    "        print('permutation',perm)\n",
    "        permute_labels(adata_here,variants,seedname=perm)\n",
    "        res_perm=compare_groups_with_reference(adata_here,\n",
    "                                 variants,\n",
    "                                 reference,\n",
    "                                 permuted=True,\n",
    "                                methods=methods,\n",
    "                                num_pcs_hotelling=num_pcs_hotelling)\n",
    "        if not started:\n",
    "            perm_scores=res_perm\n",
    "            started=True\n",
    "        else:\n",
    "            perm_scores=pd.concat([perm_scores,res_perm],axis=0)\n",
    "    del adata_here.uns['permuted']\n",
    "            \n",
    "    return(perm_scores)\n",
    "\n",
    "def get_threshold_at_FDR(fdr_data,method,FDR=0.1,higher=True):\n",
    "    fdr_passed=fdr_data.loc[fdr_data['FDR.'+method]<=FDR,:]\n",
    "    if higher:\n",
    "        fdr_passed=fdr_passed.sort_values(by=method,ascending=True)\n",
    "    else:\n",
    "        fdr_passed=fdr_passed.sort_values(by=method,ascending=False)\n",
    "    score_thresh_value=float(list(fdr_passed[method])[0])\n",
    "    return(score_thresh_value)\n",
    "\n",
    "def compute_FDR(res_true,res_perm,methods,plot=False,FDR=0.01):\n",
    "    \n",
    "    res_true['dataset']='true data'\n",
    "    res_perm['dataset']='permuted data'\n",
    "    res_combo=pd.concat([res_true,res_perm],axis=0)\n",
    "    min_fdr=1.0/res_combo.shape[0]\n",
    "    for method in methods:\n",
    "        res_combo=res_combo.sort_values(by=method,ascending=False)\n",
    "        res_combo['FDR.'+method]=1\n",
    "        res_combo=res_combo.reset_index(drop=True)\n",
    "        for i in range(res_combo.shape[0]):\n",
    "            value_here=float(list(res_combo[method])[i])\n",
    "            idx=list(res_combo.index)[i]\n",
    "            passed=res_combo.loc[res_combo[method]>=value_here,:]\n",
    "            true_pass=np.sum(passed['dataset']=='true data')\n",
    "            perm_pass=np.sum(passed['dataset']=='permuted data')\n",
    "            \n",
    "            true_fraction=1.0*true_pass/res_true.shape[0]\n",
    "            perm_fraction=1.0*perm_pass/res_perm.shape[0]\n",
    "            \n",
    "            fdr_here=max(float(1.0*perm_fraction/(perm_fraction+true_fraction)),\n",
    "                            float(min_fdr))       \n",
    "            res_combo.loc[idx,'FDR.'+method]=float(fdr_here)\n",
    "            \n",
    "        if plot:\n",
    "            #get even bins\n",
    "            NUM_BINS=20\n",
    "            max_val=np.max(res_combo[method])\n",
    "            mybins=[x*max_val/NUM_BINS for x in range(NUM_BINS)]\n",
    "            scores_true=res_combo.loc[res_combo['dataset']=='true data',method]\n",
    "            scores_perm=res_combo.loc[res_combo['dataset']=='permuted data',method]\n",
    "            plt.hist(scores_true,color='red',bins=mybins,label='Real data')\n",
    "            plt.hist(scores_perm,color='black',alpha=0.5,bins=mybins,\n",
    "                     weights=[len(scores_true)/len(scores_perm)]*len(scores_perm),\n",
    "                    label='Permuted data')\n",
    "            plt.grid(False)\n",
    "            plt.xlabel(method)\n",
    "            plt.ylabel('Frequency')\n",
    "            #thresh_data=res_combo.loc[res_combo['FDR.'+method]<=0.01,:]\n",
    "            #thresh_data=thresh_data.sort_values(by=method,ascending=True)\n",
    "            #thresh=list(thresh_data[method])[0]\n",
    "            thresh=get_threshold_at_FDR(res_combo.loc[res_combo['dataset']=='true data',:],method,FDR)\n",
    "            thresh=int(1000*thresh)/1000\n",
    "            plt.axvline(x=thresh,color='black',linestyle='dotted')\n",
    "            plt.title('FDR '+str(FDR)+' threshold: '+str(thresh))\n",
    "            plt.legend()\n",
    "            plt.show()\n",
    "\n",
    "    to_return=res_combo.loc[res_combo['dataset']=='true data',:]\n",
    "    to_return=to_return.drop(columns=['dataset'])\n",
    "    return(to_return)\n",
    "    \n"
   ]
  },
  {
   "cell_type": "code",
   "execution_count": 23,
   "metadata": {},
   "outputs": [],
   "source": [
    "#compute scores\n",
    "scores_real=compare_groups_with_reference(adata,\n",
    "                                         variants,\n",
    "                                         ref,\n",
    "                                         methods=methods)"
   ]
  },
  {
   "cell_type": "code",
   "execution_count": 24,
   "metadata": {},
   "outputs": [
    {
     "name": "stdout",
     "output_type": "stream",
     "text": [
      "permutation 0\n",
      "permutation 1\n",
      "permutation 2\n",
      "permutation 3\n",
      "permutation 4\n",
      "permutation 5\n",
      "permutation 6\n",
      "permutation 7\n",
      "permutation 8\n",
      "permutation 9\n"
     ]
    },
    {
     "data": {
      "image/png": "[encoded data removed]",
      "text/plain": [
       "<Figure size 320x320 with 1 Axes>"
      ]
     },
     "metadata": {
      "image/png": {
       "height": 318,
       "width": 312
      }
     },
     "output_type": "display_data"
    },
    {
     "data": {
      "image/png": "[encoded data removed]",
      "text/plain": [
       "<Figure size 320x320 with 1 Axes>"
      ]
     },
     "metadata": {
      "image/png": {
       "height": 318,
       "width": 322
      }
     },
     "output_type": "display_data"
    },
    {
     "data": {
      "image/png": "[encoded data removed]",
      "text/plain": [
       "<Figure size 320x320 with 1 Axes>"
      ]
     },
     "metadata": {
      "image/png": {
       "height": 318,
       "width": 312
      }
     },
     "output_type": "display_data"
    },
    {
     "data": {
      "image/png": "[encoded data removed]",
      "text/plain": [
       "<Figure size 320x320 with 1 Axes>"
      ]
     },
     "metadata": {
      "image/png": {
       "height": 318,
       "width": 312
      }
     },
     "output_type": "display_data"
    }
   ],
   "source": [
    "#get empirical distribution of scores on permuted data\n",
    "scores_perm=get_permuted_scores(adata,\n",
    "                                variants,\n",
    "                                ref,\n",
    "                                num_perm=10,\n",
    "                                methods=methods)\n",
    "\n",
    "\n",
    "#assign FDR based on permuted data\n",
    "fdr_data=compute_FDR(scores_real,\n",
    "                     scores_perm,\n",
    "                     methods=methods,\n",
    "                     plot=True)"
   ]
  },
  {
   "cell_type": "code",
   "execution_count": 25,
   "metadata": {},
   "outputs": [],
   "source": [
    "score_thresh_value=get_threshold_at_FDR(fdr_data,method='HotellingT2',FDR=0.01)"
   ]
  },
  {
   "cell_type": "code",
   "execution_count": 26,
   "metadata": {},
   "outputs": [
    {
     "name": "stdout",
     "output_type": "stream",
     "text": [
      "['T50T', 'K88K', 'K178K', 'S17S', 'T74T', 'T127T', 'T20T', 'D30D', 'WT', 'A66A', 'D173D', 'T158T', 'K169K', 'T144T', 'V8V']\n"
     ]
    },
    {
     "data": {
      "text/html": [
       "<div>\n",
       "<style scoped>\n",
       "    .dataframe tbody tr th:only-of-type {\n",
       "        vertical-align: middle;\n",
       "    }\n",
       "\n",
       "    .dataframe tbody tr th {\n",
       "        vertical-align: top;\n",
       "    }\n",
       "\n",
       "    .dataframe thead th {\n",
       "        text-align: right;\n",
       "    }\n",
       "</style>\n",
       "<table border=\"1\" class=\"dataframe\">\n",
       "  <thead>\n",
       "    <tr style=\"text-align: right;\">\n",
       "      <th></th>\n",
       "      <th>Variant</th>\n",
       "      <th>Variant.1</th>\n",
       "      <th>Position</th>\n",
       "      <th>From</th>\n",
       "      <th>To</th>\n",
       "      <th>mutation_type</th>\n",
       "      <th>Count_pancan</th>\n",
       "      <th>Count_ExAC</th>\n",
       "      <th>control_status</th>\n",
       "      <th>control_color</th>\n",
       "      <th>Library_synthesis</th>\n",
       "      <th>long_name</th>\n",
       "      <th>control_status2</th>\n",
       "    </tr>\n",
       "    <tr>\n",
       "      <th>Variant</th>\n",
       "      <th></th>\n",
       "      <th></th>\n",
       "      <th></th>\n",
       "      <th></th>\n",
       "      <th></th>\n",
       "      <th></th>\n",
       "      <th></th>\n",
       "      <th></th>\n",
       "      <th></th>\n",
       "      <th></th>\n",
       "      <th></th>\n",
       "      <th></th>\n",
       "      <th></th>\n",
       "    </tr>\n",
       "  </thead>\n",
       "  <tbody>\n",
       "    <tr>\n",
       "      <th>G12D</th>\n",
       "      <td>G12D</td>\n",
       "      <td>G12D</td>\n",
       "      <td>12</td>\n",
       "      <td>C</td>\n",
       "      <td>T</td>\n",
       "      <td>Single</td>\n",
       "      <td>1782</td>\n",
       "      <td>NaN</td>\n",
       "      <td>unknown</td>\n",
       "      <td>white</td>\n",
       "      <td>in</td>\n",
       "      <td>KRAS_G12D</td>\n",
       "      <td>hotspot</td>\n",
       "    </tr>\n",
       "    <tr>\n",
       "      <th>G12V</th>\n",
       "      <td>G12V</td>\n",
       "      <td>G12V</td>\n",
       "      <td>12</td>\n",
       "      <td>C</td>\n",
       "      <td>A</td>\n",
       "      <td>Single</td>\n",
       "      <td>1539</td>\n",
       "      <td>NaN</td>\n",
       "      <td>unknown</td>\n",
       "      <td>white</td>\n",
       "      <td>in</td>\n",
       "      <td>KRAS_G12V</td>\n",
       "      <td>hotspot</td>\n",
       "    </tr>\n",
       "    <tr>\n",
       "      <th>G12C</th>\n",
       "      <td>G12C</td>\n",
       "      <td>G12C</td>\n",
       "      <td>12</td>\n",
       "      <td>C</td>\n",
       "      <td>A</td>\n",
       "      <td>Single</td>\n",
       "      <td>1110</td>\n",
       "      <td>NaN</td>\n",
       "      <td>unknown</td>\n",
       "      <td>white</td>\n",
       "      <td>in</td>\n",
       "      <td>KRAS_G12C</td>\n",
       "      <td>hotspot</td>\n",
       "    </tr>\n",
       "    <tr>\n",
       "      <th>G13D</th>\n",
       "      <td>G13D</td>\n",
       "      <td>G13D</td>\n",
       "      <td>13</td>\n",
       "      <td>C</td>\n",
       "      <td>T</td>\n",
       "      <td>Single</td>\n",
       "      <td>582</td>\n",
       "      <td>NaN</td>\n",
       "      <td>unknown</td>\n",
       "      <td>white</td>\n",
       "      <td>not in library</td>\n",
       "      <td>NaN</td>\n",
       "      <td>hotspot</td>\n",
       "    </tr>\n",
       "    <tr>\n",
       "      <th>G12A</th>\n",
       "      <td>G12A</td>\n",
       "      <td>G12A</td>\n",
       "      <td>12</td>\n",
       "      <td>C</td>\n",
       "      <td>G</td>\n",
       "      <td>Single</td>\n",
       "      <td>353</td>\n",
       "      <td>NaN</td>\n",
       "      <td>unknown</td>\n",
       "      <td>white</td>\n",
       "      <td>in</td>\n",
       "      <td>KRAS_G12A</td>\n",
       "      <td>hotspot</td>\n",
       "    </tr>\n",
       "  </tbody>\n",
       "</table>\n",
       "</div>"
      ],
      "text/plain": [
       "        Variant Variant.1  Position From To mutation_type  Count_pancan  \\\n",
       "Variant                                                                   \n",
       "G12D       G12D      G12D        12    C  T        Single          1782   \n",
       "G12V       G12V      G12V        12    C  A        Single          1539   \n",
       "G12C       G12C      G12C        12    C  A        Single          1110   \n",
       "G13D       G13D      G13D        13    C  T        Single           582   \n",
       "G12A       G12A      G12A        12    C  G        Single           353   \n",
       "\n",
       "         Count_ExAC control_status control_color Library_synthesis  long_name  \\\n",
       "Variant                                                                         \n",
       "G12D            NaN        unknown         white                in  KRAS_G12D   \n",
       "G12V            NaN        unknown         white                in  KRAS_G12V   \n",
       "G12C            NaN        unknown         white                in  KRAS_G12C   \n",
       "G13D            NaN        unknown         white    not in library        NaN   \n",
       "G12A            NaN        unknown         white                in  KRAS_G12A   \n",
       "\n",
       "        control_status2  \n",
       "Variant                  \n",
       "G12D            hotspot  \n",
       "G12V            hotspot  \n",
       "G12C            hotspot  \n",
       "G13D            hotspot  \n",
       "G12A            hotspot  "
      ]
     },
     "execution_count": 26,
     "metadata": {},
     "output_type": "execute_result"
    }
   ],
   "source": [
    "#read in the annotation file to add the clusters to it\n",
    "FDR=0.01\n",
    "#original anno\n",
    "ANNO=DATA+'/'+PROTEIN+'/anno'\n",
    "anno=pd.read_csv(ANNO+'/'+PROTEIN+'.anno.complete2.csv',sep='\\t')\n",
    "anno.index=anno['Variant']\n",
    "\n",
    "anno['Position']=anno['Position'].astype('Int32')\n",
    "anno['Count_pancan']=anno['Count_pancan'].astype('Int32')\n",
    "anno['Count_ExAC']=anno['Count_ExAC'].astype('Int32')\n",
    "\n",
    "syn=list(set(anno.loc[anno['control_status']=='synonymous','Variant']).intersection(set(variants)))\n",
    "print(syn)\n",
    "anno.head()"
   ]
  },
  {
   "cell_type": "code",
   "execution_count": 27,
   "metadata": {},
   "outputs": [
    {
     "data": {
      "image/png": "[encoded data removed]",
      "text/plain": [
       "<Figure size 240x240 with 1 Axes>"
      ]
     },
     "metadata": {
      "image/png": {
       "height": 274,
       "width": 211
      }
     },
     "output_type": "display_data"
    }
   ],
   "source": [
    "score='HotellingT2'\n",
    "fdr_data['control_status2']=list(anno.loc[fdr_data['group2'],'control_status2']) \n",
    "\n",
    "mypal={'synonymous':'darkgray',\n",
    "      'ExAC':'lightgray','hotspot':'red','unknown':'black'}\n",
    "g =sns.catplot(x=\"control_status2\", y=score, \n",
    "              order=['synonymous','ExAC','hotspot','unknown'],\n",
    "              height=3, \n",
    "                aspect=1,legend=False,kind='swarm',data=fdr_data,\n",
    "              hue='control_status2',palette=mypal)\n",
    "\n",
    "ax1 = g.axes[0,0]\n",
    "ax1.axhline(y=score_thresh_value,color='black',linestyle='--')\n",
    "ax1.set_xlabel('',fontsize=20)\n",
    "ax1.set_ylabel('sc-eVIP score',fontsize=20)\n",
    "ax1.set_xticklabels(['synonymous','ExAC','hotspot','unknown'],rotation=45,fontsize=15,\n",
    "                   ha='right')\n",
    "ax1.set_yscale('log')\n",
    "\n",
    "plt.savefig(FIGS+'/'+PROTEIN+'.sceVIPscore_swarm.normal_perm.pdf',bbox_inches = \"tight\") \n",
    "plt.savefig(FIGS+'/'+PROTEIN+'.sceVIPscore_swarm.normal_perm.png',bbox_inches = \"tight\")"
   ]
  },
  {
   "cell_type": "code",
   "execution_count": 28,
   "metadata": {},
   "outputs": [],
   "source": [
    "def permute_labels_custom(adata_here,\n",
    "                  groups,\n",
    "                  reference,\n",
    "                  copy_adata=False,\n",
    "                  seedname=0):\n",
    "    import copy\n",
    "    \n",
    "    if copy_adata:\n",
    "        adata_here=copy.deepcopy(adata_here)\n",
    "    \n",
    "    df_here=adata_here.obs.loc[:,groups]\n",
    "    \n",
    "    #permute the columns\n",
    "    permuted_order=df_here.T.sample(frac=1,random_state=seedname).T\n",
    "    permuted_order.columns=groups\n",
    "    \n",
    "    #make sure the reference has as many cells as it had originally\n",
    "    num_cells_reference=int(df_here.sum(axis=0)[reference])\n",
    "    new_reference_cells=adata_here.obs_names[permuted_order[reference]>0]\n",
    "    permuted_order.index=adata_here.obs_names\n",
    "    \n",
    "    if len(new_reference_cells)>num_cells_reference:\n",
    "        permuted_order[reference]=0\n",
    "        permuted_order.loc[new_reference_cells[:num_cells_reference],reference]=1\n",
    "    \n",
    "    adata_here.uns['permuted']=permuted_order\n",
    "    \n",
    "    if copy_adata:\n",
    "        return(adata_here)\n",
    "\n",
    "def get_permuted_scores_custom(adata_here,\n",
    "                        groups,\n",
    "                        reference,\n",
    "                       num_perm=10,\n",
    "                        methods=['HotellingT2','bulk.pearson','bulk.spearman','bulk.L1'],\n",
    "                        num_pcs_hotelling=20):\n",
    "    \n",
    "    started=False\n",
    "    for perm in range(num_perm):\n",
    "        print('permutation',perm)\n",
    "        permute_labels_custom(adata_here,\n",
    "                  groups,reference,\n",
    "                  copy_adata=False,\n",
    "                    seedname=perm)\n",
    "        res_perm=compare_groups_with_reference(adata_here,\n",
    "                                 groups,\n",
    "                                 reference,\n",
    "                                 permuted=True,\n",
    "                                methods=methods,\n",
    "                                num_pcs_hotelling=num_pcs_hotelling)\n",
    "        if not started:\n",
    "            perm_scores=res_perm\n",
    "            started=True\n",
    "        else:\n",
    "            perm_scores=pd.concat([perm_scores,res_perm],axis=0)\n",
    "            \n",
    "    return(perm_scores)"
   ]
  },
  {
   "cell_type": "code",
   "execution_count": 29,
   "metadata": {},
   "outputs": [
    {
     "name": "stdout",
     "output_type": "stream",
     "text": [
      "permutation 0\n",
      "permutation 1\n",
      "permutation 2\n",
      "permutation 3\n",
      "permutation 4\n",
      "permutation 5\n",
      "permutation 6\n",
      "permutation 7\n",
      "permutation 8\n",
      "permutation 9\n"
     ]
    },
    {
     "name": "stderr",
     "output_type": "stream",
     "text": [
      "/ahg/regevdata/users/oursu/software/anaconda3/lib/python3.6/site-packages/ipykernel_launcher.py:170: FutureWarning: Sorting because non-concatenation axis is not aligned. A future version\n",
      "of pandas will change to not sort by default.\n",
      "\n",
      "To accept the future behavior, pass 'sort=False'.\n",
      "\n",
      "To retain the current behavior and silence the warning, pass 'sort=True'.\n",
      "\n"
     ]
    },
    {
     "data": {
      "image/png": "[encoded data removed]",
      "text/plain": [
       "<Figure size 320x320 with 1 Axes>"
      ]
     },
     "metadata": {
      "image/png": {
       "height": 318,
       "width": 312
      }
     },
     "output_type": "display_data"
    },
    {
     "data": {
      "image/png": "[encoded data removed]",
      "text/plain": [
       "<Figure size 320x320 with 1 Axes>"
      ]
     },
     "metadata": {
      "image/png": {
       "height": 318,
       "width": 322
      }
     },
     "output_type": "display_data"
    },
    {
     "data": {
      "image/png": "[encoded data removed]",
      "text/plain": [
       "<Figure size 320x320 with 1 Axes>"
      ]
     },
     "metadata": {
      "image/png": {
       "height": 318,
       "width": 312
      }
     },
     "output_type": "display_data"
    },
    {
     "data": {
      "image/png": "[encoded data removed]",
      "text/plain": [
       "<Figure size 320x320 with 1 Axes>"
      ]
     },
     "metadata": {
      "image/png": {
       "height": 318,
       "width": 312
      }
     },
     "output_type": "display_data"
    }
   ],
   "source": [
    "scores_perm_custom=get_permuted_scores_custom(adata,\n",
    "                                                         syn,\n",
    "                                                         ref,\n",
    "                                                         num_perm=10)\n",
    "\n",
    "#assign FDR based on permuted data\n",
    "fdr_data=compute_FDR(scores_real,\n",
    "                                scores_perm_custom,\n",
    "                                 methods=methods,\n",
    "                                 plot=True)"
   ]
  },
  {
   "cell_type": "code",
   "execution_count": 30,
   "metadata": {},
   "outputs": [],
   "source": [
    "score_thresh_value=get_threshold_at_FDR(fdr_data,method='HotellingT2',FDR=0.01)"
   ]
  },
  {
   "cell_type": "code",
   "execution_count": 31,
   "metadata": {},
   "outputs": [
    {
     "data": {
      "image/png": "[encoded data removed]",
      "text/plain": [
       "<Figure size 240x240 with 1 Axes>"
      ]
     },
     "metadata": {
      "image/png": {
       "height": 274,
       "width": 211
      }
     },
     "output_type": "display_data"
    }
   ],
   "source": [
    "score='HotellingT2'\n",
    "fdr_data['control_status2']=list(anno.loc[fdr_data['group2'],'control_status2']) \n",
    "\n",
    "mypal={'synonymous':'darkgray',\n",
    "      'ExAC':'lightgray','hotspot':'red','unknown':'black'}\n",
    "g =sns.catplot(x=\"control_status2\", y=score, \n",
    "              order=['synonymous','ExAC','hotspot','unknown'],\n",
    "              height=3, \n",
    "                aspect=1,legend=False,kind='swarm',data=fdr_data,\n",
    "              hue='control_status2',palette=mypal)\n",
    "\n",
    "ax1 = g.axes[0,0]\n",
    "ax1.axhline(y=score_thresh_value,color='black',linestyle='--')\n",
    "ax1.set_xlabel('',fontsize=20)\n",
    "ax1.set_ylabel('sc-eVIP score',fontsize=20)\n",
    "ax1.set_xticklabels(['synonymous','ExAC','hotspot','unknown'],rotation=45,fontsize=15,\n",
    "                   ha='right')\n",
    "ax1.set_yscale('log')\n",
    "\n",
    "plt.savefig(FIGS+'/'+PROTEIN+'.sceVIPscore_swarm.custom_perm.pdf',bbox_inches = \"tight\") \n",
    "plt.savefig(FIGS+'/'+PROTEIN+'.sceVIPscore_swarm.custom_perm.png',bbox_inches = \"tight\")"
   ]
  },
  {
   "cell_type": "code",
   "execution_count": 32,
   "metadata": {},
   "outputs": [],
   "source": [
    "#save scores\n",
    "fdr_data.to_csv(DATA+'/'+PROTEIN+'/scoring/'+PROTEIN+'.scores_vs_'+ref+'.csv')"
   ]
  },
  {
   "cell_type": "code",
   "execution_count": 34,
   "metadata": {},
   "outputs": [
    {
     "name": "stdout",
     "output_type": "stream",
     "text": [
      "subsampling: 1000 iteration: 0\n",
      "/ahg/regevdata/projects/bn10_cancer_variants/bn10_oana_2018-06-22/results/2018-06-22/results/2020-02-14/KRAS/scoring/KRAS.cellsPerVar1000.iter0.scores.gz\n",
      "warning: fewer cells than needed for G12S. skipping subsampling\n",
      "warning: fewer cells than needed for L52F. skipping subsampling\n",
      "warning: fewer cells than needed for K117N. skipping subsampling\n",
      "warning: fewer cells than needed for G12F. skipping subsampling\n",
      "warning: fewer cells than needed for P110S. skipping subsampling\n",
      "warning: fewer cells than needed for P34R. skipping subsampling\n",
      "warning: fewer cells than needed for G13V. skipping subsampling\n",
      "warning: fewer cells than needed for T74A. skipping subsampling\n",
      "warning: fewer cells than needed for Q61A. skipping subsampling\n",
      "warning: fewer cells than needed for Q61H. skipping subsampling\n",
      "warning: fewer cells than needed for G12C. skipping subsampling\n",
      "warning: fewer cells than needed for L19F. skipping subsampling\n",
      "warning: fewer cells than needed for G13C. skipping subsampling\n",
      "warning: fewer cells than needed for T50P. skipping subsampling\n",
      "warning: fewer cells than needed for V14I. skipping subsampling\n",
      "warning: fewer cells than needed for Q61K. skipping subsampling\n",
      "warning: fewer cells than needed for A59E. skipping subsampling\n",
      "warning: fewer cells than needed for G12R. skipping subsampling\n",
      "warning: fewer cells than needed for A146T. skipping subsampling\n",
      "warning: fewer cells than needed for AG11TD. skipping subsampling\n",
      "warning: fewer cells than needed for G13R. skipping subsampling\n",
      "warning: fewer cells than needed for Q61L. skipping subsampling\n",
      "warning: fewer cells than needed for S136N. skipping subsampling\n",
      "warning: fewer cells than needed for K117R. skipping subsampling\n",
      "warning: fewer cells than needed for T20R. skipping subsampling\n",
      "warning: fewer cells than needed for P34L. skipping subsampling\n",
      "warning: fewer cells than needed for WT. skipping subsampling\n",
      "warning: fewer cells than needed for Q61R. skipping subsampling\n",
      "warning: fewer cells than needed for K5E. skipping subsampling\n",
      "warning: fewer cells than needed for T58I. skipping subsampling\n",
      "warning: fewer cells than needed for G12A. skipping subsampling\n",
      "warning: fewer cells than needed for G12D. skipping subsampling\n",
      "warning: fewer cells than needed for D57N. skipping subsampling\n",
      "warning: fewer cells than needed for T50I. skipping subsampling\n",
      "warning: fewer cells than needed for E31K. skipping subsampling\n",
      "warning: fewer cells than needed for A155G. skipping subsampling\n",
      "warning: fewer cells than needed for R164Q. skipping subsampling\n",
      "warning: fewer cells than needed for T74T. skipping subsampling\n",
      "warning: fewer cells than needed for G13E. skipping subsampling\n",
      "warning: fewer cells than needed for G12V. skipping subsampling\n",
      "warning: fewer cells than needed for A59T. skipping subsampling\n",
      "warning: fewer cells than needed for N26Y. skipping subsampling\n",
      "warning: fewer cells than needed for G12Y. skipping subsampling\n",
      "warning: fewer cells than needed for Q22K. skipping subsampling\n",
      "warning: fewer cells than needed for D33E. skipping subsampling\n"
     ]
    },
    {
     "name": "stderr",
     "output_type": "stream",
     "text": [
      "Trying to set attribute `.uns` of view, copying.\n"
     ]
    },
    {
     "name": "stdout",
     "output_type": "stream",
     "text": [
      "permutation 0\n",
      "permutation 1\n",
      "permutation 2\n",
      "permutation 3\n",
      "permutation 4\n",
      "permutation 5\n",
      "permutation 6\n",
      "permutation 7\n",
      "permutation 8\n",
      "permutation 9\n",
      "subsampling: 1000 iteration: 1\n",
      "/ahg/regevdata/projects/bn10_cancer_variants/bn10_oana_2018-06-22/results/2018-06-22/results/2020-02-14/KRAS/scoring/KRAS.cellsPerVar1000.iter1.scores.gz\n",
      "warning: fewer cells than needed for G12S. skipping subsampling\n",
      "warning: fewer cells than needed for L52F. skipping subsampling\n",
      "warning: fewer cells than needed for K117N. skipping subsampling\n",
      "warning: fewer cells than needed for G12F. skipping subsampling\n",
      "warning: fewer cells than needed for P110S. skipping subsampling\n",
      "warning: fewer cells than needed for P34R. skipping subsampling\n",
      "warning: fewer cells than needed for G13V. skipping subsampling\n",
      "warning: fewer cells than needed for T74A. skipping subsampling\n",
      "warning: fewer cells than needed for Q61A. skipping subsampling\n",
      "warning: fewer cells than needed for Q61H. skipping subsampling\n",
      "warning: fewer cells than needed for G12C. skipping subsampling\n",
      "warning: fewer cells than needed for L19F. skipping subsampling\n",
      "warning: fewer cells than needed for G13C. skipping subsampling\n",
      "warning: fewer cells than needed for T50P. skipping subsampling\n",
      "warning: fewer cells than needed for V14I. skipping subsampling\n",
      "warning: fewer cells than needed for Q61K. skipping subsampling\n",
      "warning: fewer cells than needed for A59E. skipping subsampling\n",
      "warning: fewer cells than needed for G12R. skipping subsampling\n",
      "warning: fewer cells than needed for A146T. skipping subsampling\n",
      "warning: fewer cells than needed for AG11TD. skipping subsampling\n",
      "warning: fewer cells than needed for G13R. skipping subsampling\n",
      "warning: fewer cells than needed for Q61L. skipping subsampling\n",
      "warning: fewer cells than needed for S136N. skipping subsampling\n",
      "warning: fewer cells than needed for K117R. skipping subsampling\n",
      "warning: fewer cells than needed for T20R. skipping subsampling\n",
      "warning: fewer cells than needed for P34L. skipping subsampling\n",
      "warning: fewer cells than needed for WT. skipping subsampling\n",
      "warning: fewer cells than needed for Q61R. skipping subsampling\n",
      "warning: fewer cells than needed for K5E. skipping subsampling\n",
      "warning: fewer cells than needed for T58I. skipping subsampling\n",
      "warning: fewer cells than needed for G12A. skipping subsampling\n",
      "warning: fewer cells than needed for G12D. skipping subsampling\n",
      "warning: fewer cells than needed for D57N. skipping subsampling\n",
      "warning: fewer cells than needed for T50I. skipping subsampling\n",
      "warning: fewer cells than needed for E31K. skipping subsampling\n",
      "warning: fewer cells than needed for A155G. skipping subsampling\n",
      "warning: fewer cells than needed for R164Q. skipping subsampling\n",
      "warning: fewer cells than needed for T74T. skipping subsampling\n",
      "warning: fewer cells than needed for G13E. skipping subsampling\n",
      "warning: fewer cells than needed for G12V. skipping subsampling\n",
      "warning: fewer cells than needed for A59T. skipping subsampling\n",
      "warning: fewer cells than needed for N26Y. skipping subsampling\n",
      "warning: fewer cells than needed for G12Y. skipping subsampling\n",
      "warning: fewer cells than needed for Q22K. skipping subsampling\n",
      "warning: fewer cells than needed for D33E. skipping subsampling\n"
     ]
    },
    {
     "name": "stderr",
     "output_type": "stream",
     "text": [
      "Trying to set attribute `.uns` of view, copying.\n"
     ]
    },
    {
     "name": "stdout",
     "output_type": "stream",
     "text": [
      "permutation 0\n",
      "permutation 1\n",
      "permutation 2\n",
      "permutation 3\n",
      "permutation 4\n",
      "permutation 5\n",
      "permutation 6\n",
      "permutation 7\n",
      "permutation 8\n",
      "permutation 9\n",
      "subsampling: 1000 iteration: 2\n",
      "/ahg/regevdata/projects/bn10_cancer_variants/bn10_oana_2018-06-22/results/2018-06-22/results/2020-02-14/KRAS/scoring/KRAS.cellsPerVar1000.iter2.scores.gz\n",
      "warning: fewer cells than needed for G12S. skipping subsampling\n",
      "warning: fewer cells than needed for L52F. skipping subsampling\n",
      "warning: fewer cells than needed for K117N. skipping subsampling\n",
      "warning: fewer cells than needed for G12F. skipping subsampling\n",
      "warning: fewer cells than needed for P110S. skipping subsampling\n",
      "warning: fewer cells than needed for P34R. skipping subsampling\n",
      "warning: fewer cells than needed for G13V. skipping subsampling\n",
      "warning: fewer cells than needed for T74A. skipping subsampling\n",
      "warning: fewer cells than needed for Q61A. skipping subsampling\n",
      "warning: fewer cells than needed for Q61H. skipping subsampling\n",
      "warning: fewer cells than needed for G12C. skipping subsampling\n",
      "warning: fewer cells than needed for L19F. skipping subsampling\n",
      "warning: fewer cells than needed for G13C. skipping subsampling\n",
      "warning: fewer cells than needed for T50P. skipping subsampling\n",
      "warning: fewer cells than needed for V14I. skipping subsampling\n",
      "warning: fewer cells than needed for Q61K. skipping subsampling\n",
      "warning: fewer cells than needed for A59E. skipping subsampling\n",
      "warning: fewer cells than needed for G12R. skipping subsampling\n",
      "warning: fewer cells than needed for A146T. skipping subsampling\n",
      "warning: fewer cells than needed for AG11TD. skipping subsampling\n",
      "warning: fewer cells than needed for G13R. skipping subsampling\n",
      "warning: fewer cells than needed for Q61L. skipping subsampling\n",
      "warning: fewer cells than needed for S136N. skipping subsampling\n",
      "warning: fewer cells than needed for K117R. skipping subsampling\n",
      "warning: fewer cells than needed for T20R. skipping subsampling\n",
      "warning: fewer cells than needed for P34L. skipping subsampling\n",
      "warning: fewer cells than needed for WT. skipping subsampling\n",
      "warning: fewer cells than needed for Q61R. skipping subsampling\n",
      "warning: fewer cells than needed for K5E. skipping subsampling\n",
      "warning: fewer cells than needed for T58I. skipping subsampling\n",
      "warning: fewer cells than needed for G12A. skipping subsampling\n",
      "warning: fewer cells than needed for G12D. skipping subsampling\n",
      "warning: fewer cells than needed for D57N. skipping subsampling\n",
      "warning: fewer cells than needed for T50I. skipping subsampling\n",
      "warning: fewer cells than needed for E31K. skipping subsampling\n",
      "warning: fewer cells than needed for A155G. skipping subsampling\n",
      "warning: fewer cells than needed for R164Q. skipping subsampling\n",
      "warning: fewer cells than needed for T74T. skipping subsampling\n",
      "warning: fewer cells than needed for G13E. skipping subsampling\n",
      "warning: fewer cells than needed for G12V. skipping subsampling\n",
      "warning: fewer cells than needed for A59T. skipping subsampling\n",
      "warning: fewer cells than needed for N26Y. skipping subsampling\n",
      "warning: fewer cells than needed for G12Y. skipping subsampling\n",
      "warning: fewer cells than needed for Q22K. skipping subsampling\n",
      "warning: fewer cells than needed for D33E. skipping subsampling\n"
     ]
    },
    {
     "name": "stderr",
     "output_type": "stream",
     "text": [
      "Trying to set attribute `.uns` of view, copying.\n"
     ]
    },
    {
     "name": "stdout",
     "output_type": "stream",
     "text": [
      "permutation 0\n",
      "permutation 1\n",
      "permutation 2\n",
      "permutation 3\n",
      "permutation 4\n",
      "permutation 5\n",
      "permutation 6\n",
      "permutation 7\n",
      "permutation 8\n",
      "permutation 9\n",
      "subsampling: 1000 iteration: 3\n",
      "/ahg/regevdata/projects/bn10_cancer_variants/bn10_oana_2018-06-22/results/2018-06-22/results/2020-02-14/KRAS/scoring/KRAS.cellsPerVar1000.iter3.scores.gz\n",
      "warning: fewer cells than needed for G12S. skipping subsampling\n",
      "warning: fewer cells than needed for L52F. skipping subsampling\n",
      "warning: fewer cells than needed for K117N. skipping subsampling\n",
      "warning: fewer cells than needed for G12F. skipping subsampling\n",
      "warning: fewer cells than needed for P110S. skipping subsampling\n",
      "warning: fewer cells than needed for P34R. skipping subsampling\n",
      "warning: fewer cells than needed for G13V. skipping subsampling\n",
      "warning: fewer cells than needed for T74A. skipping subsampling\n",
      "warning: fewer cells than needed for Q61A. skipping subsampling\n",
      "warning: fewer cells than needed for Q61H. skipping subsampling\n",
      "warning: fewer cells than needed for G12C. skipping subsampling\n",
      "warning: fewer cells than needed for L19F. skipping subsampling\n",
      "warning: fewer cells than needed for G13C. skipping subsampling\n",
      "warning: fewer cells than needed for T50P. skipping subsampling\n",
      "warning: fewer cells than needed for V14I. skipping subsampling\n",
      "warning: fewer cells than needed for Q61K. skipping subsampling\n",
      "warning: fewer cells than needed for A59E. skipping subsampling\n",
      "warning: fewer cells than needed for G12R. skipping subsampling\n",
      "warning: fewer cells than needed for A146T. skipping subsampling\n",
      "warning: fewer cells than needed for AG11TD. skipping subsampling\n",
      "warning: fewer cells than needed for G13R. skipping subsampling\n",
      "warning: fewer cells than needed for Q61L. skipping subsampling\n",
      "warning: fewer cells than needed for S136N. skipping subsampling\n",
      "warning: fewer cells than needed for K117R. skipping subsampling\n",
      "warning: fewer cells than needed for T20R. skipping subsampling\n",
      "warning: fewer cells than needed for P34L. skipping subsampling\n",
      "warning: fewer cells than needed for WT. skipping subsampling\n",
      "warning: fewer cells than needed for Q61R. skipping subsampling\n",
      "warning: fewer cells than needed for K5E. skipping subsampling\n",
      "warning: fewer cells than needed for T58I. skipping subsampling\n",
      "warning: fewer cells than needed for G12A. skipping subsampling\n",
      "warning: fewer cells than needed for G12D. skipping subsampling\n",
      "warning: fewer cells than needed for D57N. skipping subsampling\n",
      "warning: fewer cells than needed for T50I. skipping subsampling\n",
      "warning: fewer cells than needed for E31K. skipping subsampling\n",
      "warning: fewer cells than needed for A155G. skipping subsampling\n",
      "warning: fewer cells than needed for R164Q. skipping subsampling\n",
      "warning: fewer cells than needed for T74T. skipping subsampling\n",
      "warning: fewer cells than needed for G13E. skipping subsampling\n",
      "warning: fewer cells than needed for G12V. skipping subsampling\n",
      "warning: fewer cells than needed for A59T. skipping subsampling\n",
      "warning: fewer cells than needed for N26Y. skipping subsampling\n",
      "warning: fewer cells than needed for G12Y. skipping subsampling\n",
      "warning: fewer cells than needed for Q22K. skipping subsampling\n",
      "warning: fewer cells than needed for D33E. skipping subsampling\n"
     ]
    },
    {
     "name": "stderr",
     "output_type": "stream",
     "text": [
      "Trying to set attribute `.uns` of view, copying.\n"
     ]
    },
    {
     "name": "stdout",
     "output_type": "stream",
     "text": [
      "permutation 0\n",
      "permutation 1\n",
      "permutation 2\n",
      "permutation 3\n",
      "permutation 4\n",
      "permutation 5\n",
      "permutation 6\n",
      "permutation 7\n",
      "permutation 8\n",
      "permutation 9\n",
      "subsampling: 1000 iteration: 4\n",
      "/ahg/regevdata/projects/bn10_cancer_variants/bn10_oana_2018-06-22/results/2018-06-22/results/2020-02-14/KRAS/scoring/KRAS.cellsPerVar1000.iter4.scores.gz\n",
      "warning: fewer cells than needed for G12S. skipping subsampling\n",
      "warning: fewer cells than needed for L52F. skipping subsampling\n",
      "warning: fewer cells than needed for K117N. skipping subsampling\n",
      "warning: fewer cells than needed for G12F. skipping subsampling\n",
      "warning: fewer cells than needed for P110S. skipping subsampling\n",
      "warning: fewer cells than needed for P34R. skipping subsampling\n",
      "warning: fewer cells than needed for G13V. skipping subsampling\n",
      "warning: fewer cells than needed for T74A. skipping subsampling\n",
      "warning: fewer cells than needed for Q61A. skipping subsampling\n",
      "warning: fewer cells than needed for Q61H. skipping subsampling\n",
      "warning: fewer cells than needed for G12C. skipping subsampling\n",
      "warning: fewer cells than needed for L19F. skipping subsampling\n",
      "warning: fewer cells than needed for G13C. skipping subsampling\n",
      "warning: fewer cells than needed for T50P. skipping subsampling\n",
      "warning: fewer cells than needed for V14I. skipping subsampling\n",
      "warning: fewer cells than needed for Q61K. skipping subsampling\n",
      "warning: fewer cells than needed for A59E. skipping subsampling\n",
      "warning: fewer cells than needed for G12R. skipping subsampling\n",
      "warning: fewer cells than needed for A146T. skipping subsampling\n",
      "warning: fewer cells than needed for AG11TD. skipping subsampling\n",
      "warning: fewer cells than needed for G13R. skipping subsampling\n",
      "warning: fewer cells than needed for Q61L. skipping subsampling\n",
      "warning: fewer cells than needed for S136N. skipping subsampling\n",
      "warning: fewer cells than needed for K117R. skipping subsampling\n",
      "warning: fewer cells than needed for T20R. skipping subsampling\n",
      "warning: fewer cells than needed for P34L. skipping subsampling\n",
      "warning: fewer cells than needed for WT. skipping subsampling\n",
      "warning: fewer cells than needed for Q61R. skipping subsampling\n",
      "warning: fewer cells than needed for K5E. skipping subsampling\n",
      "warning: fewer cells than needed for T58I. skipping subsampling\n",
      "warning: fewer cells than needed for G12A. skipping subsampling\n",
      "warning: fewer cells than needed for G12D. skipping subsampling\n",
      "warning: fewer cells than needed for D57N. skipping subsampling\n",
      "warning: fewer cells than needed for T50I. skipping subsampling\n",
      "warning: fewer cells than needed for E31K. skipping subsampling\n",
      "warning: fewer cells than needed for A155G. skipping subsampling\n",
      "warning: fewer cells than needed for R164Q. skipping subsampling\n",
      "warning: fewer cells than needed for T74T. skipping subsampling\n",
      "warning: fewer cells than needed for G13E. skipping subsampling\n",
      "warning: fewer cells than needed for G12V. skipping subsampling\n",
      "warning: fewer cells than needed for A59T. skipping subsampling\n",
      "warning: fewer cells than needed for N26Y. skipping subsampling\n",
      "warning: fewer cells than needed for G12Y. skipping subsampling\n",
      "warning: fewer cells than needed for Q22K. skipping subsampling\n",
      "warning: fewer cells than needed for D33E. skipping subsampling\n"
     ]
    },
    {
     "name": "stderr",
     "output_type": "stream",
     "text": [
      "Trying to set attribute `.uns` of view, copying.\n"
     ]
    },
    {
     "name": "stdout",
     "output_type": "stream",
     "text": [
      "permutation 0\n",
      "permutation 1\n",
      "permutation 2\n",
      "permutation 3\n",
      "permutation 4\n",
      "permutation 5\n",
      "permutation 6\n",
      "permutation 7\n",
      "permutation 8\n",
      "permutation 9\n",
      "subsampling: 1000 iteration: 5\n",
      "/ahg/regevdata/projects/bn10_cancer_variants/bn10_oana_2018-06-22/results/2018-06-22/results/2020-02-14/KRAS/scoring/KRAS.cellsPerVar1000.iter5.scores.gz\n",
      "warning: fewer cells than needed for G12S. skipping subsampling\n",
      "warning: fewer cells than needed for L52F. skipping subsampling\n",
      "warning: fewer cells than needed for K117N. skipping subsampling\n",
      "warning: fewer cells than needed for G12F. skipping subsampling\n",
      "warning: fewer cells than needed for P110S. skipping subsampling\n",
      "warning: fewer cells than needed for P34R. skipping subsampling\n",
      "warning: fewer cells than needed for G13V. skipping subsampling\n",
      "warning: fewer cells than needed for T74A. skipping subsampling\n",
      "warning: fewer cells than needed for Q61A. skipping subsampling\n",
      "warning: fewer cells than needed for Q61H. skipping subsampling\n",
      "warning: fewer cells than needed for G12C. skipping subsampling\n",
      "warning: fewer cells than needed for L19F. skipping subsampling\n",
      "warning: fewer cells than needed for G13C. skipping subsampling\n",
      "warning: fewer cells than needed for T50P. skipping subsampling\n",
      "warning: fewer cells than needed for V14I. skipping subsampling\n",
      "warning: fewer cells than needed for Q61K. skipping subsampling\n",
      "warning: fewer cells than needed for A59E. skipping subsampling\n",
      "warning: fewer cells than needed for G12R. skipping subsampling\n",
      "warning: fewer cells than needed for A146T. skipping subsampling\n",
      "warning: fewer cells than needed for AG11TD. skipping subsampling\n",
      "warning: fewer cells than needed for G13R. skipping subsampling\n",
      "warning: fewer cells than needed for Q61L. skipping subsampling\n",
      "warning: fewer cells than needed for S136N. skipping subsampling\n",
      "warning: fewer cells than needed for K117R. skipping subsampling\n",
      "warning: fewer cells than needed for T20R. skipping subsampling\n",
      "warning: fewer cells than needed for P34L. skipping subsampling\n",
      "warning: fewer cells than needed for WT. skipping subsampling\n",
      "warning: fewer cells than needed for Q61R. skipping subsampling\n",
      "warning: fewer cells than needed for K5E. skipping subsampling\n",
      "warning: fewer cells than needed for T58I. skipping subsampling\n",
      "warning: fewer cells than needed for G12A. skipping subsampling\n",
      "warning: fewer cells than needed for G12D. skipping subsampling\n",
      "warning: fewer cells than needed for D57N. skipping subsampling\n",
      "warning: fewer cells than needed for T50I. skipping subsampling\n",
      "warning: fewer cells than needed for E31K. skipping subsampling\n",
      "warning: fewer cells than needed for A155G. skipping subsampling\n",
      "warning: fewer cells than needed for R164Q. skipping subsampling\n",
      "warning: fewer cells than needed for T74T. skipping subsampling\n",
      "warning: fewer cells than needed for G13E. skipping subsampling\n",
      "warning: fewer cells than needed for G12V. skipping subsampling\n",
      "warning: fewer cells than needed for A59T. skipping subsampling\n",
      "warning: fewer cells than needed for N26Y. skipping subsampling\n",
      "warning: fewer cells than needed for G12Y. skipping subsampling\n",
      "warning: fewer cells than needed for Q22K. skipping subsampling\n",
      "warning: fewer cells than needed for D33E. skipping subsampling\n"
     ]
    },
    {
     "name": "stderr",
     "output_type": "stream",
     "text": [
      "Trying to set attribute `.uns` of view, copying.\n"
     ]
    },
    {
     "name": "stdout",
     "output_type": "stream",
     "text": [
      "permutation 0\n",
      "permutation 1\n",
      "permutation 2\n",
      "permutation 3\n",
      "permutation 4\n",
      "permutation 5\n",
      "permutation 6\n",
      "permutation 7\n",
      "permutation 8\n",
      "permutation 9\n",
      "subsampling: 1000 iteration: 6\n",
      "/ahg/regevdata/projects/bn10_cancer_variants/bn10_oana_2018-06-22/results/2018-06-22/results/2020-02-14/KRAS/scoring/KRAS.cellsPerVar1000.iter6.scores.gz\n",
      "warning: fewer cells than needed for G12S. skipping subsampling\n",
      "warning: fewer cells than needed for L52F. skipping subsampling\n",
      "warning: fewer cells than needed for K117N. skipping subsampling\n",
      "warning: fewer cells than needed for G12F. skipping subsampling\n",
      "warning: fewer cells than needed for P110S. skipping subsampling\n",
      "warning: fewer cells than needed for P34R. skipping subsampling\n",
      "warning: fewer cells than needed for G13V. skipping subsampling\n",
      "warning: fewer cells than needed for T74A. skipping subsampling\n",
      "warning: fewer cells than needed for Q61A. skipping subsampling\n",
      "warning: fewer cells than needed for Q61H. skipping subsampling\n",
      "warning: fewer cells than needed for G12C. skipping subsampling\n",
      "warning: fewer cells than needed for L19F. skipping subsampling\n",
      "warning: fewer cells than needed for G13C. skipping subsampling\n",
      "warning: fewer cells than needed for T50P. skipping subsampling\n",
      "warning: fewer cells than needed for V14I. skipping subsampling\n",
      "warning: fewer cells than needed for Q61K. skipping subsampling\n",
      "warning: fewer cells than needed for A59E. skipping subsampling\n",
      "warning: fewer cells than needed for G12R. skipping subsampling\n",
      "warning: fewer cells than needed for A146T. skipping subsampling\n",
      "warning: fewer cells than needed for AG11TD. skipping subsampling\n",
      "warning: fewer cells than needed for G13R. skipping subsampling\n",
      "warning: fewer cells than needed for Q61L. skipping subsampling\n",
      "warning: fewer cells than needed for S136N. skipping subsampling\n",
      "warning: fewer cells than needed for K117R. skipping subsampling\n",
      "warning: fewer cells than needed for T20R. skipping subsampling\n",
      "warning: fewer cells than needed for P34L. skipping subsampling\n",
      "warning: fewer cells than needed for WT. skipping subsampling\n",
      "warning: fewer cells than needed for Q61R. skipping subsampling\n",
      "warning: fewer cells than needed for K5E. skipping subsampling\n",
      "warning: fewer cells than needed for T58I. skipping subsampling\n",
      "warning: fewer cells than needed for G12A. skipping subsampling\n",
      "warning: fewer cells than needed for G12D. skipping subsampling\n",
      "warning: fewer cells than needed for D57N. skipping subsampling\n",
      "warning: fewer cells than needed for T50I. skipping subsampling\n",
      "warning: fewer cells than needed for E31K. skipping subsampling\n",
      "warning: fewer cells than needed for A155G. skipping subsampling\n",
      "warning: fewer cells than needed for R164Q. skipping subsampling\n",
      "warning: fewer cells than needed for T74T. skipping subsampling\n",
      "warning: fewer cells than needed for G13E. skipping subsampling\n",
      "warning: fewer cells than needed for G12V. skipping subsampling\n",
      "warning: fewer cells than needed for A59T. skipping subsampling\n",
      "warning: fewer cells than needed for N26Y. skipping subsampling\n",
      "warning: fewer cells than needed for G12Y. skipping subsampling\n",
      "warning: fewer cells than needed for Q22K. skipping subsampling\n",
      "warning: fewer cells than needed for D33E. skipping subsampling\n"
     ]
    },
    {
     "name": "stderr",
     "output_type": "stream",
     "text": [
      "Trying to set attribute `.uns` of view, copying.\n"
     ]
    },
    {
     "name": "stdout",
     "output_type": "stream",
     "text": [
      "permutation 0\n",
      "permutation 1\n",
      "permutation 2\n",
      "permutation 3\n",
      "permutation 4\n",
      "permutation 5\n",
      "permutation 6\n",
      "permutation 7\n",
      "permutation 8\n",
      "permutation 9\n",
      "subsampling: 1000 iteration: 7\n",
      "/ahg/regevdata/projects/bn10_cancer_variants/bn10_oana_2018-06-22/results/2018-06-22/results/2020-02-14/KRAS/scoring/KRAS.cellsPerVar1000.iter7.scores.gz\n",
      "warning: fewer cells than needed for G12S. skipping subsampling\n",
      "warning: fewer cells than needed for L52F. skipping subsampling\n",
      "warning: fewer cells than needed for K117N. skipping subsampling\n",
      "warning: fewer cells than needed for G12F. skipping subsampling\n",
      "warning: fewer cells than needed for P110S. skipping subsampling\n",
      "warning: fewer cells than needed for P34R. skipping subsampling\n",
      "warning: fewer cells than needed for G13V. skipping subsampling\n",
      "warning: fewer cells than needed for T74A. skipping subsampling\n",
      "warning: fewer cells than needed for Q61A. skipping subsampling\n",
      "warning: fewer cells than needed for Q61H. skipping subsampling\n",
      "warning: fewer cells than needed for G12C. skipping subsampling\n",
      "warning: fewer cells than needed for L19F. skipping subsampling\n",
      "warning: fewer cells than needed for G13C. skipping subsampling\n",
      "warning: fewer cells than needed for T50P. skipping subsampling\n",
      "warning: fewer cells than needed for V14I. skipping subsampling\n",
      "warning: fewer cells than needed for Q61K. skipping subsampling\n",
      "warning: fewer cells than needed for A59E. skipping subsampling\n",
      "warning: fewer cells than needed for G12R. skipping subsampling\n",
      "warning: fewer cells than needed for A146T. skipping subsampling\n",
      "warning: fewer cells than needed for AG11TD. skipping subsampling\n",
      "warning: fewer cells than needed for G13R. skipping subsampling\n",
      "warning: fewer cells than needed for Q61L. skipping subsampling\n",
      "warning: fewer cells than needed for S136N. skipping subsampling\n",
      "warning: fewer cells than needed for K117R. skipping subsampling\n",
      "warning: fewer cells than needed for T20R. skipping subsampling\n",
      "warning: fewer cells than needed for P34L. skipping subsampling\n",
      "warning: fewer cells than needed for WT. skipping subsampling\n",
      "warning: fewer cells than needed for Q61R. skipping subsampling\n",
      "warning: fewer cells than needed for K5E. skipping subsampling\n",
      "warning: fewer cells than needed for T58I. skipping subsampling\n",
      "warning: fewer cells than needed for G12A. skipping subsampling\n",
      "warning: fewer cells than needed for G12D. skipping subsampling\n",
      "warning: fewer cells than needed for D57N. skipping subsampling\n",
      "warning: fewer cells than needed for T50I. skipping subsampling\n",
      "warning: fewer cells than needed for E31K. skipping subsampling\n",
      "warning: fewer cells than needed for A155G. skipping subsampling\n",
      "warning: fewer cells than needed for R164Q. skipping subsampling\n",
      "warning: fewer cells than needed for T74T. skipping subsampling\n",
      "warning: fewer cells than needed for G13E. skipping subsampling\n",
      "warning: fewer cells than needed for G12V. skipping subsampling\n",
      "warning: fewer cells than needed for A59T. skipping subsampling\n",
      "warning: fewer cells than needed for N26Y. skipping subsampling\n",
      "warning: fewer cells than needed for G12Y. skipping subsampling\n",
      "warning: fewer cells than needed for Q22K. skipping subsampling\n",
      "warning: fewer cells than needed for D33E. skipping subsampling\n"
     ]
    },
    {
     "name": "stderr",
     "output_type": "stream",
     "text": [
      "Trying to set attribute `.uns` of view, copying.\n"
     ]
    },
    {
     "name": "stdout",
     "output_type": "stream",
     "text": [
      "permutation 0\n",
      "permutation 1\n",
      "permutation 2\n",
      "permutation 3\n",
      "permutation 4\n",
      "permutation 5\n",
      "permutation 6\n",
      "permutation 7\n",
      "permutation 8\n",
      "permutation 9\n",
      "subsampling: 1000 iteration: 8\n",
      "/ahg/regevdata/projects/bn10_cancer_variants/bn10_oana_2018-06-22/results/2018-06-22/results/2020-02-14/KRAS/scoring/KRAS.cellsPerVar1000.iter8.scores.gz\n",
      "warning: fewer cells than needed for G12S. skipping subsampling\n",
      "warning: fewer cells than needed for L52F. skipping subsampling\n",
      "warning: fewer cells than needed for K117N. skipping subsampling\n",
      "warning: fewer cells than needed for G12F. skipping subsampling\n",
      "warning: fewer cells than needed for P110S. skipping subsampling\n",
      "warning: fewer cells than needed for P34R. skipping subsampling\n",
      "warning: fewer cells than needed for G13V. skipping subsampling\n",
      "warning: fewer cells than needed for T74A. skipping subsampling\n",
      "warning: fewer cells than needed for Q61A. skipping subsampling\n",
      "warning: fewer cells than needed for Q61H. skipping subsampling\n",
      "warning: fewer cells than needed for G12C. skipping subsampling\n",
      "warning: fewer cells than needed for L19F. skipping subsampling\n",
      "warning: fewer cells than needed for G13C. skipping subsampling\n",
      "warning: fewer cells than needed for T50P. skipping subsampling\n",
      "warning: fewer cells than needed for V14I. skipping subsampling\n",
      "warning: fewer cells than needed for Q61K. skipping subsampling\n",
      "warning: fewer cells than needed for A59E. skipping subsampling\n",
      "warning: fewer cells than needed for G12R. skipping subsampling\n",
      "warning: fewer cells than needed for A146T. skipping subsampling\n",
      "warning: fewer cells than needed for AG11TD. skipping subsampling\n",
      "warning: fewer cells than needed for G13R. skipping subsampling\n",
      "warning: fewer cells than needed for Q61L. skipping subsampling\n",
      "warning: fewer cells than needed for S136N. skipping subsampling\n",
      "warning: fewer cells than needed for K117R. skipping subsampling\n",
      "warning: fewer cells than needed for T20R. skipping subsampling\n",
      "warning: fewer cells than needed for P34L. skipping subsampling\n",
      "warning: fewer cells than needed for WT. skipping subsampling\n",
      "warning: fewer cells than needed for Q61R. skipping subsampling\n",
      "warning: fewer cells than needed for K5E. skipping subsampling\n",
      "warning: fewer cells than needed for T58I. skipping subsampling\n",
      "warning: fewer cells than needed for G12A. skipping subsampling\n",
      "warning: fewer cells than needed for G12D. skipping subsampling\n",
      "warning: fewer cells than needed for D57N. skipping subsampling\n",
      "warning: fewer cells than needed for T50I. skipping subsampling\n",
      "warning: fewer cells than needed for E31K. skipping subsampling\n",
      "warning: fewer cells than needed for A155G. skipping subsampling\n",
      "warning: fewer cells than needed for R164Q. skipping subsampling\n",
      "warning: fewer cells than needed for T74T. skipping subsampling\n",
      "warning: fewer cells than needed for G13E. skipping subsampling\n",
      "warning: fewer cells than needed for G12V. skipping subsampling\n",
      "warning: fewer cells than needed for A59T. skipping subsampling\n",
      "warning: fewer cells than needed for N26Y. skipping subsampling\n",
      "warning: fewer cells than needed for G12Y. skipping subsampling\n",
      "warning: fewer cells than needed for Q22K. skipping subsampling\n",
      "warning: fewer cells than needed for D33E. skipping subsampling\n"
     ]
    },
    {
     "name": "stderr",
     "output_type": "stream",
     "text": [
      "Trying to set attribute `.uns` of view, copying.\n"
     ]
    },
    {
     "name": "stdout",
     "output_type": "stream",
     "text": [
      "permutation 0\n",
      "permutation 1\n",
      "permutation 2\n",
      "permutation 3\n",
      "permutation 4\n",
      "permutation 5\n",
      "permutation 6\n",
      "permutation 7\n",
      "permutation 8\n",
      "permutation 9\n",
      "subsampling: 1000 iteration: 9\n",
      "/ahg/regevdata/projects/bn10_cancer_variants/bn10_oana_2018-06-22/results/2018-06-22/results/2020-02-14/KRAS/scoring/KRAS.cellsPerVar1000.iter9.scores.gz\n",
      "warning: fewer cells than needed for G12S. skipping subsampling\n",
      "warning: fewer cells than needed for L52F. skipping subsampling\n",
      "warning: fewer cells than needed for K117N. skipping subsampling\n",
      "warning: fewer cells than needed for G12F. skipping subsampling\n",
      "warning: fewer cells than needed for P110S. skipping subsampling\n",
      "warning: fewer cells than needed for P34R. skipping subsampling\n",
      "warning: fewer cells than needed for G13V. skipping subsampling\n",
      "warning: fewer cells than needed for T74A. skipping subsampling\n",
      "warning: fewer cells than needed for Q61A. skipping subsampling\n",
      "warning: fewer cells than needed for Q61H. skipping subsampling\n",
      "warning: fewer cells than needed for G12C. skipping subsampling\n",
      "warning: fewer cells than needed for L19F. skipping subsampling\n",
      "warning: fewer cells than needed for G13C. skipping subsampling\n",
      "warning: fewer cells than needed for T50P. skipping subsampling\n",
      "warning: fewer cells than needed for V14I. skipping subsampling\n",
      "warning: fewer cells than needed for Q61K. skipping subsampling\n",
      "warning: fewer cells than needed for A59E. skipping subsampling\n",
      "warning: fewer cells than needed for G12R. skipping subsampling\n",
      "warning: fewer cells than needed for A146T. skipping subsampling\n",
      "warning: fewer cells than needed for AG11TD. skipping subsampling\n",
      "warning: fewer cells than needed for G13R. skipping subsampling\n",
      "warning: fewer cells than needed for Q61L. skipping subsampling\n",
      "warning: fewer cells than needed for S136N. skipping subsampling\n",
      "warning: fewer cells than needed for K117R. skipping subsampling\n",
      "warning: fewer cells than needed for T20R. skipping subsampling\n",
      "warning: fewer cells than needed for P34L. skipping subsampling\n",
      "warning: fewer cells than needed for WT. skipping subsampling\n",
      "warning: fewer cells than needed for Q61R. skipping subsampling\n",
      "warning: fewer cells than needed for K5E. skipping subsampling\n",
      "warning: fewer cells than needed for T58I. skipping subsampling\n",
      "warning: fewer cells than needed for G12A. skipping subsampling\n",
      "warning: fewer cells than needed for G12D. skipping subsampling\n",
      "warning: fewer cells than needed for D57N. skipping subsampling\n",
      "warning: fewer cells than needed for T50I. skipping subsampling\n",
      "warning: fewer cells than needed for E31K. skipping subsampling\n",
      "warning: fewer cells than needed for A155G. skipping subsampling\n",
      "warning: fewer cells than needed for R164Q. skipping subsampling\n",
      "warning: fewer cells than needed for T74T. skipping subsampling\n",
      "warning: fewer cells than needed for G13E. skipping subsampling\n",
      "warning: fewer cells than needed for G12V. skipping subsampling\n",
      "warning: fewer cells than needed for A59T. skipping subsampling\n",
      "warning: fewer cells than needed for N26Y. skipping subsampling\n",
      "warning: fewer cells than needed for G12Y. skipping subsampling\n",
      "warning: fewer cells than needed for Q22K. skipping subsampling\n",
      "warning: fewer cells than needed for D33E. skipping subsampling\n"
     ]
    },
    {
     "name": "stderr",
     "output_type": "stream",
     "text": [
      "Trying to set attribute `.uns` of view, copying.\n"
     ]
    },
    {
     "name": "stdout",
     "output_type": "stream",
     "text": [
      "permutation 0\n",
      "permutation 1\n",
      "permutation 2\n",
      "permutation 3\n",
      "permutation 4\n",
      "permutation 5\n",
      "permutation 6\n",
      "permutation 7\n",
      "permutation 8\n",
      "permutation 9\n",
      "subsampling: 900 iteration: 0\n",
      "/ahg/regevdata/projects/bn10_cancer_variants/bn10_oana_2018-06-22/results/2018-06-22/results/2020-02-14/KRAS/scoring/KRAS.cellsPerVar900.iter0.scores.gz\n",
      "warning: fewer cells than needed for G12S. skipping subsampling\n",
      "warning: fewer cells than needed for L52F. skipping subsampling\n",
      "warning: fewer cells than needed for K117N. skipping subsampling\n",
      "warning: fewer cells than needed for G12F. skipping subsampling\n",
      "warning: fewer cells than needed for P110S. skipping subsampling\n",
      "warning: fewer cells than needed for P34R. skipping subsampling\n",
      "warning: fewer cells than needed for G13V. skipping subsampling\n",
      "warning: fewer cells than needed for T74A. skipping subsampling\n",
      "warning: fewer cells than needed for Q61A. skipping subsampling\n",
      "warning: fewer cells than needed for G12C. skipping subsampling\n",
      "warning: fewer cells than needed for L19F. skipping subsampling\n",
      "warning: fewer cells than needed for G13C. skipping subsampling\n",
      "warning: fewer cells than needed for V14I. skipping subsampling\n",
      "warning: fewer cells than needed for Q61K. skipping subsampling\n",
      "warning: fewer cells than needed for G12R. skipping subsampling\n",
      "warning: fewer cells than needed for AG11TD. skipping subsampling\n",
      "warning: fewer cells than needed for G13R. skipping subsampling\n",
      "warning: fewer cells than needed for Q61L. skipping subsampling\n",
      "warning: fewer cells than needed for K117R. skipping subsampling\n",
      "warning: fewer cells than needed for T20R. skipping subsampling\n",
      "warning: fewer cells than needed for P34L. skipping subsampling\n",
      "warning: fewer cells than needed for WT. skipping subsampling\n",
      "warning: fewer cells than needed for K5E. skipping subsampling\n",
      "warning: fewer cells than needed for G12D. skipping subsampling\n",
      "warning: fewer cells than needed for T50I. skipping subsampling\n",
      "warning: fewer cells than needed for A155G. skipping subsampling\n",
      "warning: fewer cells than needed for G13E. skipping subsampling\n",
      "warning: fewer cells than needed for G12V. skipping subsampling\n",
      "warning: fewer cells than needed for N26Y. skipping subsampling\n",
      "warning: fewer cells than needed for G12Y. skipping subsampling\n",
      "warning: fewer cells than needed for Q22K. skipping subsampling\n",
      "warning: fewer cells than needed for D33E. skipping subsampling\n"
     ]
    },
    {
     "name": "stderr",
     "output_type": "stream",
     "text": [
      "Trying to set attribute `.uns` of view, copying.\n"
     ]
    },
    {
     "name": "stdout",
     "output_type": "stream",
     "text": [
      "permutation 0\n",
      "permutation 1\n",
      "permutation 2\n",
      "permutation 3\n",
      "permutation 4\n",
      "permutation 5\n",
      "permutation 6\n",
      "permutation 7\n",
      "permutation 8\n",
      "permutation 9\n",
      "subsampling: 900 iteration: 1\n",
      "/ahg/regevdata/projects/bn10_cancer_variants/bn10_oana_2018-06-22/results/2018-06-22/results/2020-02-14/KRAS/scoring/KRAS.cellsPerVar900.iter1.scores.gz\n",
      "warning: fewer cells than needed for G12S. skipping subsampling\n",
      "warning: fewer cells than needed for L52F. skipping subsampling\n",
      "warning: fewer cells than needed for K117N. skipping subsampling\n",
      "warning: fewer cells than needed for G12F. skipping subsampling\n",
      "warning: fewer cells than needed for P110S. skipping subsampling\n",
      "warning: fewer cells than needed for P34R. skipping subsampling\n",
      "warning: fewer cells than needed for G13V. skipping subsampling\n",
      "warning: fewer cells than needed for T74A. skipping subsampling\n",
      "warning: fewer cells than needed for Q61A. skipping subsampling\n",
      "warning: fewer cells than needed for G12C. skipping subsampling\n",
      "warning: fewer cells than needed for L19F. skipping subsampling\n",
      "warning: fewer cells than needed for G13C. skipping subsampling\n",
      "warning: fewer cells than needed for V14I. skipping subsampling\n",
      "warning: fewer cells than needed for Q61K. skipping subsampling\n",
      "warning: fewer cells than needed for G12R. skipping subsampling\n",
      "warning: fewer cells than needed for AG11TD. skipping subsampling\n",
      "warning: fewer cells than needed for G13R. skipping subsampling\n",
      "warning: fewer cells than needed for Q61L. skipping subsampling\n",
      "warning: fewer cells than needed for K117R. skipping subsampling\n",
      "warning: fewer cells than needed for T20R. skipping subsampling\n",
      "warning: fewer cells than needed for P34L. skipping subsampling\n",
      "warning: fewer cells than needed for WT. skipping subsampling\n",
      "warning: fewer cells than needed for K5E. skipping subsampling\n",
      "warning: fewer cells than needed for G12D. skipping subsampling\n",
      "warning: fewer cells than needed for T50I. skipping subsampling\n",
      "warning: fewer cells than needed for A155G. skipping subsampling\n",
      "warning: fewer cells than needed for G13E. skipping subsampling\n",
      "warning: fewer cells than needed for G12V. skipping subsampling\n",
      "warning: fewer cells than needed for N26Y. skipping subsampling\n",
      "warning: fewer cells than needed for G12Y. skipping subsampling\n",
      "warning: fewer cells than needed for Q22K. skipping subsampling\n",
      "warning: fewer cells than needed for D33E. skipping subsampling\n"
     ]
    },
    {
     "name": "stderr",
     "output_type": "stream",
     "text": [
      "Trying to set attribute `.uns` of view, copying.\n"
     ]
    },
    {
     "name": "stdout",
     "output_type": "stream",
     "text": [
      "permutation 0\n",
      "permutation 1\n",
      "permutation 2\n",
      "permutation 3\n",
      "permutation 4\n",
      "permutation 5\n",
      "permutation 6\n",
      "permutation 7\n",
      "permutation 8\n",
      "permutation 9\n",
      "subsampling: 900 iteration: 2\n",
      "/ahg/regevdata/projects/bn10_cancer_variants/bn10_oana_2018-06-22/results/2018-06-22/results/2020-02-14/KRAS/scoring/KRAS.cellsPerVar900.iter2.scores.gz\n",
      "warning: fewer cells than needed for G12S. skipping subsampling\n",
      "warning: fewer cells than needed for L52F. skipping subsampling\n",
      "warning: fewer cells than needed for K117N. skipping subsampling\n",
      "warning: fewer cells than needed for G12F. skipping subsampling\n",
      "warning: fewer cells than needed for P110S. skipping subsampling\n",
      "warning: fewer cells than needed for P34R. skipping subsampling\n",
      "warning: fewer cells than needed for G13V. skipping subsampling\n",
      "warning: fewer cells than needed for T74A. skipping subsampling\n",
      "warning: fewer cells than needed for Q61A. skipping subsampling\n",
      "warning: fewer cells than needed for G12C. skipping subsampling\n",
      "warning: fewer cells than needed for L19F. skipping subsampling\n",
      "warning: fewer cells than needed for G13C. skipping subsampling\n",
      "warning: fewer cells than needed for V14I. skipping subsampling\n",
      "warning: fewer cells than needed for Q61K. skipping subsampling\n",
      "warning: fewer cells than needed for G12R. skipping subsampling\n",
      "warning: fewer cells than needed for AG11TD. skipping subsampling\n",
      "warning: fewer cells than needed for G13R. skipping subsampling\n",
      "warning: fewer cells than needed for Q61L. skipping subsampling\n",
      "warning: fewer cells than needed for K117R. skipping subsampling\n",
      "warning: fewer cells than needed for T20R. skipping subsampling\n",
      "warning: fewer cells than needed for P34L. skipping subsampling\n",
      "warning: fewer cells than needed for WT. skipping subsampling\n",
      "warning: fewer cells than needed for K5E. skipping subsampling\n",
      "warning: fewer cells than needed for G12D. skipping subsampling\n",
      "warning: fewer cells than needed for T50I. skipping subsampling\n",
      "warning: fewer cells than needed for A155G. skipping subsampling\n",
      "warning: fewer cells than needed for G13E. skipping subsampling\n",
      "warning: fewer cells than needed for G12V. skipping subsampling\n",
      "warning: fewer cells than needed for N26Y. skipping subsampling\n",
      "warning: fewer cells than needed for G12Y. skipping subsampling\n",
      "warning: fewer cells than needed for Q22K. skipping subsampling\n",
      "warning: fewer cells than needed for D33E. skipping subsampling\n"
     ]
    },
    {
     "name": "stderr",
     "output_type": "stream",
     "text": [
      "Trying to set attribute `.uns` of view, copying.\n"
     ]
    },
    {
     "name": "stdout",
     "output_type": "stream",
     "text": [
      "permutation 0\n",
      "permutation 1\n",
      "permutation 2\n",
      "permutation 3\n",
      "permutation 4\n",
      "permutation 5\n",
      "permutation 6\n",
      "permutation 7\n",
      "permutation 8\n",
      "permutation 9\n",
      "subsampling: 900 iteration: 3\n",
      "/ahg/regevdata/projects/bn10_cancer_variants/bn10_oana_2018-06-22/results/2018-06-22/results/2020-02-14/KRAS/scoring/KRAS.cellsPerVar900.iter3.scores.gz\n",
      "warning: fewer cells than needed for G12S. skipping subsampling\n",
      "warning: fewer cells than needed for L52F. skipping subsampling\n",
      "warning: fewer cells than needed for K117N. skipping subsampling\n",
      "warning: fewer cells than needed for G12F. skipping subsampling\n",
      "warning: fewer cells than needed for P110S. skipping subsampling\n",
      "warning: fewer cells than needed for P34R. skipping subsampling\n",
      "warning: fewer cells than needed for G13V. skipping subsampling\n",
      "warning: fewer cells than needed for T74A. skipping subsampling\n",
      "warning: fewer cells than needed for Q61A. skipping subsampling\n",
      "warning: fewer cells than needed for G12C. skipping subsampling\n",
      "warning: fewer cells than needed for L19F. skipping subsampling\n",
      "warning: fewer cells than needed for G13C. skipping subsampling\n",
      "warning: fewer cells than needed for V14I. skipping subsampling\n",
      "warning: fewer cells than needed for Q61K. skipping subsampling\n",
      "warning: fewer cells than needed for G12R. skipping subsampling\n",
      "warning: fewer cells than needed for AG11TD. skipping subsampling\n",
      "warning: fewer cells than needed for G13R. skipping subsampling\n",
      "warning: fewer cells than needed for Q61L. skipping subsampling\n",
      "warning: fewer cells than needed for K117R. skipping subsampling\n",
      "warning: fewer cells than needed for T20R. skipping subsampling\n",
      "warning: fewer cells than needed for P34L. skipping subsampling\n",
      "warning: fewer cells than needed for WT. skipping subsampling\n",
      "warning: fewer cells than needed for K5E. skipping subsampling\n",
      "warning: fewer cells than needed for G12D. skipping subsampling\n",
      "warning: fewer cells than needed for T50I. skipping subsampling\n",
      "warning: fewer cells than needed for A155G. skipping subsampling\n",
      "warning: fewer cells than needed for G13E. skipping subsampling\n",
      "warning: fewer cells than needed for G12V. skipping subsampling\n",
      "warning: fewer cells than needed for N26Y. skipping subsampling\n",
      "warning: fewer cells than needed for G12Y. skipping subsampling\n",
      "warning: fewer cells than needed for Q22K. skipping subsampling\n",
      "warning: fewer cells than needed for D33E. skipping subsampling\n"
     ]
    },
    {
     "name": "stderr",
     "output_type": "stream",
     "text": [
      "Trying to set attribute `.uns` of view, copying.\n"
     ]
    },
    {
     "name": "stdout",
     "output_type": "stream",
     "text": [
      "permutation 0\n",
      "permutation 1\n",
      "permutation 2\n",
      "permutation 3\n",
      "permutation 4\n",
      "permutation 5\n",
      "permutation 6\n",
      "permutation 7\n",
      "permutation 8\n",
      "permutation 9\n",
      "subsampling: 900 iteration: 4\n",
      "/ahg/regevdata/projects/bn10_cancer_variants/bn10_oana_2018-06-22/results/2018-06-22/results/2020-02-14/KRAS/scoring/KRAS.cellsPerVar900.iter4.scores.gz\n",
      "warning: fewer cells than needed for G12S. skipping subsampling\n",
      "warning: fewer cells than needed for L52F. skipping subsampling\n",
      "warning: fewer cells than needed for K117N. skipping subsampling\n",
      "warning: fewer cells than needed for G12F. skipping subsampling\n",
      "warning: fewer cells than needed for P110S. skipping subsampling\n",
      "warning: fewer cells than needed for P34R. skipping subsampling\n",
      "warning: fewer cells than needed for G13V. skipping subsampling\n",
      "warning: fewer cells than needed for T74A. skipping subsampling\n",
      "warning: fewer cells than needed for Q61A. skipping subsampling\n",
      "warning: fewer cells than needed for G12C. skipping subsampling\n",
      "warning: fewer cells than needed for L19F. skipping subsampling\n",
      "warning: fewer cells than needed for G13C. skipping subsampling\n",
      "warning: fewer cells than needed for V14I. skipping subsampling\n",
      "warning: fewer cells than needed for Q61K. skipping subsampling\n",
      "warning: fewer cells than needed for G12R. skipping subsampling\n",
      "warning: fewer cells than needed for AG11TD. skipping subsampling\n",
      "warning: fewer cells than needed for G13R. skipping subsampling\n",
      "warning: fewer cells than needed for Q61L. skipping subsampling\n",
      "warning: fewer cells than needed for K117R. skipping subsampling\n",
      "warning: fewer cells than needed for T20R. skipping subsampling\n",
      "warning: fewer cells than needed for P34L. skipping subsampling\n",
      "warning: fewer cells than needed for WT. skipping subsampling\n",
      "warning: fewer cells than needed for K5E. skipping subsampling\n",
      "warning: fewer cells than needed for G12D. skipping subsampling\n",
      "warning: fewer cells than needed for T50I. skipping subsampling\n",
      "warning: fewer cells than needed for A155G. skipping subsampling\n",
      "warning: fewer cells than needed for G13E. skipping subsampling\n",
      "warning: fewer cells than needed for G12V. skipping subsampling\n",
      "warning: fewer cells than needed for N26Y. skipping subsampling\n",
      "warning: fewer cells than needed for G12Y. skipping subsampling\n",
      "warning: fewer cells than needed for Q22K. skipping subsampling\n",
      "warning: fewer cells than needed for D33E. skipping subsampling\n"
     ]
    },
    {
     "name": "stderr",
     "output_type": "stream",
     "text": [
      "Trying to set attribute `.uns` of view, copying.\n"
     ]
    },
    {
     "name": "stdout",
     "output_type": "stream",
     "text": [
      "permutation 0\n",
      "permutation 1\n",
      "permutation 2\n",
      "permutation 3\n",
      "permutation 4\n",
      "permutation 5\n",
      "permutation 6\n",
      "permutation 7\n",
      "permutation 8\n",
      "permutation 9\n",
      "subsampling: 900 iteration: 5\n",
      "/ahg/regevdata/projects/bn10_cancer_variants/bn10_oana_2018-06-22/results/2018-06-22/results/2020-02-14/KRAS/scoring/KRAS.cellsPerVar900.iter5.scores.gz\n",
      "warning: fewer cells than needed for G12S. skipping subsampling\n",
      "warning: fewer cells than needed for L52F. skipping subsampling\n",
      "warning: fewer cells than needed for K117N. skipping subsampling\n",
      "warning: fewer cells than needed for G12F. skipping subsampling\n",
      "warning: fewer cells than needed for P110S. skipping subsampling\n",
      "warning: fewer cells than needed for P34R. skipping subsampling\n",
      "warning: fewer cells than needed for G13V. skipping subsampling\n",
      "warning: fewer cells than needed for T74A. skipping subsampling\n",
      "warning: fewer cells than needed for Q61A. skipping subsampling\n",
      "warning: fewer cells than needed for G12C. skipping subsampling\n",
      "warning: fewer cells than needed for L19F. skipping subsampling\n",
      "warning: fewer cells than needed for G13C. skipping subsampling\n",
      "warning: fewer cells than needed for V14I. skipping subsampling\n",
      "warning: fewer cells than needed for Q61K. skipping subsampling\n",
      "warning: fewer cells than needed for G12R. skipping subsampling\n",
      "warning: fewer cells than needed for AG11TD. skipping subsampling\n",
      "warning: fewer cells than needed for G13R. skipping subsampling\n",
      "warning: fewer cells than needed for Q61L. skipping subsampling\n",
      "warning: fewer cells than needed for K117R. skipping subsampling\n",
      "warning: fewer cells than needed for T20R. skipping subsampling\n",
      "warning: fewer cells than needed for P34L. skipping subsampling\n",
      "warning: fewer cells than needed for WT. skipping subsampling\n",
      "warning: fewer cells than needed for K5E. skipping subsampling\n",
      "warning: fewer cells than needed for G12D. skipping subsampling\n",
      "warning: fewer cells than needed for T50I. skipping subsampling\n",
      "warning: fewer cells than needed for A155G. skipping subsampling\n",
      "warning: fewer cells than needed for G13E. skipping subsampling\n",
      "warning: fewer cells than needed for G12V. skipping subsampling\n",
      "warning: fewer cells than needed for N26Y. skipping subsampling\n",
      "warning: fewer cells than needed for G12Y. skipping subsampling\n",
      "warning: fewer cells than needed for Q22K. skipping subsampling\n",
      "warning: fewer cells than needed for D33E. skipping subsampling\n"
     ]
    },
    {
     "name": "stderr",
     "output_type": "stream",
     "text": [
      "Trying to set attribute `.uns` of view, copying.\n"
     ]
    },
    {
     "name": "stdout",
     "output_type": "stream",
     "text": [
      "permutation 0\n",
      "permutation 1\n",
      "permutation 2\n",
      "permutation 3\n",
      "permutation 4\n",
      "permutation 5\n",
      "permutation 6\n",
      "permutation 7\n",
      "permutation 8\n",
      "permutation 9\n",
      "subsampling: 900 iteration: 6\n",
      "/ahg/regevdata/projects/bn10_cancer_variants/bn10_oana_2018-06-22/results/2018-06-22/results/2020-02-14/KRAS/scoring/KRAS.cellsPerVar900.iter6.scores.gz\n",
      "warning: fewer cells than needed for G12S. skipping subsampling\n",
      "warning: fewer cells than needed for L52F. skipping subsampling\n",
      "warning: fewer cells than needed for K117N. skipping subsampling\n",
      "warning: fewer cells than needed for G12F. skipping subsampling\n",
      "warning: fewer cells than needed for P110S. skipping subsampling\n",
      "warning: fewer cells than needed for P34R. skipping subsampling\n",
      "warning: fewer cells than needed for G13V. skipping subsampling\n",
      "warning: fewer cells than needed for T74A. skipping subsampling\n",
      "warning: fewer cells than needed for Q61A. skipping subsampling\n",
      "warning: fewer cells than needed for G12C. skipping subsampling\n",
      "warning: fewer cells than needed for L19F. skipping subsampling\n",
      "warning: fewer cells than needed for G13C. skipping subsampling\n",
      "warning: fewer cells than needed for V14I. skipping subsampling\n",
      "warning: fewer cells than needed for Q61K. skipping subsampling\n",
      "warning: fewer cells than needed for G12R. skipping subsampling\n",
      "warning: fewer cells than needed for AG11TD. skipping subsampling\n",
      "warning: fewer cells than needed for G13R. skipping subsampling\n",
      "warning: fewer cells than needed for Q61L. skipping subsampling\n",
      "warning: fewer cells than needed for K117R. skipping subsampling\n",
      "warning: fewer cells than needed for T20R. skipping subsampling\n",
      "warning: fewer cells than needed for P34L. skipping subsampling\n",
      "warning: fewer cells than needed for WT. skipping subsampling\n",
      "warning: fewer cells than needed for K5E. skipping subsampling\n",
      "warning: fewer cells than needed for G12D. skipping subsampling\n",
      "warning: fewer cells than needed for T50I. skipping subsampling\n",
      "warning: fewer cells than needed for A155G. skipping subsampling\n",
      "warning: fewer cells than needed for G13E. skipping subsampling\n",
      "warning: fewer cells than needed for G12V. skipping subsampling\n",
      "warning: fewer cells than needed for N26Y. skipping subsampling\n",
      "warning: fewer cells than needed for G12Y. skipping subsampling\n",
      "warning: fewer cells than needed for Q22K. skipping subsampling\n",
      "warning: fewer cells than needed for D33E. skipping subsampling\n"
     ]
    },
    {
     "name": "stderr",
     "output_type": "stream",
     "text": [
      "Trying to set attribute `.uns` of view, copying.\n"
     ]
    },
    {
     "name": "stdout",
     "output_type": "stream",
     "text": [
      "permutation 0\n",
      "permutation 1\n",
      "permutation 2\n",
      "permutation 3\n",
      "permutation 4\n",
      "permutation 5\n",
      "permutation 6\n",
      "permutation 7\n",
      "permutation 8\n",
      "permutation 9\n",
      "subsampling: 900 iteration: 7\n",
      "/ahg/regevdata/projects/bn10_cancer_variants/bn10_oana_2018-06-22/results/2018-06-22/results/2020-02-14/KRAS/scoring/KRAS.cellsPerVar900.iter7.scores.gz\n",
      "warning: fewer cells than needed for G12S. skipping subsampling\n",
      "warning: fewer cells than needed for L52F. skipping subsampling\n",
      "warning: fewer cells than needed for K117N. skipping subsampling\n",
      "warning: fewer cells than needed for G12F. skipping subsampling\n",
      "warning: fewer cells than needed for P110S. skipping subsampling\n",
      "warning: fewer cells than needed for P34R. skipping subsampling\n",
      "warning: fewer cells than needed for G13V. skipping subsampling\n",
      "warning: fewer cells than needed for T74A. skipping subsampling\n",
      "warning: fewer cells than needed for Q61A. skipping subsampling\n",
      "warning: fewer cells than needed for G12C. skipping subsampling\n",
      "warning: fewer cells than needed for L19F. skipping subsampling\n",
      "warning: fewer cells than needed for G13C. skipping subsampling\n",
      "warning: fewer cells than needed for V14I. skipping subsampling\n",
      "warning: fewer cells than needed for Q61K. skipping subsampling\n",
      "warning: fewer cells than needed for G12R. skipping subsampling\n",
      "warning: fewer cells than needed for AG11TD. skipping subsampling\n",
      "warning: fewer cells than needed for G13R. skipping subsampling\n",
      "warning: fewer cells than needed for Q61L. skipping subsampling\n",
      "warning: fewer cells than needed for K117R. skipping subsampling\n",
      "warning: fewer cells than needed for T20R. skipping subsampling\n",
      "warning: fewer cells than needed for P34L. skipping subsampling\n",
      "warning: fewer cells than needed for WT. skipping subsampling\n",
      "warning: fewer cells than needed for K5E. skipping subsampling\n",
      "warning: fewer cells than needed for G12D. skipping subsampling\n",
      "warning: fewer cells than needed for T50I. skipping subsampling\n",
      "warning: fewer cells than needed for A155G. skipping subsampling\n",
      "warning: fewer cells than needed for G13E. skipping subsampling\n",
      "warning: fewer cells than needed for G12V. skipping subsampling\n",
      "warning: fewer cells than needed for N26Y. skipping subsampling\n",
      "warning: fewer cells than needed for G12Y. skipping subsampling\n",
      "warning: fewer cells than needed for Q22K. skipping subsampling\n",
      "warning: fewer cells than needed for D33E. skipping subsampling\n"
     ]
    },
    {
     "name": "stderr",
     "output_type": "stream",
     "text": [
      "Trying to set attribute `.uns` of view, copying.\n"
     ]
    },
    {
     "name": "stdout",
     "output_type": "stream",
     "text": [
      "permutation 0\n",
      "permutation 1\n",
      "permutation 2\n",
      "permutation 3\n",
      "permutation 4\n",
      "permutation 5\n",
      "permutation 6\n",
      "permutation 7\n",
      "permutation 8\n",
      "permutation 9\n",
      "subsampling: 900 iteration: 8\n",
      "/ahg/regevdata/projects/bn10_cancer_variants/bn10_oana_2018-06-22/results/2018-06-22/results/2020-02-14/KRAS/scoring/KRAS.cellsPerVar900.iter8.scores.gz\n",
      "warning: fewer cells than needed for G12S. skipping subsampling\n",
      "warning: fewer cells than needed for L52F. skipping subsampling\n",
      "warning: fewer cells than needed for K117N. skipping subsampling\n",
      "warning: fewer cells than needed for G12F. skipping subsampling\n",
      "warning: fewer cells than needed for P110S. skipping subsampling\n",
      "warning: fewer cells than needed for P34R. skipping subsampling\n",
      "warning: fewer cells than needed for G13V. skipping subsampling\n",
      "warning: fewer cells than needed for T74A. skipping subsampling\n",
      "warning: fewer cells than needed for Q61A. skipping subsampling\n",
      "warning: fewer cells than needed for G12C. skipping subsampling\n",
      "warning: fewer cells than needed for L19F. skipping subsampling\n",
      "warning: fewer cells than needed for G13C. skipping subsampling\n",
      "warning: fewer cells than needed for V14I. skipping subsampling\n",
      "warning: fewer cells than needed for Q61K. skipping subsampling\n",
      "warning: fewer cells than needed for G12R. skipping subsampling\n",
      "warning: fewer cells than needed for AG11TD. skipping subsampling\n",
      "warning: fewer cells than needed for G13R. skipping subsampling\n",
      "warning: fewer cells than needed for Q61L. skipping subsampling\n",
      "warning: fewer cells than needed for K117R. skipping subsampling\n",
      "warning: fewer cells than needed for T20R. skipping subsampling\n",
      "warning: fewer cells than needed for P34L. skipping subsampling\n",
      "warning: fewer cells than needed for WT. skipping subsampling\n",
      "warning: fewer cells than needed for K5E. skipping subsampling\n",
      "warning: fewer cells than needed for G12D. skipping subsampling\n",
      "warning: fewer cells than needed for T50I. skipping subsampling\n",
      "warning: fewer cells than needed for A155G. skipping subsampling\n",
      "warning: fewer cells than needed for G13E. skipping subsampling\n",
      "warning: fewer cells than needed for G12V. skipping subsampling\n",
      "warning: fewer cells than needed for N26Y. skipping subsampling\n",
      "warning: fewer cells than needed for G12Y. skipping subsampling\n",
      "warning: fewer cells than needed for Q22K. skipping subsampling\n",
      "warning: fewer cells than needed for D33E. skipping subsampling\n"
     ]
    },
    {
     "name": "stderr",
     "output_type": "stream",
     "text": [
      "Trying to set attribute `.uns` of view, copying.\n"
     ]
    },
    {
     "name": "stdout",
     "output_type": "stream",
     "text": [
      "permutation 0\n",
      "permutation 1\n",
      "permutation 2\n",
      "permutation 3\n",
      "permutation 4\n",
      "permutation 5\n",
      "permutation 6\n",
      "permutation 7\n",
      "permutation 8\n",
      "permutation 9\n",
      "subsampling: 900 iteration: 9\n",
      "/ahg/regevdata/projects/bn10_cancer_variants/bn10_oana_2018-06-22/results/2018-06-22/results/2020-02-14/KRAS/scoring/KRAS.cellsPerVar900.iter9.scores.gz\n",
      "warning: fewer cells than needed for G12S. skipping subsampling\n",
      "warning: fewer cells than needed for L52F. skipping subsampling\n",
      "warning: fewer cells than needed for K117N. skipping subsampling\n",
      "warning: fewer cells than needed for G12F. skipping subsampling\n",
      "warning: fewer cells than needed for P110S. skipping subsampling\n",
      "warning: fewer cells than needed for P34R. skipping subsampling\n",
      "warning: fewer cells than needed for G13V. skipping subsampling\n",
      "warning: fewer cells than needed for T74A. skipping subsampling\n",
      "warning: fewer cells than needed for Q61A. skipping subsampling\n",
      "warning: fewer cells than needed for G12C. skipping subsampling\n",
      "warning: fewer cells than needed for L19F. skipping subsampling\n",
      "warning: fewer cells than needed for G13C. skipping subsampling\n",
      "warning: fewer cells than needed for V14I. skipping subsampling\n",
      "warning: fewer cells than needed for Q61K. skipping subsampling\n",
      "warning: fewer cells than needed for G12R. skipping subsampling\n",
      "warning: fewer cells than needed for AG11TD. skipping subsampling\n",
      "warning: fewer cells than needed for G13R. skipping subsampling\n",
      "warning: fewer cells than needed for Q61L. skipping subsampling\n",
      "warning: fewer cells than needed for K117R. skipping subsampling\n",
      "warning: fewer cells than needed for T20R. skipping subsampling\n",
      "warning: fewer cells than needed for P34L. skipping subsampling\n",
      "warning: fewer cells than needed for WT. skipping subsampling\n",
      "warning: fewer cells than needed for K5E. skipping subsampling\n",
      "warning: fewer cells than needed for G12D. skipping subsampling\n",
      "warning: fewer cells than needed for T50I. skipping subsampling\n",
      "warning: fewer cells than needed for A155G. skipping subsampling\n",
      "warning: fewer cells than needed for G13E. skipping subsampling\n",
      "warning: fewer cells than needed for G12V. skipping subsampling\n",
      "warning: fewer cells than needed for N26Y. skipping subsampling\n",
      "warning: fewer cells than needed for G12Y. skipping subsampling\n",
      "warning: fewer cells than needed for Q22K. skipping subsampling\n",
      "warning: fewer cells than needed for D33E. skipping subsampling\n"
     ]
    },
    {
     "name": "stderr",
     "output_type": "stream",
     "text": [
      "Trying to set attribute `.uns` of view, copying.\n"
     ]
    },
    {
     "name": "stdout",
     "output_type": "stream",
     "text": [
      "permutation 0\n",
      "permutation 1\n",
      "permutation 2\n",
      "permutation 3\n",
      "permutation 4\n",
      "permutation 5\n",
      "permutation 6\n",
      "permutation 7\n",
      "permutation 8\n",
      "permutation 9\n",
      "subsampling: 800 iteration: 0\n",
      "/ahg/regevdata/projects/bn10_cancer_variants/bn10_oana_2018-06-22/results/2018-06-22/results/2020-02-14/KRAS/scoring/KRAS.cellsPerVar800.iter0.scores.gz\n",
      "warning: fewer cells than needed for G12S. skipping subsampling\n",
      "warning: fewer cells than needed for L52F. skipping subsampling\n",
      "warning: fewer cells than needed for G12F. skipping subsampling\n",
      "warning: fewer cells than needed for G13V. skipping subsampling\n",
      "warning: fewer cells than needed for Q61A. skipping subsampling\n",
      "warning: fewer cells than needed for G12C. skipping subsampling\n",
      "warning: fewer cells than needed for L19F. skipping subsampling\n",
      "warning: fewer cells than needed for G13C. skipping subsampling\n",
      "warning: fewer cells than needed for Q61K. skipping subsampling\n",
      "warning: fewer cells than needed for G12R. skipping subsampling\n",
      "warning: fewer cells than needed for AG11TD. skipping subsampling\n",
      "warning: fewer cells than needed for G13R. skipping subsampling\n",
      "warning: fewer cells than needed for T20R. skipping subsampling\n",
      "warning: fewer cells than needed for P34L. skipping subsampling\n",
      "warning: fewer cells than needed for WT. skipping subsampling\n",
      "warning: fewer cells than needed for K5E. skipping subsampling\n",
      "warning: fewer cells than needed for G12D. skipping subsampling\n",
      "warning: fewer cells than needed for G13E. skipping subsampling\n",
      "warning: fewer cells than needed for G12V. skipping subsampling\n",
      "warning: fewer cells than needed for N26Y. skipping subsampling\n",
      "warning: fewer cells than needed for G12Y. skipping subsampling\n",
      "warning: fewer cells than needed for D33E. skipping subsampling\n"
     ]
    },
    {
     "name": "stderr",
     "output_type": "stream",
     "text": [
      "Trying to set attribute `.uns` of view, copying.\n"
     ]
    },
    {
     "name": "stdout",
     "output_type": "stream",
     "text": [
      "permutation 0\n",
      "permutation 1\n",
      "permutation 2\n",
      "permutation 3\n",
      "permutation 4\n",
      "permutation 5\n",
      "permutation 6\n",
      "permutation 7\n",
      "permutation 8\n",
      "permutation 9\n",
      "subsampling: 800 iteration: 1\n",
      "/ahg/regevdata/projects/bn10_cancer_variants/bn10_oana_2018-06-22/results/2018-06-22/results/2020-02-14/KRAS/scoring/KRAS.cellsPerVar800.iter1.scores.gz\n",
      "warning: fewer cells than needed for G12S. skipping subsampling\n",
      "warning: fewer cells than needed for L52F. skipping subsampling\n",
      "warning: fewer cells than needed for G12F. skipping subsampling\n",
      "warning: fewer cells than needed for G13V. skipping subsampling\n",
      "warning: fewer cells than needed for Q61A. skipping subsampling\n",
      "warning: fewer cells than needed for G12C. skipping subsampling\n",
      "warning: fewer cells than needed for L19F. skipping subsampling\n",
      "warning: fewer cells than needed for G13C. skipping subsampling\n",
      "warning: fewer cells than needed for Q61K. skipping subsampling\n",
      "warning: fewer cells than needed for G12R. skipping subsampling\n",
      "warning: fewer cells than needed for AG11TD. skipping subsampling\n",
      "warning: fewer cells than needed for G13R. skipping subsampling\n",
      "warning: fewer cells than needed for T20R. skipping subsampling\n",
      "warning: fewer cells than needed for P34L. skipping subsampling\n",
      "warning: fewer cells than needed for WT. skipping subsampling\n",
      "warning: fewer cells than needed for K5E. skipping subsampling\n",
      "warning: fewer cells than needed for G12D. skipping subsampling\n",
      "warning: fewer cells than needed for G13E. skipping subsampling\n",
      "warning: fewer cells than needed for G12V. skipping subsampling\n",
      "warning: fewer cells than needed for N26Y. skipping subsampling\n",
      "warning: fewer cells than needed for G12Y. skipping subsampling\n",
      "warning: fewer cells than needed for D33E. skipping subsampling\n"
     ]
    },
    {
     "name": "stderr",
     "output_type": "stream",
     "text": [
      "Trying to set attribute `.uns` of view, copying.\n"
     ]
    },
    {
     "name": "stdout",
     "output_type": "stream",
     "text": [
      "permutation 0\n",
      "permutation 1\n",
      "permutation 2\n",
      "permutation 3\n",
      "permutation 4\n",
      "permutation 5\n",
      "permutation 6\n",
      "permutation 7\n",
      "permutation 8\n",
      "permutation 9\n",
      "subsampling: 800 iteration: 2\n",
      "/ahg/regevdata/projects/bn10_cancer_variants/bn10_oana_2018-06-22/results/2018-06-22/results/2020-02-14/KRAS/scoring/KRAS.cellsPerVar800.iter2.scores.gz\n",
      "warning: fewer cells than needed for G12S. skipping subsampling\n",
      "warning: fewer cells than needed for L52F. skipping subsampling\n",
      "warning: fewer cells than needed for G12F. skipping subsampling\n",
      "warning: fewer cells than needed for G13V. skipping subsampling\n",
      "warning: fewer cells than needed for Q61A. skipping subsampling\n",
      "warning: fewer cells than needed for G12C. skipping subsampling\n",
      "warning: fewer cells than needed for L19F. skipping subsampling\n",
      "warning: fewer cells than needed for G13C. skipping subsampling\n",
      "warning: fewer cells than needed for Q61K. skipping subsampling\n",
      "warning: fewer cells than needed for G12R. skipping subsampling\n",
      "warning: fewer cells than needed for AG11TD. skipping subsampling\n",
      "warning: fewer cells than needed for G13R. skipping subsampling\n",
      "warning: fewer cells than needed for T20R. skipping subsampling\n",
      "warning: fewer cells than needed for P34L. skipping subsampling\n",
      "warning: fewer cells than needed for WT. skipping subsampling\n",
      "warning: fewer cells than needed for K5E. skipping subsampling\n",
      "warning: fewer cells than needed for G12D. skipping subsampling\n",
      "warning: fewer cells than needed for G13E. skipping subsampling\n",
      "warning: fewer cells than needed for G12V. skipping subsampling\n",
      "warning: fewer cells than needed for N26Y. skipping subsampling\n",
      "warning: fewer cells than needed for G12Y. skipping subsampling\n",
      "warning: fewer cells than needed for D33E. skipping subsampling\n"
     ]
    },
    {
     "name": "stderr",
     "output_type": "stream",
     "text": [
      "Trying to set attribute `.uns` of view, copying.\n"
     ]
    },
    {
     "name": "stdout",
     "output_type": "stream",
     "text": [
      "permutation 0\n",
      "permutation 1\n",
      "permutation 2\n",
      "permutation 3\n",
      "permutation 4\n",
      "permutation 5\n",
      "permutation 6\n",
      "permutation 7\n",
      "permutation 8\n",
      "permutation 9\n",
      "subsampling: 800 iteration: 3\n",
      "/ahg/regevdata/projects/bn10_cancer_variants/bn10_oana_2018-06-22/results/2018-06-22/results/2020-02-14/KRAS/scoring/KRAS.cellsPerVar800.iter3.scores.gz\n",
      "warning: fewer cells than needed for G12S. skipping subsampling\n",
      "warning: fewer cells than needed for L52F. skipping subsampling\n",
      "warning: fewer cells than needed for G12F. skipping subsampling\n",
      "warning: fewer cells than needed for G13V. skipping subsampling\n",
      "warning: fewer cells than needed for Q61A. skipping subsampling\n",
      "warning: fewer cells than needed for G12C. skipping subsampling\n",
      "warning: fewer cells than needed for L19F. skipping subsampling\n",
      "warning: fewer cells than needed for G13C. skipping subsampling\n",
      "warning: fewer cells than needed for Q61K. skipping subsampling\n",
      "warning: fewer cells than needed for G12R. skipping subsampling\n",
      "warning: fewer cells than needed for AG11TD. skipping subsampling\n",
      "warning: fewer cells than needed for G13R. skipping subsampling\n",
      "warning: fewer cells than needed for T20R. skipping subsampling\n",
      "warning: fewer cells than needed for P34L. skipping subsampling\n",
      "warning: fewer cells than needed for WT. skipping subsampling\n",
      "warning: fewer cells than needed for K5E. skipping subsampling\n",
      "warning: fewer cells than needed for G12D. skipping subsampling\n",
      "warning: fewer cells than needed for G13E. skipping subsampling\n",
      "warning: fewer cells than needed for G12V. skipping subsampling\n",
      "warning: fewer cells than needed for N26Y. skipping subsampling\n",
      "warning: fewer cells than needed for G12Y. skipping subsampling\n",
      "warning: fewer cells than needed for D33E. skipping subsampling\n"
     ]
    },
    {
     "name": "stderr",
     "output_type": "stream",
     "text": [
      "Trying to set attribute `.uns` of view, copying.\n"
     ]
    },
    {
     "name": "stdout",
     "output_type": "stream",
     "text": [
      "permutation 0\n",
      "permutation 1\n",
      "permutation 2\n",
      "permutation 3\n",
      "permutation 4\n",
      "permutation 5\n",
      "permutation 6\n",
      "permutation 7\n",
      "permutation 8\n",
      "permutation 9\n",
      "subsampling: 800 iteration: 4\n",
      "/ahg/regevdata/projects/bn10_cancer_variants/bn10_oana_2018-06-22/results/2018-06-22/results/2020-02-14/KRAS/scoring/KRAS.cellsPerVar800.iter4.scores.gz\n",
      "warning: fewer cells than needed for G12S. skipping subsampling\n",
      "warning: fewer cells than needed for L52F. skipping subsampling\n",
      "warning: fewer cells than needed for G12F. skipping subsampling\n",
      "warning: fewer cells than needed for G13V. skipping subsampling\n",
      "warning: fewer cells than needed for Q61A. skipping subsampling\n",
      "warning: fewer cells than needed for G12C. skipping subsampling\n",
      "warning: fewer cells than needed for L19F. skipping subsampling\n",
      "warning: fewer cells than needed for G13C. skipping subsampling\n",
      "warning: fewer cells than needed for Q61K. skipping subsampling\n",
      "warning: fewer cells than needed for G12R. skipping subsampling\n",
      "warning: fewer cells than needed for AG11TD. skipping subsampling\n",
      "warning: fewer cells than needed for G13R. skipping subsampling\n",
      "warning: fewer cells than needed for T20R. skipping subsampling\n",
      "warning: fewer cells than needed for P34L. skipping subsampling\n",
      "warning: fewer cells than needed for WT. skipping subsampling\n",
      "warning: fewer cells than needed for K5E. skipping subsampling\n",
      "warning: fewer cells than needed for G12D. skipping subsampling\n",
      "warning: fewer cells than needed for G13E. skipping subsampling\n",
      "warning: fewer cells than needed for G12V. skipping subsampling\n",
      "warning: fewer cells than needed for N26Y. skipping subsampling\n",
      "warning: fewer cells than needed for G12Y. skipping subsampling\n",
      "warning: fewer cells than needed for D33E. skipping subsampling\n"
     ]
    },
    {
     "name": "stderr",
     "output_type": "stream",
     "text": [
      "Trying to set attribute `.uns` of view, copying.\n"
     ]
    },
    {
     "name": "stdout",
     "output_type": "stream",
     "text": [
      "permutation 0\n",
      "permutation 1\n",
      "permutation 2\n",
      "permutation 3\n",
      "permutation 4\n",
      "permutation 5\n",
      "permutation 6\n",
      "permutation 7\n",
      "permutation 8\n",
      "permutation 9\n",
      "subsampling: 800 iteration: 5\n",
      "/ahg/regevdata/projects/bn10_cancer_variants/bn10_oana_2018-06-22/results/2018-06-22/results/2020-02-14/KRAS/scoring/KRAS.cellsPerVar800.iter5.scores.gz\n",
      "warning: fewer cells than needed for G12S. skipping subsampling\n",
      "warning: fewer cells than needed for L52F. skipping subsampling\n",
      "warning: fewer cells than needed for G12F. skipping subsampling\n",
      "warning: fewer cells than needed for G13V. skipping subsampling\n",
      "warning: fewer cells than needed for Q61A. skipping subsampling\n",
      "warning: fewer cells than needed for G12C. skipping subsampling\n",
      "warning: fewer cells than needed for L19F. skipping subsampling\n",
      "warning: fewer cells than needed for G13C. skipping subsampling\n",
      "warning: fewer cells than needed for Q61K. skipping subsampling\n",
      "warning: fewer cells than needed for G12R. skipping subsampling\n",
      "warning: fewer cells than needed for AG11TD. skipping subsampling\n",
      "warning: fewer cells than needed for G13R. skipping subsampling\n",
      "warning: fewer cells than needed for T20R. skipping subsampling\n",
      "warning: fewer cells than needed for P34L. skipping subsampling\n",
      "warning: fewer cells than needed for WT. skipping subsampling\n",
      "warning: fewer cells than needed for K5E. skipping subsampling\n",
      "warning: fewer cells than needed for G12D. skipping subsampling\n",
      "warning: fewer cells than needed for G13E. skipping subsampling\n",
      "warning: fewer cells than needed for G12V. skipping subsampling\n",
      "warning: fewer cells than needed for N26Y. skipping subsampling\n",
      "warning: fewer cells than needed for G12Y. skipping subsampling\n",
      "warning: fewer cells than needed for D33E. skipping subsampling\n"
     ]
    },
    {
     "name": "stderr",
     "output_type": "stream",
     "text": [
      "Trying to set attribute `.uns` of view, copying.\n"
     ]
    },
    {
     "name": "stdout",
     "output_type": "stream",
     "text": [
      "permutation 0\n",
      "permutation 1\n",
      "permutation 2\n",
      "permutation 3\n",
      "permutation 4\n",
      "permutation 5\n",
      "permutation 6\n",
      "permutation 7\n",
      "permutation 8\n",
      "permutation 9\n",
      "subsampling: 800 iteration: 6\n",
      "/ahg/regevdata/projects/bn10_cancer_variants/bn10_oana_2018-06-22/results/2018-06-22/results/2020-02-14/KRAS/scoring/KRAS.cellsPerVar800.iter6.scores.gz\n",
      "warning: fewer cells than needed for G12S. skipping subsampling\n",
      "warning: fewer cells than needed for L52F. skipping subsampling\n",
      "warning: fewer cells than needed for G12F. skipping subsampling\n",
      "warning: fewer cells than needed for G13V. skipping subsampling\n",
      "warning: fewer cells than needed for Q61A. skipping subsampling\n",
      "warning: fewer cells than needed for G12C. skipping subsampling\n",
      "warning: fewer cells than needed for L19F. skipping subsampling\n",
      "warning: fewer cells than needed for G13C. skipping subsampling\n",
      "warning: fewer cells than needed for Q61K. skipping subsampling\n",
      "warning: fewer cells than needed for G12R. skipping subsampling\n",
      "warning: fewer cells than needed for AG11TD. skipping subsampling\n",
      "warning: fewer cells than needed for G13R. skipping subsampling\n",
      "warning: fewer cells than needed for T20R. skipping subsampling\n",
      "warning: fewer cells than needed for P34L. skipping subsampling\n",
      "warning: fewer cells than needed for WT. skipping subsampling\n",
      "warning: fewer cells than needed for K5E. skipping subsampling\n",
      "warning: fewer cells than needed for G12D. skipping subsampling\n",
      "warning: fewer cells than needed for G13E. skipping subsampling\n",
      "warning: fewer cells than needed for G12V. skipping subsampling\n",
      "warning: fewer cells than needed for N26Y. skipping subsampling\n",
      "warning: fewer cells than needed for G12Y. skipping subsampling\n",
      "warning: fewer cells than needed for D33E. skipping subsampling\n"
     ]
    },
    {
     "name": "stderr",
     "output_type": "stream",
     "text": [
      "Trying to set attribute `.uns` of view, copying.\n"
     ]
    },
    {
     "name": "stdout",
     "output_type": "stream",
     "text": [
      "permutation 0\n",
      "permutation 1\n",
      "permutation 2\n",
      "permutation 3\n",
      "permutation 4\n",
      "permutation 5\n",
      "permutation 6\n",
      "permutation 7\n",
      "permutation 8\n",
      "permutation 9\n",
      "subsampling: 800 iteration: 7\n",
      "/ahg/regevdata/projects/bn10_cancer_variants/bn10_oana_2018-06-22/results/2018-06-22/results/2020-02-14/KRAS/scoring/KRAS.cellsPerVar800.iter7.scores.gz\n",
      "warning: fewer cells than needed for G12S. skipping subsampling\n",
      "warning: fewer cells than needed for L52F. skipping subsampling\n",
      "warning: fewer cells than needed for G12F. skipping subsampling\n",
      "warning: fewer cells than needed for G13V. skipping subsampling\n",
      "warning: fewer cells than needed for Q61A. skipping subsampling\n",
      "warning: fewer cells than needed for G12C. skipping subsampling\n",
      "warning: fewer cells than needed for L19F. skipping subsampling\n",
      "warning: fewer cells than needed for G13C. skipping subsampling\n",
      "warning: fewer cells than needed for Q61K. skipping subsampling\n",
      "warning: fewer cells than needed for G12R. skipping subsampling\n",
      "warning: fewer cells than needed for AG11TD. skipping subsampling\n",
      "warning: fewer cells than needed for G13R. skipping subsampling\n",
      "warning: fewer cells than needed for T20R. skipping subsampling\n",
      "warning: fewer cells than needed for P34L. skipping subsampling\n",
      "warning: fewer cells than needed for WT. skipping subsampling\n",
      "warning: fewer cells than needed for K5E. skipping subsampling\n",
      "warning: fewer cells than needed for G12D. skipping subsampling\n",
      "warning: fewer cells than needed for G13E. skipping subsampling\n",
      "warning: fewer cells than needed for G12V. skipping subsampling\n",
      "warning: fewer cells than needed for N26Y. skipping subsampling\n",
      "warning: fewer cells than needed for G12Y. skipping subsampling\n",
      "warning: fewer cells than needed for D33E. skipping subsampling\n"
     ]
    },
    {
     "name": "stderr",
     "output_type": "stream",
     "text": [
      "Trying to set attribute `.uns` of view, copying.\n"
     ]
    },
    {
     "name": "stdout",
     "output_type": "stream",
     "text": [
      "permutation 0\n",
      "permutation 1\n",
      "permutation 2\n",
      "permutation 3\n",
      "permutation 4\n",
      "permutation 5\n",
      "permutation 6\n",
      "permutation 7\n",
      "permutation 8\n",
      "permutation 9\n",
      "subsampling: 800 iteration: 8\n",
      "/ahg/regevdata/projects/bn10_cancer_variants/bn10_oana_2018-06-22/results/2018-06-22/results/2020-02-14/KRAS/scoring/KRAS.cellsPerVar800.iter8.scores.gz\n",
      "warning: fewer cells than needed for G12S. skipping subsampling\n",
      "warning: fewer cells than needed for L52F. skipping subsampling\n",
      "warning: fewer cells than needed for G12F. skipping subsampling\n",
      "warning: fewer cells than needed for G13V. skipping subsampling\n",
      "warning: fewer cells than needed for Q61A. skipping subsampling\n",
      "warning: fewer cells than needed for G12C. skipping subsampling\n",
      "warning: fewer cells than needed for L19F. skipping subsampling\n",
      "warning: fewer cells than needed for G13C. skipping subsampling\n",
      "warning: fewer cells than needed for Q61K. skipping subsampling\n",
      "warning: fewer cells than needed for G12R. skipping subsampling\n",
      "warning: fewer cells than needed for AG11TD. skipping subsampling\n",
      "warning: fewer cells than needed for G13R. skipping subsampling\n",
      "warning: fewer cells than needed for T20R. skipping subsampling\n",
      "warning: fewer cells than needed for P34L. skipping subsampling\n",
      "warning: fewer cells than needed for WT. skipping subsampling\n",
      "warning: fewer cells than needed for K5E. skipping subsampling\n",
      "warning: fewer cells than needed for G12D. skipping subsampling\n",
      "warning: fewer cells than needed for G13E. skipping subsampling\n",
      "warning: fewer cells than needed for G12V. skipping subsampling\n",
      "warning: fewer cells than needed for N26Y. skipping subsampling\n",
      "warning: fewer cells than needed for G12Y. skipping subsampling\n",
      "warning: fewer cells than needed for D33E. skipping subsampling\n"
     ]
    },
    {
     "name": "stderr",
     "output_type": "stream",
     "text": [
      "Trying to set attribute `.uns` of view, copying.\n"
     ]
    },
    {
     "name": "stdout",
     "output_type": "stream",
     "text": [
      "permutation 0\n",
      "permutation 1\n",
      "permutation 2\n",
      "permutation 3\n",
      "permutation 4\n",
      "permutation 5\n",
      "permutation 6\n",
      "permutation 7\n",
      "permutation 8\n",
      "permutation 9\n",
      "subsampling: 800 iteration: 9\n",
      "/ahg/regevdata/projects/bn10_cancer_variants/bn10_oana_2018-06-22/results/2018-06-22/results/2020-02-14/KRAS/scoring/KRAS.cellsPerVar800.iter9.scores.gz\n",
      "warning: fewer cells than needed for G12S. skipping subsampling\n",
      "warning: fewer cells than needed for L52F. skipping subsampling\n",
      "warning: fewer cells than needed for G12F. skipping subsampling\n",
      "warning: fewer cells than needed for G13V. skipping subsampling\n",
      "warning: fewer cells than needed for Q61A. skipping subsampling\n",
      "warning: fewer cells than needed for G12C. skipping subsampling\n",
      "warning: fewer cells than needed for L19F. skipping subsampling\n",
      "warning: fewer cells than needed for G13C. skipping subsampling\n",
      "warning: fewer cells than needed for Q61K. skipping subsampling\n",
      "warning: fewer cells than needed for G12R. skipping subsampling\n",
      "warning: fewer cells than needed for AG11TD. skipping subsampling\n",
      "warning: fewer cells than needed for G13R. skipping subsampling\n",
      "warning: fewer cells than needed for T20R. skipping subsampling\n",
      "warning: fewer cells than needed for P34L. skipping subsampling\n",
      "warning: fewer cells than needed for WT. skipping subsampling\n",
      "warning: fewer cells than needed for K5E. skipping subsampling\n",
      "warning: fewer cells than needed for G12D. skipping subsampling\n",
      "warning: fewer cells than needed for G13E. skipping subsampling\n",
      "warning: fewer cells than needed for G12V. skipping subsampling\n",
      "warning: fewer cells than needed for N26Y. skipping subsampling\n",
      "warning: fewer cells than needed for G12Y. skipping subsampling\n",
      "warning: fewer cells than needed for D33E. skipping subsampling\n"
     ]
    },
    {
     "name": "stderr",
     "output_type": "stream",
     "text": [
      "Trying to set attribute `.uns` of view, copying.\n"
     ]
    },
    {
     "name": "stdout",
     "output_type": "stream",
     "text": [
      "permutation 0\n",
      "permutation 1\n",
      "permutation 2\n",
      "permutation 3\n",
      "permutation 4\n",
      "permutation 5\n",
      "permutation 6\n",
      "permutation 7\n",
      "permutation 8\n",
      "permutation 9\n",
      "subsampling: 700 iteration: 0\n",
      "/ahg/regevdata/projects/bn10_cancer_variants/bn10_oana_2018-06-22/results/2018-06-22/results/2020-02-14/KRAS/scoring/KRAS.cellsPerVar700.iter0.scores.gz\n",
      "warning: fewer cells than needed for G12S. skipping subsampling\n",
      "warning: fewer cells than needed for G12F. skipping subsampling\n",
      "warning: fewer cells than needed for G13V. skipping subsampling\n",
      "warning: fewer cells than needed for Q61K. skipping subsampling\n",
      "warning: fewer cells than needed for G13R. skipping subsampling\n",
      "warning: fewer cells than needed for T20R. skipping subsampling\n",
      "warning: fewer cells than needed for WT. skipping subsampling\n",
      "warning: fewer cells than needed for K5E. skipping subsampling\n",
      "warning: fewer cells than needed for G12D. skipping subsampling\n",
      "warning: fewer cells than needed for G12V. skipping subsampling\n",
      "warning: fewer cells than needed for D33E. skipping subsampling\n"
     ]
    },
    {
     "name": "stderr",
     "output_type": "stream",
     "text": [
      "Trying to set attribute `.uns` of view, copying.\n"
     ]
    },
    {
     "name": "stdout",
     "output_type": "stream",
     "text": [
      "permutation 0\n",
      "permutation 1\n",
      "permutation 2\n",
      "permutation 3\n",
      "permutation 4\n",
      "permutation 5\n",
      "permutation 6\n",
      "permutation 7\n",
      "permutation 8\n",
      "permutation 9\n",
      "subsampling: 700 iteration: 1\n",
      "/ahg/regevdata/projects/bn10_cancer_variants/bn10_oana_2018-06-22/results/2018-06-22/results/2020-02-14/KRAS/scoring/KRAS.cellsPerVar700.iter1.scores.gz\n",
      "warning: fewer cells than needed for G12S. skipping subsampling\n",
      "warning: fewer cells than needed for G12F. skipping subsampling\n",
      "warning: fewer cells than needed for G13V. skipping subsampling\n",
      "warning: fewer cells than needed for Q61K. skipping subsampling\n",
      "warning: fewer cells than needed for G13R. skipping subsampling\n",
      "warning: fewer cells than needed for T20R. skipping subsampling\n",
      "warning: fewer cells than needed for WT. skipping subsampling\n",
      "warning: fewer cells than needed for K5E. skipping subsampling\n",
      "warning: fewer cells than needed for G12D. skipping subsampling\n",
      "warning: fewer cells than needed for G12V. skipping subsampling\n",
      "warning: fewer cells than needed for D33E. skipping subsampling\n"
     ]
    },
    {
     "name": "stderr",
     "output_type": "stream",
     "text": [
      "Trying to set attribute `.uns` of view, copying.\n"
     ]
    },
    {
     "name": "stdout",
     "output_type": "stream",
     "text": [
      "permutation 0\n",
      "permutation 1\n",
      "permutation 2\n",
      "permutation 3\n",
      "permutation 4\n",
      "permutation 5\n",
      "permutation 6\n",
      "permutation 7\n",
      "permutation 8\n",
      "permutation 9\n",
      "subsampling: 700 iteration: 2\n",
      "/ahg/regevdata/projects/bn10_cancer_variants/bn10_oana_2018-06-22/results/2018-06-22/results/2020-02-14/KRAS/scoring/KRAS.cellsPerVar700.iter2.scores.gz\n",
      "warning: fewer cells than needed for G12S. skipping subsampling\n",
      "warning: fewer cells than needed for G12F. skipping subsampling\n",
      "warning: fewer cells than needed for G13V. skipping subsampling\n",
      "warning: fewer cells than needed for Q61K. skipping subsampling\n",
      "warning: fewer cells than needed for G13R. skipping subsampling\n",
      "warning: fewer cells than needed for T20R. skipping subsampling\n",
      "warning: fewer cells than needed for WT. skipping subsampling\n",
      "warning: fewer cells than needed for K5E. skipping subsampling\n",
      "warning: fewer cells than needed for G12D. skipping subsampling\n",
      "warning: fewer cells than needed for G12V. skipping subsampling\n",
      "warning: fewer cells than needed for D33E. skipping subsampling\n"
     ]
    },
    {
     "name": "stderr",
     "output_type": "stream",
     "text": [
      "Trying to set attribute `.uns` of view, copying.\n"
     ]
    },
    {
     "name": "stdout",
     "output_type": "stream",
     "text": [
      "permutation 0\n",
      "permutation 1\n",
      "permutation 2\n",
      "permutation 3\n",
      "permutation 4\n",
      "permutation 5\n",
      "permutation 6\n",
      "permutation 7\n",
      "permutation 8\n",
      "permutation 9\n",
      "subsampling: 700 iteration: 3\n",
      "/ahg/regevdata/projects/bn10_cancer_variants/bn10_oana_2018-06-22/results/2018-06-22/results/2020-02-14/KRAS/scoring/KRAS.cellsPerVar700.iter3.scores.gz\n",
      "warning: fewer cells than needed for G12S. skipping subsampling\n",
      "warning: fewer cells than needed for G12F. skipping subsampling\n",
      "warning: fewer cells than needed for G13V. skipping subsampling\n",
      "warning: fewer cells than needed for Q61K. skipping subsampling\n",
      "warning: fewer cells than needed for G13R. skipping subsampling\n",
      "warning: fewer cells than needed for T20R. skipping subsampling\n",
      "warning: fewer cells than needed for WT. skipping subsampling\n",
      "warning: fewer cells than needed for K5E. skipping subsampling\n",
      "warning: fewer cells than needed for G12D. skipping subsampling\n",
      "warning: fewer cells than needed for G12V. skipping subsampling\n",
      "warning: fewer cells than needed for D33E. skipping subsampling\n"
     ]
    },
    {
     "name": "stderr",
     "output_type": "stream",
     "text": [
      "Trying to set attribute `.uns` of view, copying.\n"
     ]
    },
    {
     "name": "stdout",
     "output_type": "stream",
     "text": [
      "permutation 0\n",
      "permutation 1\n",
      "permutation 2\n",
      "permutation 3\n",
      "permutation 4\n",
      "permutation 5\n",
      "permutation 6\n",
      "permutation 7\n",
      "permutation 8\n",
      "permutation 9\n",
      "subsampling: 700 iteration: 4\n",
      "/ahg/regevdata/projects/bn10_cancer_variants/bn10_oana_2018-06-22/results/2018-06-22/results/2020-02-14/KRAS/scoring/KRAS.cellsPerVar700.iter4.scores.gz\n",
      "warning: fewer cells than needed for G12S. skipping subsampling\n",
      "warning: fewer cells than needed for G12F. skipping subsampling\n",
      "warning: fewer cells than needed for G13V. skipping subsampling\n",
      "warning: fewer cells than needed for Q61K. skipping subsampling\n",
      "warning: fewer cells than needed for G13R. skipping subsampling\n",
      "warning: fewer cells than needed for T20R. skipping subsampling\n",
      "warning: fewer cells than needed for WT. skipping subsampling\n",
      "warning: fewer cells than needed for K5E. skipping subsampling\n",
      "warning: fewer cells than needed for G12D. skipping subsampling\n",
      "warning: fewer cells than needed for G12V. skipping subsampling\n",
      "warning: fewer cells than needed for D33E. skipping subsampling\n"
     ]
    },
    {
     "name": "stderr",
     "output_type": "stream",
     "text": [
      "Trying to set attribute `.uns` of view, copying.\n"
     ]
    },
    {
     "name": "stdout",
     "output_type": "stream",
     "text": [
      "permutation 0\n",
      "permutation 1\n",
      "permutation 2\n",
      "permutation 3\n",
      "permutation 4\n",
      "permutation 5\n",
      "permutation 6\n",
      "permutation 7\n",
      "permutation 8\n",
      "permutation 9\n",
      "subsampling: 700 iteration: 5\n",
      "/ahg/regevdata/projects/bn10_cancer_variants/bn10_oana_2018-06-22/results/2018-06-22/results/2020-02-14/KRAS/scoring/KRAS.cellsPerVar700.iter5.scores.gz\n",
      "warning: fewer cells than needed for G12S. skipping subsampling\n",
      "warning: fewer cells than needed for G12F. skipping subsampling\n",
      "warning: fewer cells than needed for G13V. skipping subsampling\n",
      "warning: fewer cells than needed for Q61K. skipping subsampling\n",
      "warning: fewer cells than needed for G13R. skipping subsampling\n",
      "warning: fewer cells than needed for T20R. skipping subsampling\n",
      "warning: fewer cells than needed for WT. skipping subsampling\n",
      "warning: fewer cells than needed for K5E. skipping subsampling\n",
      "warning: fewer cells than needed for G12D. skipping subsampling\n",
      "warning: fewer cells than needed for G12V. skipping subsampling\n",
      "warning: fewer cells than needed for D33E. skipping subsampling\n"
     ]
    },
    {
     "name": "stderr",
     "output_type": "stream",
     "text": [
      "Trying to set attribute `.uns` of view, copying.\n"
     ]
    },
    {
     "name": "stdout",
     "output_type": "stream",
     "text": [
      "permutation 0\n",
      "permutation 1\n",
      "permutation 2\n",
      "permutation 3\n",
      "permutation 4\n",
      "permutation 5\n",
      "permutation 6\n",
      "permutation 7\n",
      "permutation 8\n",
      "permutation 9\n",
      "subsampling: 700 iteration: 6\n",
      "/ahg/regevdata/projects/bn10_cancer_variants/bn10_oana_2018-06-22/results/2018-06-22/results/2020-02-14/KRAS/scoring/KRAS.cellsPerVar700.iter6.scores.gz\n",
      "warning: fewer cells than needed for G12S. skipping subsampling\n",
      "warning: fewer cells than needed for G12F. skipping subsampling\n",
      "warning: fewer cells than needed for G13V. skipping subsampling\n",
      "warning: fewer cells than needed for Q61K. skipping subsampling\n",
      "warning: fewer cells than needed for G13R. skipping subsampling\n",
      "warning: fewer cells than needed for T20R. skipping subsampling\n",
      "warning: fewer cells than needed for WT. skipping subsampling\n",
      "warning: fewer cells than needed for K5E. skipping subsampling\n",
      "warning: fewer cells than needed for G12D. skipping subsampling\n",
      "warning: fewer cells than needed for G12V. skipping subsampling\n",
      "warning: fewer cells than needed for D33E. skipping subsampling\n"
     ]
    },
    {
     "name": "stderr",
     "output_type": "stream",
     "text": [
      "Trying to set attribute `.uns` of view, copying.\n"
     ]
    },
    {
     "name": "stdout",
     "output_type": "stream",
     "text": [
      "permutation 0\n",
      "permutation 1\n",
      "permutation 2\n",
      "permutation 3\n",
      "permutation 4\n",
      "permutation 5\n",
      "permutation 6\n",
      "permutation 7\n",
      "permutation 8\n",
      "permutation 9\n",
      "subsampling: 700 iteration: 7\n",
      "/ahg/regevdata/projects/bn10_cancer_variants/bn10_oana_2018-06-22/results/2018-06-22/results/2020-02-14/KRAS/scoring/KRAS.cellsPerVar700.iter7.scores.gz\n",
      "warning: fewer cells than needed for G12S. skipping subsampling\n",
      "warning: fewer cells than needed for G12F. skipping subsampling\n",
      "warning: fewer cells than needed for G13V. skipping subsampling\n",
      "warning: fewer cells than needed for Q61K. skipping subsampling\n",
      "warning: fewer cells than needed for G13R. skipping subsampling\n",
      "warning: fewer cells than needed for T20R. skipping subsampling\n",
      "warning: fewer cells than needed for WT. skipping subsampling\n",
      "warning: fewer cells than needed for K5E. skipping subsampling\n",
      "warning: fewer cells than needed for G12D. skipping subsampling\n",
      "warning: fewer cells than needed for G12V. skipping subsampling\n",
      "warning: fewer cells than needed for D33E. skipping subsampling\n"
     ]
    },
    {
     "name": "stderr",
     "output_type": "stream",
     "text": [
      "Trying to set attribute `.uns` of view, copying.\n"
     ]
    },
    {
     "name": "stdout",
     "output_type": "stream",
     "text": [
      "permutation 0\n",
      "permutation 1\n",
      "permutation 2\n",
      "permutation 3\n",
      "permutation 4\n",
      "permutation 5\n",
      "permutation 6\n",
      "permutation 7\n",
      "permutation 8\n",
      "permutation 9\n",
      "subsampling: 700 iteration: 8\n",
      "/ahg/regevdata/projects/bn10_cancer_variants/bn10_oana_2018-06-22/results/2018-06-22/results/2020-02-14/KRAS/scoring/KRAS.cellsPerVar700.iter8.scores.gz\n",
      "warning: fewer cells than needed for G12S. skipping subsampling\n",
      "warning: fewer cells than needed for G12F. skipping subsampling\n",
      "warning: fewer cells than needed for G13V. skipping subsampling\n",
      "warning: fewer cells than needed for Q61K. skipping subsampling\n",
      "warning: fewer cells than needed for G13R. skipping subsampling\n",
      "warning: fewer cells than needed for T20R. skipping subsampling\n",
      "warning: fewer cells than needed for WT. skipping subsampling\n",
      "warning: fewer cells than needed for K5E. skipping subsampling\n",
      "warning: fewer cells than needed for G12D. skipping subsampling\n",
      "warning: fewer cells than needed for G12V. skipping subsampling\n",
      "warning: fewer cells than needed for D33E. skipping subsampling\n"
     ]
    },
    {
     "name": "stderr",
     "output_type": "stream",
     "text": [
      "Trying to set attribute `.uns` of view, copying.\n"
     ]
    },
    {
     "name": "stdout",
     "output_type": "stream",
     "text": [
      "permutation 0\n",
      "permutation 1\n",
      "permutation 2\n",
      "permutation 3\n",
      "permutation 4\n",
      "permutation 5\n",
      "permutation 6\n",
      "permutation 7\n",
      "permutation 8\n",
      "permutation 9\n",
      "subsampling: 700 iteration: 9\n",
      "/ahg/regevdata/projects/bn10_cancer_variants/bn10_oana_2018-06-22/results/2018-06-22/results/2020-02-14/KRAS/scoring/KRAS.cellsPerVar700.iter9.scores.gz\n",
      "warning: fewer cells than needed for G12S. skipping subsampling\n",
      "warning: fewer cells than needed for G12F. skipping subsampling\n",
      "warning: fewer cells than needed for G13V. skipping subsampling\n",
      "warning: fewer cells than needed for Q61K. skipping subsampling\n",
      "warning: fewer cells than needed for G13R. skipping subsampling\n",
      "warning: fewer cells than needed for T20R. skipping subsampling\n",
      "warning: fewer cells than needed for WT. skipping subsampling\n",
      "warning: fewer cells than needed for K5E. skipping subsampling\n",
      "warning: fewer cells than needed for G12D. skipping subsampling\n",
      "warning: fewer cells than needed for G12V. skipping subsampling\n",
      "warning: fewer cells than needed for D33E. skipping subsampling\n"
     ]
    },
    {
     "name": "stderr",
     "output_type": "stream",
     "text": [
      "Trying to set attribute `.uns` of view, copying.\n"
     ]
    },
    {
     "name": "stdout",
     "output_type": "stream",
     "text": [
      "permutation 0\n",
      "permutation 1\n",
      "permutation 2\n",
      "permutation 3\n",
      "permutation 4\n",
      "permutation 5\n",
      "permutation 6\n",
      "permutation 7\n",
      "permutation 8\n",
      "permutation 9\n",
      "subsampling: 600 iteration: 0\n",
      "/ahg/regevdata/projects/bn10_cancer_variants/bn10_oana_2018-06-22/results/2018-06-22/results/2020-02-14/KRAS/scoring/KRAS.cellsPerVar600.iter0.scores.gz\n",
      "warning: fewer cells than needed for G12S. skipping subsampling\n",
      "warning: fewer cells than needed for Q61K. skipping subsampling\n",
      "warning: fewer cells than needed for K5E. skipping subsampling\n",
      "warning: fewer cells than needed for G12D. skipping subsampling\n",
      "warning: fewer cells than needed for G12V. skipping subsampling\n"
     ]
    },
    {
     "name": "stderr",
     "output_type": "stream",
     "text": [
      "Trying to set attribute `.uns` of view, copying.\n"
     ]
    },
    {
     "name": "stdout",
     "output_type": "stream",
     "text": [
      "permutation 0\n",
      "permutation 1\n",
      "permutation 2\n",
      "permutation 3\n",
      "permutation 4\n",
      "permutation 5\n",
      "permutation 6\n",
      "permutation 7\n",
      "permutation 8\n",
      "permutation 9\n",
      "subsampling: 600 iteration: 1\n",
      "/ahg/regevdata/projects/bn10_cancer_variants/bn10_oana_2018-06-22/results/2018-06-22/results/2020-02-14/KRAS/scoring/KRAS.cellsPerVar600.iter1.scores.gz\n",
      "warning: fewer cells than needed for G12S. skipping subsampling\n",
      "warning: fewer cells than needed for Q61K. skipping subsampling\n",
      "warning: fewer cells than needed for K5E. skipping subsampling\n",
      "warning: fewer cells than needed for G12D. skipping subsampling\n",
      "warning: fewer cells than needed for G12V. skipping subsampling\n"
     ]
    },
    {
     "name": "stderr",
     "output_type": "stream",
     "text": [
      "Trying to set attribute `.uns` of view, copying.\n"
     ]
    },
    {
     "name": "stdout",
     "output_type": "stream",
     "text": [
      "permutation 0\n",
      "permutation 1\n",
      "permutation 2\n",
      "permutation 3\n",
      "permutation 4\n",
      "permutation 5\n",
      "permutation 6\n",
      "permutation 7\n",
      "permutation 8\n",
      "permutation 9\n",
      "subsampling: 600 iteration: 2\n",
      "/ahg/regevdata/projects/bn10_cancer_variants/bn10_oana_2018-06-22/results/2018-06-22/results/2020-02-14/KRAS/scoring/KRAS.cellsPerVar600.iter2.scores.gz\n",
      "warning: fewer cells than needed for G12S. skipping subsampling\n",
      "warning: fewer cells than needed for Q61K. skipping subsampling\n",
      "warning: fewer cells than needed for K5E. skipping subsampling\n",
      "warning: fewer cells than needed for G12D. skipping subsampling\n",
      "warning: fewer cells than needed for G12V. skipping subsampling\n"
     ]
    },
    {
     "name": "stderr",
     "output_type": "stream",
     "text": [
      "Trying to set attribute `.uns` of view, copying.\n"
     ]
    },
    {
     "name": "stdout",
     "output_type": "stream",
     "text": [
      "permutation 0\n",
      "permutation 1\n",
      "permutation 2\n",
      "permutation 3\n",
      "permutation 4\n",
      "permutation 5\n",
      "permutation 6\n",
      "permutation 7\n",
      "permutation 8\n",
      "permutation 9\n",
      "subsampling: 600 iteration: 3\n",
      "/ahg/regevdata/projects/bn10_cancer_variants/bn10_oana_2018-06-22/results/2018-06-22/results/2020-02-14/KRAS/scoring/KRAS.cellsPerVar600.iter3.scores.gz\n",
      "warning: fewer cells than needed for G12S. skipping subsampling\n",
      "warning: fewer cells than needed for Q61K. skipping subsampling\n",
      "warning: fewer cells than needed for K5E. skipping subsampling\n",
      "warning: fewer cells than needed for G12D. skipping subsampling\n",
      "warning: fewer cells than needed for G12V. skipping subsampling\n"
     ]
    },
    {
     "name": "stderr",
     "output_type": "stream",
     "text": [
      "Trying to set attribute `.uns` of view, copying.\n"
     ]
    },
    {
     "name": "stdout",
     "output_type": "stream",
     "text": [
      "permutation 0\n",
      "permutation 1\n",
      "permutation 2\n",
      "permutation 3\n",
      "permutation 4\n",
      "permutation 5\n",
      "permutation 6\n",
      "permutation 7\n",
      "permutation 8\n",
      "permutation 9\n",
      "subsampling: 600 iteration: 4\n",
      "/ahg/regevdata/projects/bn10_cancer_variants/bn10_oana_2018-06-22/results/2018-06-22/results/2020-02-14/KRAS/scoring/KRAS.cellsPerVar600.iter4.scores.gz\n",
      "warning: fewer cells than needed for G12S. skipping subsampling\n",
      "warning: fewer cells than needed for Q61K. skipping subsampling\n",
      "warning: fewer cells than needed for K5E. skipping subsampling\n",
      "warning: fewer cells than needed for G12D. skipping subsampling\n",
      "warning: fewer cells than needed for G12V. skipping subsampling\n"
     ]
    },
    {
     "name": "stderr",
     "output_type": "stream",
     "text": [
      "Trying to set attribute `.uns` of view, copying.\n"
     ]
    },
    {
     "name": "stdout",
     "output_type": "stream",
     "text": [
      "permutation 0\n",
      "permutation 1\n",
      "permutation 2\n",
      "permutation 3\n",
      "permutation 4\n",
      "permutation 5\n",
      "permutation 6\n",
      "permutation 7\n",
      "permutation 8\n",
      "permutation 9\n",
      "subsampling: 600 iteration: 5\n",
      "/ahg/regevdata/projects/bn10_cancer_variants/bn10_oana_2018-06-22/results/2018-06-22/results/2020-02-14/KRAS/scoring/KRAS.cellsPerVar600.iter5.scores.gz\n",
      "warning: fewer cells than needed for G12S. skipping subsampling\n",
      "warning: fewer cells than needed for Q61K. skipping subsampling\n",
      "warning: fewer cells than needed for K5E. skipping subsampling\n",
      "warning: fewer cells than needed for G12D. skipping subsampling\n",
      "warning: fewer cells than needed for G12V. skipping subsampling\n"
     ]
    },
    {
     "name": "stderr",
     "output_type": "stream",
     "text": [
      "Trying to set attribute `.uns` of view, copying.\n"
     ]
    },
    {
     "name": "stdout",
     "output_type": "stream",
     "text": [
      "permutation 0\n",
      "permutation 1\n",
      "permutation 2\n",
      "permutation 3\n",
      "permutation 4\n",
      "permutation 5\n",
      "permutation 6\n",
      "permutation 7\n",
      "permutation 8\n",
      "permutation 9\n",
      "subsampling: 600 iteration: 6\n",
      "/ahg/regevdata/projects/bn10_cancer_variants/bn10_oana_2018-06-22/results/2018-06-22/results/2020-02-14/KRAS/scoring/KRAS.cellsPerVar600.iter6.scores.gz\n",
      "warning: fewer cells than needed for G12S. skipping subsampling\n",
      "warning: fewer cells than needed for Q61K. skipping subsampling\n",
      "warning: fewer cells than needed for K5E. skipping subsampling\n",
      "warning: fewer cells than needed for G12D. skipping subsampling\n",
      "warning: fewer cells than needed for G12V. skipping subsampling\n"
     ]
    },
    {
     "name": "stderr",
     "output_type": "stream",
     "text": [
      "Trying to set attribute `.uns` of view, copying.\n"
     ]
    },
    {
     "name": "stdout",
     "output_type": "stream",
     "text": [
      "permutation 0\n",
      "permutation 1\n",
      "permutation 2\n",
      "permutation 3\n",
      "permutation 4\n",
      "permutation 5\n",
      "permutation 6\n",
      "permutation 7\n",
      "permutation 8\n",
      "permutation 9\n",
      "subsampling: 600 iteration: 7\n",
      "/ahg/regevdata/projects/bn10_cancer_variants/bn10_oana_2018-06-22/results/2018-06-22/results/2020-02-14/KRAS/scoring/KRAS.cellsPerVar600.iter7.scores.gz\n",
      "warning: fewer cells than needed for G12S. skipping subsampling\n",
      "warning: fewer cells than needed for Q61K. skipping subsampling\n",
      "warning: fewer cells than needed for K5E. skipping subsampling\n",
      "warning: fewer cells than needed for G12D. skipping subsampling\n",
      "warning: fewer cells than needed for G12V. skipping subsampling\n"
     ]
    },
    {
     "name": "stderr",
     "output_type": "stream",
     "text": [
      "Trying to set attribute `.uns` of view, copying.\n"
     ]
    },
    {
     "name": "stdout",
     "output_type": "stream",
     "text": [
      "permutation 0\n",
      "permutation 1\n",
      "permutation 2\n",
      "permutation 3\n",
      "permutation 4\n",
      "permutation 5\n",
      "permutation 6\n",
      "permutation 7\n",
      "permutation 8\n",
      "permutation 9\n",
      "subsampling: 600 iteration: 8\n",
      "/ahg/regevdata/projects/bn10_cancer_variants/bn10_oana_2018-06-22/results/2018-06-22/results/2020-02-14/KRAS/scoring/KRAS.cellsPerVar600.iter8.scores.gz\n",
      "warning: fewer cells than needed for G12S. skipping subsampling\n",
      "warning: fewer cells than needed for Q61K. skipping subsampling\n",
      "warning: fewer cells than needed for K5E. skipping subsampling\n",
      "warning: fewer cells than needed for G12D. skipping subsampling\n",
      "warning: fewer cells than needed for G12V. skipping subsampling\n"
     ]
    },
    {
     "name": "stderr",
     "output_type": "stream",
     "text": [
      "Trying to set attribute `.uns` of view, copying.\n"
     ]
    },
    {
     "name": "stdout",
     "output_type": "stream",
     "text": [
      "permutation 0\n",
      "permutation 1\n",
      "permutation 2\n",
      "permutation 3\n",
      "permutation 4\n",
      "permutation 5\n",
      "permutation 6\n",
      "permutation 7\n",
      "permutation 8\n",
      "permutation 9\n",
      "subsampling: 600 iteration: 9\n",
      "/ahg/regevdata/projects/bn10_cancer_variants/bn10_oana_2018-06-22/results/2018-06-22/results/2020-02-14/KRAS/scoring/KRAS.cellsPerVar600.iter9.scores.gz\n",
      "warning: fewer cells than needed for G12S. skipping subsampling\n",
      "warning: fewer cells than needed for Q61K. skipping subsampling\n",
      "warning: fewer cells than needed for K5E. skipping subsampling\n",
      "warning: fewer cells than needed for G12D. skipping subsampling\n",
      "warning: fewer cells than needed for G12V. skipping subsampling\n"
     ]
    },
    {
     "name": "stderr",
     "output_type": "stream",
     "text": [
      "Trying to set attribute `.uns` of view, copying.\n"
     ]
    },
    {
     "name": "stdout",
     "output_type": "stream",
     "text": [
      "permutation 0\n",
      "permutation 1\n",
      "permutation 2\n",
      "permutation 3\n",
      "permutation 4\n",
      "permutation 5\n",
      "permutation 6\n",
      "permutation 7\n",
      "permutation 8\n",
      "permutation 9\n",
      "subsampling: 500 iteration: 0\n",
      "/ahg/regevdata/projects/bn10_cancer_variants/bn10_oana_2018-06-22/results/2018-06-22/results/2020-02-14/KRAS/scoring/KRAS.cellsPerVar500.iter0.scores.gz\n",
      "warning: fewer cells than needed for G12S. skipping subsampling\n",
      "warning: fewer cells than needed for G12D. skipping subsampling\n",
      "warning: fewer cells than needed for G12V. skipping subsampling\n"
     ]
    },
    {
     "name": "stderr",
     "output_type": "stream",
     "text": [
      "Trying to set attribute `.uns` of view, copying.\n"
     ]
    },
    {
     "name": "stdout",
     "output_type": "stream",
     "text": [
      "permutation 0\n",
      "permutation 1\n",
      "permutation 2\n",
      "permutation 3\n",
      "permutation 4\n",
      "permutation 5\n",
      "permutation 6\n",
      "permutation 7\n",
      "permutation 8\n",
      "permutation 9\n",
      "subsampling: 500 iteration: 1\n",
      "/ahg/regevdata/projects/bn10_cancer_variants/bn10_oana_2018-06-22/results/2018-06-22/results/2020-02-14/KRAS/scoring/KRAS.cellsPerVar500.iter1.scores.gz\n",
      "warning: fewer cells than needed for G12S. skipping subsampling\n",
      "warning: fewer cells than needed for G12D. skipping subsampling\n",
      "warning: fewer cells than needed for G12V. skipping subsampling\n"
     ]
    },
    {
     "name": "stderr",
     "output_type": "stream",
     "text": [
      "Trying to set attribute `.uns` of view, copying.\n"
     ]
    },
    {
     "name": "stdout",
     "output_type": "stream",
     "text": [
      "permutation 0\n",
      "permutation 1\n",
      "permutation 2\n",
      "permutation 3\n",
      "permutation 4\n",
      "permutation 5\n",
      "permutation 6\n",
      "permutation 7\n",
      "permutation 8\n",
      "permutation 9\n",
      "subsampling: 500 iteration: 2\n",
      "/ahg/regevdata/projects/bn10_cancer_variants/bn10_oana_2018-06-22/results/2018-06-22/results/2020-02-14/KRAS/scoring/KRAS.cellsPerVar500.iter2.scores.gz\n",
      "warning: fewer cells than needed for G12S. skipping subsampling\n",
      "warning: fewer cells than needed for G12D. skipping subsampling\n",
      "warning: fewer cells than needed for G12V. skipping subsampling\n"
     ]
    },
    {
     "name": "stderr",
     "output_type": "stream",
     "text": [
      "Trying to set attribute `.uns` of view, copying.\n"
     ]
    },
    {
     "name": "stdout",
     "output_type": "stream",
     "text": [
      "permutation 0\n",
      "permutation 1\n",
      "permutation 2\n",
      "permutation 3\n",
      "permutation 4\n",
      "permutation 5\n",
      "permutation 6\n",
      "permutation 7\n",
      "permutation 8\n",
      "permutation 9\n",
      "subsampling: 500 iteration: 3\n",
      "/ahg/regevdata/projects/bn10_cancer_variants/bn10_oana_2018-06-22/results/2018-06-22/results/2020-02-14/KRAS/scoring/KRAS.cellsPerVar500.iter3.scores.gz\n",
      "warning: fewer cells than needed for G12S. skipping subsampling\n",
      "warning: fewer cells than needed for G12D. skipping subsampling\n",
      "warning: fewer cells than needed for G12V. skipping subsampling\n"
     ]
    },
    {
     "name": "stderr",
     "output_type": "stream",
     "text": [
      "Trying to set attribute `.uns` of view, copying.\n"
     ]
    },
    {
     "name": "stdout",
     "output_type": "stream",
     "text": [
      "permutation 0\n",
      "permutation 1\n",
      "permutation 2\n",
      "permutation 3\n",
      "permutation 4\n",
      "permutation 5\n",
      "permutation 6\n",
      "permutation 7\n",
      "permutation 8\n",
      "permutation 9\n",
      "subsampling: 500 iteration: 4\n",
      "/ahg/regevdata/projects/bn10_cancer_variants/bn10_oana_2018-06-22/results/2018-06-22/results/2020-02-14/KRAS/scoring/KRAS.cellsPerVar500.iter4.scores.gz\n",
      "warning: fewer cells than needed for G12S. skipping subsampling\n",
      "warning: fewer cells than needed for G12D. skipping subsampling\n",
      "warning: fewer cells than needed for G12V. skipping subsampling\n"
     ]
    },
    {
     "name": "stderr",
     "output_type": "stream",
     "text": [
      "Trying to set attribute `.uns` of view, copying.\n"
     ]
    },
    {
     "name": "stdout",
     "output_type": "stream",
     "text": [
      "permutation 0\n",
      "permutation 1\n",
      "permutation 2\n",
      "permutation 3\n",
      "permutation 4\n",
      "permutation 5\n",
      "permutation 6\n",
      "permutation 7\n",
      "permutation 8\n",
      "permutation 9\n",
      "subsampling: 500 iteration: 5\n",
      "/ahg/regevdata/projects/bn10_cancer_variants/bn10_oana_2018-06-22/results/2018-06-22/results/2020-02-14/KRAS/scoring/KRAS.cellsPerVar500.iter5.scores.gz\n",
      "warning: fewer cells than needed for G12S. skipping subsampling\n",
      "warning: fewer cells than needed for G12D. skipping subsampling\n",
      "warning: fewer cells than needed for G12V. skipping subsampling\n"
     ]
    },
    {
     "name": "stderr",
     "output_type": "stream",
     "text": [
      "Trying to set attribute `.uns` of view, copying.\n"
     ]
    },
    {
     "name": "stdout",
     "output_type": "stream",
     "text": [
      "permutation 0\n",
      "permutation 1\n",
      "permutation 2\n",
      "permutation 3\n",
      "permutation 4\n",
      "permutation 5\n",
      "permutation 6\n",
      "permutation 7\n",
      "permutation 8\n",
      "permutation 9\n",
      "subsampling: 500 iteration: 6\n",
      "/ahg/regevdata/projects/bn10_cancer_variants/bn10_oana_2018-06-22/results/2018-06-22/results/2020-02-14/KRAS/scoring/KRAS.cellsPerVar500.iter6.scores.gz\n",
      "warning: fewer cells than needed for G12S. skipping subsampling\n",
      "warning: fewer cells than needed for G12D. skipping subsampling\n",
      "warning: fewer cells than needed for G12V. skipping subsampling\n"
     ]
    },
    {
     "name": "stderr",
     "output_type": "stream",
     "text": [
      "Trying to set attribute `.uns` of view, copying.\n"
     ]
    },
    {
     "name": "stdout",
     "output_type": "stream",
     "text": [
      "permutation 0\n",
      "permutation 1\n",
      "permutation 2\n",
      "permutation 3\n",
      "permutation 4\n",
      "permutation 5\n",
      "permutation 6\n",
      "permutation 7\n",
      "permutation 8\n",
      "permutation 9\n",
      "subsampling: 500 iteration: 7\n",
      "/ahg/regevdata/projects/bn10_cancer_variants/bn10_oana_2018-06-22/results/2018-06-22/results/2020-02-14/KRAS/scoring/KRAS.cellsPerVar500.iter7.scores.gz\n",
      "warning: fewer cells than needed for G12S. skipping subsampling\n",
      "warning: fewer cells than needed for G12D. skipping subsampling\n",
      "warning: fewer cells than needed for G12V. skipping subsampling\n"
     ]
    },
    {
     "name": "stderr",
     "output_type": "stream",
     "text": [
      "Trying to set attribute `.uns` of view, copying.\n"
     ]
    },
    {
     "name": "stdout",
     "output_type": "stream",
     "text": [
      "permutation 0\n",
      "permutation 1\n",
      "permutation 2\n",
      "permutation 3\n",
      "permutation 4\n",
      "permutation 5\n",
      "permutation 6\n",
      "permutation 7\n",
      "permutation 8\n",
      "permutation 9\n",
      "subsampling: 500 iteration: 8\n",
      "/ahg/regevdata/projects/bn10_cancer_variants/bn10_oana_2018-06-22/results/2018-06-22/results/2020-02-14/KRAS/scoring/KRAS.cellsPerVar500.iter8.scores.gz\n",
      "warning: fewer cells than needed for G12S. skipping subsampling\n",
      "warning: fewer cells than needed for G12D. skipping subsampling\n",
      "warning: fewer cells than needed for G12V. skipping subsampling\n"
     ]
    },
    {
     "name": "stderr",
     "output_type": "stream",
     "text": [
      "Trying to set attribute `.uns` of view, copying.\n"
     ]
    },
    {
     "name": "stdout",
     "output_type": "stream",
     "text": [
      "permutation 0\n",
      "permutation 1\n",
      "permutation 2\n",
      "permutation 3\n",
      "permutation 4\n",
      "permutation 5\n",
      "permutation 6\n",
      "permutation 7\n",
      "permutation 8\n",
      "permutation 9\n",
      "subsampling: 500 iteration: 9\n",
      "/ahg/regevdata/projects/bn10_cancer_variants/bn10_oana_2018-06-22/results/2018-06-22/results/2020-02-14/KRAS/scoring/KRAS.cellsPerVar500.iter9.scores.gz\n",
      "warning: fewer cells than needed for G12S. skipping subsampling\n",
      "warning: fewer cells than needed for G12D. skipping subsampling\n",
      "warning: fewer cells than needed for G12V. skipping subsampling\n"
     ]
    },
    {
     "name": "stderr",
     "output_type": "stream",
     "text": [
      "Trying to set attribute `.uns` of view, copying.\n"
     ]
    },
    {
     "name": "stdout",
     "output_type": "stream",
     "text": [
      "permutation 0\n",
      "permutation 1\n",
      "permutation 2\n",
      "permutation 3\n",
      "permutation 4\n",
      "permutation 5\n",
      "permutation 6\n",
      "permutation 7\n",
      "permutation 8\n",
      "permutation 9\n",
      "subsampling: 400 iteration: 0\n",
      "/ahg/regevdata/projects/bn10_cancer_variants/bn10_oana_2018-06-22/results/2018-06-22/results/2020-02-14/KRAS/scoring/KRAS.cellsPerVar400.iter0.scores.gz\n"
     ]
    },
    {
     "name": "stderr",
     "output_type": "stream",
     "text": [
      "Trying to set attribute `.uns` of view, copying.\n"
     ]
    },
    {
     "name": "stdout",
     "output_type": "stream",
     "text": [
      "permutation 0\n",
      "permutation 1\n",
      "permutation 2\n",
      "permutation 3\n",
      "permutation 4\n",
      "permutation 5\n",
      "permutation 6\n",
      "permutation 7\n",
      "permutation 8\n",
      "permutation 9\n",
      "subsampling: 400 iteration: 1\n",
      "/ahg/regevdata/projects/bn10_cancer_variants/bn10_oana_2018-06-22/results/2018-06-22/results/2020-02-14/KRAS/scoring/KRAS.cellsPerVar400.iter1.scores.gz\n"
     ]
    },
    {
     "name": "stderr",
     "output_type": "stream",
     "text": [
      "Trying to set attribute `.uns` of view, copying.\n"
     ]
    },
    {
     "name": "stdout",
     "output_type": "stream",
     "text": [
      "permutation 0\n",
      "permutation 1\n",
      "permutation 2\n",
      "permutation 3\n",
      "permutation 4\n",
      "permutation 5\n",
      "permutation 6\n",
      "permutation 7\n",
      "permutation 8\n",
      "permutation 9\n",
      "subsampling: 400 iteration: 2\n",
      "/ahg/regevdata/projects/bn10_cancer_variants/bn10_oana_2018-06-22/results/2018-06-22/results/2020-02-14/KRAS/scoring/KRAS.cellsPerVar400.iter2.scores.gz\n"
     ]
    },
    {
     "name": "stderr",
     "output_type": "stream",
     "text": [
      "Trying to set attribute `.uns` of view, copying.\n"
     ]
    },
    {
     "name": "stdout",
     "output_type": "stream",
     "text": [
      "permutation 0\n",
      "permutation 1\n",
      "permutation 2\n",
      "permutation 3\n",
      "permutation 4\n",
      "permutation 5\n",
      "permutation 6\n",
      "permutation 7\n",
      "permutation 8\n",
      "permutation 9\n",
      "subsampling: 400 iteration: 3\n",
      "/ahg/regevdata/projects/bn10_cancer_variants/bn10_oana_2018-06-22/results/2018-06-22/results/2020-02-14/KRAS/scoring/KRAS.cellsPerVar400.iter3.scores.gz\n"
     ]
    },
    {
     "name": "stderr",
     "output_type": "stream",
     "text": [
      "Trying to set attribute `.uns` of view, copying.\n"
     ]
    },
    {
     "name": "stdout",
     "output_type": "stream",
     "text": [
      "permutation 0\n",
      "permutation 1\n",
      "permutation 2\n",
      "permutation 3\n",
      "permutation 4\n",
      "permutation 5\n",
      "permutation 6\n",
      "permutation 7\n",
      "permutation 8\n",
      "permutation 9\n",
      "subsampling: 400 iteration: 4\n",
      "/ahg/regevdata/projects/bn10_cancer_variants/bn10_oana_2018-06-22/results/2018-06-22/results/2020-02-14/KRAS/scoring/KRAS.cellsPerVar400.iter4.scores.gz\n"
     ]
    },
    {
     "name": "stderr",
     "output_type": "stream",
     "text": [
      "Trying to set attribute `.uns` of view, copying.\n"
     ]
    },
    {
     "name": "stdout",
     "output_type": "stream",
     "text": [
      "permutation 0\n",
      "permutation 1\n",
      "permutation 2\n",
      "permutation 3\n",
      "permutation 4\n",
      "permutation 5\n",
      "permutation 6\n",
      "permutation 7\n",
      "permutation 8\n",
      "permutation 9\n",
      "subsampling: 400 iteration: 5\n",
      "/ahg/regevdata/projects/bn10_cancer_variants/bn10_oana_2018-06-22/results/2018-06-22/results/2020-02-14/KRAS/scoring/KRAS.cellsPerVar400.iter5.scores.gz\n"
     ]
    },
    {
     "name": "stderr",
     "output_type": "stream",
     "text": [
      "Trying to set attribute `.uns` of view, copying.\n"
     ]
    },
    {
     "name": "stdout",
     "output_type": "stream",
     "text": [
      "permutation 0\n",
      "permutation 1\n",
      "permutation 2\n",
      "permutation 3\n",
      "permutation 4\n",
      "permutation 5\n",
      "permutation 6\n",
      "permutation 7\n",
      "permutation 8\n",
      "permutation 9\n",
      "subsampling: 400 iteration: 6\n",
      "/ahg/regevdata/projects/bn10_cancer_variants/bn10_oana_2018-06-22/results/2018-06-22/results/2020-02-14/KRAS/scoring/KRAS.cellsPerVar400.iter6.scores.gz\n"
     ]
    },
    {
     "name": "stderr",
     "output_type": "stream",
     "text": [
      "Trying to set attribute `.uns` of view, copying.\n"
     ]
    },
    {
     "name": "stdout",
     "output_type": "stream",
     "text": [
      "permutation 0\n",
      "permutation 1\n",
      "permutation 2\n",
      "permutation 3\n",
      "permutation 4\n",
      "permutation 5\n",
      "permutation 6\n",
      "permutation 7\n",
      "permutation 8\n",
      "permutation 9\n",
      "subsampling: 400 iteration: 7\n",
      "/ahg/regevdata/projects/bn10_cancer_variants/bn10_oana_2018-06-22/results/2018-06-22/results/2020-02-14/KRAS/scoring/KRAS.cellsPerVar400.iter7.scores.gz\n"
     ]
    },
    {
     "name": "stderr",
     "output_type": "stream",
     "text": [
      "Trying to set attribute `.uns` of view, copying.\n"
     ]
    },
    {
     "name": "stdout",
     "output_type": "stream",
     "text": [
      "permutation 0\n",
      "permutation 1\n",
      "permutation 2\n",
      "permutation 3\n",
      "permutation 4\n",
      "permutation 5\n",
      "permutation 6\n",
      "permutation 7\n",
      "permutation 8\n",
      "permutation 9\n",
      "subsampling: 400 iteration: 8\n",
      "/ahg/regevdata/projects/bn10_cancer_variants/bn10_oana_2018-06-22/results/2018-06-22/results/2020-02-14/KRAS/scoring/KRAS.cellsPerVar400.iter8.scores.gz\n"
     ]
    },
    {
     "name": "stderr",
     "output_type": "stream",
     "text": [
      "Trying to set attribute `.uns` of view, copying.\n"
     ]
    },
    {
     "name": "stdout",
     "output_type": "stream",
     "text": [
      "permutation 0\n",
      "permutation 1\n",
      "permutation 2\n",
      "permutation 3\n",
      "permutation 4\n",
      "permutation 5\n",
      "permutation 6\n",
      "permutation 7\n",
      "permutation 8\n",
      "permutation 9\n",
      "subsampling: 400 iteration: 9\n",
      "/ahg/regevdata/projects/bn10_cancer_variants/bn10_oana_2018-06-22/results/2018-06-22/results/2020-02-14/KRAS/scoring/KRAS.cellsPerVar400.iter9.scores.gz\n"
     ]
    },
    {
     "name": "stderr",
     "output_type": "stream",
     "text": [
      "Trying to set attribute `.uns` of view, copying.\n"
     ]
    },
    {
     "name": "stdout",
     "output_type": "stream",
     "text": [
      "permutation 0\n",
      "permutation 1\n",
      "permutation 2\n",
      "permutation 3\n",
      "permutation 4\n",
      "permutation 5\n",
      "permutation 6\n",
      "permutation 7\n",
      "permutation 8\n",
      "permutation 9\n",
      "subsampling: 300 iteration: 0\n",
      "/ahg/regevdata/projects/bn10_cancer_variants/bn10_oana_2018-06-22/results/2018-06-22/results/2020-02-14/KRAS/scoring/KRAS.cellsPerVar300.iter0.scores.gz\n"
     ]
    },
    {
     "name": "stderr",
     "output_type": "stream",
     "text": [
      "Trying to set attribute `.uns` of view, copying.\n"
     ]
    },
    {
     "name": "stdout",
     "output_type": "stream",
     "text": [
      "permutation 0\n",
      "permutation 1\n",
      "permutation 2\n",
      "permutation 3\n",
      "permutation 4\n",
      "permutation 5\n",
      "permutation 6\n",
      "permutation 7\n",
      "permutation 8\n",
      "permutation 9\n",
      "subsampling: 300 iteration: 1\n",
      "/ahg/regevdata/projects/bn10_cancer_variants/bn10_oana_2018-06-22/results/2018-06-22/results/2020-02-14/KRAS/scoring/KRAS.cellsPerVar300.iter1.scores.gz\n"
     ]
    },
    {
     "name": "stderr",
     "output_type": "stream",
     "text": [
      "Trying to set attribute `.uns` of view, copying.\n"
     ]
    },
    {
     "name": "stdout",
     "output_type": "stream",
     "text": [
      "permutation 0\n",
      "permutation 1\n",
      "permutation 2\n",
      "permutation 3\n",
      "permutation 4\n",
      "permutation 5\n",
      "permutation 6\n",
      "permutation 7\n",
      "permutation 8\n",
      "permutation 9\n",
      "subsampling: 300 iteration: 2\n",
      "/ahg/regevdata/projects/bn10_cancer_variants/bn10_oana_2018-06-22/results/2018-06-22/results/2020-02-14/KRAS/scoring/KRAS.cellsPerVar300.iter2.scores.gz\n"
     ]
    },
    {
     "name": "stderr",
     "output_type": "stream",
     "text": [
      "Trying to set attribute `.uns` of view, copying.\n"
     ]
    },
    {
     "name": "stdout",
     "output_type": "stream",
     "text": [
      "permutation 0\n",
      "permutation 1\n",
      "permutation 2\n",
      "permutation 3\n",
      "permutation 4\n",
      "permutation 5\n",
      "permutation 6\n",
      "permutation 7\n",
      "permutation 8\n",
      "permutation 9\n",
      "subsampling: 300 iteration: 3\n",
      "/ahg/regevdata/projects/bn10_cancer_variants/bn10_oana_2018-06-22/results/2018-06-22/results/2020-02-14/KRAS/scoring/KRAS.cellsPerVar300.iter3.scores.gz\n"
     ]
    },
    {
     "name": "stderr",
     "output_type": "stream",
     "text": [
      "Trying to set attribute `.uns` of view, copying.\n"
     ]
    },
    {
     "name": "stdout",
     "output_type": "stream",
     "text": [
      "permutation 0\n",
      "permutation 1\n",
      "permutation 2\n",
      "permutation 3\n",
      "permutation 4\n",
      "permutation 5\n",
      "permutation 6\n",
      "permutation 7\n",
      "permutation 8\n",
      "permutation 9\n",
      "subsampling: 300 iteration: 4\n",
      "/ahg/regevdata/projects/bn10_cancer_variants/bn10_oana_2018-06-22/results/2018-06-22/results/2020-02-14/KRAS/scoring/KRAS.cellsPerVar300.iter4.scores.gz\n"
     ]
    },
    {
     "name": "stderr",
     "output_type": "stream",
     "text": [
      "Trying to set attribute `.uns` of view, copying.\n"
     ]
    },
    {
     "name": "stdout",
     "output_type": "stream",
     "text": [
      "permutation 0\n",
      "permutation 1\n",
      "permutation 2\n",
      "permutation 3\n",
      "permutation 4\n",
      "permutation 5\n",
      "permutation 6\n",
      "permutation 7\n",
      "permutation 8\n",
      "permutation 9\n",
      "subsampling: 300 iteration: 5\n",
      "/ahg/regevdata/projects/bn10_cancer_variants/bn10_oana_2018-06-22/results/2018-06-22/results/2020-02-14/KRAS/scoring/KRAS.cellsPerVar300.iter5.scores.gz\n"
     ]
    },
    {
     "name": "stderr",
     "output_type": "stream",
     "text": [
      "Trying to set attribute `.uns` of view, copying.\n"
     ]
    },
    {
     "name": "stdout",
     "output_type": "stream",
     "text": [
      "permutation 0\n",
      "permutation 1\n",
      "permutation 2\n",
      "permutation 3\n",
      "permutation 4\n",
      "permutation 5\n",
      "permutation 6\n",
      "permutation 7\n",
      "permutation 8\n",
      "permutation 9\n",
      "subsampling: 300 iteration: 6\n",
      "/ahg/regevdata/projects/bn10_cancer_variants/bn10_oana_2018-06-22/results/2018-06-22/results/2020-02-14/KRAS/scoring/KRAS.cellsPerVar300.iter6.scores.gz\n"
     ]
    },
    {
     "name": "stderr",
     "output_type": "stream",
     "text": [
      "Trying to set attribute `.uns` of view, copying.\n"
     ]
    },
    {
     "name": "stdout",
     "output_type": "stream",
     "text": [
      "permutation 0\n",
      "permutation 1\n",
      "permutation 2\n",
      "permutation 3\n",
      "permutation 4\n",
      "permutation 5\n",
      "permutation 6\n",
      "permutation 7\n",
      "permutation 8\n",
      "permutation 9\n",
      "subsampling: 300 iteration: 7\n",
      "/ahg/regevdata/projects/bn10_cancer_variants/bn10_oana_2018-06-22/results/2018-06-22/results/2020-02-14/KRAS/scoring/KRAS.cellsPerVar300.iter7.scores.gz\n"
     ]
    },
    {
     "name": "stderr",
     "output_type": "stream",
     "text": [
      "Trying to set attribute `.uns` of view, copying.\n"
     ]
    },
    {
     "name": "stdout",
     "output_type": "stream",
     "text": [
      "permutation 0\n",
      "permutation 1\n",
      "permutation 2\n",
      "permutation 3\n",
      "permutation 4\n",
      "permutation 5\n",
      "permutation 6\n",
      "permutation 7\n",
      "permutation 8\n",
      "permutation 9\n",
      "subsampling: 300 iteration: 8\n",
      "/ahg/regevdata/projects/bn10_cancer_variants/bn10_oana_2018-06-22/results/2018-06-22/results/2020-02-14/KRAS/scoring/KRAS.cellsPerVar300.iter8.scores.gz\n"
     ]
    },
    {
     "name": "stderr",
     "output_type": "stream",
     "text": [
      "Trying to set attribute `.uns` of view, copying.\n"
     ]
    },
    {
     "name": "stdout",
     "output_type": "stream",
     "text": [
      "permutation 0\n",
      "permutation 1\n",
      "permutation 2\n",
      "permutation 3\n",
      "permutation 4\n",
      "permutation 5\n",
      "permutation 6\n",
      "permutation 7\n",
      "permutation 8\n",
      "permutation 9\n",
      "subsampling: 300 iteration: 9\n",
      "/ahg/regevdata/projects/bn10_cancer_variants/bn10_oana_2018-06-22/results/2018-06-22/results/2020-02-14/KRAS/scoring/KRAS.cellsPerVar300.iter9.scores.gz\n"
     ]
    },
    {
     "name": "stderr",
     "output_type": "stream",
     "text": [
      "Trying to set attribute `.uns` of view, copying.\n"
     ]
    },
    {
     "name": "stdout",
     "output_type": "stream",
     "text": [
      "permutation 0\n",
      "permutation 1\n",
      "permutation 2\n",
      "permutation 3\n",
      "permutation 4\n",
      "permutation 5\n",
      "permutation 6\n",
      "permutation 7\n",
      "permutation 8\n",
      "permutation 9\n",
      "subsampling: 200 iteration: 0\n",
      "/ahg/regevdata/projects/bn10_cancer_variants/bn10_oana_2018-06-22/results/2018-06-22/results/2020-02-14/KRAS/scoring/KRAS.cellsPerVar200.iter0.scores.gz\n"
     ]
    },
    {
     "name": "stderr",
     "output_type": "stream",
     "text": [
      "Trying to set attribute `.uns` of view, copying.\n"
     ]
    },
    {
     "name": "stdout",
     "output_type": "stream",
     "text": [
      "permutation 0\n",
      "permutation 1\n",
      "permutation 2\n",
      "permutation 3\n",
      "permutation 4\n",
      "permutation 5\n",
      "permutation 6\n",
      "permutation 7\n",
      "permutation 8\n",
      "permutation 9\n",
      "subsampling: 200 iteration: 1\n",
      "/ahg/regevdata/projects/bn10_cancer_variants/bn10_oana_2018-06-22/results/2018-06-22/results/2020-02-14/KRAS/scoring/KRAS.cellsPerVar200.iter1.scores.gz\n"
     ]
    },
    {
     "name": "stderr",
     "output_type": "stream",
     "text": [
      "Trying to set attribute `.uns` of view, copying.\n"
     ]
    },
    {
     "name": "stdout",
     "output_type": "stream",
     "text": [
      "permutation 0\n",
      "permutation 1\n",
      "permutation 2\n",
      "permutation 3\n",
      "permutation 4\n",
      "permutation 5\n",
      "permutation 6\n",
      "permutation 7\n",
      "permutation 8\n",
      "permutation 9\n",
      "subsampling: 200 iteration: 2\n",
      "/ahg/regevdata/projects/bn10_cancer_variants/bn10_oana_2018-06-22/results/2018-06-22/results/2020-02-14/KRAS/scoring/KRAS.cellsPerVar200.iter2.scores.gz\n"
     ]
    },
    {
     "name": "stderr",
     "output_type": "stream",
     "text": [
      "Trying to set attribute `.uns` of view, copying.\n"
     ]
    },
    {
     "name": "stdout",
     "output_type": "stream",
     "text": [
      "permutation 0\n",
      "permutation 1\n",
      "permutation 2\n",
      "permutation 3\n",
      "permutation 4\n",
      "permutation 5\n",
      "permutation 6\n",
      "permutation 7\n",
      "permutation 8\n",
      "permutation 9\n",
      "subsampling: 200 iteration: 3\n",
      "/ahg/regevdata/projects/bn10_cancer_variants/bn10_oana_2018-06-22/results/2018-06-22/results/2020-02-14/KRAS/scoring/KRAS.cellsPerVar200.iter3.scores.gz\n"
     ]
    },
    {
     "name": "stderr",
     "output_type": "stream",
     "text": [
      "Trying to set attribute `.uns` of view, copying.\n"
     ]
    },
    {
     "name": "stdout",
     "output_type": "stream",
     "text": [
      "permutation 0\n",
      "permutation 1\n",
      "permutation 2\n",
      "permutation 3\n",
      "permutation 4\n",
      "permutation 5\n",
      "permutation 6\n",
      "permutation 7\n",
      "permutation 8\n",
      "permutation 9\n",
      "subsampling: 200 iteration: 4\n",
      "/ahg/regevdata/projects/bn10_cancer_variants/bn10_oana_2018-06-22/results/2018-06-22/results/2020-02-14/KRAS/scoring/KRAS.cellsPerVar200.iter4.scores.gz\n"
     ]
    },
    {
     "name": "stderr",
     "output_type": "stream",
     "text": [
      "Trying to set attribute `.uns` of view, copying.\n"
     ]
    },
    {
     "name": "stdout",
     "output_type": "stream",
     "text": [
      "permutation 0\n",
      "permutation 1\n",
      "permutation 2\n",
      "permutation 3\n",
      "permutation 4\n",
      "permutation 5\n",
      "permutation 6\n",
      "permutation 7\n",
      "permutation 8\n",
      "permutation 9\n",
      "subsampling: 200 iteration: 5\n",
      "/ahg/regevdata/projects/bn10_cancer_variants/bn10_oana_2018-06-22/results/2018-06-22/results/2020-02-14/KRAS/scoring/KRAS.cellsPerVar200.iter5.scores.gz\n"
     ]
    },
    {
     "name": "stderr",
     "output_type": "stream",
     "text": [
      "Trying to set attribute `.uns` of view, copying.\n"
     ]
    },
    {
     "name": "stdout",
     "output_type": "stream",
     "text": [
      "permutation 0\n",
      "permutation 1\n",
      "permutation 2\n",
      "permutation 3\n",
      "permutation 4\n",
      "permutation 5\n",
      "permutation 6\n",
      "permutation 7\n",
      "permutation 8\n",
      "permutation 9\n",
      "subsampling: 200 iteration: 6\n",
      "/ahg/regevdata/projects/bn10_cancer_variants/bn10_oana_2018-06-22/results/2018-06-22/results/2020-02-14/KRAS/scoring/KRAS.cellsPerVar200.iter6.scores.gz\n"
     ]
    },
    {
     "name": "stderr",
     "output_type": "stream",
     "text": [
      "Trying to set attribute `.uns` of view, copying.\n"
     ]
    },
    {
     "name": "stdout",
     "output_type": "stream",
     "text": [
      "permutation 0\n",
      "permutation 1\n",
      "permutation 2\n",
      "permutation 3\n",
      "permutation 4\n",
      "permutation 5\n",
      "permutation 6\n",
      "permutation 7\n",
      "permutation 8\n",
      "permutation 9\n",
      "subsampling: 200 iteration: 7\n",
      "/ahg/regevdata/projects/bn10_cancer_variants/bn10_oana_2018-06-22/results/2018-06-22/results/2020-02-14/KRAS/scoring/KRAS.cellsPerVar200.iter7.scores.gz\n"
     ]
    },
    {
     "name": "stderr",
     "output_type": "stream",
     "text": [
      "Trying to set attribute `.uns` of view, copying.\n"
     ]
    },
    {
     "name": "stdout",
     "output_type": "stream",
     "text": [
      "permutation 0\n",
      "permutation 1\n",
      "permutation 2\n",
      "permutation 3\n",
      "permutation 4\n",
      "permutation 5\n",
      "permutation 6\n",
      "permutation 7\n",
      "permutation 8\n",
      "permutation 9\n",
      "subsampling: 200 iteration: 8\n",
      "/ahg/regevdata/projects/bn10_cancer_variants/bn10_oana_2018-06-22/results/2018-06-22/results/2020-02-14/KRAS/scoring/KRAS.cellsPerVar200.iter8.scores.gz\n"
     ]
    },
    {
     "name": "stderr",
     "output_type": "stream",
     "text": [
      "Trying to set attribute `.uns` of view, copying.\n"
     ]
    },
    {
     "name": "stdout",
     "output_type": "stream",
     "text": [
      "permutation 0\n",
      "permutation 1\n",
      "permutation 2\n",
      "permutation 3\n",
      "permutation 4\n",
      "permutation 5\n",
      "permutation 6\n",
      "permutation 7\n",
      "permutation 8\n",
      "permutation 9\n",
      "subsampling: 200 iteration: 9\n",
      "/ahg/regevdata/projects/bn10_cancer_variants/bn10_oana_2018-06-22/results/2018-06-22/results/2020-02-14/KRAS/scoring/KRAS.cellsPerVar200.iter9.scores.gz\n"
     ]
    },
    {
     "name": "stderr",
     "output_type": "stream",
     "text": [
      "Trying to set attribute `.uns` of view, copying.\n"
     ]
    },
    {
     "name": "stdout",
     "output_type": "stream",
     "text": [
      "permutation 0\n",
      "permutation 1\n",
      "permutation 2\n",
      "permutation 3\n",
      "permutation 4\n",
      "permutation 5\n",
      "permutation 6\n",
      "permutation 7\n",
      "permutation 8\n",
      "permutation 9\n"
     ]
    }
   ],
   "source": [
    "#mega subsampling\n",
    "SUBSAMPLING_LIST=[1000,900,800,700,600,500,400,300,200] #then every 10\n",
    "#SUBSAMPLING_LIST=[200,190,180,170,160,150,140,130,120,110,100,90,80,70,60,50,40,30,20,10]\n",
    "ITERATIONS=range(10)\n",
    "ref='K169K'\n",
    "methods=['HotellingT2']\n",
    "#synonymous\n",
    "OUT_PREF=DATA+'/'+PROTEIN+'/scoring/'+PROTEIN\n",
    "os.system('mkdir -p '+os.path.dirname(OUT_PREF))\n",
    "import random\n",
    "random.seed(100)\n",
    "\n",
    "for subs_idx,subs in enumerate(SUBSAMPLING_LIST):\n",
    "    for iter_idx,iter_name in enumerate(ITERATIONS):\n",
    "        out_here=OUT_PREF+'.cellsPerVar'+str(subs)+'.iter'+str(iter_name)+'.scores.gz'\n",
    "        print('subsampling:',subs,'iteration:',iter_name)\n",
    "        print(out_here)\n",
    "        \n",
    "        #subsample an adata - should add a random seed here too #======\n",
    "        adata_subsampled=perturb.pp.subsample_cells(adata,subs,'guide.compact')\n",
    "        \n",
    "        #compute scores\n",
    "        scores_real=compare_groups_with_reference(adata_subsampled,\n",
    "                                                             variants,\n",
    "                                                             ref,\n",
    "                                                             methods=methods)\n",
    "        \n",
    "        scores_perm_custom=get_permuted_scores_custom(adata_subsampled,\n",
    "                                                                 syn,\n",
    "                                                                 ref,\n",
    "                                                                 num_perm=10,\n",
    "                                                                methods=methods)\n",
    "\n",
    "        #assign FDR based on permuted data\n",
    "        fdr_data=compute_FDR(scores_real,\n",
    "                                        scores_perm_custom,\n",
    "                                        methods=methods,\n",
    "                                        plot=False)\n",
    "        \n",
    "        fdr_data.to_csv(out_here,sep='\\t',compression='gzip',index=False)"
   ]
  },
  {
   "cell_type": "code",
   "execution_count": null,
   "metadata": {},
   "outputs": [],
   "source": []
  }
 ],
 "metadata": {
  "kernelspec": {
   "display_name": "Python 3",
   "language": "python",
   "name": "python3"
  },
  "language_info": {
   "codemirror_mode": {
    "name": "ipython",
    "version": 3
   },
   "file_extension": ".py",
   "mimetype": "text/x-python",
   "name": "python",
   "nbconvert_exporter": "python",
   "pygments_lexer": "ipython3",
   "version": "3.6.8"
  }
 },
 "nbformat": 4,
 "nbformat_minor": 2
}
